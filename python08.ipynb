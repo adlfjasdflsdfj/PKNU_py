{
 "cells": [
  {
   "cell_type": "markdown",
   "id": "2af64fbc-d961-40f4-ad23-d9169f786c77",
   "metadata": {},
   "source": [
    "# 외부 라이브러리"
   ]
  },
  {
   "cell_type": "markdown",
   "id": "a7d74af7-63ac-4898-9221-bd59addf2418",
   "metadata": {},
   "source": [
    "## pip *"
   ]
  },
  {
   "cell_type": "code",
   "execution_count": null,
   "id": "1e098cb0-93e7-46b9-a396-0a46afb04647",
   "metadata": {},
   "outputs": [],
   "source": [
    "- venv1 생성 후 백업: pip freeze > requirements.txt\n",
    "- venv2 생성 후 복구: pip install > requirements.txt"
   ]
  },
  {
   "cell_type": "markdown",
   "id": "452c110b-004a-4d9d-84d5-defd20408b13",
   "metadata": {},
   "source": [
    "## Faker"
   ]
  },
  {
   "cell_type": "code",
   "execution_count": 1,
   "id": "5daf7872-1e78-48e8-9ff0-987c50d91a49",
   "metadata": {},
   "outputs": [
    {
     "name": "stdout",
     "output_type": "stream",
     "text": [
      "Collecting Faker\n",
      "  Downloading Faker-36.1.1-py3-none-any.whl.metadata (15 kB)\n",
      "Collecting tzdata (from Faker)\n",
      "  Downloading tzdata-2025.1-py2.py3-none-any.whl.metadata (1.4 kB)\n",
      "Downloading Faker-36.1.1-py3-none-any.whl (1.9 MB)\n",
      "   ---------------------------------------- 0.0/1.9 MB ? eta -:--:--\n",
      "   ---------------------------------------- 1.9/1.9 MB 51.8 MB/s eta 0:00:00\n",
      "Downloading tzdata-2025.1-py2.py3-none-any.whl (346 kB)\n",
      "Installing collected packages: tzdata, Faker\n",
      "Successfully installed Faker-36.1.1 tzdata-2025.1\n"
     ]
    }
   ],
   "source": [
    "!pip install Faker"
   ]
  },
  {
   "cell_type": "code",
   "execution_count": 8,
   "id": "01cfc7aa-1c8b-4610-8919-7dc044e5c3c8",
   "metadata": {},
   "outputs": [
    {
     "data": {
      "text/plain": [
       "[{'name': '차서현',\n",
       "  'id': '(주) 이',\n",
       "  'phone': '011-877-3035',\n",
       "  'email': 'sjo@example.net'},\n",
       " {'name': '홍옥자',\n",
       "  'id': '이박홍',\n",
       "  'phone': '042-284-5719',\n",
       "  'email': 'geonu31@example.com'},\n",
       " {'name': '윤하은',\n",
       "  'id': '(주) 박',\n",
       "  'phone': '061-551-1629',\n",
       "  'email': 'bagjeongsug@example.org'},\n",
       " {'name': '최유진',\n",
       "  'id': '(유) 문',\n",
       "  'phone': '032-765-7893',\n",
       "  'email': 'sujin43@example.org'},\n",
       " {'name': '김민서',\n",
       "  'id': '유한회사 오하박',\n",
       "  'phone': '063-228-4349',\n",
       "  'email': 'yi@example.com'},\n",
       " {'name': '최승현',\n",
       "  'id': '백이',\n",
       "  'phone': '054-653-8919',\n",
       "  'email': 'hyejingim@example.com'},\n",
       " {'name': '나재호',\n",
       "  'id': '주권',\n",
       "  'phone': '033-708-9712',\n",
       "  'email': 'san@example.org'},\n",
       " {'name': '이은경',\n",
       "  'id': '나김',\n",
       "  'phone': '063-031-3577',\n",
       "  'email': 'ijieun@example.com'},\n",
       " {'name': '노예준',\n",
       "  'id': '박박이',\n",
       "  'phone': '042-070-2162',\n",
       "  'email': 'yi@example.net'},\n",
       " {'name': '하아름',\n",
       "  'id': '유한회사 김권황',\n",
       "  'phone': '02-6275-3519',\n",
       "  'email': 'lhan@example.org'}]"
      ]
     },
     "execution_count": 8,
     "metadata": {},
     "output_type": "execute_result"
    }
   ],
   "source": [
    "from faker import Faker\n",
    "fake=Faker('ko-KR')\n",
    "[{'name':fake.name(),'id':fake.company(),'phone':fake.phone_number(),'email':fake.email()} for n in range(10)]"
   ]
  },
  {
   "cell_type": "markdown",
   "id": "6a3f8d2f-f57d-4d18-bea5-b7a4451a10a9",
   "metadata": {},
   "source": [
    "<table>\n",
    "\n",
    "<thead>\n",
    "<tr>\n",
    "<th>항목</th>\n",
    "<th>설명</th>\n",
    "</tr>\n",
    "</thead>\n",
    "<tbody>\n",
    "<tr>\n",
    "<td>fake.name()</td>\n",
    "<td>이름</td>\n",
    "</tr>\n",
    "<tr>\n",
    "<td>fake.address()</td>\n",
    "<td>주소</td>\n",
    "</tr>\n",
    "<tr>\n",
    "<td>fake.postcode()</td>\n",
    "<td>우편 번호</td>\n",
    "</tr>\n",
    "<tr>\n",
    "<td>fake.country()</td>\n",
    "<td>국가명</td>\n",
    "</tr>\n",
    "<tr>\n",
    "<td>fake.company()</td>\n",
    "<td>회사명</td>\n",
    "</tr>\n",
    "<tr>\n",
    "<td>fake.job()</td>\n",
    "<td>직업명</td>\n",
    "</tr>\n",
    "<tr>\n",
    "<td>fake.phone_number()</td>\n",
    "<td>휴대전화 번호</td>\n",
    "</tr>\n",
    "<tr>\n",
    "<td>fake.email()</td>\n",
    "<td>이메일 주소</td>\n",
    "</tr>\n",
    "<tr>\n",
    "<td>fake.user_name()</td>\n",
    "<td>사용자명</td>\n",
    "</tr>\n",
    "<tr>\n",
    "<td>fake.pyint(min_value=0, max_value=100)</td>\n",
    "<td>0부터 100 사이의 임의의 숫자</td>\n",
    "</tr>\n",
    "<tr>\n",
    "<td>fake.ipv4_private()</td>\n",
    "<td>IP 주소</td>\n",
    "</tr>\n",
    "<tr>\n",
    "<td>fake.text()</td>\n",
    "<td>임의의 문장 (한글 임의의 문장은 <code>fake.catch_phrase()</code> 사용)</td>\n",
    "</tr>\n",
    "<tr>\n",
    "<td>fake.color_name()</td>\n",
    "<td>색상명</td>\n",
    "</tr>\n",
    "</tbody>\n",
    "</table>"
   ]
  },
  {
   "cell_type": "code",
   "execution_count": 42,
   "id": "ced100fa-ce31-416b-b118-c0eee5c99731",
   "metadata": {},
   "outputs": [
    {
     "name": "stdout",
     "output_type": "stream",
     "text": [
      "<div class=\"wrap_song_info\">\n",
      "<div class=\"ellipsis rank01\"><span>\n",
      "<a href=\"javascript:melon.play.playSong('1000002721',38444825);\" title=\"REBEL HEART 재생\">REBEL HEART</a>\n",
      "</span></div><br/>\n",
      "<div class=\"ellipsis rank02\">\n",
      "<a href=\"javascript:melon.link.goArtistDetail('3055146');\" title=\"IVE (아이브) - 페이지 이동\">IVE (아이브)</a><span class=\"checkEllipsis\" style=\"display:none\"><a href=\"javascript:melon.link.goArtistDetail('3055146');\" title=\"IVE (아이브) - 페이지 이동\">IVE (아이브)</a></span>\n",
      "</div>\n",
      "</div>\n",
      "1위: REBEL HEART / IVE (아이브)\n"
     ]
    }
   ],
   "source": [
    "import requests as req\n",
    "from bs4 import BeautifulSoup as bs\n",
    "url = \"https://www.melon.com/chart/index.htm\"\n",
    "headers = {'User-Agent':'Mozilla/5.0 (Windows NT 10.0 6.0; Win64; x64) AppleWebKit/537.36 (KHTML, like Gecko) Chrome/133.0.0.0 Mobile Safari/537.36 Edg/133.0.0.0'}\n",
    "web = req.get(url, headers = headers)\n",
    "soup = bs(web.content, 'html.parser')\n",
    "\n",
    "title = soup.select_one('.wrap_song_info')\n",
    "atitle = title.select_one('a')\n",
    "print(title)\n",
    "\n",
    "name = title.select_one('.checkEllipsis')\n",
    "aname = name.select_one('a')\n",
    "print('1위:',atitle.text,'/', aname.text)"
   ]
  },
  {
   "cell_type": "code",
   "execution_count": 52,
   "id": "eb7573c2-cef1-4cdb-a54a-40cc2cd74e9c",
   "metadata": {},
   "outputs": [
    {
     "name": "stdout",
     "output_type": "stream",
     "text": [
      "1위: REBEL HEART / IVE (아이브)\n",
      "2위: HOME SWEET HOME (feat. 태양, 대성) / G-DRAGON\n",
      "3위: 나는 반딧불 / 황가람\n",
      "4위: Whiplash / aespa\n",
      "5위: APT. / 로제 (ROSÉ)\n",
      "6위: 오늘만 I LOVE YOU / Bruno Mars\n",
      "7위: Drowning / BOYNEXTDOOR\n",
      "8위: ATTITUDE / WOODZ\n",
      "9위: toxic till the end / IVE (아이브)\n",
      "10위: Dash / 로제 (ROSÉ)\n",
      "11위: POWER / PLAVE\n",
      "12위: HAPPY / G-DRAGON\n",
      "13위: 내게 사랑이 뭐냐고 물어본다면 / DAY6 (데이식스)\n",
      "14위: RIZZ / 로이킴\n",
      "15위: DRIP / PLAVE\n",
      "16위: Island / BABYMONSTER\n",
      "17위: Chroma Drift / PLAVE\n",
      "18위: 12:32 (A to T) / PLAVE\n",
      "19위: 소나기 / PLAVE\n",
      "20위: 너와의 모든 지금 / 이클립스 (ECLIPSE)\n",
      "  "
     ]
    }
   ],
   "source": [
    "import requests as req\n",
    "from bs4 import BeautifulSoup as bs\n",
    "url = \"https://www.melon.com/chart/index.htm\"\n",
    "headers = {'User-Agent':'Mozilla/5.0 (Windows NT 10.0; Win64; x64) AppleWebKit/537.36 (KHTML, like Gecko) Chrome/133.0.0.0 Mobile Safari/537.36 Edg/133.0.0.0'}\n",
    "web = req.get(url, headers = headers)\n",
    "soup = bs(web.content, 'html.parser')\n",
    "\n",
    "title = soup.select('.rank01')[:20]\n",
    "name = soup.select('.checkEllipsis a') [:20]\n",
    "str = ''\n",
    "for i, (t, n) in enumerate(zip(title, name),1):\n",
    "    str += f'{i}위: {t.text.strip()} / {n.text}\\n'\n",
    "print(str,end='  ')"
   ]
  },
  {
   "cell_type": "code",
   "execution_count": 53,
   "id": "09c41607-efe7-4f93-9c34-6fe2c473a05b",
   "metadata": {
    "scrolled": true
   },
   "outputs": [
    {
     "name": "stdout",
     "output_type": "stream",
     "text": [
      "1위: REBEL HEART / IVE (아이브)\n",
      "2위: HOME SWEET HOME (feat. 태양, 대성) / G-DRAGON\n",
      "3위: 나는 반딧불 / 황가람\n",
      "4위: Whiplash / aespa\n",
      "5위: APT. / 로제 (ROSÉ)\n",
      "6위: 오늘만 I LOVE YOU / Bruno Mars\n",
      "7위: Drowning / BOYNEXTDOOR\n",
      "8위: ATTITUDE / WOODZ\n",
      "9위: toxic till the end / IVE (아이브)\n",
      "10위: Dash / 로제 (ROSÉ)\n",
      "11위: POWER / PLAVE\n",
      "12위: HAPPY / G-DRAGON\n",
      "13위: 내게 사랑이 뭐냐고 물어본다면 / DAY6 (데이식스)\n",
      "14위: RIZZ / 로이킴\n",
      "15위: DRIP / PLAVE\n",
      "16위: Chroma Drift / BABYMONSTER\n",
      "17위: Island / PLAVE\n",
      "18위: 소나기 / PLAVE\n",
      "19위: 12:32 (A to T) / 이클립스 (ECLIPSE)\n",
      "20위: 너와의 모든 지금 / PLAVE\n",
      "  "
     ]
    }
   ],
   "source": [
    "import melon\n",
    "melon.mel()"
   ]
  },
  {
   "cell_type": "code",
   "execution_count": 13,
   "id": "438b1d94-9606-49b7-841e-48db64d1c37c",
   "metadata": {},
   "outputs": [
    {
     "name": "stdout",
     "output_type": "stream",
     "text": [
      "Requirement already satisfied: html5lib in c:\\users\\admin\\appdata\\local\\programs\\python\\python313\\lib\\site-packages (1.1)\n",
      "Requirement already satisfied: six>=1.9 in c:\\users\\admin\\appdata\\local\\programs\\python\\python313\\lib\\site-packages (from html5lib) (1.17.0)\n",
      "Requirement already satisfied: webencodings in c:\\users\\admin\\appdata\\local\\programs\\python\\python313\\lib\\site-packages (from html5lib) (0.5.1)\n"
     ]
    }
   ],
   "source": [
    "!pip install html5lib"
   ]
  },
  {
   "cell_type": "code",
   "execution_count": 4,
   "id": "1be0758b-c2e5-43a5-9a83-9a9723be2e20",
   "metadata": {},
   "outputs": [
    {
     "name": "stdout",
     "output_type": "stream",
     "text": [
      "===============\n",
      "월 2025.02.17\n",
      "---------------\n",
      "정식-5,500원\n",
      "강황밥\n",
      "김치콩나물국\n",
      "돈육바싹불고기\n",
      "모듬잡채\n",
      "멸치새우견과볶음\n",
      "상추겉절이\n",
      "포기김치\n",
      "\n",
      "===============\n",
      "화 2025.02.18\n",
      "---------------\n",
      "정식-5,500원\n",
      "백미밥\n",
      "물만두국\n",
      "순살닭매콤조림\n",
      "쫄면야채무침\n",
      "파래무무침\n",
      "참나물겉절이\n",
      "포기김치\n",
      "\n",
      "===============\n",
      "수 2025.02.19\n",
      "---------------\n",
      "정식-5,500원\n",
      "백미밥\n",
      "모듬어묵국\n",
      "함박스테이크/치즈/소스\n",
      "스파게티/소스\n",
      "치커리유자청샐러드\n",
      "콩나물무침\n",
      "포기김치\n",
      "\n",
      "===============\n",
      "목 2025.02.20\n",
      "---------------\n",
      "정식-5,500원\n",
      "잡곡밥\n",
      "홍합미역국\n",
      "순살치킨/맛초킹소스\n",
      "꼬시레기두부무침\n",
      "잡채어묵조림\n",
      "상추겉절이\n",
      "포기김치\n",
      "\n",
      "===============\n",
      "금 2025.02.21\n",
      "---------------\n",
      "정식-5,500원\n",
      "백미밥\n",
      "국수\n",
      "깐풍기/소스\n",
      "알감자버터구이\n",
      "도토리묵김치무침\n",
      "열무겉절이\n",
      "포기김치\n",
      "\n"
     ]
    }
   ],
   "source": [
    "import requests as req\n",
    "from bs4 import BeautifulSoup as bs\n",
    "url = \"https://www.pusan.ac.kr/kor/CMS/MenuMgr/menuListOnBuilding.do?mCode=MN202\"\n",
    "headers = {'User-Agent':'Mozilla/5.0 (Linux; Android 6.0; Nexus 5 Build/MRA58N) AppleWebKit/537.36 (KHTML, like Gecko) Chrome/133.0.0.0 Mobile Safari/537.36 Edg/133.0.0.0'}\n",
    "web = req.get(url, headers = headers)\n",
    "soup = bs(web.content, 'html5lib')\n",
    "menucard = soup.select('.menu-tbl')\n",
    "won = soup.select('.menu-tit01')\n",
    "menu = soup.select('h3.menu-tit01+p')\n",
    "day = soup.select('.day')\n",
    "date = soup.select('.date')\n",
    "#print(day,date)\n",
    "for d, dd, w, m in zip(day, date, won,menu):\n",
    "    print('='*15)\n",
    "    print(d.text, dd.text)\n",
    "    print('-'*15)\n",
    "    print(w.text+'\\n'+ m.text)"
   ]
  },
  {
   "cell_type": "code",
   "execution_count": null,
   "id": "5ff021e1-db7d-4ee6-bcdc-2e0ad416819c",
   "metadata": {},
   "outputs": [],
   "source": []
  }
 ],
 "metadata": {
  "kernelspec": {
   "display_name": "Python 3 (ipykernel)",
   "language": "python",
   "name": "python3"
  },
  "language_info": {
   "codemirror_mode": {
    "name": "ipython",
    "version": 3
   },
   "file_extension": ".py",
   "mimetype": "text/x-python",
   "name": "python",
   "nbconvert_exporter": "python",
   "pygments_lexer": "ipython3",
   "version": "3.13.1"
  }
 },
 "nbformat": 4,
 "nbformat_minor": 5
}
