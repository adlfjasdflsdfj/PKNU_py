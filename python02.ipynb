{
 "cells": [
  {
   "cell_type": "markdown",
   "id": "dd6810e1-2fc0-46ba-975c-5eb112cb32f0",
   "metadata": {},
   "source": [
    "# 자료형"
   ]
  },
  {
   "cell_type": "markdown",
   "id": "a0fe4df0-c24c-4611-87e1-22b8a79cd734",
   "metadata": {},
   "source": [
    "## 리스트 자료형"
   ]
  },
  {
   "cell_type": "markdown",
   "id": "53e89dc7-ce87-4907-a8a1-471caa5b5357",
   "metadata": {},
   "source": [
    "### 리스트의 인덱싱과 슬라이싱"
   ]
  },
  {
   "cell_type": "code",
   "execution_count": 2,
   "id": "bf156939-12aa-4718-ae29-491147c46b6a",
   "metadata": {},
   "outputs": [],
   "source": [
    "odd = [1,3,5,7,9]"
   ]
  },
  {
   "cell_type": "code",
   "execution_count": 1,
   "id": "7d99be1c-b013-4850-8034-0e0225318a32",
   "metadata": {},
   "outputs": [
    {
     "name": "stdout",
     "output_type": "stream",
     "text": [
      "['Life', 'is']\n",
      "Life\n",
      "is\n"
     ]
    }
   ],
   "source": [
    "a=[]\n",
    "b=[1,2,3]\n",
    "c=['Life', 'is', 'too', 'short']\n",
    "d=[1,2, 'Life', 'is']\n",
    "e=[1, 2, ['Life', 'is']]\n",
    "print(e[2])\n",
    "print(e[2][0])\n",
    "print(e[2][1])"
   ]
  },
  {
   "cell_type": "code",
   "execution_count": 3,
   "id": "8ef81be2-8df2-43de-9a52-61de9451dc86",
   "metadata": {},
   "outputs": [
    {
     "name": "stdout",
     "output_type": "stream",
     "text": [
      "5\n",
      "Lifeshort\n",
      "LifeLifeLife\n"
     ]
    }
   ],
   "source": [
    "#리스트의 인덱싱과 연산\n",
    "print(b[1] + b[2])\n",
    "print(c[0] + c[3])\n",
    "print(c[0] * b[2])"
   ]
  },
  {
   "cell_type": "code",
   "execution_count": 10,
   "id": "ae71e5b5-a501-44b2-a716-8760a58d9da4",
   "metadata": {},
   "outputs": [
    {
     "data": {
      "text/plain": [
       "'short'"
      ]
     },
     "execution_count": 10,
     "metadata": {},
     "output_type": "execute_result"
    }
   ],
   "source": [
    "c[-1]"
   ]
  },
  {
   "cell_type": "code",
   "execution_count": 14,
   "id": "6e159b76-e99e-40ce-aa7b-8e351f43c340",
   "metadata": {},
   "outputs": [
    {
     "name": "stdout",
     "output_type": "stream",
     "text": [
      "[11, 22, 33, 44, 55]\n",
      "[33, 44, 55]\n",
      "[11, 22]\n",
      "[44, 55]\n",
      "[11, 33, 55]\n",
      "[55, 44, 33, 22, 11]\n"
     ]
    }
   ],
   "source": [
    "#리스트의 슬라이싱\n",
    "a= [11,22,33,44,55]\n",
    "print(a[:])\n",
    "print(a[2:])\n",
    "print(a[:-3])\n",
    "print(a[-2:])\n",
    "print(a[::2])\n",
    "print(a[::-1])"
   ]
  },
  {
   "cell_type": "markdown",
   "id": "36c0818d-7287-4071-8a6b-e91b3cb2d617",
   "metadata": {},
   "source": [
    "### 리스트 연산, 수정, 삭제하기"
   ]
  },
  {
   "cell_type": "code",
   "execution_count": 17,
   "id": "9f308fe8-1537-4c61-922c-28d2585b6408",
   "metadata": {},
   "outputs": [
    {
     "name": "stdout",
     "output_type": "stream",
     "text": [
      "[11, 22, 33, 44, 55, 66]\n",
      "[11, 22, 33, 11, 22, 33, 11, 22, 33]\n"
     ]
    },
    {
     "data": {
      "text/plain": [
       "9"
      ]
     },
     "execution_count": 17,
     "metadata": {},
     "output_type": "execute_result"
    }
   ],
   "source": [
    "a = [11,22,33]\n",
    "b = [44,55,66]\n",
    "# 리스트 더하기\n",
    "print(a+b)\n",
    "#리스트 반복하기\n",
    "c = a*3\n",
    "print(c)\n",
    "len(c)"
   ]
  },
  {
   "cell_type": "code",
   "execution_count": 4,
   "id": "23c6616a-e5a0-46f4-87b8-03e986292192",
   "metadata": {},
   "outputs": [
    {
     "name": "stdout",
     "output_type": "stream",
     "text": [
      "[11, 22, 44]\n",
      "[11, 44]\n"
     ]
    }
   ],
   "source": [
    "#리스트 값 수정하기 \n",
    "a = [11,22,33]\n",
    "a[2] = 44\n",
    "print(a)\n",
    "# a[3] = 55 # 없는 요소를 수정하는 것은 에러\n",
    "# print(a)\n",
    "# a[1] = '' #빈칸 수정 삽입\n",
    "# a[1] = 0 #0으로 수정 삽입\n",
    "# 리스트 값 삭제하기\n",
    "del a[1]\n",
    "print(a)"
   ]
  },
  {
   "cell_type": "code",
   "execution_count": 22,
   "id": "571475ec-0a34-48e0-aeb9-87520d620604",
   "metadata": {
    "scrolled": true
   },
   "outputs": [
    {
     "name": "stdout",
     "output_type": "stream",
     "text": [
      "[22, 33, 11, 22, 33]\n",
      "[33]\n"
     ]
    }
   ],
   "source": [
    "# 리스트 값 슬라이싱으로 삭제\n",
    "print(c)\n",
    "del c[:4]\n",
    "print(c)"
   ]
  },
  {
   "cell_type": "markdown",
   "id": "a4867ab3-6c9f-4589-b95e-e7f0db6a4606",
   "metadata": {},
   "source": [
    "### 리스트 관련 함수 "
   ]
  },
  {
   "cell_type": "code",
   "execution_count": null,
   "id": "6a513cb1-f281-4396-a5bb-be67edbea8d2",
   "metadata": {},
   "outputs": [],
   "source": [
    "dir(list)"
   ]
  },
  {
   "cell_type": "code",
   "execution_count": 24,
   "id": "d993025e-b7f0-47f4-83a8-1fba65e26495",
   "metadata": {},
   "outputs": [
    {
     "name": "stdout",
     "output_type": "stream",
     "text": [
      "[]\n"
     ]
    }
   ],
   "source": [
    "#리스트 요소 비우기 (초기화)\n",
    "c. clear()\n",
    "print(c)"
   ]
  },
  {
   "cell_type": "code",
   "execution_count": 30,
   "id": "34425207-ff86-4dd3-b9a9-f2dbea833efd",
   "metadata": {},
   "outputs": [],
   "source": [
    "a=[] #clear랑 같음. 비우라는 것. 리스트 초기화"
   ]
  },
  {
   "cell_type": "code",
   "execution_count": 50,
   "id": "6b014c11-4823-46eb-8926-cfc6dafccddd",
   "metadata": {},
   "outputs": [
    {
     "name": "stdout",
     "output_type": "stream",
     "text": [
      "[11, 22, 33, 44, 55, 4]\n",
      "[11, 22, 33, 44, 55, 4, [11, 22]]\n"
     ]
    }
   ],
   "source": [
    "# 리스트에 요소 추가하기 -append\n",
    "a.append(4)\n",
    "print(a)\n",
    "a.append([11,22])\n",
    "print(a)"
   ]
  },
  {
   "cell_type": "code",
   "execution_count": 43,
   "id": "52b2d0a6-2814-4d75-ac62-153e3b3e762e",
   "metadata": {},
   "outputs": [],
   "source": [
    "b=[]\n",
    "num = 0"
   ]
  },
  {
   "cell_type": "code",
   "execution_count": 48,
   "id": "ad3059a3-fe6a-4276-8209-eeb418a396bd",
   "metadata": {},
   "outputs": [
    {
     "name": "stdout",
     "output_type": "stream",
     "text": [
      "[2, 3, 4, 5]\n"
     ]
    }
   ],
   "source": [
    "num += 1\n",
    "b. append(num)\n",
    "print(b)"
   ]
  },
  {
   "cell_type": "code",
   "execution_count": 49,
   "id": "795cd23d-aa40-4534-93f7-23e4c6b2bc06",
   "metadata": {},
   "outputs": [
    {
     "name": "stdout",
     "output_type": "stream",
     "text": [
      "[11, 22, 33, 44, 55]\n"
     ]
    }
   ],
   "source": [
    "#리스트 정렬 - sort\n",
    "a = [11,44,33,22,55]\n",
    "a. sort()\n",
    "print(a)"
   ]
  },
  {
   "cell_type": "code",
   "execution_count": 51,
   "id": "e21c0576-8a3e-4bd6-82bf-e22d0e3ec3b1",
   "metadata": {},
   "outputs": [
    {
     "name": "stdout",
     "output_type": "stream",
     "text": [
      "[55, 44, 33, 22, 11]\n"
     ]
    }
   ],
   "source": [
    "#리스트 정렬(내림차순) - sort\n",
    "a = [11,44,33,22,55]\n",
    "a. sort(reverse=True)\n",
    "print(a)"
   ]
  },
  {
   "cell_type": "code",
   "execution_count": 5,
   "id": "c2985ba7-89d4-496d-b247-6ef34f33e2d5",
   "metadata": {},
   "outputs": [
    {
     "name": "stdout",
     "output_type": "stream",
     "text": [
      "[66, 77, 88, 99, 0]\n",
      "[0, 66, 77, 88, 99]\n",
      "[99, 88, 77, 66, 0]\n"
     ]
    }
   ],
   "source": [
    "#리스트정렬 원본 유지하기\n",
    "aa= [66,77,88,99,0]\n",
    "bb = sorted(aa)\n",
    "cc = sorted (aa,reverse=True)\n",
    "print(aa)\n",
    "print(bb)\n",
    "print(cc)"
   ]
  },
  {
   "cell_type": "code",
   "execution_count": 52,
   "id": "bf98d07c-c59e-4faf-a54b-3bca2c7bab4c",
   "metadata": {},
   "outputs": [
    {
     "name": "stdout",
     "output_type": "stream",
     "text": [
      "[55, 22, 33, 44, 11]\n"
     ]
    }
   ],
   "source": [
    "#리스트 뒤집기 - reverse\n",
    "a = [11,44,33,22,55]\n",
    "a.reverse()\n",
    "print(a)"
   ]
  },
  {
   "cell_type": "code",
   "execution_count": 59,
   "id": "fd91970c-23d6-4d74-93f9-8ca529d1bc40",
   "metadata": {},
   "outputs": [
    {
     "name": "stdout",
     "output_type": "stream",
     "text": [
      "['banana', 'kiwi', 'orange', 'melon', 'pear', 'apple', 'strawberry', 'blueberry']\n",
      "['kiwi', 'pear', 'melon', 'apple', 'banana', 'orange', 'blueberry', 'strawberry']\n",
      "['kiwi', 'pear', 'melon', 'apple', 'banana', 'orange', 'blueberry', 'strawberry']\n"
     ]
    }
   ],
   "source": [
    "# sorted 응용\n",
    "fruit = ['banana', 'kiwi', 'orange', 'melon', 'pear', 'apple', 'strawberry', 'blueberry']\n",
    "result = sorted(fruit, key=len)\n",
    "result2 = sorted(fruit, key=len, reverse=True)\n",
    "print(fruit)\n",
    "print(result)\n",
    "print(result2)"
   ]
  },
  {
   "cell_type": "code",
   "execution_count": 79,
   "id": "8ea4c326-2c0f-428b-9b83-dd970ea9b2c5",
   "metadata": {},
   "outputs": [
    {
     "name": "stdout",
     "output_type": "stream",
     "text": [
      "과일을 먹어볼까?\n",
      "kiwi 못먹겠어! 웩!\n",
      "kiwi 냠냠 맛있다\n",
      "pear 못먹겠어! 웩!\n",
      "pear 냠냠 맛있다\n",
      "melon 못먹겠어! 웩!\n",
      "melon 냠냠 맛있다\n",
      "apple 못먹겠어! 웩!\n",
      "apple 냠냠 맛있다\n",
      "orange 못먹겠어! 웩!\n",
      "orange 냠냠 맛있다\n",
      "blueberry 못먹겠어! 웩!\n",
      "blueberry 냠냠 맛있다\n",
      "strawberry 못먹겠어! 웩!\n",
      "strawberry 냠냠 맛있다\n",
      "와~다먹었다\n"
     ]
    }
   ],
   "source": [
    "print('과일을 먹어볼까?')\n",
    "for r in result:\n",
    "    if r != 'banana':\n",
    "     print(r + ' 못먹겠어! 웩!')\n",
    "    if r != 'banana':\n",
    "     print(r + ' 냠냠 맛있다')\n",
    "print('와~다먹었다')"
   ]
  },
  {
   "cell_type": "code",
   "execution_count": 83,
   "id": "2e395c79-5ead-4e1f-bb37-325895f68de3",
   "metadata": {},
   "outputs": [
    {
     "data": {
      "text/plain": [
       "3"
      ]
     },
     "execution_count": 83,
     "metadata": {},
     "output_type": "execute_result"
    }
   ],
   "source": [
    "#인덱스 변환 -index\n",
    "fruit = ['banana', 'kiwi', 'orange', 'melon', 'pear', 'apple', 'strawberry', 'blueberry']\n",
    "fruit.index('melon')"
   ]
  },
  {
   "cell_type": "code",
   "execution_count": 87,
   "id": "8ce53b9a-1cf2-4d1b-be78-88e2b3c3e968",
   "metadata": {},
   "outputs": [
    {
     "name": "stdin",
     "output_type": "stream",
     "text": [
      "먹고 싶은 과일을 입력하세요 banana\n"
     ]
    },
    {
     "name": "stdout",
     "output_type": "stream",
     "text": [
      "banana를 좋아하시는 군요!!!\n"
     ]
    }
   ],
   "source": [
    "#인덱스 응용\n",
    "fruit = ['banana', 'kiwi', 'orange', 'melon', 'pear', 'apple', 'strawberry', 'blueberry']\n",
    "inp=input('먹고 싶은 과일을 입력하세요')\n",
    "fruit.index(inp)\n",
    "print(inp + '를 좋아하시는 군요!!!')"
   ]
  },
  {
   "cell_type": "code",
   "execution_count": 89,
   "id": "74a251ac-b2e9-487c-87a8-9dc27d829356",
   "metadata": {},
   "outputs": [
    {
     "name": "stdin",
     "output_type": "stream",
     "text": [
      "먹고 싶은 과일을 입력하세요 banana\n"
     ]
    },
    {
     "name": "stdout",
     "output_type": "stream",
     "text": [
      "banana를 좋아하시는 군요!!! 그것은 1번 째에 있습니다.\n"
     ]
    }
   ],
   "source": [
    "#인덱스 응용\n",
    "fruit = ['banana', 'kiwi', 'orange', 'melon', 'pear', 'apple', 'strawberry', 'blueberry']\n",
    "want=input('먹고 싶은 과일을 입력하세요')\n",
    "where = fruit.index(want)\n",
    "print(f'{want}를 좋아하시는 군요!!! 그것은 {where+1}번 째에 있습니다.')"
   ]
  },
  {
   "cell_type": "code",
   "execution_count": 92,
   "id": "c9e3a773-aa05-42f4-843f-631fad13db51",
   "metadata": {},
   "outputs": [
    {
     "name": "stdout",
     "output_type": "stream",
     "text": [
      "[11, 22, 33, 44, 55, 66, 77, 88]\n"
     ]
    }
   ],
   "source": [
    "#리스트에 요소 삽입 - insert\n",
    "num = [11,22,33,55,66,77,88]\n",
    "print(num)\n",
    "num.insert(3,44) #3은 인덱스 위치, 44는 원하는 값\n",
    "print(num)"
   ]
  },
  {
   "cell_type": "code",
   "execution_count": 6,
   "id": "4778c657-c008-4989-926f-0c455ee61330",
   "metadata": {},
   "outputs": [],
   "source": [
    "ex = []"
   ]
  },
  {
   "cell_type": "code",
   "execution_count": 7,
   "id": "0ef818a8-52f0-474a-bccc-968c6f82ca95",
   "metadata": {},
   "outputs": [
    {
     "name": "stdout",
     "output_type": "stream",
     "text": [
      "['맨앞']\n",
      "['-1인덱스', '맨앞']\n",
      "['맨앞', '-1인덱스', '맨앞']\n",
      "['맨앞', '-1인덱스', '맨앞', '제일끝']\n"
     ]
    }
   ],
   "source": [
    "ex.insert(0,'맨앞')\n",
    "print(ex)\n",
    "ex.insert(-1, '-1인덱스')\n",
    "print(ex)\n",
    "ex.insert(0,'맨앞')\n",
    "print(ex)\n",
    "ex.insert(len(ex),'제일끝')\n",
    "print(ex)"
   ]
  },
  {
   "cell_type": "code",
   "execution_count": 5,
   "id": "cfc1fd7c-7580-4c99-89af-d3689cff8244",
   "metadata": {},
   "outputs": [
    {
     "name": "stdout",
     "output_type": "stream",
     "text": [
      "[1, 2, 1, 2, 3]\n"
     ]
    }
   ],
   "source": [
    "#리스트 요소제거 -remove\n",
    "a= [1,2,3,1,2,3]\n",
    "a.remove(3)\n",
    "print(a)"
   ]
  },
  {
   "cell_type": "code",
   "execution_count": 9,
   "id": "98303676-dcef-460b-8660-d767e9abc797",
   "metadata": {},
   "outputs": [],
   "source": [
    "#리스트 요소 끄집어 내기 -pop\n",
    "a=[1,2,3]"
   ]
  },
  {
   "cell_type": "code",
   "execution_count": 12,
   "id": "7d8586a6-64a2-4692-93ef-16f5f5df7316",
   "metadata": {},
   "outputs": [
    {
     "name": "stdout",
     "output_type": "stream",
     "text": [
      "[]\n",
      "받은거 1\n"
     ]
    }
   ],
   "source": [
    "hand = a.pop() #리턴값을 받음.\n",
    "print(a)\n",
    "print(\"받은거\", hand)"
   ]
  },
  {
   "cell_type": "code",
   "execution_count": 15,
   "id": "d498bb43-a752-44b7-a892-20c883426526",
   "metadata": {
    "editable": true,
    "slideshow": {
     "slide_type": ""
    },
    "tags": []
   },
   "outputs": [
    {
     "name": "stdout",
     "output_type": "stream",
     "text": [
      "2\n",
      "9\n"
     ]
    }
   ],
   "source": [
    "#리스트에 포함된 요소 x의 개수 세기 - cocunt\n",
    "st = \"안녕하세요 반가워요\"\n",
    "print(st.count(\"요\"))\n",
    "a=[1,1,2,3,1,1,1,1,1,2,3,4,24,34,5,1,1]\n",
    "print(a.count(1))"
   ]
  },
  {
   "cell_type": "code",
   "execution_count": 16,
   "id": "bd06a5cd-e292-463d-a6f6-0f266b3693b6",
   "metadata": {},
   "outputs": [
    {
     "name": "stdout",
     "output_type": "stream",
     "text": [
      "[1, 2, 3, 4, 5]\n"
     ]
    }
   ],
   "source": [
    "#리스트 확장\n",
    "a= [1,2,3]\n",
    "a.extend([4,5])\n",
    "print(a)\n",
    "b = [11,22,33]\n",
    "c = [44,55,66]\n",
    "print(b+c)"
   ]
  },
  {
   "cell_type": "code",
   "execution_count": 137,
   "id": "bcb6c8cc-0f3e-4b86-9883-657df6a6368c",
   "metadata": {},
   "outputs": [],
   "source": [
    "#장바구니\n",
    "bag = []"
   ]
  },
  {
   "cell_type": "code",
   "execution_count": 140,
   "id": "a8d5a899-e16d-4c26-8cc5-183e5e5a56d0",
   "metadata": {},
   "outputs": [
    {
     "name": "stdin",
     "output_type": "stream",
     "text": [
      "필요한 항목을 넣어주세요. 맥주\n"
     ]
    },
    {
     "name": "stdout",
     "output_type": "stream",
     "text": [
      "장바구니에는 ['호박', '감자', '맥주']들이 있습니다.\n"
     ]
    }
   ],
   "source": [
    "#Create 생성\n",
    "inp = input('필요한 항목을 넣어주세요.')\n",
    "bag.append(inp)\n",
    "print(f'장바구니에는 {bag}들이 있습니다.')"
   ]
  },
  {
   "cell_type": "code",
   "execution_count": 141,
   "id": "46fa5ab0-5440-4c30-a59d-2d784878459a",
   "metadata": {},
   "outputs": [
    {
     "name": "stdout",
     "output_type": "stream",
     "text": [
      "호박꺼내서 장바구니에 ['감자', '맥주']이(가) 남았습니다.\n"
     ]
    }
   ],
   "source": [
    "# FIFD 출력 (큐 출력)\n",
    "hand = bag.pop(0)\n",
    "print(f'{hand}꺼내서 장바구니에 {bag}이(가) 남았습니다.')"
   ]
  },
  {
   "cell_type": "code",
   "execution_count": 8,
   "id": "db5cf519-f70a-4261-a38a-b7787c4c1bc7",
   "metadata": {},
   "outputs": [
    {
     "name": "stdout",
     "output_type": "stream",
     "text": [
      "바구니에 ['호박', '감자', '소주', '맥주', '피자'] 물품이 있습니다.\n"
     ]
    },
    {
     "name": "stdin",
     "output_type": "stream",
     "text": [
      "꺼내고 싶은 물품을 입력하세요. 소주\n"
     ]
    },
    {
     "name": "stdout",
     "output_type": "stream",
     "text": [
      " 바구니에서 소주 꺼내어 ['호박', '감자', '맥주', '피자']이 남았습니다.\n"
     ]
    }
   ],
   "source": [
    "# 선택 출력\n",
    "bag = ['호박', '감자', '소주', '맥주', '피자']\n",
    "print(f\"바구니에 {bag} 물품이 있습니다.\")\n",
    "bring = input('꺼내고 싶은 물품을 입력하세요.')\n",
    "hand2 = bag.pop(bag.index(bring))\n",
    "print(f\" 바구니에서 {hand2} 꺼내어 {bag}이 남았습니다.\")"
   ]
  },
  {
   "cell_type": "code",
   "execution_count": 8,
   "id": "ed51fd87-5712-4a00-804a-b21a53d07f92",
   "metadata": {},
   "outputs": [
    {
     "name": "stdout",
     "output_type": "stream",
     "text": [
      "33을 제거 하였습니다.\n"
     ]
    }
   ],
   "source": [
    "#테스트\n",
    "a=[11,22,33,44,55,66]\n",
    "a.remove(22)\n",
    "print('33을 제거 하였습니다.')"
   ]
  },
  {
   "cell_type": "code",
   "execution_count": 9,
   "id": "36a1ae0d-bd57-465a-a317-b5f7895f63b1",
   "metadata": {},
   "outputs": [
    {
     "name": "stdout",
     "output_type": "stream",
     "text": [
      "33을(를) 제거 하였습니다.\n"
     ]
    }
   ],
   "source": [
    "#테스트 remove는 리턴값이 없다.\n",
    "choice = 33\n",
    "a=[11,22,33,44,55,66]\n",
    "a.remove(choice)\n",
    "print(f'{choice}을(를) 제거 하였습니다.')"
   ]
  },
  {
   "cell_type": "code",
   "execution_count": 13,
   "id": "d13db423-4fbb-4d3c-b795-a8d1577469c1",
   "metadata": {},
   "outputs": [
    {
     "name": "stdin",
     "output_type": "stream",
     "text": [
      "추가할 물건 이름을 적어주세요. \n",
      "어느 물품의 오른쪽에 넣어둘까요? \n"
     ]
    }
   ],
   "source": [
    "#실습\n",
    "bag= ['호박', '감자', '소주', '맥주', '피자']\n",
    "#물품 하나를 추가하기. 단, 지정한 물품 바로 뒤에 추가하기\n",
    "test1= input('추가할 물건 이름을 적어주세요.')\n",
    "test2 = input('어느 물품의 오른쪽에 넣어둘까요?')"
   ]
  },
  {
   "cell_type": "code",
   "execution_count": 27,
   "id": "72a0017b-1f02-4950-89e5-35ce1e5e7615",
   "metadata": {},
   "outputs": [
    {
     "name": "stdin",
     "output_type": "stream",
     "text": [
      "추가할 물건 이름을 적어주세요. 팝콘\n",
      "어느 물품의 오른쪽에 넣어둘까요? 0\n"
     ]
    },
    {
     "name": "stdout",
     "output_type": "stream",
     "text": [
      "['팝콘', '호박', '감자', '소주', '맥주', '피자']\n"
     ]
    }
   ],
   "source": [
    "bag= ['호박', '감자', '소주', '맥주', '피자']\n",
    "thing= input('추가할 물건 이름을 적어주세요.')\n",
    "where = input('어느 물품의 오른쪽에 넣어둘까요?')\n",
    "위치 = bag.index(where)+1\n",
    "bag.insert(위치,thing)\n",
    "print(bag)"
   ]
  },
  {
   "cell_type": "code",
   "execution_count": 28,
   "id": "6a6373b0-f71b-4629-95ba-4db01677a815",
   "metadata": {},
   "outputs": [
    {
     "name": "stdin",
     "output_type": "stream",
     "text": [
      "내가 누구게? 숫자를 입력하세요. 3\n"
     ]
    },
    {
     "name": "stdout",
     "output_type": "stream",
     "text": [
      "3 <class 'str'>\n"
     ]
    }
   ],
   "source": [
    "#테스트\n",
    "num = input('내가 누구게? 숫자를 입력하세요.')\n",
    "print(num, type(num))"
   ]
  },
  {
   "cell_type": "code",
   "execution_count": 128,
   "id": "98807a20-682d-4a2b-9311-21bce25d4cee",
   "metadata": {},
   "outputs": [
    {
     "name": "stdin",
     "output_type": "stream",
     "text": [
      "내가 누구게? 숫자를 입력하세요. 3\n"
     ]
    },
    {
     "name": "stdout",
     "output_type": "stream",
     "text": [
      "7 <class 'int'>\n"
     ]
    }
   ],
   "source": [
    "#테스트\n",
    "num = int(input('내가 누구게? 숫자를 입력하세요.'))\n",
    "print(num+4, type(num))"
   ]
  },
  {
   "cell_type": "code",
   "execution_count": 143,
   "id": "102e048b-ecf6-4e07-b37e-7f71314f4f2e",
   "metadata": {},
   "outputs": [
    {
     "name": "stdout",
     "output_type": "stream",
     "text": [
      "<class 'list'>\n",
      "1,460.8 <class 'str'>\n",
      "14608 <class 'str'>\n"
     ]
    }
   ],
   "source": [
    "import requests\n",
    "import json\n",
    "url = 'https://www.koreaexim.go.kr/site/program/financial/exchangeJSON?authkey=gLg5vHEiBMiSICVFgYkEcNh11crLDCzU&data=AP01'\n",
    "res = requests.get(url).text\n",
    "data = json.loads(res)\n",
    "print(type(data))\n",
    "result = data[-1]['deal_bas_r']\n",
    "print(result,type(result))\n",
    "result2 = result.replace(\",\",\"\"). replace(\".\",\"\")\n",
    "print(result2,type(result2))\n",
    "exc=int(result2)/10\n",
    "#스트링을 숫자로 바꾸어라 단, 쉼표는 전처리하여 사용 가능하게 하라. "
   ]
  },
  {
   "cell_type": "code",
   "execution_count": 131,
   "id": "230c1ae6-0d40-4a62-a7bf-d58bb681675f",
   "metadata": {},
   "outputs": [
    {
     "name": "stdin",
     "output_type": "stream",
     "text": [
      "원화로 계산할 달러를 입력하세요. 3\n"
     ]
    },
    {
     "name": "stdout",
     "output_type": "stream",
     "text": [
      "1달러는1,450원 이므로\n",
      "요청하신 3달러 변환값은 4,350원 입니다.\n"
     ]
    }
   ],
   "source": [
    "#환율 계산기 만들기\n",
    "exc=1450\n",
    "dollar = int(input(\"원화로 계산할 달러를 입력하세요.\"))\n",
    "won = dollar * exc\n",
    "print(f\"1달러는{exc:,}원 이므로\\n요청하신 {dollar}달러 변환값은 {won:,}원 입니다.\")"
   ]
  },
  {
   "cell_type": "code",
   "execution_count": 1,
   "id": "8af4e59f-61a3-4a33-b8cd-c897505fc8af",
   "metadata": {},
   "outputs": [
    {
     "name": "stdin",
     "output_type": "stream",
     "text": [
      "질문3 ㅅㅅㅅㅅ\n"
     ]
    },
    {
     "name": "stdout",
     "output_type": "stream",
     "text": [
      "ㅋㅋㅋㅋ\n",
      "ㅎㅎㅎ\n",
      "ㅅㅅㅅㅅ\n"
     ]
    }
   ],
   "source": [
    "from IPython. display import clear_output\n",
    "#test\n",
    "\n",
    "inp1 = input('질문1')\n",
    "clear_output(wait=True)\n",
    "inp2 = input('질문2')\n",
    "clear_output(wait=True)\n",
    "inp3 = input('질문3')\n",
    "print(inp1)\n",
    "print(inp2)\n",
    "print(inp3)"
   ]
  },
  {
   "cell_type": "code",
   "execution_count": 80,
   "id": "5960b567-3a4c-47fa-b30f-958d06502839",
   "metadata": {},
   "outputs": [
    {
     "data": {
      "text/plain": [
       "0.30000000000000004"
      ]
     },
     "execution_count": 80,
     "metadata": {},
     "output_type": "execute_result"
    }
   ],
   "source": [
    "0.1+0.2"
   ]
  },
  {
   "cell_type": "code",
   "execution_count": 5,
   "id": "9e8db6a3-ac7a-4c1d-8541-7ffcd5e91223",
   "metadata": {},
   "outputs": [
    {
     "name": "stdout",
     "output_type": "stream",
     "text": [
      "2898.8\n"
     ]
    }
   ],
   "source": [
    "#test\n",
    "# from decimal import Decimal #더 정밀한 계산\n",
    "# result = Decimal(rr)*2\n",
    "rr = 1449.4*2\n",
    "print(round(rr,1))"
   ]
  },
  {
   "cell_type": "markdown",
   "id": "5c1e0f6a-1983-45f6-8c95-f1a4688325c5",
   "metadata": {},
   "source": [
    "## 튜플 자료형 "
   ]
  },
  {
   "cell_type": "code",
   "execution_count": 144,
   "id": "2793145c-ebed-4dcc-9e2f-e8202015cf7c",
   "metadata": {},
   "outputs": [],
   "source": [
    "t1 = ()\n",
    "t2 = (1,)\n",
    "t3 = (1,2,3)\n",
    "t4 = 1,2,3\n",
    "t5 = ('a', 'b', ('ab','cd'))"
   ]
  },
  {
   "cell_type": "code",
   "execution_count": 16,
   "id": "496a25e3-4442-4d92-8d33-62ea94c8b72e",
   "metadata": {},
   "outputs": [
    {
     "ename": "TypeError",
     "evalue": "'tuple' object doesn't support item deletion",
     "output_type": "error",
     "traceback": [
      "\u001b[1;31m---------------------------------------------------------------------------\u001b[0m",
      "\u001b[1;31mTypeError\u001b[0m                                 Traceback (most recent call last)",
      "Cell \u001b[1;32mIn[16], line 3\u001b[0m\n\u001b[0;32m      1\u001b[0m \u001b[38;5;66;03m#튜플의 요소값을 삭제하려 할 때\u001b[39;00m\n\u001b[0;32m      2\u001b[0m t1 \u001b[38;5;241m=\u001b[39m (\u001b[38;5;241m1\u001b[39m, \u001b[38;5;241m2\u001b[39m, \u001b[38;5;124m'\u001b[39m\u001b[38;5;124ma\u001b[39m\u001b[38;5;124m'\u001b[39m, \u001b[38;5;124m'\u001b[39m\u001b[38;5;124mb\u001b[39m\u001b[38;5;124m'\u001b[39m)\n\u001b[1;32m----> 3\u001b[0m \u001b[38;5;28;01mdel\u001b[39;00m \u001b[43mt1\u001b[49m\u001b[43m[\u001b[49m\u001b[38;5;241;43m0\u001b[39;49m\u001b[43m]\u001b[49m\n",
      "\u001b[1;31mTypeError\u001b[0m: 'tuple' object doesn't support item deletion"
     ]
    }
   ],
   "source": [
    "#튜플의 요소값을 삭제하려 할 때\n",
    "t1 = (1, 2, 'a', 'b')\n",
    "del t1[0]"
   ]
  },
  {
   "cell_type": "code",
   "execution_count": 134,
   "id": "2360756f-5de8-49af-b6c1-72f8613e5802",
   "metadata": {},
   "outputs": [
    {
     "ename": "TypeError",
     "evalue": "'tuple' object does not support item assignment",
     "output_type": "error",
     "traceback": [
      "\u001b[1;31m---------------------------------------------------------------------------\u001b[0m",
      "\u001b[1;31mTypeError\u001b[0m                                 Traceback (most recent call last)",
      "Cell \u001b[1;32mIn[134], line 3\u001b[0m\n\u001b[0;32m      1\u001b[0m \u001b[38;5;66;03m#튜플의 요소값을 변경하려 할 때\u001b[39;00m\n\u001b[0;32m      2\u001b[0m t1 \u001b[38;5;241m=\u001b[39m (\u001b[38;5;241m1\u001b[39m, \u001b[38;5;241m2\u001b[39m, \u001b[38;5;124m'\u001b[39m\u001b[38;5;124ma\u001b[39m\u001b[38;5;124m'\u001b[39m, \u001b[38;5;124m'\u001b[39m\u001b[38;5;124mb\u001b[39m\u001b[38;5;124m'\u001b[39m)\n\u001b[1;32m----> 3\u001b[0m \u001b[43mt1\u001b[49m\u001b[43m[\u001b[49m\u001b[38;5;241;43m0\u001b[39;49m\u001b[43m]\u001b[49m\u001b[38;5;241m=\u001b[39m \u001b[38;5;124m'\u001b[39m\u001b[38;5;124mc\u001b[39m\u001b[38;5;124m'\u001b[39m\n",
      "\u001b[1;31mTypeError\u001b[0m: 'tuple' object does not support item assignment"
     ]
    }
   ],
   "source": [
    "#튜플의 요소값을 변경하려 할 때\n",
    "t1 = (1, 2, 'a', 'b')\n",
    "t1[0]= 'c'"
   ]
  },
  {
   "cell_type": "code",
   "execution_count": 135,
   "id": "ff4a6c9a-abe1-4cff-8ef1-49bf42ec15ae",
   "metadata": {
    "collapsed": true,
    "jupyter": {
     "outputs_hidden": true
    }
   },
   "outputs": [
    {
     "data": {
      "text/plain": [
       "['__add__',\n",
       " '__class__',\n",
       " '__class_getitem__',\n",
       " '__contains__',\n",
       " '__delattr__',\n",
       " '__dir__',\n",
       " '__doc__',\n",
       " '__eq__',\n",
       " '__format__',\n",
       " '__ge__',\n",
       " '__getattribute__',\n",
       " '__getitem__',\n",
       " '__getnewargs__',\n",
       " '__getstate__',\n",
       " '__gt__',\n",
       " '__hash__',\n",
       " '__init__',\n",
       " '__init_subclass__',\n",
       " '__iter__',\n",
       " '__le__',\n",
       " '__len__',\n",
       " '__lt__',\n",
       " '__mul__',\n",
       " '__ne__',\n",
       " '__new__',\n",
       " '__reduce__',\n",
       " '__reduce_ex__',\n",
       " '__repr__',\n",
       " '__rmul__',\n",
       " '__setattr__',\n",
       " '__sizeof__',\n",
       " '__str__',\n",
       " '__subclasshook__',\n",
       " 'count',\n",
       " 'index']"
      ]
     },
     "execution_count": 135,
     "metadata": {},
     "output_type": "execute_result"
    }
   ],
   "source": [
    "dir(tuple) #tuple()"
   ]
  },
  {
   "cell_type": "code",
   "execution_count": 90,
   "id": "46f119c6-4248-4354-9007-1b23cf7f2f96",
   "metadata": {},
   "outputs": [
    {
     "name": "stdout",
     "output_type": "stream",
     "text": [
      "1 b\n"
     ]
    }
   ],
   "source": [
    "#인덱싱하기\n",
    "t1 = (1,2,'a','b')\n",
    "print(t1[0],t1[3])"
   ]
  },
  {
   "cell_type": "code",
   "execution_count": 91,
   "id": "01b5e61b-3d2e-4473-b7a5-5e19c850d528",
   "metadata": {},
   "outputs": [
    {
     "name": "stdout",
     "output_type": "stream",
     "text": [
      "(2, 'a', 'b')\n"
     ]
    }
   ],
   "source": [
    "#슬라이싱\n",
    "t1=(1,2,'a','b')\n",
    "print(t1[1:])"
   ]
  },
  {
   "cell_type": "code",
   "execution_count": 17,
   "id": "c9e0cf3c-3364-4e1e-869b-cddb51f77e8d",
   "metadata": {},
   "outputs": [
    {
     "name": "stdout",
     "output_type": "stream",
     "text": [
      "(1, 2, 'a', 'b', 3, 4)\n"
     ]
    }
   ],
   "source": [
    "#튜플 더하기\n",
    "t1 = (1,2,'a', 'b')\n",
    "t2 =(3,4)\n",
    "t3 = t1 + t2\n",
    "print(t3)"
   ]
  },
  {
   "cell_type": "code",
   "execution_count": 93,
   "id": "abcd0910-d14e-4fa5-97c7-c64eaa039cdd",
   "metadata": {},
   "outputs": [
    {
     "name": "stdout",
     "output_type": "stream",
     "text": [
      "(3, 4, 3, 4, 3, 4)\n"
     ]
    }
   ],
   "source": [
    "#튜플 곱하기\n",
    "t2=3,4\n",
    "t3=t2*3\n",
    "print(t3)"
   ]
  },
  {
   "cell_type": "code",
   "execution_count": 94,
   "id": "601d4633-780b-483a-becc-dcde2332d3ba",
   "metadata": {},
   "outputs": [
    {
     "data": {
      "text/plain": [
       "6"
      ]
     },
     "execution_count": 94,
     "metadata": {},
     "output_type": "execute_result"
    }
   ],
   "source": [
    "#튜플 길이 구하기\n",
    "len(t3)"
   ]
  },
  {
   "cell_type": "markdown",
   "id": "912d2e1a-e8fc-4621-a856-e2cdaaa0b2f0",
   "metadata": {},
   "source": [
    "## 딕셔너리 자료형"
   ]
  },
  {
   "cell_type": "code",
   "execution_count": 95,
   "id": "8a67f909-2ccb-45c1-bc61-00f71b43bbf1",
   "metadata": {},
   "outputs": [],
   "source": [
    "dic = {'name': 'pey', 'phone':'010-999-1234','birth': '1118'}"
   ]
  },
  {
   "cell_type": "code",
   "execution_count": 96,
   "id": "9823d674-63e5-4e90-b1e2-1c315ca94e62",
   "metadata": {},
   "outputs": [
    {
     "name": "stdout",
     "output_type": "stream",
     "text": [
      "pey\n",
      "010-999-1234\n",
      "1118\n"
     ]
    }
   ],
   "source": [
    "print(dic['name'])\n",
    "print(dic['phone'])\n",
    "print(dic['birth'])"
   ]
  },
  {
   "cell_type": "code",
   "execution_count": 19,
   "id": "bd1ad424-530f-4be5-8b6b-ff09452f875f",
   "metadata": {},
   "outputs": [
    {
     "name": "stdout",
     "output_type": "stream",
     "text": [
      "11\n",
      "11\n",
      "11\n"
     ]
    }
   ],
   "source": [
    "al=[11,22,33,44,55]\n",
    "at = 11,22,33,44,55\n",
    "ad={0:11,1:22,2:33,3:44,4:55}\n",
    "print(al[0])\n",
    "print(at[0])\n",
    "print(ad[0])"
   ]
  },
  {
   "cell_type": "code",
   "execution_count": 20,
   "id": "907b8cd1-fa32-4f5b-8e17-29724868bdc2",
   "metadata": {},
   "outputs": [
    {
     "name": "stdout",
     "output_type": "stream",
     "text": [
      "11\n",
      "22\n",
      "33\n",
      "44\n",
      "55\n",
      "==========\n",
      "11\n",
      "22\n",
      "33\n",
      "44\n",
      "55\n"
     ]
    }
   ],
   "source": [
    "#test\n",
    "for l in al:\n",
    "    print(l)\n",
    "print('='*10)\n",
    "for t in at:\n",
    "    print(t)"
   ]
  },
  {
   "cell_type": "code",
   "execution_count": 107,
   "id": "6484967c-23dd-4bc3-9cf9-84a4238023a0",
   "metadata": {},
   "outputs": [
    {
     "name": "stdout",
     "output_type": "stream",
     "text": [
      "[1, 2, 3, 4, 5]\n"
     ]
    }
   ],
   "source": [
    "a = {'aa':[1,2,3,4,5]}\n",
    "print(a['aa'])"
   ]
  },
  {
   "cell_type": "code",
   "execution_count": 108,
   "id": "dab85170-7631-4f85-b780-a3ec19421a8d",
   "metadata": {},
   "outputs": [
    {
     "data": {
      "text/plain": [
       "'010-9999-1234'"
      ]
     },
     "execution_count": 108,
     "metadata": {},
     "output_type": "execute_result"
    }
   ],
   "source": [
    "dic2 = {'aa':{'name':'pen','phone':'010-9999-1234','birth':'1118'}}\n",
    "dic2['aa']['phone']"
   ]
  },
  {
   "cell_type": "markdown",
   "id": "57b66ecc-a1ff-4cc4-82f0-fdffab5a96a4",
   "metadata": {},
   "source": [
    "### 딕셔너리 쌍 추가, 삭제하기"
   ]
  },
  {
   "cell_type": "code",
   "execution_count": 119,
   "id": "a85d6ddb-3357-4596-8574-1510f4c6741d",
   "metadata": {},
   "outputs": [
    {
     "name": "stdout",
     "output_type": "stream",
     "text": [
      "{'name': 'pey', 'phone': '010-999-1234', 'birth': '1118', 'address': 'busan'}\n"
     ]
    }
   ],
   "source": [
    "dic = {'name': 'pey', 'phone':'010-999-1234','birth': '1118'}\n",
    "dic['address']='busan'\n",
    "print(dic)"
   ]
  },
  {
   "cell_type": "code",
   "execution_count": 120,
   "id": "6c65e50b-1465-491a-8676-26d2680c6aac",
   "metadata": {},
   "outputs": [
    {
     "name": "stdout",
     "output_type": "stream",
     "text": [
      "{'name': 'pey', 'phone': '010-999-1234', 'birth': '1118', 'address': 'busan', 'array': [1, 2, 3.4, 5]}\n"
     ]
    }
   ],
   "source": [
    "dic['array']=[1,2,3.4,5]\n",
    "print(dic)"
   ]
  },
  {
   "cell_type": "code",
   "execution_count": 122,
   "id": "7b85ee2d-fea6-4d28-bef9-ecc24e3a6f8a",
   "metadata": {},
   "outputs": [
    {
     "name": "stdout",
     "output_type": "stream",
     "text": [
      "{'name': 'pey', 'phone': '010-999-1234', 'birth': '1118', 'address': 'busan', 'array': [1, 2, 3.4, 5]}\n",
      "{'name': 'pey', 'phone': '010-999-1234', 'address': 'busan', 'array': [1, 2, 3.4, 5]}\n"
     ]
    }
   ],
   "source": [
    "print(dic)\n",
    "del dic['birth']\n",
    "print(dic)"
   ]
  },
  {
   "cell_type": "code",
   "execution_count": 154,
   "id": "9ae73ef6-5f46-4e90-9cc0-722d6a33ac57",
   "metadata": {},
   "outputs": [
    {
     "name": "stdout",
     "output_type": "stream",
     "text": [
      "{1: 'b'}\n"
     ]
    }
   ],
   "source": [
    "# 딕셔너리 만들 때 주의사항\n",
    "a={1:'a', 1:'b'}\n",
    "print(a)"
   ]
  },
  {
   "cell_type": "markdown",
   "id": "3a5f565c-fd9b-4c1f-888b-fc6ad0290a45",
   "metadata": {},
   "source": [
    "### 딕셔너리 관련함수"
   ]
  },
  {
   "cell_type": "code",
   "execution_count": 159,
   "id": "243b8d4d-65b5-4a6c-af6c-5a207edb3e18",
   "metadata": {},
   "outputs": [
    {
     "name": "stdout",
     "output_type": "stream",
     "text": [
      "dict_keys(['name', 'phone', 'birth', 'address', 'array'])\n",
      "dict_values(['pey', '010-999-1234', '1118', 'busan', [1, 2, 3.4, 5]])\n",
      "dict_items([('name', 'pey'), ('phone', '010-999-1234'), ('birth', '1118'), ('address', 'busan'), ('array', [1, 2, 3.4, 5])])\n",
      "{'name': 'pey', 'phone': '010-999-1234', 'birth': '1118', 'address': 'busan', 'array': [1, 2, 3.4, 5]}\n",
      "{'name': 'pey', 'phone': '010-999-1234', 'birth': '1118', 'address': 'busan', 'array': [1, 2, 3.4, 5]}\n",
      "{}\n"
     ]
    }
   ],
   "source": [
    "a= {'name': 'pey', 'phone': '010-999-1234', 'birth': '1118', 'address': 'busan', 'array': [1, 2, 3.4, 5]}\n",
    "#key 리스트 만들기 -keys\n",
    "print(a.keys())\n",
    "#value 리스트 만들기 -values\n",
    "print(a.values())\n",
    "#key,value 쌍 얻기 -items\n",
    "print(a.items())\n",
    "print(a)\n",
    "#key:value 쌍 모두 지우기 -clear\n",
    "print(a)\n",
    "a.clear()\n",
    "print(a)"
   ]
  },
  {
   "cell_type": "code",
   "execution_count": 157,
   "id": "870b0381-0b74-47be-bbf7-796ed13a3adb",
   "metadata": {},
   "outputs": [
    {
     "name": "stdout",
     "output_type": "stream",
     "text": [
      "name\n",
      "phone\n",
      "birth\n",
      "address\n",
      "array\n"
     ]
    }
   ],
   "source": [
    "for k in a. keys():\n",
    "    print(k)"
   ]
  },
  {
   "cell_type": "code",
   "execution_count": 9,
   "id": "e6be86ed-6d05-4f7e-8702-fad849243216",
   "metadata": {},
   "outputs": [
    {
     "name": "stdout",
     "output_type": "stream",
     "text": [
      "pey\n",
      "None\n",
      "010-999-1234\n"
     ]
    },
    {
     "ename": "KeyError",
     "evalue": "'money'",
     "output_type": "error",
     "traceback": [
      "\u001b[1;31m---------------------------------------------------------------------------\u001b[0m",
      "\u001b[1;31mKeyError\u001b[0m                                  Traceback (most recent call last)",
      "Cell \u001b[1;32mIn[9], line 5\u001b[0m\n\u001b[0;32m      3\u001b[0m \u001b[38;5;28mprint\u001b[39m(a\u001b[38;5;241m.\u001b[39mget(\u001b[38;5;124m'\u001b[39m\u001b[38;5;124msuper\u001b[39m\u001b[38;5;124m'\u001b[39m))\n\u001b[0;32m      4\u001b[0m \u001b[38;5;28mprint\u001b[39m(a[\u001b[38;5;124m'\u001b[39m\u001b[38;5;124mphone\u001b[39m\u001b[38;5;124m'\u001b[39m])\n\u001b[1;32m----> 5\u001b[0m \u001b[38;5;28mprint\u001b[39m(\u001b[43ma\u001b[49m\u001b[43m[\u001b[49m\u001b[38;5;124;43m'\u001b[39;49m\u001b[38;5;124;43mmoney\u001b[39;49m\u001b[38;5;124;43m'\u001b[39;49m\u001b[43m]\u001b[49m)\n",
      "\u001b[1;31mKeyError\u001b[0m: 'money'"
     ]
    }
   ],
   "source": [
    "a= {'name': 'pey', 'phone': '010-999-1234', 'birth': '1118', 'address': 'busan', 'array': [1, 2, 3.4, 5]}\n",
    "print(a.get('name'))\n",
    "print(a.get('super'))\n",
    "print(a['phone'])\n",
    "print(a['money'])"
   ]
  },
  {
   "cell_type": "code",
   "execution_count": 162,
   "id": "1031a324-e1dc-4145-a7f2-86c00dd1d3ed",
   "metadata": {},
   "outputs": [
    {
     "name": "stdout",
     "output_type": "stream",
     "text": [
      "True\n"
     ]
    }
   ],
   "source": [
    "a= {'name': 'pey', 'phone': '010-999-1234', 'birth': '1118', 'address': 'busan', 'array': [1, 2, 3.4, 5]}\n",
    "print('name'in a)"
   ]
  },
  {
   "cell_type": "code",
   "execution_count": 168,
   "id": "769db345-e400-4a50-8fe4-93bb6a8eb6cb",
   "metadata": {},
   "outputs": [
    {
     "name": "stdout",
     "output_type": "stream",
     "text": [
      "True\n",
      "False\n",
      "True\n"
     ]
    }
   ],
   "source": [
    "al=[11,22,33,44,55]\n",
    "at = 11,22,33,44,55\n",
    "ad={0:11,1:22,2:33,3:44,4:55}\n",
    "\n",
    "print(22 in al) #리스트\n",
    "print(99 in at) #튜플\n",
    "print(1 in ad) #딕셔너리의 키"
   ]
  },
  {
   "cell_type": "code",
   "execution_count": 18,
   "id": "45e2d4e9-4835-4eb7-b80d-dd55cfb7c32e",
   "metadata": {},
   "outputs": [
    {
     "name": "stdout",
     "output_type": "stream",
     "text": [
      " 0과 1 사이의 랜덤 소수 0.27951680232040976\n",
      " 1과 100사이의 랜덤 실수 89\n"
     ]
    }
   ],
   "source": [
    "#실습 random 모듈\n",
    "import random\n",
    "\n",
    "num = random.random()\n",
    "print(f' 0과 1 사이의 랜덤 소수 {num}')\n",
    "num2 = random.randint(1,100)\n",
    "print(f' 1과 100사이의 랜덤 실수 {num2}')"
   ]
  },
  {
   "cell_type": "code",
   "execution_count": 28,
   "id": "fd049786-b1de-409e-8b47-96fdeab190d2",
   "metadata": {},
   "outputs": [
    {
     "name": "stdout",
     "output_type": "stream",
     "text": [
      " 0과 1사이의 랜덤 소수 0.501336577875542\n",
      " 1과 100사이의 랜덤 실수 0.9456208134934181\n",
      "오늘 선택된 메뉴는 후문 편의점!\n",
      "[1, 5, 8, 9, 4, 2, 10, 7, 3, 6]\n"
     ]
    }
   ],
   "source": [
    "#실습 random 모듈\n",
    "import random\n",
    "menu = [\"구내식당\", \"후문 편의점\",\"자가도시락\", \"굶기\",\"과자\",\"다이어트식사\"]\n",
    "\n",
    "num1 = random.random()\n",
    "print(f' 0과 1사이의 랜덤 소수 {num1}')\n",
    "num2 = random.random()\n",
    "print(f' 1과 100사이의 랜덤 실수 {num2}')\n",
    "lunch = random.choice(menu)\n",
    "print(f'오늘 선택된 메뉴는 {lunch}!')\n",
    "deck = [1,2,3,4,5,6,7,8,9,10]\n",
    "random.shuffle(deck)\n",
    "print(deck)"
   ]
  },
  {
   "cell_type": "markdown",
   "id": "c5d5df97-0baa-40eb-aa25-0472013c417e",
   "metadata": {},
   "source": [
    "## 집합 자료형"
   ]
  },
  {
   "cell_type": "code",
   "execution_count": 33,
   "id": "2e1eb1a5-a37a-42f7-8436-9502165d6174",
   "metadata": {},
   "outputs": [
    {
     "name": "stdout",
     "output_type": "stream",
     "text": [
      "{1, 2, 3} <class 'set'>\n",
      "{'H', 'l', 'e', 'o'} <class 'set'>\n"
     ]
    }
   ],
   "source": [
    "#중복을 허용하지 않는다.\n",
    "#순서가 없다.\n",
    "s1 = set([1,2,3])\n",
    "print(s1,type(s1))\n",
    "s2 = set(\"Hello\")\n",
    "print(s2,type(s2))"
   ]
  },
  {
   "cell_type": "code",
   "execution_count": 36,
   "id": "68ea5dc1-96a6-4f94-b916-e30fb982359f",
   "metadata": {},
   "outputs": [
    {
     "name": "stdout",
     "output_type": "stream",
     "text": [
      "[33, 11, 22] <class 'list'>\n",
      "(33, 11, 22) <class 'tuple'>\n"
     ]
    }
   ],
   "source": [
    "#집합 자료형의 특징\n",
    "s1 = set([11,22,33,11,22])\n",
    "l1=list(s1)\n",
    "print(l1,type(l1))\n",
    "t1 = tuple(s1)\n",
    "print(t1,type(t1))"
   ]
  },
  {
   "cell_type": "markdown",
   "id": "e103032e-081e-44d0-8dcd-f5362fc764b5",
   "metadata": {},
   "source": [
    "### 교집합,합집합, 차집합 구하기"
   ]
  },
  {
   "cell_type": "code",
   "execution_count": 38,
   "id": "f42c58ba-5ac5-4e38-9e47-1c41f2d62875",
   "metadata": {},
   "outputs": [
    {
     "name": "stdout",
     "output_type": "stream",
     "text": [
      "{4, 5, 6}\n",
      "{4, 5, 6}\n"
     ]
    }
   ],
   "source": [
    "#교집합\n",
    "s1 = set([1,2,3,4,5,6])\n",
    "s2 = set([4,5,6,7,8,9])\n",
    "print(s1 & s2)\n",
    "print(s1.intersection(s2))"
   ]
  },
  {
   "cell_type": "code",
   "execution_count": 41,
   "id": "b36fb9fa-7f43-442b-869a-63ae05e6683d",
   "metadata": {},
   "outputs": [
    {
     "name": "stdout",
     "output_type": "stream",
     "text": [
      "{1, 2, 3, 4, 5, 6, 7, 8, 9}\n",
      "{1, 2, 3, 4, 5, 6, 7, 8, 9}\n"
     ]
    }
   ],
   "source": [
    "#합집합\n",
    "print(s1 | s2)\n",
    "print(s1.union(s2))"
   ]
  },
  {
   "cell_type": "code",
   "execution_count": 40,
   "id": "5e8ef209-7fc2-43a5-8d23-d61badc15915",
   "metadata": {},
   "outputs": [],
   "source": [
    "#차집합\n",
    "print(s1-s2)\n",
    "print(s2-s1)"
   ]
  },
  {
   "cell_type": "markdown",
   "id": "ab6e6ad1-6950-478c-a8d3-d8f3de5fa237",
   "metadata": {},
   "source": [
    "### 집합 자료형 관련 함수"
   ]
  },
  {
   "cell_type": "code",
   "execution_count": 42,
   "id": "f020029e-98b3-443f-b421-cebc3f527a12",
   "metadata": {},
   "outputs": [
    {
     "name": "stdout",
     "output_type": "stream",
     "text": [
      "{1, 2, 3, 4}\n"
     ]
    }
   ],
   "source": [
    "#값 1개 추가하기 -add\n",
    "s1 = set([1,2,3])\n",
    "s1.add(4)\n",
    "print(s1)"
   ]
  },
  {
   "cell_type": "code",
   "execution_count": 43,
   "id": "e3107a96-e77a-46f5-9665-6ca009c0603e",
   "metadata": {},
   "outputs": [
    {
     "name": "stdout",
     "output_type": "stream",
     "text": [
      "{1, 2, 3, 4, 5, 6}\n"
     ]
    }
   ],
   "source": [
    "#값 여러개 추가히기 - update\n",
    "s1 = set([1,2,3])\n",
    "s1.update([4,5,6])\n",
    "print(s1)"
   ]
  },
  {
   "cell_type": "code",
   "execution_count": 44,
   "id": "a92d5449-983f-492b-90b3-d5d0004c292d",
   "metadata": {},
   "outputs": [
    {
     "name": "stdout",
     "output_type": "stream",
     "text": [
      "{1, 3}\n"
     ]
    }
   ],
   "source": [
    "#특정 값 제거하기 -remove\n",
    "s1 = set([1,2,3])\n",
    "s1.remove(2)\n",
    "print(s1)"
   ]
  },
  {
   "cell_type": "markdown",
   "id": "ac0b940f-4760-4810-915c-0a5920802811",
   "metadata": {},
   "source": [
    "## 불자료형 "
   ]
  },
  {
   "cell_type": "code",
   "execution_count": 45,
   "id": "91762e68-5386-4551-a828-0a671f2eb79a",
   "metadata": {},
   "outputs": [],
   "source": [
    "#True: 참을 뜻한다. (1)\n",
    "#False: 거짓을 뜻한다. (0)"
   ]
  },
  {
   "cell_type": "code",
   "execution_count": 46,
   "id": "d8e6f80c-22e6-4142-86df-194de946e9be",
   "metadata": {},
   "outputs": [
    {
     "name": "stdout",
     "output_type": "stream",
     "text": [
      "<class 'type'>\n",
      "<class 'type'>\n"
     ]
    }
   ],
   "source": [
    "print(type(True))\n",
    "print(type(False))"
   ]
  },
  {
   "cell_type": "code",
   "execution_count": 21,
   "id": "bc3eb3dc-fbf5-4d71-8a83-4bc5897644da",
   "metadata": {},
   "outputs": [
    {
     "name": "stdout",
     "output_type": "stream",
     "text": [
      "False\n",
      "False\n",
      "True\n"
     ]
    }
   ],
   "source": [
    "print(3>10)\n",
    "print(3==10)\n",
    "print(3==3)"
   ]
  },
  {
   "cell_type": "code",
   "execution_count": 22,
   "id": "9a53a644-46dc-4ead-836e-44ac17ac6212",
   "metadata": {},
   "outputs": [
    {
     "name": "stdout",
     "output_type": "stream",
     "text": [
      "True\n",
      "False\n",
      "True\n",
      "False\n",
      "True\n",
      "False\n",
      "True\n",
      "False\n",
      "True\n",
      "True\n",
      "False\n",
      "False\n"
     ]
    }
   ],
   "source": [
    "#참과 거짓\n",
    "print(bool(\"python\"))\n",
    "print(bool(\"\"))\n",
    "print(bool([1, 2, 3]))\n",
    "print(bool([]))\n",
    "print(bool((1, 2, 3)))\n",
    "print(bool(()))\n",
    "print(bool({'a': 1}))\n",
    "print(bool({}))\n",
    "print(bool(1))\n",
    "print(bool(-1))\n",
    "print(bool(0))\n",
    "print(bool(None))"
   ]
  },
  {
   "cell_type": "code",
   "execution_count": 56,
   "id": "fcfe75a4-96b6-4ec9-bd86-57cbafbd3817",
   "metadata": {},
   "outputs": [
    {
     "name": "stdout",
     "output_type": "stream",
     "text": [
      " 어느 날, 호기심 많은 로봇는 마법의 성에서 모험을 떠나 숨겨진 보물을 발견했다. 그리고 호기심 많은 로봇는 마법의 성에서에서 무시무시한 용과 싸웠다.\n"
     ]
    }
   ],
   "source": [
    "#random으로 스토리 생성기 만들기\n",
    "\n",
    "#등장인물 리스트\n",
    "characters = [\"용감한 기사\", '모험심 넘치는 고양이', \"호기심 많은 로봇\", \"서투른 마법사\",\"명석한 탐정\",\"신나는 선생님\"]\n",
    "places = [\"어두운 숲에서\", \"먼 우주 행성에서\",\"마법의 성에서\", \"바닷속 도시에서\", \"귀신이 나오는 흉가에서\", \"재밌는 교실에서\"]\n",
    "events= [\"숨겨진 보물을 발견했다.\", \"무시무시한 용과 싸웠다.\", \"비밀 통로를 발견했다.\", \"고대의 미스터리를 풀었다.\", \"왕국을 위험해서 구하였다.\",\"꾸안꾸로 다녔다.\"]\n",
    "\n",
    "ch = random.choice(characters)\n",
    "pl = random.choice(places)\n",
    "ev = random.choice(events)\n",
    "ch2 = random.choice(characters)\n",
    "pl2 = random.choice(places)\n",
    "ev2 = random.choice(events)\n",
    "\n",
    "print(f\" 어느 날, {ch}는 {pl} 모험을 떠나 {ev} 그리고 {ch}는 {pl2}에서 {ev2}\")"
   ]
  },
  {
   "cell_type": "markdown",
   "id": "a3d460b6-785e-4834-9023-f9f16f6dd546",
   "metadata": {},
   "source": [
    "# 자료형의 값을 저장하는 공간, 변수"
   ]
  },
  {
   "cell_type": "markdown",
   "id": "01f8b9e7-1ea5-416d-8692-d86907edfb0c",
   "metadata": {},
   "source": [
    "## 리스트의 옅은복사 깊은 복사"
   ]
  },
  {
   "cell_type": "code",
   "execution_count": 8,
   "id": "95a30597-4d3d-41db-9d08-e9aae42445f5",
   "metadata": {},
   "outputs": [
    {
     "name": "stdout",
     "output_type": "stream",
     "text": [
      "[1, 2, 3] 2068288137408\n",
      "[1, 2, 3] 2068288137408\n",
      "[1, 7, 3] 2068288137408\n",
      "[1, 7, 3] 2068288137408\n"
     ]
    }
   ],
   "source": [
    "a = [1,2,3]\n",
    "b = a\n",
    "print(a,id(a))\n",
    "print(b,id(b))\n",
    "b[1] = 7\n",
    "print(a,id(a))\n",
    "print(b,id(b))"
   ]
  },
  {
   "cell_type": "code",
   "execution_count": 2,
   "id": "9bf898be-1d9a-4bda-b16e-f24c41e6f372",
   "metadata": {},
   "outputs": [
    {
     "data": {
      "text/plain": [
       "True"
      ]
     },
     "execution_count": 2,
     "metadata": {},
     "output_type": "execute_result"
    }
   ],
   "source": [
    "a is b"
   ]
  },
  {
   "cell_type": "code",
   "execution_count": 12,
   "id": "d1d062ef-b152-4ee5-82bd-ad437269b407",
   "metadata": {},
   "outputs": [
    {
     "name": "stdout",
     "output_type": "stream",
     "text": [
      "[11, 22, 33] 1943611976128\n",
      "[11, 22, 33] 1943611976192\n",
      "[11, 22, 33] 1943611976128\n",
      "[11, 77, 33] 1943611976192\n"
     ]
    }
   ],
   "source": [
    "from copy import copy\n",
    "c = [11,22,33]\n",
    "# d =copy(c) #방식1\n",
    "d=c[:] #방식2\n",
    "# d= c.copy() #방식3\n",
    "print(c,id(c))\n",
    "print(d,id(d))\n",
    "d[1] = 77\n",
    "print(c,id(c))\n",
    "print(d,id(d))"
   ]
  },
  {
   "cell_type": "code",
   "execution_count": 6,
   "id": "89a2be07-248d-4e21-a1ea-9a4c66f11595",
   "metadata": {},
   "outputs": [
    {
     "data": {
      "text/plain": [
       "False"
      ]
     },
     "execution_count": 6,
     "metadata": {},
     "output_type": "execute_result"
    }
   ],
   "source": [
    "c is d"
   ]
  },
  {
   "cell_type": "markdown",
   "id": "3543ad61-6595-4256-bad1-8a4a6e16a0ae",
   "metadata": {},
   "source": [
    "## 변수를 만드는 여러가지 방법"
   ]
  },
  {
   "cell_type": "code",
   "execution_count": 13,
   "id": "3efd2483-caee-4dfb-91cd-0f6f38163d6f",
   "metadata": {},
   "outputs": [
    {
     "name": "stdout",
     "output_type": "stream",
     "text": [
      "파이썬 짱짱\n",
      "배고파 밥줘\n",
      "10 10 10\n"
     ]
    }
   ],
   "source": [
    "a , b='파이썬','짱짱'\n",
    "[c,d]=['배고파','밥줘']\n",
    "print(a,b)\n",
    "print(c,d)\n",
    "num1 = num2 = num3 = 10\n",
    "print(num1,num2,num3)"
   ]
  },
  {
   "cell_type": "code",
   "execution_count": 15,
   "id": "3b33dc19-5bca-4925-b09e-ef9eba341423",
   "metadata": {},
   "outputs": [
    {
     "name": "stdout",
     "output_type": "stream",
     "text": [
      "3 7\n",
      "7 3\n"
     ]
    }
   ],
   "source": [
    "a = 3\n",
    "b = 7\n",
    "print(a,b)\n",
    "a, b=b,a\n",
    "print(a,b)"
   ]
  },
  {
   "cell_type": "code",
   "execution_count": 16,
   "id": "413e2756-2d8c-476c-9b58-9bfa4e3ca392",
   "metadata": {},
   "outputs": [
    {
     "name": "stdout",
     "output_type": "stream",
     "text": [
      "33 77\n",
      "77 33\n"
     ]
    }
   ],
   "source": [
    "a = 33\n",
    "b = 77\n",
    "print(a,b)\n",
    "temp = a\n",
    "a = b\n",
    "b = temp\n",
    "print(a,b)"
   ]
  }
 ],
 "metadata": {
  "kernelspec": {
   "display_name": "Python 3 (ipykernel)",
   "language": "python",
   "name": "python3"
  },
  "language_info": {
   "codemirror_mode": {
    "name": "ipython",
    "version": 3
   },
   "file_extension": ".py",
   "mimetype": "text/x-python",
   "name": "python",
   "nbconvert_exporter": "python",
   "pygments_lexer": "ipython3",
   "version": "3.13.1"
  }
 },
 "nbformat": 4,
 "nbformat_minor": 5
}
