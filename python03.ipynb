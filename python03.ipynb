{
 "cells": [
  {
   "cell_type": "markdown",
   "id": "e268942c-6c86-47c4-9662-9a5c7fab2a47",
   "metadata": {},
   "source": [
    "# 제어문"
   ]
  },
  {
   "cell_type": "markdown",
   "id": "dc797fba-5571-43fe-abe4-2bf169a22b6a",
   "metadata": {},
   "source": [
    "## if문"
   ]
  },
  {
   "cell_type": "code",
   "execution_count": 1,
   "id": "b3b02c6f-495f-4408-bb19-2ab384104073",
   "metadata": {},
   "outputs": [
    {
     "name": "stdout",
     "output_type": "stream",
     "text": [
      "항상 동작합니다!\n",
      "5가 큽니다.\n"
     ]
    }
   ],
   "source": [
    "if True:\n",
    "    print(\"항상 동작합니다!\")\n",
    "if False:\n",
    "    print(\"이건 동작할까요?\")\n",
    "if [1,3]:\n",
    "    print(\"5가 큽니다.\")\n",
    "if 4 > 10:\n",
    "    print(\"나올까요?\")"
   ]
  },
  {
   "cell_type": "code",
   "execution_count": 12,
   "id": "cb63debb-cf55-4c95-8bba-319a7c802c73",
   "metadata": {},
   "outputs": [
    {
     "name": "stdout",
     "output_type": "stream",
     "text": [
      "택시를\n",
      "타고\n",
      "가라\n"
     ]
    }
   ],
   "source": [
    "if True:\n",
    "    print(\"택시를\")\n",
    "    print(\"타고\")\n",
    "    print(\"가라\")"
   ]
  },
  {
   "cell_type": "code",
   "execution_count": 15,
   "id": "9ca8e6c1-deaa-41d0-809f-b01e49398b3a",
   "metadata": {},
   "outputs": [
    {
     "name": "stdin",
     "output_type": "stream",
     "text": [
      "얼마 가지고 있습니까? 3000\n"
     ]
    },
    {
     "name": "stdout",
     "output_type": "stream",
     "text": [
      "택시타고 가세요.\n"
     ]
    }
   ],
   "source": [
    "mymoney = int(input('얼마 가지고 있습니까?'))\n",
    "if mymoney >= 3000:\n",
    "    print('택시타고 가세요.')\n",
    "# if mymoney < 3000:\n",
    "else:\n",
    "    print('걸어가세요.')"
   ]
  },
  {
   "cell_type": "code",
   "execution_count": 18,
   "id": "5b5d6ff0-bd72-403c-bcce-04c8d8487ac2",
   "metadata": {},
   "outputs": [],
   "source": [
    "# and or not"
   ]
  },
  {
   "cell_type": "code",
   "execution_count": 21,
   "id": "be00c48c-5359-4bfc-9261-b2d168dd233c",
   "metadata": {},
   "outputs": [
    {
     "name": "stdout",
     "output_type": "stream",
     "text": [
      "===== and 연산 =====\n",
      "True\n",
      "False\n",
      "False\n",
      "False\n",
      "===== or 연산 =====\n",
      "True\n",
      "True\n",
      "True\n",
      "False\n",
      "===== not 연산 =====\n",
      "True\n",
      "False\n",
      "True\n"
     ]
    }
   ],
   "source": [
    "print(\"===== and 연산 =====\")\n",
    "print(True and True)\n",
    "print(True and False)\n",
    "print(False and True)\n",
    "print(False and False)\n",
    "print(\"===== or 연산 =====\")\n",
    "print(True or True)\n",
    "print(True or False)\n",
    "print(False or True)\n",
    "print(False or False)\n",
    "print(\"===== not 연산 =====\")\n",
    "print(True)\n",
    "print(not True)\n",
    "print(not False)"
   ]
  },
  {
   "cell_type": "code",
   "execution_count": 23,
   "id": "74f527eb-34ac-482f-a703-42c9f96f8a38",
   "metadata": {},
   "outputs": [
    {
     "name": "stdout",
     "output_type": "stream",
     "text": [
      "반가워요.\n"
     ]
    }
   ],
   "source": [
    "이상형 = True\n",
    "똑똑 = False\n",
    "if 이상형 and 똑똑 :\n",
    "    print(\"만납시다.\")\n",
    "else:\n",
    "    print(\"반가워요.\")"
   ]
  },
  {
   "cell_type": "code",
   "execution_count": null,
   "id": "48fb6094-27d1-4d33-89a0-45a12a2cfcf6",
   "metadata": {},
   "outputs": [],
   "source": [
    "이상형 = False\n",
    "다정 = True\n",
    "if 이상형 or 다정 :\n",
    "    print(\"만납시다.\")\n",
    "else:\n",
    "    print(\"반가워요.\")"
   ]
  },
  {
   "cell_type": "code",
   "execution_count": 27,
   "id": "9a4f41cd-d990-4929-ba56-757b40e810a3",
   "metadata": {},
   "outputs": [
    {
     "name": "stdout",
     "output_type": "stream",
     "text": [
      "잘가요\n"
     ]
    }
   ],
   "source": [
    "주사 = True\n",
    "if not 주사:\n",
    "    print(\"만나요\")\n",
    "else: \n",
    "    print(\"잘가요\")"
   ]
  },
  {
   "cell_type": "code",
   "execution_count": 28,
   "id": "bdca4028-995f-490b-b248-6b19d63bdd82",
   "metadata": {},
   "outputs": [
    {
     "name": "stdout",
     "output_type": "stream",
     "text": [
      "택시를 타고 가라\n"
     ]
    }
   ],
   "source": [
    "money=2000\n",
    "card = True\n",
    "if money >= 3000 or card:\n",
    "    print(\"택시를 타고 가라\")\n",
    "else:\n",
    "    print(\"걸어가라\")"
   ]
  },
  {
   "cell_type": "code",
   "execution_count": 30,
   "id": "973d0265-2432-418a-bd0d-4d7cd03f36a0",
   "metadata": {
    "collapsed": true,
    "jupyter": {
     "outputs_hidden": true
    },
    "scrolled": true
   },
   "outputs": [
    {
     "name": "stdout",
     "output_type": "stream",
     "text": [
      "A회사 합격입니다.\n"
     ]
    },
    {
     "ename": "NameError",
     "evalue": "name 'compB' is not defined",
     "output_type": "error",
     "traceback": [
      "\u001b[1;31m---------------------------------------------------------------------------\u001b[0m",
      "\u001b[1;31mNameError\u001b[0m                                 Traceback (most recent call last)",
      "Cell \u001b[1;32mIn[30], line 7\u001b[0m\n\u001b[0;32m      5\u001b[0m \u001b[38;5;28;01mif\u001b[39;00m me \u001b[38;5;129;01min\u001b[39;00m compA:\n\u001b[0;32m      6\u001b[0m     \u001b[38;5;28mprint\u001b[39m(\u001b[38;5;124m\"\u001b[39m\u001b[38;5;124mA회사 합격입니다.\u001b[39m\u001b[38;5;124m\"\u001b[39m)  \n\u001b[1;32m----> 7\u001b[0m \u001b[38;5;28;01mif\u001b[39;00m me \u001b[38;5;129;01min\u001b[39;00m \u001b[43mcompB\u001b[49m:\n\u001b[0;32m      8\u001b[0m     \u001b[38;5;28mprint\u001b[39m(\u001b[38;5;124m\"\u001b[39m\u001b[38;5;124mB회사 합격입니다.\u001b[39m\u001b[38;5;124m\"\u001b[39m)  \n\u001b[0;32m      9\u001b[0m \u001b[38;5;28;01mif\u001b[39;00m me \u001b[38;5;129;01min\u001b[39;00m compC:\n",
      "\u001b[1;31mNameError\u001b[0m: name 'compB' is not defined"
     ]
    }
   ],
   "source": [
    "me='Python'\n",
    "compA = {'Java','CSS', 'Javascript','C''MySQL'}\n",
    "compA = {'Java','Python', 'Javascript','C''MySQL'}\n",
    "compA = {'Java','Python', 'HTML','MySQL'}\n",
    "if me in compA:\n",
    "    print(\"A회사 합격입니다.\")  \n",
    "if me in compB:\n",
    "    print(\"B회사 합격입니다.\")  \n",
    "if me in compC:\n",
    "    print(\"C회사 합격입니다.\")  \n",
    "if me in compC:\n",
    "    print(\"나머지는 불합격입니다.\")"
   ]
  },
  {
   "cell_type": "code",
   "execution_count": 51,
   "id": "6fbb57b8-f508-4610-9906-6dc11c738d77",
   "metadata": {},
   "outputs": [
    {
     "name": "stdin",
     "output_type": "stream",
     "text": [
      " 80\n"
     ]
    },
    {
     "name": "stdout",
     "output_type": "stream",
     "text": [
      "B\n"
     ]
    }
   ],
   "source": [
    "점수 = int(input(\"점수를 입력하세요.\"))\n",
    "if 90 <= 점수:\n",
    "    print('A')\n",
    "if 80 <= 점수 <90:\n",
    "    print('B')\n",
    "if 70 <= 점수  <80:\n",
    "    print('C')\n",
    "if 60 <= 점수 <70:\n",
    "    print('D')\n",
    "if 점수<60:\n",
    "    print('F')"
   ]
  },
  {
   "cell_type": "code",
   "execution_count": 58,
   "id": "04093bd0-4306-4739-8e09-5bb31614732d",
   "metadata": {},
   "outputs": [
    {
     "name": "stdin",
     "output_type": "stream",
     "text": [
      "점수를 입력하세요. \n"
     ]
    },
    {
     "name": "stdout",
     "output_type": "stream",
     "text": [
      "C 학점입니다.\n"
     ]
    }
   ],
   "source": [
    "#방법1 if만 사용\n",
    "점수 = int(input(\"점수를 입력하세요.\")or 77)\n",
    "grade = 'F'\n",
    "if 90 <= 점수: grade = 'A'\n",
    "if 80 <= 점수 < 90: grade = 'B'\n",
    "if 70 <= 점수 < 80: grade = 'C'\n",
    "if 60 <= 점수 < 70: grade = 'D'\n",
    "print(f\"{grade} 학점입니다.\")"
   ]
  },
  {
   "cell_type": "code",
   "execution_count": 2,
   "id": "3050259d-b67e-4170-9a47-e80ee7c4270b",
   "metadata": {},
   "outputs": [
    {
     "name": "stdin",
     "output_type": "stream",
     "text": [
      "점수를 입력하세요. 59.6\n"
     ]
    },
    {
     "name": "stdout",
     "output_type": "stream",
     "text": [
      "F 학점입니다.\n"
     ]
    }
   ],
   "source": [
    "#방법2 if, elif, else 사용\n",
    "score = float(input(\"점수를 입력하세요.\")or 37)\n",
    "if 90 <= score : grade = 'A'\n",
    "elif 80 <= score : grade = 'B'\n",
    "elif 70 <= score : grade = 'C'\n",
    "elif 60 <= score : grade = 'D'\n",
    "else: grade = 'F'\n",
    "print(f\"{grade} 학점입니다.\")"
   ]
  },
  {
   "cell_type": "code",
   "execution_count": 70,
   "id": "244bde52-1d47-4f8c-9601-9fc941d0a729",
   "metadata": {},
   "outputs": [
    {
     "name": "stdin",
     "output_type": "stream",
     "text": [
      "현재 온도를 입력하세요.(ºC): 8\n"
     ]
    },
    {
     "name": "stdout",
     "output_type": "stream",
     "text": [
      "지금은 겨울 입니다.☃️\n"
     ]
    }
   ],
   "source": [
    "season = int(input(\"현재 온도를 입력하세요.(ºC):\"))\n",
    "if 15 <= season < 25 : \n",
    "    print('지금은 봄 입니다.🌱')\n",
    "elif 25 <= season : \n",
    "    print('지금은 여름 입니다.🚢')\n",
    "elif 10 <= season < 15 : \n",
    "    print('지금은 가을 입니다.🍂')\n",
    "else: \n",
    "    print('지금은 겨울 입니다.☃️')"
   ]
  },
  {
   "cell_type": "markdown",
   "id": "6be4c687-d245-4da6-9cb1-8e6504a8e767",
   "metadata": {},
   "source": [
    "## while 문"
   ]
  },
  {
   "cell_type": "code",
   "execution_count": 1,
   "id": "977a9f58-b41d-49c7-8113-e5862a5bdf55",
   "metadata": {},
   "outputs": [
    {
     "name": "stdout",
     "output_type": "stream",
     "text": [
      "나무를 1번 찍었습니다.\n",
      "나무를 2번 찍었습니다.\n",
      "나무를 3번 찍었습니다.\n",
      "나무를 4번 찍었습니다.\n",
      "나무를 5번 찍었습니다.\n",
      "나무를 6번 찍었습니다.\n",
      "나무를 7번 찍었습니다.\n",
      "나무를 8번 찍었습니다.\n",
      "나무를 9번 찍었습니다.\n",
      "나무를 10번 찍었습니다.\n",
      "나무 넘어갑니다.\n"
     ]
    }
   ],
   "source": [
    "treeHit = 0\n",
    "while treeHit < 10:\n",
    "    treeHit = treeHit + 1\n",
    "    print(\"나무를 %d번 찍었습니다.\"% treeHit)\n",
    "    if treeHit ==10:\n",
    "        print(\"나무 넘어갑니다.\")"
   ]
  },
  {
   "cell_type": "code",
   "execution_count": 2,
   "id": "0866e5bc-49da-4536-afa7-3eea4ddc24da",
   "metadata": {},
   "outputs": [
    {
     "name": "stdout",
     "output_type": "stream",
     "text": [
      "나무를 1번 찍었습니다.\n",
      "나무를 2번 찍었습니다.\n",
      "나무를 3번 찍었습니다.\n",
      "나무를 4번 찍었습니다.\n",
      "나무를 5번 찍었습니다.\n",
      "나무를 6번 찍었습니다.\n",
      "나무를 7번 찍었습니다.\n",
      "나무를 8번 찍었습니다.\n",
      "나무를 9번 찍었습니다.\n",
      "나무를 10번 찍었습니다.\n",
      "나무 넘어갑니다.\n"
     ]
    }
   ],
   "source": [
    "namu = 10\n",
    "while namu:\n",
    "    namu -=1\n",
    "    print(f\"나무를 {10 - namu}번 찍었습니다.\")\n",
    "print(\"나무 넘어갑니다.\")"
   ]
  },
  {
   "cell_type": "code",
   "execution_count": null,
   "id": "501f5473-61a4-4554-9943-8b5f1b974d3e",
   "metadata": {},
   "outputs": [
    {
     "name": "stdout",
     "output_type": "stream",
     "text": [
      "시스템이 종료되었습니다.\n",
      "\n",
      "선택해주세요.\n",
      "    1. Add\n",
      "    2. Del\n",
      "    3. List\n",
      "    4. Quit\n",
      "\n"
     ]
    }
   ],
   "source": [
    "from IPython.display import clear_output\n",
    "prompt = \"\"\"\n",
    "선택해주세요.\n",
    "    1. Add\n",
    "    2. Del\n",
    "    3. List\n",
    "    4. Quit\n",
    "\"\"\"\n",
    "number = 0\n",
    "while number != 4:\n",
    "    print(prompt)\n",
    "    number = int(input())\n",
    "    clear_output(wait=True) #이전 질문 지우기\n",
    "print(\"시스템이 종료되었습니다.\")"
   ]
  },
  {
   "cell_type": "code",
   "execution_count": 5,
   "id": "44f34582-8538-45ea-b994-662e65094418",
   "metadata": {},
   "outputs": [
    {
     "name": "stdout",
     "output_type": "stream",
     "text": [
      "9 나 화났어!\n",
      "8 나 화났어!\n",
      "7 나 화났어!\n",
      "6 나 화났어!\n",
      "5 나 화났어!\n",
      "4 나 화났어!\n",
      "3 나 화났어!\n",
      "2 나 화났어!\n",
      "1 나 화났어!\n",
      "0 나 화났어!\n"
     ]
    }
   ],
   "source": [
    "num = 10\n",
    "while num:\n",
    "    num-=1\n",
    "    print(num, \"나 화났어!\")"
   ]
  },
  {
   "cell_type": "code",
   "execution_count": 50,
   "id": "1aea39e7-9e4d-4b6f-bc9f-3fb36ba052e5",
   "metadata": {},
   "outputs": [],
   "source": [
    "# random 주사위\n",
    "import random as r\n",
    "# ran = int(r.random()*6 +1)\n",
    "box = [] # 초기화"
   ]
  },
  {
   "cell_type": "code",
   "execution_count": 60,
   "id": "1a5db0de-2247-4364-9cea-dce097aa3b99",
   "metadata": {},
   "outputs": [
    {
     "name": "stdout",
     "output_type": "stream",
     "text": [
      "[6, 6, 2, 5, 5, 4, 3, 2, 1, 5] 10\n"
     ]
    }
   ],
   "source": [
    "ran = r. randint(1,6)\n",
    "box.append(ran)\n",
    "\n",
    "print(box,len(box))"
   ]
  },
  {
   "cell_type": "code",
   "execution_count": 1,
   "id": "c428c8c5-b17b-4765-ab8f-d95ec4a318f4",
   "metadata": {},
   "outputs": [
    {
     "name": "stdout",
     "output_type": "stream",
     "text": [
      "100000\n",
      "1번이 16853번 (16.853%) 나왔습니다.\n",
      "2번이 16790번 (16.79%) 나왔습니다.\n",
      "3번이 16667번 (16.667%) 나왔습니다.\n",
      "4번이 16383번 (16.383%) 나왔습니다.\n",
      "5번이 16690번 (16.689999999999998%) 나왔습니다.\n",
      "6번이 16617번 (16.617%) 나왔습니다.\n",
      "가장 많이 나온 숫자: 1 (횟수: 16853)\n",
      "가장 적게 나온 숫자: 4 (횟수: 16383)\n"
     ]
    }
   ],
   "source": [
    "# random 주사위\n",
    "import random as r\n",
    "box = [] # 초기화\n",
    "num = 0\n",
    "while num < 100000:\n",
    "    num = num + 1\n",
    "    ran = r. randint(1,6)\n",
    "    box.append(ran)\n",
    "print(len(box))\n",
    "#리스트의 특정한 숫자를 몇 개인지 찾아내는 함수써서\n",
    "\n",
    "\n",
    "print(f\"1번이 {box.count(1)}번 ({(box.count(1))/num*100}%) 나왔습니다.\")\n",
    "print(f\"2번이 {box.count(2)}번 ({(box.count(2))/num*100}%) 나왔습니다.\")\n",
    "print(f\"3번이 {box.count(3)}번 ({(box.count(3))/num*100}%) 나왔습니다.\")\n",
    "print(f\"4번이 {box.count(4)}번 ({(box.count(4))/num*100}%) 나왔습니다.\")\n",
    "print(f\"5번이 {box.count(5)}번 ({(box.count(5))/num*100}%) 나왔습니다.\")\n",
    "print(f\"6번이 {box.count(6)}번 ({(box.count(6))/num*100}%) 나왔습니다.\")\n",
    "\n",
    "counts = [box.count(1), box.count(2), box.count(3), box.count(4), box.count(5), box.count(6)]\n",
    "\n",
    "max_count = max(counts)\n",
    "min_count = min(counts)\n",
    "\n",
    "max_num = counts.index(max_count) + 1\n",
    "min_num = counts.index(min_count) + 1\n",
    "\n",
    "print(f\" {max_num}번이 가장 많이 출현하였습니다. (횟수: {max_count})\")\n",
    "print(f\" {min_num}번이 가장 적게 출현하였습니다. (횟수: {min_count})\")"
   ]
  },
  {
   "cell_type": "code",
   "execution_count": 131,
   "id": "d007161c-f4e3-4a09-a43a-ba0432934ef6",
   "metadata": {},
   "outputs": [
    {
     "name": "stdout",
     "output_type": "stream",
     "text": [
      "25000회 정상 진행되었습니다.\n",
      "\n",
      "1번이 4255번(17.02%) 나왔습니다.\n",
      "2번이 4227번(16.91%) 나왔습니다.\n",
      "3번이 4198번(16.79%) 나왔습니다.\n",
      "4번이 4081번(16.32%) 나왔습니다.\n",
      "5번이 4157번(16.63%) 나왔습니다.\n",
      "6번이 4082번(16.33%) 나왔습니다.\n"
     ]
    }
   ],
   "source": [
    "# random 주사위\n",
    "import random as r\n",
    "box = [] # 초기화\n",
    "num = 0\n",
    "target = 25000\n",
    "while num < target:\n",
    "    num = num + 1\n",
    "    ran = r. randint(1,6)\n",
    "    box.append(ran)\n",
    "if target == len(box):\n",
    "    print(f\"{target}회 정상 진행되었습니다.\")\n",
    "else:\n",
    "    print(f\"검증결과 횟수 이상이 있습니다. 이유:({target}회 목표로 동작하였으나. {len(box)}으로 측정되었습니다.)\")\n",
    "print()\n",
    "#리스트의 특정한 숫자를 몇 개인지 찾아내는 함수써서\n",
    "\n",
    "\n",
    "print(f\"1번이 {box.count(1)}번({(box.count(1))/len(box)*100:.2f}%) 나왔습니다.\")\n",
    "print(f\"2번이 {box.count(2)}번({(box.count(2))/len(box)*100:.2f}%) 나왔습니다.\")\n",
    "print(f\"3번이 {box.count(3)}번({(box.count(3))/len(box)*100:.2f}%) 나왔습니다.\")\n",
    "print(f\"4번이 {box.count(4)}번({(box.count(4))/len(box)*100:.2f}%) 나왔습니다.\")\n",
    "print(f\"5번이 {box.count(5)}번({(box.count(5))/len(box)*100:.2f}%) 나왔습니다.\")\n",
    "print(f\"6번이 {box.count(6)}번({(box.count(6))/len(box)*100:.2f}%) 나왔습니다.\")\n"
   ]
  },
  {
   "cell_type": "markdown",
   "id": "42aab29e-dfb7-491d-947e-7f843c56191a",
   "metadata": {},
   "source": [
    "## for문"
   ]
  },
  {
   "cell_type": "code",
   "execution_count": 132,
   "id": "49a740e9-9c13-415f-b87e-37a852ca25c2",
   "metadata": {},
   "outputs": [
    {
     "name": "stdout",
     "output_type": "stream",
     "text": [
      "one\n",
      "two\n",
      "three\n"
     ]
    }
   ],
   "source": [
    "test_list = ['one', 'two','three']\n",
    "for i in test_list:\n",
    "    print(i)"
   ]
  },
  {
   "cell_type": "code",
   "execution_count": null,
   "id": "52045898-86b3-4c09-a3ce-46fcf000d831",
   "metadata": {},
   "outputs": [],
   "source": [
    "(A, B) = (1, 2)"
   ]
  },
  {
   "cell_type": "code",
   "execution_count": 137,
   "id": "0a4ed297-00bd-4bf6-adc5-0fa8306dfc27",
   "metadata": {},
   "outputs": [
    {
     "name": "stdout",
     "output_type": "stream",
     "text": [
      "1 2 11\n",
      "3 4 33\n",
      "5 6 55\n"
     ]
    }
   ],
   "source": [
    "#다양한 for 문의 사용\n",
    "a= [(1,2,11),(3,4,33),(5,6,55)]\n",
    "for (x,y,z) in a:\n",
    "    print(x,y,z)"
   ]
  },
  {
   "cell_type": "code",
   "execution_count": 152,
   "id": "ddd79264-2fb2-4c3e-a317-e08575209865",
   "metadata": {},
   "outputs": [
    {
     "name": "stdout",
     "output_type": "stream",
     "text": [
      "2번 학생은 합격입니다.\n",
      "4번 학생은 합격입니다.\n"
     ]
    }
   ],
   "source": [
    "marks = [90, 25, 67, 45, 80] #학생들의 시험 점수 리스트\n",
    "\n",
    "number = 0 # 학생에게 붙여 줄 번호\n",
    "for mark in marks:  #90,25,67,45,80을 순서대로 mark에 대입\n",
    "    number = number +1\n",
    "    if mark >= 60: \n",
    "        continue\n",
    "    print(\"%d번 학생은 합격입니다.\" % number)"
   ]
  },
  {
   "cell_type": "code",
   "execution_count": 168,
   "id": "a5d5fdc9-a8a5-414c-9f2e-8412a57a91ba",
   "metadata": {},
   "outputs": [
    {
     "name": "stdout",
     "output_type": "stream",
     "text": [
      "1는 홀수 입니다.\n",
      "3는 홀수 입니다.\n",
      "5는 홀수 입니다.\n",
      "7는 홀수 입니다.\n",
      "9는 홀수 입니다.\n"
     ]
    }
   ],
   "source": [
    "numbers = [1,2,3,4,5,6,7,8,9,10]\n",
    "\n",
    "for x in numbers:\n",
    "    if x % 2 == 0:\n",
    "        continue\n",
    "    print(f\"{x}는 홀수 입니다.\")"
   ]
  },
  {
   "cell_type": "code",
   "execution_count": null,
   "id": "93814df6-3011-4d2e-89f9-0c6f5fb7e1ad",
   "metadata": {},
   "outputs": [],
   "source": [
    "coffee = 10\n",
    "while True:\n",
    "    money = int(input(\"돈을 넣어주세요: \"))\n",
    "    if money == 300:\n",
    "        print(\"커피를 줍니다. \")\n",
    "        coffee =coffee -1\n",
    "    elif money > 300:\n",
    "        print(\"거스름돈 %d를 주고 커피를 줍니다.\" % (money-300))\n",
    "        coffee = coffee -1\n",
    "    else:\n",
    "        print(\"돈을 다시 돌려 주고 커피를 주지 않습니다. \")\n",
    "        print(\"남은 커피의 양은 %d개입니다.\" %coffee)\n",
    "    if coffee == 0:\n",
    "        print(\"커피가 다 떨어졌습니다. 판매를 중지합니다.\")\n",
    "        break"
   ]
  },
  {
   "cell_type": "code",
   "execution_count": 177,
   "id": "89cd5b7d-78e6-4da8-a5f7-e4b8d2eaf47e",
   "metadata": {},
   "outputs": [
    {
     "name": "stdout",
     "output_type": "stream",
     "text": [
      "range(0, 10)\n"
     ]
    }
   ],
   "source": [
    "#range 함수\n",
    "a = range(10)\n",
    "print(a)"
   ]
  },
  {
   "cell_type": "code",
   "execution_count": 3,
   "id": "d7b8979b-3b3e-4674-b74a-b72e75e6c2b7",
   "metadata": {},
   "outputs": [
    {
     "name": "stdout",
     "output_type": "stream",
     "text": [
      "0\n",
      "1\n",
      "2\n",
      "3\n",
      "4\n"
     ]
    }
   ],
   "source": [
    "for n in range(5):\n",
    "    print(n)"
   ]
  },
  {
   "cell_type": "code",
   "execution_count": 5,
   "id": "b027c2cd-b5ff-4920-8ccb-e6fd8b528a8c",
   "metadata": {},
   "outputs": [
    {
     "name": "stdout",
     "output_type": "stream",
     "text": [
      "[1, 3, 5, 7, 9, 11, 13, 15, 17, 19, 21, 23, 25, 27, 29, 31, 33, 35, 37, 39, 41, 43, 45, 47, 49, 51, 53, 55, 57, 59, 61, 63, 65, 67, 69, 71, 73, 75, 77, 79, 81, 83, 85, 87, 89, 91, 93, 95, 97, 99]\n"
     ]
    }
   ],
   "source": [
    "la = list(range(1,100,2))\n",
    "print(la)"
   ]
  },
  {
   "cell_type": "code",
   "execution_count": 7,
   "id": "edae1ad7-5eb6-4a8c-8365-4914b5151fe2",
   "metadata": {},
   "outputs": [
    {
     "name": "stdout",
     "output_type": "stream",
     "text": [
      "1\n",
      "3\n",
      "5\n",
      "7\n",
      "9\n"
     ]
    }
   ],
   "source": [
    "for even in range(1,10,2):\n",
    "    print(even)"
   ]
  },
  {
   "cell_type": "code",
   "execution_count": 16,
   "id": "9f1b72cd-a4a9-4877-a363-d62422ff8a12",
   "metadata": {},
   "outputs": [
    {
     "name": "stdout",
     "output_type": "stream",
     "text": [
      "55\n"
     ]
    }
   ],
   "source": [
    "x=0\n",
    "for n in range(1,11):\n",
    "    x=x+n\n",
    "if n == 10:\n",
    "    print(x)"
   ]
  },
  {
   "cell_type": "code",
   "execution_count": 21,
   "id": "bb1d7dda-8d33-4980-a7cd-d707aff4d986",
   "metadata": {},
   "outputs": [
    {
     "name": "stdout",
     "output_type": "stream",
     "text": [
      "8515\n"
     ]
    }
   ],
   "source": [
    "y=0\n",
    "for t in range(1,131):\n",
    "    y=y+t\n",
    "if t == 130:\n",
    "    print(y)"
   ]
  },
  {
   "cell_type": "code",
   "execution_count": 22,
   "id": "b0cc5d90-465e-47ca-a311-90442e4e2624",
   "metadata": {},
   "outputs": [
    {
     "name": "stdout",
     "output_type": "stream",
     "text": [
      "1번 학생 축하합니다. 합격입니다.\n",
      "3번 학생 축하합니다. 합격입니다.\n",
      "5번 학생 축하합니다. 합격입니다.\n"
     ]
    }
   ],
   "source": [
    "marks = [90,25,67,45,80]\n",
    "for number in range(len(marks)):\n",
    "    if marks[number]<60:\n",
    "        continue\n",
    "    print(\"%d번 학생 축하합니다. 합격입니다.\"% (number+1))"
   ]
  },
  {
   "cell_type": "code",
   "execution_count": 10,
   "id": "02c16d68-19fe-453c-987e-6dd1d0d0302c",
   "metadata": {},
   "outputs": [
    {
     "name": "stdout",
     "output_type": "stream",
     "text": [
      "1738904873.9465768\n"
     ]
    }
   ],
   "source": [
    "import time\n",
    "print(time.time())"
   ]
  },
  {
   "cell_type": "code",
   "execution_count": 24,
   "id": "2a9cf162-ee53-454f-a251-1bba3d97779d",
   "metadata": {},
   "outputs": [
    {
     "name": "stdout",
     "output_type": "stream",
     "text": [
      "     March 2025\n",
      "Su Mo Tu We Th Fr Sa\n",
      "                   1\n",
      " 2  3  4  5  6  7  8\n",
      " 9 10 11 12 13 14 15\n",
      "16 17 18 19 20 21 22\n",
      "23 24 25 26 27 28 29\n",
      "30 31\n",
      "\n"
     ]
    }
   ],
   "source": [
    "#연습\n",
    "import calendar\n",
    "c = calendar.TextCalendar(calendar.SUNDAY)\n",
    "print(c.formatmonth(2025,3))"
   ]
  },
  {
   "cell_type": "code",
   "execution_count": 1,
   "id": "f26b346c-93fa-4608-a99c-f4ec2804913c",
   "metadata": {},
   "outputs": [
    {
     "name": "stdout",
     "output_type": "stream",
     "text": [
      "■■■■■■■■■■■■■■■■■■■■■■■■■■■■■■■■■■■■■■■■■■■■■■■■■■■■■■■■■■■■■■■■■■■■■■■■■■■■■■■■■■■■■■■■■■■■■■■■■■■■■"
     ]
    }
   ],
   "source": [
    "#리스트 속도 측정\n",
    "import time as t\n",
    "for x in range(101):\n",
    "    print(f'■',end='')\n",
    "\n",
    "    t.sleep(1)"
   ]
  },
  {
   "cell_type": "code",
   "execution_count": 3,
   "id": "ddc975e2-c298-4fd7-bf8f-e1ee263a7ff3",
   "metadata": {},
   "outputs": [
    {
     "name": "stdout",
     "output_type": "stream",
     "text": [
      "<class 'list'>\n",
      "<class 'tuple'>\n"
     ]
    }
   ],
   "source": [
    "#리스트 속도측정\n",
    "import time\n",
    "lt=[]\n",
    "tp=[]\n",
    "length=100*1000*1000\n",
    "for x in range(length):\n",
    "    lt.append(x)\n",
    "for t in range(length):\n",
    "    tp.append(t)\n",
    "tp= tuple(tp)\n",
    "print(type(lt))\n",
    "print(type(tp))"
   ]
  },
  {
   "cell_type": "code",
   "execution_count": 4,
   "id": "a747cb8c-5234-48ca-a5fe-13339759e587",
   "metadata": {},
   "outputs": [
    {
     "name": "stdout",
     "output_type": "stream",
     "text": [
      "7.5779993534088135\n"
     ]
    }
   ],
   "source": [
    "import time\n",
    "start = time.time()\n",
    "for x in lt:\n",
    "    lts = [1,2,3,4,5]\n",
    "print(time.time() - start)"
   ]
  },
  {
   "cell_type": "code",
   "execution_count": 5,
   "id": "bd157df9-66a5-4149-a295-3c185f51ddc4",
   "metadata": {},
   "outputs": [
    {
     "name": "stdout",
     "output_type": "stream",
     "text": [
      "3.8881514072418213\n"
     ]
    }
   ],
   "source": [
    "import time\n",
    "start = time.time()\n",
    "for x in tp:\n",
    "    tps = (1,2,3,4,5)\n",
    "print(time.time() - start)"
   ]
  },
  {
   "cell_type": "code",
   "execution_count": 8,
   "id": "257271dd-1264-49e3-ad38-7b1ce0fa8b60",
   "metadata": {},
   "outputs": [
    {
     "name": "stdout",
     "output_type": "stream",
     "text": [
      "Collecting tqdm\n",
      "  Downloading tqdm-4.67.1-py3-none-any.whl.metadata (57 kB)\n",
      "Requirement already satisfied: colorama in c:\\users\\admin\\appdata\\local\\programs\\python\\python313\\lib\\site-packages (from tqdm) (0.4.6)\n",
      "Downloading tqdm-4.67.1-py3-none-any.whl (78 kB)\n",
      "Installing collected packages: tqdm\n",
      "Successfully installed tqdm-4.67.1\n"
     ]
    }
   ],
   "source": [
    "!pip install tqdm"
   ]
  },
  {
   "cell_type": "code",
   "execution_count": 4,
   "id": "d0f639ab-2249-4ac8-9a58-594ba66cf1c1",
   "metadata": {},
   "outputs": [
    {
     "name": "stderr",
     "output_type": "stream",
     "text": [
      "100%|████████████████████████████████████████████████████████████████████████████████| 100/100 [00:10<00:00,  9.82it/s]\n"
     ]
    }
   ],
   "source": [
    "from tqdm import tqdm\n",
    "import tqdm\n",
    "import time as tt\n",
    "for x in tqdm.tqdm(range(100)):\n",
    "    pass\n",
    "    tt.sleep(0.1)"
   ]
  },
  {
   "cell_type": "code",
   "execution_count": 26,
   "id": "7c8a6c05-7cb6-473b-af19-4e3c064aeb46",
   "metadata": {},
   "outputs": [
    {
     "name": "stdout",
     "output_type": "stream",
     "text": [
      "상승장\n"
     ]
    }
   ],
   "source": [
    "#비트코인시세로 상승장 하강장 구분하기(하루 24시간 기준)\n",
    "import requests as req\n",
    "url=\"https://api.bithumb.com/public/ticker/ALL_KRW\"\n",
    "gdata = req.get(url).json()\n",
    "btc = gdata['data']['BTC']\n",
    "maxp = float(btc['max_price']) #최대가\n",
    "minp = float(btc['min_price']) #최소가\n",
    "openp = float(btc['opening_price']) #시작가\n",
    "bandp = float(maxp) - float(minp) #변화폭\n",
    "if (openp + bandp) > maxp:\n",
    "    print('상승장')\n",
    "else:\n",
    "    print('하강장')"
   ]
  },
  {
   "cell_type": "code",
   "execution_count": 27,
   "id": "1d6c63fb-1578-4b00-815b-1f84f5b365ed",
   "metadata": {},
   "outputs": [
    {
     "name": "stdout",
     "output_type": "stream",
     "text": [
      "149960000\n"
     ]
    }
   ],
   "source": [
    "#1분 캔들 기준\n",
    "import requests as req\n",
    "url = 'https://api.bithumb.com/v1/candles/minutes/1?market=KRW-BTC&count=1'\n",
    "btc_data = req.get(url).json()\n",
    "print(btc_data[0]['trade_price']) #1분 거래가"
   ]
  },
  {
   "cell_type": "code",
   "execution_count": 40,
   "id": "9451c2de-3d5f-4009-892a-dcdc2a26c2b0",
   "metadata": {},
   "outputs": [
    {
     "name": "stdout",
     "output_type": "stream",
     "text": [
      "2 x 1 = 2\n",
      "2 x 2 = 4\n",
      "2 x 3 = 6\n",
      "2 x 4 = 8\n",
      "2 x 5 = 10\n",
      "2 x 6 = 12\n",
      "2 x 7 = 14\n",
      "2 x 8 = 16\n",
      "2 x 9 = 18\n"
     ]
    }
   ],
   "source": [
    "for i in range(1,10):\n",
    "    print(f'{2} x {i} = {2*i}')"
   ]
  },
  {
   "cell_type": "code",
   "execution_count": 69,
   "id": "ba757520-18e2-4d6c-9c05-a913a4be75e3",
   "metadata": {
    "scrolled": true
   },
   "outputs": [
    {
     "name": "stdout",
     "output_type": "stream",
     "text": [
      "2단\n",
      "2 x 1 = 2\n",
      "2 x 2 = 4\n",
      "2 x 3 = 6\n",
      "2 x 4 = 8\n",
      "2 x 5 = 10\n",
      "2 x 6 = 12\n",
      "2 x 7 = 14\n",
      "2 x 8 = 16\n",
      "2 x 9 = 18\n",
      "3단\n",
      "3 x 1 = 3\n",
      "3 x 2 = 6\n",
      "3 x 3 = 9\n",
      "3 x 4 = 12\n",
      "3 x 5 = 15\n",
      "3 x 6 = 18\n",
      "3 x 7 = 21\n",
      "3 x 8 = 24\n",
      "3 x 9 = 27\n",
      "4단\n",
      "4 x 1 = 4\n",
      "4 x 2 = 8\n",
      "4 x 3 = 12\n",
      "4 x 4 = 16\n",
      "4 x 5 = 20\n",
      "4 x 6 = 24\n",
      "4 x 7 = 28\n",
      "4 x 8 = 32\n",
      "4 x 9 = 36\n",
      "5단\n",
      "5 x 1 = 5\n",
      "5 x 2 = 10\n",
      "5 x 3 = 15\n",
      "5 x 4 = 20\n",
      "5 x 5 = 25\n",
      "5 x 6 = 30\n",
      "5 x 7 = 35\n",
      "5 x 8 = 40\n",
      "5 x 9 = 45\n",
      "6단\n",
      "6 x 1 = 6\n",
      "6 x 2 = 12\n",
      "6 x 3 = 18\n",
      "6 x 4 = 24\n",
      "6 x 5 = 30\n",
      "6 x 6 = 36\n",
      "6 x 7 = 42\n",
      "6 x 8 = 48\n",
      "6 x 9 = 54\n",
      "7단\n",
      "7 x 1 = 7\n",
      "7 x 2 = 14\n",
      "7 x 3 = 21\n",
      "7 x 4 = 28\n",
      "7 x 5 = 35\n",
      "7 x 6 = 42\n",
      "7 x 7 = 49\n",
      "7 x 8 = 56\n",
      "7 x 9 = 63\n",
      "8단\n",
      "8 x 1 = 8\n",
      "8 x 2 = 16\n",
      "8 x 3 = 24\n",
      "8 x 4 = 32\n",
      "8 x 5 = 40\n",
      "8 x 6 = 48\n",
      "8 x 7 = 56\n",
      "8 x 8 = 64\n",
      "8 x 9 = 72\n",
      "9단\n",
      "9 x 1 = 9\n",
      "9 x 2 = 18\n",
      "9 x 3 = 27\n",
      "9 x 4 = 36\n",
      "9 x 5 = 45\n",
      "9 x 6 = 54\n",
      "9 x 7 = 63\n",
      "9 x 8 = 72\n",
      "9 x 9 = 81\n"
     ]
    }
   ],
   "source": [
    "for n in range(2,10):\n",
    "    print(f\"{n}단\")\n",
    "    for i in range(1,10):\n",
    "        print(f'{n} x {i} = {n*i}')"
   ]
  },
  {
   "cell_type": "markdown",
   "id": "b6198eb6-7333-43ec-9c08-dc79a13e04d7",
   "metadata": {},
   "source": [
    "### 리스트 컴프리헨션"
   ]
  },
  {
   "cell_type": "code",
   "execution_count": 70,
   "id": "23048ec5-74e7-4849-8092-80de6b8e6c62",
   "metadata": {},
   "outputs": [
    {
     "name": "stdout",
     "output_type": "stream",
     "text": [
      "[3, 6, 9, 12]\n"
     ]
    }
   ],
   "source": [
    "a = [1,2,3,4]\n",
    "result = []\n",
    "for num in a:\n",
    "    result.append(num*3)\n",
    "print(result)"
   ]
  },
  {
   "cell_type": "code",
   "execution_count": 71,
   "id": "5da68c2d-6557-4483-a3d3-d30a0c7dbbf0",
   "metadata": {},
   "outputs": [
    {
     "data": {
      "text/plain": [
       "[3, 6, 9, 12]"
      ]
     },
     "execution_count": 71,
     "metadata": {},
     "output_type": "execute_result"
    }
   ],
   "source": [
    "[num*3 for num in [1,2,3,4]]"
   ]
  },
  {
   "cell_type": "code",
   "execution_count": 72,
   "id": "0c89a6c2-4474-4515-b070-cfd73c7e9353",
   "metadata": {
    "scrolled": true
   },
   "outputs": [
    {
     "data": {
      "text/plain": [
       "[0, 1, 2, 3, 4, 5, 6, 7, 8, 9]"
      ]
     },
     "execution_count": 72,
     "metadata": {},
     "output_type": "execute_result"
    }
   ],
   "source": [
    "#테스트1\n",
    "#list(range(10))\n",
    "[x for x in range(10)]"
   ]
  },
  {
   "cell_type": "code",
   "execution_count": 73,
   "id": "08ca8e84-0f16-4ff8-ad64-677071963654",
   "metadata": {},
   "outputs": [
    {
     "name": "stdout",
     "output_type": "stream",
     "text": [
      "[0, 2, 4, 6, 8]\n"
     ]
    }
   ],
   "source": [
    "res = []\n",
    "for x in range (10):\n",
    "    if x%2==0:\n",
    "        res.append(x)\n",
    "print(res)"
   ]
  },
  {
   "cell_type": "code",
   "execution_count": 74,
   "id": "cf35b431-3de2-4c63-a8ff-a8c0a897df9a",
   "metadata": {},
   "outputs": [
    {
     "data": {
      "text/plain": [
       "[0, 6, 12, 18, 24]"
      ]
     },
     "execution_count": 74,
     "metadata": {},
     "output_type": "execute_result"
    }
   ],
   "source": [
    "[x*3 for x in range(10) if x%2==0]"
   ]
  },
  {
   "cell_type": "code",
   "execution_count": 75,
   "id": "f1e75720-8853-4582-bd24-685b786833d3",
   "metadata": {},
   "outputs": [
    {
     "name": "stdout",
     "output_type": "stream",
     "text": [
      "[2, 4, 6, 8, 10, 12, 14, 16, 18, 3, 6, 9, 12, 15, 18, 21, 24, 27, 4, 8, 12, 16, 20, 24, 28, 32, 36, 5, 10, 15, 20, 25, 30, 35, 40, 45, 6, 12, 18, 24, 30, 36, 42, 48, 54, 7, 14, 21, 28, 35, 42, 49, 56, 63, 8, 16, 24, 32, 40, 48, 56, 64, 72, 9, 18, 27, 36, 45, 54, 63, 72, 81]\n"
     ]
    }
   ],
   "source": [
    "result = [i*j for i in range (2,10) for j in range(1,10)]\n",
    "print(result)"
   ]
  },
  {
   "cell_type": "code",
   "execution_count": null,
   "id": "e11d0123-d2a6-43a2-93c8-6b3600bee813",
   "metadata": {},
   "outputs": [],
   "source": [
    "for j in range (2,10):\n",
    "        print()"
   ]
  },
  {
   "cell_type": "code",
   "execution_count": 76,
   "id": "f5a94183-76d7-4331-9ceb-7868a08b4558",
   "metadata": {},
   "outputs": [
    {
     "name": "stdout",
     "output_type": "stream",
     "text": [
      "[414, 313, 77, 66, 55, 22, 11] 큰수: 414\n",
      "[414, 313, 77, 66, 55, 22, 11] 큰수: 414\n"
     ]
    }
   ],
   "source": [
    "a = [11,22,313,414,55,66,77]\n",
    "a.sort(reverse=True)\n",
    "print(a, '큰수:',a[0])\n",
    "#방법2\n",
    "print(a,'큰수:',max(a))\n",
    "#print(max(a))"
   ]
  },
  {
   "cell_type": "code",
   "execution_count": 82,
   "id": "5bfb5243-69d9-44ed-901a-b5af48fd673c",
   "metadata": {
    "scrolled": true
   },
   "outputs": [
    {
     "name": "stdout",
     "output_type": "stream",
     "text": [
      "1\n",
      "2\n",
      "3\n",
      "4\n",
      "5\n",
      "6\n",
      "7\n",
      "8\n",
      "9\n",
      "10\n",
      "11\n",
      "12\n",
      "13\n",
      "14\n",
      "15\n",
      "16\n",
      "17\n",
      "18\n",
      "19\n",
      "20\n",
      "21\n",
      "22\n",
      "23\n",
      "24\n",
      "25\n",
      "26\n",
      "27\n",
      "28\n",
      "29\n",
      "30\n",
      "31\n",
      "32\n",
      "33\n",
      "34\n",
      "35\n",
      "36\n",
      "37\n",
      "38\n",
      "39\n",
      "40\n",
      "41\n",
      "42\n",
      "43\n",
      "44\n",
      "45\n"
     ]
    }
   ],
   "source": [
    "for n in range (1,46):\n",
    "    "
   ]
  },
  {
   "cell_type": "code",
   "execution_count": 5,
   "id": "6cee21cc-e5d5-47d7-a4e5-1487bd4919bd",
   "metadata": {},
   "outputs": [
    {
     "name": "stdout",
     "output_type": "stream",
     "text": [
      "생성된 로또 번호:  [12, 24, 30, 34, 39, 45]\n",
      "100000\n",
      "2104번 (2.10%) 나왔습니다.\n",
      "2176번 (2.18%) 나왔습니다.\n",
      "2191번 (2.19%) 나왔습니다.\n",
      "2099번 (2.10%) 나왔습니다.\n",
      "2208번 (2.21%) 나왔습니다.\n",
      "2100번 (2.10%) 나왔습니다.\n"
     ]
    }
   ],
   "source": [
    "import random as r\n",
    "\n",
    "def lotto_numbers():\n",
    "    numbers = r.sample(range(1, 46), 6)\n",
    "    numbers.sort(reverse=False)\n",
    "    return numbers\n",
    "\n",
    "numbers = lotto_numbers()\n",
    "print(\"생성된 로또 번호: \", numbers)\n",
    "\n",
    "numbers = []\n",
    "num = 0\n",
    "while num < 100000:\n",
    "    num = num + 1\n",
    "    ran = r. randint(1,46)\n",
    "    numbers.append(ran)\n",
    "print(len(numbers))\n",
    "\n",
    "print(f\"{numbers.count(1)}번 ({(numbers.count(1))/num*100:.2f}%) 나왔습니다.\")\n",
    "print(f\"{numbers.count(2)}번 ({(numbers.count(2))/num*100:.2f}%) 나왔습니다.\")\n",
    "print(f\"{numbers.count(3)}번 ({(numbers.count(3))/num*100:.2f}%) 나왔습니다.\")\n",
    "print(f\"{numbers.count(4)}번 ({(numbers.count(4))/num*100:.2f}%) 나왔습니다.\")\n",
    "print(f\"{numbers.count(5)}번 ({(numbers.count(5))/num*100:.2f}%) 나왔습니다.\")\n",
    "print(f\"{numbers.count(6)}번 ({(numbers.count(6))/num*100:.2f}%) 나왔습니다.\")"
   ]
  },
  {
   "cell_type": "code",
   "execution_count": 6,
   "id": "e6630c9a-828a-4227-aa37-a4b429d2a94b",
   "metadata": {},
   "outputs": [
    {
     "name": "stdout",
     "output_type": "stream",
     "text": [
      "44\n"
     ]
    }
   ],
   "source": [
    "import random\n",
    "random.randint(1,46)\n",
    "print(ran)"
   ]
  },
  {
   "cell_type": "code",
   "execution_count": 18,
   "id": "0e9984e7-7bf9-470e-923a-b5e217809b31",
   "metadata": {},
   "outputs": [
    {
     "name": "stdout",
     "output_type": "stream",
     "text": [
      "[4, 6, 19, 21, 32, 37, 41] 7\n"
     ]
    }
   ],
   "source": [
    "import random\n",
    "box = []\n",
    "while len(box) < 7:\n",
    "    ran=random.randint(1,46)\n",
    "    if not ran in box:\n",
    "        box.append(ran)\n",
    "        box.sort()\n",
    "print(box,len(box))"
   ]
  },
  {
   "cell_type": "code",
   "execution_count": 43,
   "id": "eef2d1ed-e74b-4f3c-9357-2be0c635e83c",
   "metadata": {},
   "outputs": [
    {
     "name": "stdout",
     "output_type": "stream",
     "text": [
      "숫자1: 출현한 횟수는 8회 입니다.\n",
      "숫자2: 출현한 횟수는 12회 입니다.\n",
      "숫자3: 출현한 횟수는 9회 입니다.\n",
      "숫자4: 출현한 횟수는 20회 입니다.\n",
      "숫자5: 출현한 횟수는 18회 입니다.\n",
      "숫자6: 출현한 횟수는 10회 입니다.\n",
      "숫자7: 출현한 횟수는 20회 입니다.\n",
      "숫자8: 출현한 횟수는 16회 입니다.\n",
      "숫자9: 출현한 횟수는 15회 입니다.\n",
      "숫자10: 출현한 횟수는 15회 입니다.\n",
      "숫자11: 출현한 횟수는 13회 입니다.\n",
      "숫자12: 출현한 횟수는 13회 입니다.\n",
      "숫자13: 출현한 횟수는 12회 입니다.\n",
      "숫자14: 출현한 횟수는 13회 입니다.\n",
      "숫자15: 출현한 횟수는 13회 입니다.\n",
      "숫자16: 출현한 횟수는 18회 입니다.\n",
      "숫자17: 출현한 횟수는 20회 입니다.\n",
      "숫자18: 출현한 횟수는 10회 입니다.\n",
      "숫자19: 출현한 횟수는 14회 입니다.\n",
      "숫자20: 출현한 횟수는 17회 입니다.\n",
      "숫자21: 출현한 횟수는 14회 입니다.\n",
      "숫자22: 출현한 횟수는 11회 입니다.\n",
      "숫자23: 출현한 횟수는 16회 입니다.\n",
      "숫자24: 출현한 횟수는 8회 입니다.\n",
      "숫자25: 출현한 횟수는 18회 입니다.\n",
      "숫자26: 출현한 횟수는 9회 입니다.\n",
      "숫자27: 출현한 횟수는 12회 입니다.\n",
      "숫자28: 출현한 횟수는 12회 입니다.\n",
      "숫자29: 출현한 횟수는 14회 입니다.\n",
      "숫자30: 출현한 횟수는 15회 입니다.\n",
      "숫자31: 출현한 횟수는 15회 입니다.\n",
      "숫자32: 출현한 횟수는 16회 입니다.\n",
      "숫자33: 출현한 횟수는 13회 입니다.\n",
      "숫자34: 출현한 횟수는 10회 입니다.\n",
      "숫자35: 출현한 횟수는 9회 입니다.\n",
      "숫자36: 출현한 횟수는 12회 입니다.\n",
      "숫자37: 출현한 횟수는 9회 입니다.\n",
      "숫자38: 출현한 횟수는 16회 입니다.\n",
      "숫자39: 출현한 횟수는 9회 입니다.\n",
      "숫자40: 출현한 횟수는 12회 입니다.\n",
      "숫자41: 출현한 횟수는 16회 입니다.\n",
      "숫자42: 출현한 횟수는 10회 입니다.\n",
      "숫자43: 출현한 횟수는 17회 입니다.\n",
      "숫자44: 출현한 횟수는 7회 입니다.\n",
      "숫자45: 출현한 횟수는 14회 입니다.\n",
      "출현 횟숫100에 대한 검증이 이상 없습니다.\n"
     ]
    }
   ],
   "source": [
    "#참고용1\n",
    "\n",
    "ls = []\n",
    "la = []\n",
    "how = 100\n",
    "for h in range(how):\n",
    "    lotto = sorted(random.sample(range(1,46),6))\n",
    "    la.append(lotto)\n",
    "    ls = ls + lotto\n",
    "# print(la, type(la))\n",
    "ss=[]\n",
    "for n in range(1,46):\n",
    "    ss.append(ls.count(n))\n",
    "    print(f'숫자{n}: 출현한 횟수는 {ls.count(n)}회 입니다.')\n",
    "if sum(ss)== (how*6):\n",
    "    print(f\"출현 횟숫{how}에 대한 검증이 이상 없습니다.\")"
   ]
  },
  {
   "cell_type": "code",
   "execution_count": 47,
   "id": "06cca454-2101-4c39-963e-679bffbe9ded",
   "metadata": {},
   "outputs": [
    {
     "name": "stdout",
     "output_type": "stream",
     "text": [
      "{'num1': 11, 'num2': 13, 'num3': 12, 'num4': 13, 'num5': 8, 'num6': 16, 'num7': 14, 'num8': 15, 'num9': 12, 'num10': 12, 'num11': 14, 'num12': 16, 'num13': 8, 'num14': 14, 'num15': 16, 'num16': 15, 'num17': 13, 'num18': 15, 'num19': 10, 'num20': 16, 'num21': 15, 'num22': 10, 'num23': 11, 'num24': 12, 'num25': 20, 'num26': 10, 'num27': 19, 'num28': 14, 'num29': 15, 'num30': 21, 'num31': 25, 'num32': 17, 'num33': 7, 'num34': 13, 'num35': 17, 'num36': 10, 'num37': 12, 'num38': 8, 'num39': 11, 'num40': 18, 'num41': 12, 'num42': 10, 'num43': 9, 'num44': 8, 'num45': 13}\n",
      "600\n"
     ]
    }
   ],
   "source": [
    "#참고용 2\n",
    "\n",
    "ls = []\n",
    "la = []\n",
    "how = 100\n",
    "for h in range(how):\n",
    "    lotto = sorted(random.sample(range(1,46),6))\n",
    "    la.append(lotto)\n",
    "    ls = ls + lotto\n",
    "# print(la, type(la))\n",
    "dic={}\n",
    "for n in range(1,46):\n",
    "   dic[f\"num{n}\"] = ls.count(n)\n",
    "    # print(f'숫자{n}: 출현한 횟수는 {ls.count(n)}회 입니다.')\n",
    "print(dic)\n",
    "print(sum(dic.values()))"
   ]
  },
  {
   "cell_type": "code",
   "execution_count": null,
   "id": "fe173443-5fb5-4ba6-8016-229334e41322",
   "metadata": {},
   "outputs": [],
   "source": [
    "import random\n",
    "def 로또(파라미터=6, 매개변수=46):\n",
    "    box = []\n",
    "    while len(box) < 파라미터:\n",
    "        ran=random.randint(1,매개변수)\n",
    "    if not ran in box:\n",
    "        box.append(ran)\n",
    "    box.sort()\n",
    "    print(box,len(box))\n",
    "로또()"
   ]
  },
  {
   "cell_type": "code",
   "execution_count": null,
   "id": "cea8328c-5409-45ff-ad3c-8b372db411f4",
   "metadata": {},
   "outputs": [],
   "source": [
    "#참고용 3\n",
    "for n in range(5):\n",
    "    로또"
   ]
  },
  {
   "cell_type": "code",
   "execution_count": 60,
   "id": "4a6849ff-3306-4ea1-b393-3713567ee0e8",
   "metadata": {},
   "outputs": [
    {
     "name": "stdout",
     "output_type": "stream",
     "text": [
      "배열1: [11, 22, 33]\n",
      "가장 큰 수는: 33\n"
     ]
    }
   ],
   "source": [
    "n = [33, 11, 22]\n",
    "\n",
    "if n[0] > n[1]:\n",
    "    n[0], n[1] = n[1], n[0]\n",
    "\n",
    "if n[1] > n[2]:\n",
    "    n[1], n[2] =n[2], n[1]\n",
    "\n",
    "print(\"배열1:\", n)\n",
    "\n",
    "if n[2]>n[0]>n[1]:\n",
    "    print(\"가장 큰 수는:\", n[2])\n",
    "if n[2]>n[1]>n[0]:\n",
    "    print(\"가장 큰 수는:\", n[2])\n",
    "if n[1]>n[0]>n[2]:\n",
    "    print(\"가장 큰 수는:\", n[1])\n",
    "if n[1]>n[2]>n[0]:\n",
    "    print(\"가장 큰 수는:\", n[1])\n",
    "if n[0]>n[1]>n[2]:\n",
    "    print(\"가장 큰 수는:\", n[0])\n",
    "if n[0]>n[2]>n[1]:\n",
    "    print(\"가장 큰 수는:\", n[0])\n"
   ]
  },
  {
   "cell_type": "code",
   "execution_count": 146,
   "id": "025a160a-14b9-48a5-b29b-cde3142f4144",
   "metadata": {},
   "outputs": [
    {
     "name": "stdout",
     "output_type": "stream",
     "text": [
      "=======================\n",
      "        영수증         \n",
      "=======================\n",
      "입력(투입)금액: 5000원\n",
      "\n",
      "선택(구매)금액: 1330원\n",
      "\n",
      "결과(잔돈)금액: 3670원\n",
      "=======================\n",
      "1000원 3 장\n",
      "500원 1 개\n",
      "100원 1 개\n",
      "50원 1 개\n",
      "10원 2 개\n",
      "=======================\n"
     ]
    }
   ],
   "source": [
    "#잔돈 계산 프로그램\n",
    "A= 5000\n",
    "B= 1330\n",
    "C= A-B\n",
    "\n",
    "mA='입력(투입)금액: '+str(A)+\"원\\n\"\n",
    "mB='선택(구매)금액: '+str(B)+\"원\\n\"\n",
    "mC='결과(잔돈)금액: '+str(C)+\"원\\n\"\n",
    "\n",
    "print(\"=\"*23)\n",
    "print(f'{\"영수증\":^20}')\n",
    "print(\"=\"*23)\n",
    "\n",
    "print(mA)\n",
    "print(mB)\n",
    "print(mC,end='')\n",
    "print(\"=\"*23)\n",
    "\n",
    "if int(C)//1000 < 1000:\n",
    "    print('1000원',(int(C)//1000),'장')\n",
    "\n",
    "D = C-((int(C)//1000)*1000)\n",
    "if int(D)//500 < 500:\n",
    "    print('500원',(int(D)//500),'개')\n",
    "\n",
    "E = D-((int(D)//500)*500)\n",
    "if int(E)//100 < 100:\n",
    "    print('100원',(int(E)//100),'개')\n",
    "    \n",
    "F = E-((int(E)//100)*100)\n",
    "if int(F)//50 < 50:\n",
    "    print('50원',(int(F)//50),'개')\n",
    "    \n",
    "F = E-((int(E)//50)*50)\n",
    "if int(F)//10 < 10:\n",
    "    print('10원',(int(F)//10),'개')\n",
    "\n",
    "print(\"=\"*23)"
   ]
  }
 ],
 "metadata": {
  "kernelspec": {
   "display_name": "Python 3 (ipykernel)",
   "language": "python",
   "name": "python3"
  },
  "language_info": {
   "codemirror_mode": {
    "name": "ipython",
    "version": 3
   },
   "file_extension": ".py",
   "mimetype": "text/x-python",
   "name": "python",
   "nbconvert_exporter": "python",
   "pygments_lexer": "ipython3",
   "version": "3.13.1"
  }
 },
 "nbformat": 4,
 "nbformat_minor": 5
}
