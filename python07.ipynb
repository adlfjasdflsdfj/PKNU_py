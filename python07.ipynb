{
 "cells": [
  {
   "cell_type": "markdown",
   "id": "6a725e68-ee09-4b56-936f-cae824dd0f73",
   "metadata": {},
   "source": [
    "# 내장함수"
   ]
  },
  {
   "cell_type": "code",
   "execution_count": 1,
   "id": "47ce634e-2c83-42db-a4c7-fadc54f5d274",
   "metadata": {},
   "outputs": [
    {
     "name": "stdout",
     "output_type": "stream",
     "text": [
      "3\n",
      "1.2\n"
     ]
    }
   ],
   "source": [
    "#abs *\n",
    "print(abs(-3))\n",
    "print(abs(-1.2))"
   ]
  },
  {
   "cell_type": "code",
   "execution_count": 5,
   "id": "73b48249-3765-4c79-9545-f34a3cbbfd48",
   "metadata": {},
   "outputs": [
    {
     "data": {
      "text/plain": [
       "True"
      ]
     },
     "execution_count": 5,
     "metadata": {},
     "output_type": "execute_result"
    }
   ],
   "source": [
    "#all *\n",
    "all([1,2,3])\n",
    "all([11,22,0,44,55])\n",
    "all([]) # 특이사항"
   ]
  },
  {
   "cell_type": "code",
   "execution_count": 9,
   "id": "d3d7fcb4-be5d-4b7d-b01a-1c3e89627ee3",
   "metadata": {},
   "outputs": [
    {
     "name": "stdout",
     "output_type": "stream",
     "text": [
      "True\n",
      "False\n",
      "False\n"
     ]
    }
   ],
   "source": [
    "# any *\n",
    "print(any([1,2,3,0]))\n",
    "print(any([0,\"\",[],False]))\n",
    "print(any([]))"
   ]
  },
  {
   "cell_type": "code",
   "execution_count": 15,
   "id": "74b85a91-e9a6-41f8-bb60-1e1838a4b1f7",
   "metadata": {},
   "outputs": [
    {
     "name": "stdout",
     "output_type": "stream",
     "text": [
      "A\n",
      "가\n",
      "65\n",
      "44032\n"
     ]
    }
   ],
   "source": [
    "# 아스키코드(ASCII) 정의: 7비트(128개 문자)로 이루어진 문\n",
    "print(chr(65))\n",
    "print(chr(44032))\n",
    "# 유니코드 - UTF -8(인코딩방식)\n",
    "print(ord('A'))\n",
    "print(ord('가'))"
   ]
  },
  {
   "cell_type": "code",
   "execution_count": 62,
   "id": "454f1de4-d463-4d90-8626-288edba96513",
   "metadata": {
    "scrolled": true
   },
   "outputs": [
    {
     "name": "stdout",
     "output_type": "stream",
     "text": [
      "A B C D E F G H I J K L M N O P Q R S T U V W X Y Z z y x w v u t s r q p o n m l k j i h g f e d c b a ` _ ^ ] A1\n",
      "A2\n",
      "A3\n",
      "A4\n",
      "A5\n",
      "A6\n",
      "A7\n",
      "A8\n",
      "A9\n",
      "A10\n",
      "B1\n",
      "B2\n",
      "B3\n",
      "B4\n",
      "B5\n",
      "B6\n",
      "B7\n",
      "B8\n",
      "B9\n",
      "B10\n",
      "C1\n",
      "C2\n",
      "C3\n",
      "C4\n",
      "C5\n",
      "C6\n",
      "C7\n",
      "C8\n",
      "C9\n",
      "C10\n"
     ]
    }
   ],
   "source": [
    "#아스키코드표를 보고 A부터 Z까지 차례로 모두 출력하라. \n",
    "for i in range(65,91):\n",
    "    print(chr(i),end=' ')\n",
    "\n",
    "#소문자 z부터 a까지 역순으로 모두 차례로 출력하라. \n",
    "for k in range (122,92,-1):\n",
    "    print(chr(k),end=' ')\n",
    "\n",
    "#A1부터 A10까지 증가 후 B1부터 B10까지 증가 그리고 C1부터 C10까지 증가하게 하라. \n",
    "for letter in range(65,68):\n",
    "    for number in range (1,11):\n",
    "        print(f\"{chr(letter)}{number}\")"
   ]
  },
  {
   "cell_type": "code",
   "execution_count": null,
   "id": "93b4f5be-9662-450a-a6b7-70951530129d",
   "metadata": {},
   "outputs": [],
   "source": [
    "for letter in range(65, 68):  # 'A'부터 'C'까지의 ASCII 코드\n",
    "    for number in range(1, 11):  # 1부터 10까지\n",
    "        print(f\"{chr(letter)}{number}\")\n"
   ]
  },
  {
   "cell_type": "code",
   "execution_count": 9,
   "id": "d0509363-976a-4eca-8d61-8f9b89332de2",
   "metadata": {},
   "outputs": [
    {
     "name": "stdin",
     "output_type": "stream",
     "text": [
      "당신의 기분을 한 문장으로 표현해주세요:  좋아 나빠 나빠 좋아\n"
     ]
    },
    {
     "name": "stdout",
     "output_type": "stream",
     "text": [
      "0\n"
     ]
    }
   ],
   "source": [
    "positive_words = [\"좋아\", \"행복\", \"멋져\", \"최고\", \"사랑해\"]\n",
    "negative_words = [\"싫어\", \"화나\", \"짜증\", \"별로\", \"나빠\"]\n",
    "text = input(\"당신의 기분을 한 문장으로 표현해주세요: \")\n",
    "\n",
    "#간단 1\n",
    "# for v in positive_words:\n",
    "#     if v in text:\n",
    "#         print(\"기분이 좋아보이네요.\")\n",
    "# for n in negative_words:\n",
    "#     if n in text:\n",
    "#         print(\"기분이 나빠보이네요.\")\n",
    "\n",
    "#해설 2\n",
    "# if any(word in text for word in positive_words):\n",
    "#     print(\"기분이 좋아보이네요\")\n",
    "# elif any (word in text for word in negative_words):\n",
    "#     print(\"기분이 나빠보이네요\")\n",
    "# else:\n",
    "#     print(\"보통이시네요.\")\n",
    "\n",
    "#해설 3\n",
    "# pos = [v for v in positive_words if v in text]\n",
    "# print(pos,len(pos))\n",
    "# neg = [n for n in negative_words if n in text]\n",
    "# print(neg,len(neg))\n",
    "# if len(pos)>len(neg):\n",
    "# # abs(len(pos)) - len (neg) > 0 값의 차이, 크기, 변화폭\n",
    "#     print(\"기분이 좋아보이네요\")\n",
    "# elif len(pos) < len(neg):\n",
    "#     print(\"기분이 나빠보이네요\")\n",
    "# else:\n",
    "#     print(\"보통이시네요.\")\n",
    "\n",
    "#해설 4\n",
    "pnum = 0\n",
    "text= text.split(\"  \")\n",
    "for v in positive_words:\n",
    "    for s in text:\n",
    "        if v == s:\n",
    "            pnum += 1\n",
    "            print(pnum)\n",
    "for x in negative_words:\n",
    "    for y in text:\n",
    "        if x == y:\n",
    "            pnum -= 1\n",
    "            print(pnum)\n",
    "print(pnum)"
   ]
  },
  {
   "cell_type": "code",
   "execution_count": 5,
   "id": "0f6f6581-36ed-428c-a8ae-f40e01a42300",
   "metadata": {
    "scrolled": true
   },
   "outputs": [
    {
     "name": "stdout",
     "output_type": "stream",
     "text": [
      "Requirement already satisfied: konlpy in c:\\users\\admin\\appdata\\local\\programs\\python\\python313\\lib\\site-packages (0.6.0)\n",
      "Requirement already satisfied: JPype1>=0.7.0 in c:\\users\\admin\\appdata\\local\\programs\\python\\python313\\lib\\site-packages (from konlpy) (1.5.2)\n",
      "Requirement already satisfied: lxml>=4.1.0 in c:\\users\\admin\\appdata\\local\\programs\\python\\python313\\lib\\site-packages (from konlpy) (5.3.1)\n",
      "Requirement already satisfied: numpy>=1.6 in c:\\users\\admin\\appdata\\local\\programs\\python\\python313\\lib\\site-packages (from konlpy) (2.2.2)\n",
      "Requirement already satisfied: packaging in c:\\users\\admin\\appdata\\local\\programs\\python\\python313\\lib\\site-packages (from JPype1>=0.7.0->konlpy) (24.2)\n"
     ]
    }
   ],
   "source": [
    "# !pip install konlpy"
   ]
  },
  {
   "cell_type": "code",
   "execution_count": 8,
   "id": "ec5f1848-61af-4fd4-a627-6de9fb8f9bb3",
   "metadata": {},
   "outputs": [
    {
     "name": "stdin",
     "output_type": "stream",
     "text": [
      "당신의 기분을 한 문장으로 표현해주세요:  좋아서 멋지고 그래서 사랑해\n"
     ]
    },
    {
     "name": "stdout",
     "output_type": "stream",
     "text": [
      "['좋다', '멋지다', '그래서', '사랑', '하다']\n"
     ]
    }
   ],
   "source": [
    "from konlpy.tag import Okt\n",
    "\n",
    "#한글 형태소 분석기\n",
    "okt = Okt()\n",
    "\n",
    "positive_words = [\"좋다\", \"행복\", \"멋지다\", \"최고\", \"사랑\"]\n",
    "negative_words = [\"싫다\", \"화나다\", \"짜증\", \"별로\", \"나쁘다\"]\n",
    "text = input(\"당신의 기분을 한 문장으로 표현해주세요: \")\n",
    "\n",
    "words = okt.morphs(text, stem=True)\n",
    "print(words)"
   ]
  },
  {
   "cell_type": "code",
   "execution_count": 4,
   "id": "4a9b066f-72a6-4b2b-90c3-fcb607dd772a",
   "metadata": {},
   "outputs": [
    {
     "name": "stderr",
     "output_type": "stream",
     "text": [
      "java version \"1.8.0_441\"\n",
      "Java(TM) SE Runtime Environment (build 1.8.0_441-b07)\n",
      "Java HotSpot(TM) Client VM (build 25.441-b07, mixed mode, sharing)\n"
     ]
    }
   ],
   "source": [
    "!java -version"
   ]
  },
  {
   "cell_type": "code",
   "execution_count": 1,
   "id": "4ffe7109-6bb6-4250-bc76-d2ebbbe1fa15",
   "metadata": {},
   "outputs": [],
   "source": [
    "#dir 객체가 가지고 있는 함수(메서드)를 보여줌 *\n",
    "#dir([1,2,3])\n",
    "#dir({'1':'a'})"
   ]
  },
  {
   "cell_type": "code",
   "execution_count": 2,
   "id": "6a41ea0e-164a-43b4-bd7f-d2afa348ac4c",
   "metadata": {},
   "outputs": [
    {
     "name": "stdout",
     "output_type": "stream",
     "text": [
      "(4, 1)\n",
      "4 1\n"
     ]
    }
   ],
   "source": [
    "#divmod 몫과 나머지\n",
    "print(divmod(13,3))\n",
    "print(13//3,13%3)"
   ]
  },
  {
   "cell_type": "code",
   "execution_count": 5,
   "id": "8c4d0a44-cfac-42f8-ad56-78389c4cf182",
   "metadata": {},
   "outputs": [
    {
     "name": "stdout",
     "output_type": "stream",
     "text": [
      "0 apple\n",
      "1 banana\n",
      "2 kiwi\n",
      "3 cherry\n",
      "4 mango\n"
     ]
    }
   ],
   "source": [
    "#enumerate * 열거하다.\n",
    "fruit = ['apple', 'banana', 'kiwi', 'cherry', 'mango']\n",
    "for i,f in enumerate (fruit):\n",
    "    print(i,f)"
   ]
  },
  {
   "cell_type": "code",
   "execution_count": 6,
   "id": "5da7c340-1f3b-4082-8433-fcf01611b30d",
   "metadata": {},
   "outputs": [
    {
     "name": "stdout",
     "output_type": "stream",
     "text": [
      "1 순위 과일은: apple\n",
      "2 순위 과일은: banana\n",
      "3 순위 과일은: kiwi\n",
      "4 순위 과일은: cherry\n",
      "5 순위 과일은: mango\n"
     ]
    }
   ],
   "source": [
    "#enumerate ** 열거하다.\n",
    "fruit = ['apple', 'banana', 'kiwi', 'cherry', 'mango']\n",
    "for i,f in enumerate (fruit, start = 1):\n",
    "    print(i,'순위 과일은:',f)"
   ]
  },
  {
   "cell_type": "code",
   "execution_count": 7,
   "id": "3eca3997-6437-438b-95ff-eac74a9d9fb1",
   "metadata": {},
   "outputs": [
    {
     "data": {
      "text/plain": [
       "3"
      ]
     },
     "execution_count": 7,
     "metadata": {},
     "output_type": "execute_result"
    }
   ],
   "source": [
    "eval('1+2')"
   ]
  },
  {
   "cell_type": "code",
   "execution_count": 8,
   "id": "8262e0f2-15c3-4755-afb4-0ae1f6805d41",
   "metadata": {},
   "outputs": [
    {
     "data": {
      "text/plain": [
       "'A1'"
      ]
     },
     "execution_count": 8,
     "metadata": {},
     "output_type": "execute_result"
    }
   ],
   "source": [
    "eval(\"'A'+'1'\")"
   ]
  },
  {
   "cell_type": "code",
   "execution_count": 33,
   "id": "bf2aec4c-6ce1-4d7c-9286-5f9244af15db",
   "metadata": {},
   "outputs": [
    {
     "name": "stdout",
     "output_type": "stream",
     "text": [
      "[1, 2, 6]\n"
     ]
    }
   ],
   "source": [
    "#filter (함수,이터러블)\n",
    "def positive(l):\n",
    "    result = []\n",
    "    for i in l :\n",
    "        if i > 0:\n",
    "            result.append(i)\n",
    "    return result\n",
    "\n",
    "print(positive([1, -3, 2, 0, -5, 6]))"
   ]
  },
  {
   "cell_type": "code",
   "execution_count": 34,
   "id": "91ce0a7d-8ef3-4da6-98c8-ba848da34969",
   "metadata": {},
   "outputs": [
    {
     "name": "stdout",
     "output_type": "stream",
     "text": [
      "[1, 2, 6]\n"
     ]
    }
   ],
   "source": [
    "def positive(x):\n",
    "    return x > 0\n",
    "\n",
    "print(list(filter(positive, [1,-3,2,0,-5,6])))"
   ]
  },
  {
   "cell_type": "code",
   "execution_count": 35,
   "id": "22c8de7d-cc2a-4816-a1ad-f372794885ad",
   "metadata": {},
   "outputs": [],
   "source": [
    "def pos(l):\n",
    "    return [i for i in l if i >0]\n",
    "    print(pos([1,-3,2,0,-5,6]))"
   ]
  },
  {
   "cell_type": "code",
   "execution_count": 36,
   "id": "8ee377f5-f4b2-451a-965d-4662662d92df",
   "metadata": {},
   "outputs": [
    {
     "ename": "TypeError",
     "evalue": "'int' object is not iterable",
     "output_type": "error",
     "traceback": [
      "\u001b[1;31m---------------------------------------------------------------------------\u001b[0m",
      "\u001b[1;31mTypeError\u001b[0m                                 Traceback (most recent call last)",
      "Cell \u001b[1;32mIn[36], line 4\u001b[0m\n\u001b[0;32m      2\u001b[0m \u001b[38;5;28;01mdef\u001b[39;00m\u001b[38;5;250m \u001b[39m\u001b[38;5;21mpositive\u001b[39m(x):\n\u001b[0;32m      3\u001b[0m     \u001b[38;5;28;01mreturn\u001b[39;00m x \u001b[38;5;241m>\u001b[39m \u001b[38;5;241m0\u001b[39m\n\u001b[1;32m----> 4\u001b[0m \u001b[38;5;28mprint\u001b[39m(\u001b[38;5;28mlist\u001b[39m(\u001b[38;5;28;43mfilter\u001b[39;49m\u001b[43m(\u001b[49m\u001b[43mpositive\u001b[49m\u001b[43m,\u001b[49m\u001b[38;5;241;43m1\u001b[39;49m\u001b[43m)\u001b[49m))\n",
      "\u001b[1;31mTypeError\u001b[0m: 'int' object is not iterable"
     ]
    }
   ],
   "source": [
    "l = [1,-3,2,0,-5,6]\n",
    "def positive(x):\n",
    "    return x > 0\n",
    "print(list(filter(positive,1)))"
   ]
  },
  {
   "cell_type": "code",
   "execution_count": 37,
   "id": "280aba60-e085-4e70-9635-3e186d5f2b5b",
   "metadata": {},
   "outputs": [
    {
     "ename": "TypeError",
     "evalue": "'int' object is not iterable",
     "output_type": "error",
     "traceback": [
      "\u001b[1;31m---------------------------------------------------------------------------\u001b[0m",
      "\u001b[1;31mTypeError\u001b[0m                                 Traceback (most recent call last)",
      "Cell \u001b[1;32mIn[37], line 1\u001b[0m\n\u001b[1;32m----> 1\u001b[0m \u001b[38;5;28mprint\u001b[39m(\u001b[38;5;28mlist\u001b[39m(\u001b[38;5;28;43mfilter\u001b[39;49m\u001b[43m(\u001b[49m\u001b[38;5;28;43;01mlambda\u001b[39;49;00m\u001b[43m \u001b[49m\u001b[43mx\u001b[49m\u001b[43m \u001b[49m\u001b[43m:\u001b[49m\u001b[43m \u001b[49m\u001b[43mx\u001b[49m\u001b[43m \u001b[49m\u001b[38;5;241;43m>\u001b[39;49m\u001b[43m \u001b[49m\u001b[38;5;241;43m0\u001b[39;49m\u001b[43m \u001b[49m\u001b[43m,\u001b[49m\u001b[38;5;241;43m1\u001b[39;49m\u001b[43m)\u001b[49m))\n",
      "\u001b[1;31mTypeError\u001b[0m: 'int' object is not iterable"
     ]
    }
   ],
   "source": [
    "print(list(filter(lambda x : x > 0 ,1)))"
   ]
  },
  {
   "cell_type": "code",
   "execution_count": 38,
   "id": "1fe2a7c8-4572-4e9c-bdfb-d4defa3f8031",
   "metadata": {},
   "outputs": [
    {
     "ename": "TypeError",
     "evalue": "'int' object is not iterable",
     "output_type": "error",
     "traceback": [
      "\u001b[1;31m---------------------------------------------------------------------------\u001b[0m",
      "\u001b[1;31mTypeError\u001b[0m                                 Traceback (most recent call last)",
      "Cell \u001b[1;32mIn[38], line 1\u001b[0m\n\u001b[1;32m----> 1\u001b[0m \u001b[38;5;28;01mfor\u001b[39;00m n \u001b[38;5;129;01min\u001b[39;00m \u001b[38;5;28;43mfilter\u001b[39;49m\u001b[43m(\u001b[49m\u001b[38;5;28;43;01mlambda\u001b[39;49;00m\u001b[43m \u001b[49m\u001b[43mx\u001b[49m\u001b[43m \u001b[49m\u001b[43m:\u001b[49m\u001b[43m \u001b[49m\u001b[43mx\u001b[49m\u001b[43m \u001b[49m\u001b[38;5;241;43m>\u001b[39;49m\u001b[43m \u001b[49m\u001b[38;5;241;43m0\u001b[39;49m\u001b[43m,\u001b[49m\u001b[43m \u001b[49m\u001b[38;5;241;43m1\u001b[39;49m\u001b[43m)\u001b[49m: \u001b[38;5;66;03m#range(4)\u001b[39;00m\n\u001b[0;32m      2\u001b[0m     \u001b[38;5;28mprint\u001b[39m(n)\n",
      "\u001b[1;31mTypeError\u001b[0m: 'int' object is not iterable"
     ]
    }
   ],
   "source": [
    "for n in filter(lambda x : x > 0, 1): #range(4)\n",
    "    print(n)"
   ]
  },
  {
   "cell_type": "code",
   "execution_count": 39,
   "id": "670b81fa-9328-41d8-81bd-ac74b099f3c6",
   "metadata": {},
   "outputs": [
    {
     "name": "stdout",
     "output_type": "stream",
     "text": [
      "0xea\n",
      "0o11\n",
      "0b1001\n"
     ]
    }
   ],
   "source": [
    "#hex, oct, bin\n",
    "print(hex(234))\n",
    "print(oct(9))\n",
    "print(bin(9))"
   ]
  },
  {
   "cell_type": "code",
   "execution_count": null,
   "id": "f6c5a99e-5d07-4cfe-bb3c-c32b5ff03152",
   "metadata": {},
   "outputs": [],
   "source": [
    "# 아스키코드(ASCII) 정의: 7비트(128개 문자)로 이루어진 문자 인코딩 표준.\n",
    "# 유니코드 - 정의: 전 세계 모든 문자를 표현할 수 있는 표준 문자 인코딩. UTF - 8 (인코딩 방식)\n",
    "print(chr(65))\n",
    "print(chr(44032))\n",
    "print(ord('A'))\n",
    "print(ord('가'))"
   ]
  },
  {
   "cell_type": "code",
   "execution_count": 44,
   "id": "6effb112-99e6-4726-ae02-4e0bc9b268ab",
   "metadata": {},
   "outputs": [
    {
     "name": "stdout",
     "output_type": "stream",
     "text": [
      "140705255916520\n",
      "140705255916520\n",
      "140705255916520\n",
      "True\n"
     ]
    }
   ],
   "source": [
    "# id 고유 주솟값을 리턴\n",
    "a = 3\n",
    "print(id(3))\n",
    "print(id(a))\n",
    "b = a\n",
    "print(id(b))\n",
    "print(all([id(3)==id(a),id(a)==id(b),id(b)==id(3)]))"
   ]
  },
  {
   "cell_type": "code",
   "execution_count": 45,
   "id": "0ece8b00-01ea-430a-8ce4-dc8012cf4817",
   "metadata": {},
   "outputs": [],
   "source": [
    "#input *\n",
    "#input은 스트링으로 값을 전달받는다. 그러므로 계산시 int나 float으로 변경할 것"
   ]
  },
  {
   "cell_type": "code",
   "execution_count": 46,
   "id": "a4f7aea5-7741-43d6-93bc-5cf8cc20ae8f",
   "metadata": {},
   "outputs": [],
   "source": [
    "#int *\n",
    "#문자를 숫자로 변환, 정수로 변환, 소수점이 사라짐"
   ]
  },
  {
   "cell_type": "code",
   "execution_count": 53,
   "id": "5f6a4989-9547-4086-ae69-8456105c259c",
   "metadata": {},
   "outputs": [
    {
     "name": "stdout",
     "output_type": "stream",
     "text": [
      "사람입니다.\n",
      "None\n",
      "사람입니다.\n",
      "None\n",
      "True\n",
      "True\n",
      "False\n"
     ]
    }
   ],
   "source": [
    "#isinstance(object,class) 인스턴스 확인용\n",
    "\n",
    "class Person:\n",
    "    def p(self):\n",
    "        print(\"사람입니다.\")\n",
    "class Animal:pass\n",
    "a = Person()\n",
    "b = Person()\n",
    "c = Animal()\n",
    "print(a.p())\n",
    "print(b.p())\n",
    "print(isinstance(a, Person))\n",
    "print(isinstance(b, Person))\n",
    "print(isinstance(c, Person))"
   ]
  },
  {
   "cell_type": "code",
   "execution_count": 55,
   "id": "8c6defb0-78bb-4882-a912-4e714a689944",
   "metadata": {},
   "outputs": [
    {
     "name": "stdout",
     "output_type": "stream",
     "text": [
      "6\n",
      "4\n",
      "2\n"
     ]
    }
   ],
   "source": [
    "#len **\n",
    "print(len(\"python\"))\n",
    "print(len([1,2,3,4]))\n",
    "print(len((1,'a')))"
   ]
  },
  {
   "cell_type": "code",
   "execution_count": 56,
   "id": "59be7e16-2d59-46c6-9aba-9a2f52cf73b5",
   "metadata": {},
   "outputs": [],
   "source": [
    "# list **"
   ]
  },
  {
   "cell_type": "code",
   "execution_count": 59,
   "id": "e198da98-13f0-4ff0-95a9-17bc52a75bf8",
   "metadata": {},
   "outputs": [
    {
     "name": "stdout",
     "output_type": "stream",
     "text": [
      "[2, 4, 6, 8]\n"
     ]
    }
   ],
   "source": [
    "# map *\n",
    "def two_items(nl):\n",
    "    result = []\n",
    "    for n in nl:\n",
    "        result.append(n*2)\n",
    "    return result\n",
    "print(two_items([1,2,3,4]))"
   ]
  },
  {
   "cell_type": "code",
   "execution_count": 60,
   "id": "0e9f6a37-cab8-4e1e-89d1-d5e093e2190a",
   "metadata": {},
   "outputs": [
    {
     "data": {
      "text/plain": [
       "[2, 4, 6, 8]"
      ]
     },
     "execution_count": 60,
     "metadata": {},
     "output_type": "execute_result"
    }
   ],
   "source": [
    "def  two_times(x):\n",
    "    return x*2\n",
    "\n",
    "list(map(two_times,[1,2,3,4]))"
   ]
  },
  {
   "cell_type": "code",
   "execution_count": 61,
   "id": "d744ca6b-8157-4a1f-a2d0-5f10528ecea0",
   "metadata": {},
   "outputs": [
    {
     "data": {
      "text/plain": [
       "[2, 4, 6, 8]"
      ]
     },
     "execution_count": 61,
     "metadata": {},
     "output_type": "execute_result"
    }
   ],
   "source": [
    "list(map(lambda x: x*2,[1,2,3,4]))"
   ]
  },
  {
   "cell_type": "code",
   "execution_count": 68,
   "id": "6ae5a747-abef-48b1-b0c8-7b9c64f06abe",
   "metadata": {},
   "outputs": [
    {
     "name": "stdout",
     "output_type": "stream",
     "text": [
      "[1, 3, 5]\n",
      "[2, 4, 6]\n",
      "[11, 12, 13, 14, 15, 16]\n",
      "[1, 4, 9, 16, 25, 36]\n",
      "[11, 24, 39, 56, 75, 96]\n"
     ]
    }
   ],
   "source": [
    "# 테스트\n",
    "li=[1,2,3,4,5,6]\n",
    "def odd(x):\n",
    "    return x%2 !=0\n",
    "def even(x):\n",
    "    return x%2 == 0\n",
    "def add(x):\n",
    "    return x + 10\n",
    "def mul(x):\n",
    "    return x*x\n",
    "def addmul(x):\n",
    "    return (x + 10) * x\n",
    "print(list(filter(odd,li)))\n",
    "print(list(filter(even,li)))\n",
    "print(list(map(add,li)))\n",
    "print(list(map(mul,li)))\n",
    "print(list(map(addmul,li)))"
   ]
  },
  {
   "cell_type": "code",
   "execution_count": 69,
   "id": "465d276c-e644-4f2a-a8d0-ff6be593aa2e",
   "metadata": {},
   "outputs": [
    {
     "data": {
      "text/plain": [
       "56"
      ]
     },
     "execution_count": 69,
     "metadata": {},
     "output_type": "execute_result"
    }
   ],
   "source": [
    "#max *\n",
    "max([1,21,3,14,56,16,7])\n",
    "max('python') # 문자일 경우 유니코드 값으로 판단"
   ]
  },
  {
   "cell_type": "code",
   "execution_count": 71,
   "id": "7a12812a-88cf-44ce-a9eb-307e4c0d4ce7",
   "metadata": {},
   "outputs": [
    {
     "data": {
      "text/plain": [
       "'h'"
      ]
     },
     "execution_count": 71,
     "metadata": {},
     "output_type": "execute_result"
    }
   ],
   "source": [
    "#min *\n",
    "min([1,21,3,14,56,16,7])\n",
    "min('python') # 문자일 경우 유니코드 값으로 판단"
   ]
  },
  {
   "cell_type": "code",
   "execution_count": 7,
   "id": "b7ac3c4b-2dde-4391-bd85-f6068c805bff",
   "metadata": {},
   "outputs": [
    {
     "ename": "FileNotFoundError",
     "evalue": "[Errno 2] No such file or directory: 'README.md'",
     "output_type": "error",
     "traceback": [
      "\u001b[1;31m---------------------------------------------------------------------------\u001b[0m",
      "\u001b[1;31mFileNotFoundError\u001b[0m                         Traceback (most recent call last)",
      "Cell \u001b[1;32mIn[7], line 2\u001b[0m\n\u001b[0;32m      1\u001b[0m \u001b[38;5;66;03m# open *\u001b[39;00m\n\u001b[1;32m----> 2\u001b[0m f \u001b[38;5;241m=\u001b[39m \u001b[38;5;28;43mopen\u001b[39;49m\u001b[43m(\u001b[49m\u001b[38;5;124;43m'\u001b[39;49m\u001b[38;5;124;43mREADME.md\u001b[39;49m\u001b[38;5;124;43m'\u001b[39;49m\u001b[43m,\u001b[49m\u001b[38;5;124;43m'\u001b[39;49m\u001b[38;5;124;43mr\u001b[39;49m\u001b[38;5;124;43m'\u001b[39;49m\u001b[43m,\u001b[49m\u001b[43mencoding\u001b[49m\u001b[38;5;241;43m=\u001b[39;49m\u001b[38;5;124;43m\"\u001b[39;49m\u001b[38;5;124;43mutf-8\u001b[39;49m\u001b[38;5;124;43m\"\u001b[39;49m\u001b[43m)\u001b[49m\n\u001b[0;32m      3\u001b[0m f\u001b[38;5;241m.\u001b[39mread()\n\u001b[0;32m      4\u001b[0m f\u001b[38;5;241m.\u001b[39mclose()\n",
      "File \u001b[1;32m~\\AppData\\Local\\Programs\\Python\\Python313\\Lib\\site-packages\\IPython\\core\\interactiveshell.py:324\u001b[0m, in \u001b[0;36m_modified_open\u001b[1;34m(file, *args, **kwargs)\u001b[0m\n\u001b[0;32m    317\u001b[0m \u001b[38;5;28;01mif\u001b[39;00m file \u001b[38;5;129;01min\u001b[39;00m {\u001b[38;5;241m0\u001b[39m, \u001b[38;5;241m1\u001b[39m, \u001b[38;5;241m2\u001b[39m}:\n\u001b[0;32m    318\u001b[0m     \u001b[38;5;28;01mraise\u001b[39;00m \u001b[38;5;167;01mValueError\u001b[39;00m(\n\u001b[0;32m    319\u001b[0m         \u001b[38;5;124mf\u001b[39m\u001b[38;5;124m\"\u001b[39m\u001b[38;5;124mIPython won\u001b[39m\u001b[38;5;124m'\u001b[39m\u001b[38;5;124mt let you open fd=\u001b[39m\u001b[38;5;132;01m{\u001b[39;00mfile\u001b[38;5;132;01m}\u001b[39;00m\u001b[38;5;124m by default \u001b[39m\u001b[38;5;124m\"\u001b[39m\n\u001b[0;32m    320\u001b[0m         \u001b[38;5;124m\"\u001b[39m\u001b[38;5;124mas it is likely to crash IPython. If you know what you are doing, \u001b[39m\u001b[38;5;124m\"\u001b[39m\n\u001b[0;32m    321\u001b[0m         \u001b[38;5;124m\"\u001b[39m\u001b[38;5;124myou can use builtins\u001b[39m\u001b[38;5;124m'\u001b[39m\u001b[38;5;124m open.\u001b[39m\u001b[38;5;124m\"\u001b[39m\n\u001b[0;32m    322\u001b[0m     )\n\u001b[1;32m--> 324\u001b[0m \u001b[38;5;28;01mreturn\u001b[39;00m \u001b[43mio_open\u001b[49m\u001b[43m(\u001b[49m\u001b[43mfile\u001b[49m\u001b[43m,\u001b[49m\u001b[43m \u001b[49m\u001b[38;5;241;43m*\u001b[39;49m\u001b[43margs\u001b[49m\u001b[43m,\u001b[49m\u001b[43m \u001b[49m\u001b[38;5;241;43m*\u001b[39;49m\u001b[38;5;241;43m*\u001b[39;49m\u001b[43mkwargs\u001b[49m\u001b[43m)\u001b[49m\n",
      "\u001b[1;31mFileNotFoundError\u001b[0m: [Errno 2] No such file or directory: 'README.md'"
     ]
    }
   ],
   "source": [
    "# open *\n",
    "f = open('README.md','r',encoding=\"utf-8\")\n",
    "f.read()\n",
    "f.close()"
   ]
  },
  {
   "cell_type": "code",
   "execution_count": 73,
   "id": "61e31b47-fcdb-4879-bd9e-a6c7a9b99da2",
   "metadata": {},
   "outputs": [
    {
     "name": "stdout",
     "output_type": "stream",
     "text": [
      "32\n"
     ]
    }
   ],
   "source": [
    "#pow * x를 y 제곱한 결과값을 리턴\n",
    "print(pow(2,5))"
   ]
  },
  {
   "cell_type": "code",
   "execution_count": 76,
   "id": "eacd36df-b9b4-466c-b35d-428c2f1deba1",
   "metadata": {},
   "outputs": [
    {
     "name": "stdout",
     "output_type": "stream",
     "text": [
      "[0, 1, 2, 3, 4]\n",
      "[5, 6, 7, 8, 9]\n",
      "[5, 7, 9]\n",
      "[15, 14, 13, 12, 11, 10, 9, 8, 7, 6, 5, 4, 3, 2, 1]\n"
     ]
    }
   ],
   "source": [
    "# range **\n",
    "# 인수가 하나\n",
    "print(list(range(5)))\n",
    "# 인수가 2개\n",
    "print(list(range(5,10)))\n",
    "# 인수가 3개\n",
    "print(list(range(5,10,2)))\n",
    "# 역순(스탭조절)\n",
    "print(list(range(15,0,-1)))"
   ]
  },
  {
   "cell_type": "code",
   "execution_count": 77,
   "id": "9e3a2121-6f0b-43d5-87a7-56963a545fd5",
   "metadata": {},
   "outputs": [
    {
     "name": "stdout",
     "output_type": "stream",
     "text": [
      "3\n",
      "4\n",
      "3\n"
     ]
    }
   ],
   "source": [
    "# round * 반올림\n",
    "print(round(3.45))\n",
    "print(round(3.546))\n",
    "print(round(3.495))"
   ]
  },
  {
   "cell_type": "code",
   "execution_count": 79,
   "id": "eef84008-aa55-4ffc-afb8-4f23a64c5379",
   "metadata": {},
   "outputs": [
    {
     "name": "stdout",
     "output_type": "stream",
     "text": [
      "[3, 2, 1, 4, 6, 7]\n",
      "[1, 2, 3, 4, 6, 7]\n",
      "[7, 6, 4, 3, 2, 1]\n"
     ]
    }
   ],
   "source": [
    "# sorted(iterable) * 정렬된 리스트로 리턴\n",
    "s0 = [3,2,1,4,6,7]\n",
    "s1 = sorted(s0)\n",
    "s2 = sorted(s0,reverse = True)\n",
    "print(s0)\n",
    "print(s1)\n",
    "print(s2)"
   ]
  },
  {
   "cell_type": "code",
   "execution_count": 80,
   "id": "af5c72ce-494e-43eb-9075-6ef75ad262c4",
   "metadata": {},
   "outputs": [
    {
     "name": "stdout",
     "output_type": "stream",
     "text": [
      "23 <class 'int'>\n",
      "23 <class 'str'>\n"
     ]
    }
   ],
   "source": [
    "# str * 문자열로 변환\n",
    "num = 23\n",
    "st = str(num)\n",
    "print(num,type(num))\n",
    "print(st,type(st))"
   ]
  },
  {
   "cell_type": "code",
   "execution_count": 82,
   "id": "da3c2ddd-01c3-4a10-925f-034c1d6a31f9",
   "metadata": {},
   "outputs": [
    {
     "name": "stdout",
     "output_type": "stream",
     "text": [
      "15\n"
     ]
    }
   ],
   "source": [
    "# sum * 이터러블데이터의 합을 리턴\n",
    "print(sum([1,2,3,4,5]))"
   ]
  },
  {
   "cell_type": "code",
   "execution_count": 83,
   "id": "a39a3292-fbc6-4fc6-92e0-2249a25e989f",
   "metadata": {},
   "outputs": [
    {
     "name": "stdout",
     "output_type": "stream",
     "text": [
      "('a', 'b', 'c')\n",
      "(1, 2, 3, 4, 5, 6)\n",
      "(1, 2, 3, 4, 5, 6)\n"
     ]
    }
   ],
   "source": [
    "# tuple * 튜플로 바꾸기\n",
    "print(tuple(\"abc\"))\n",
    "print(tuple([1,2,3,4,5,6]))\n",
    "print(tuple([1,2,3,4,5,6]))"
   ]
  },
  {
   "cell_type": "code",
   "execution_count": 85,
   "id": "455fbf1f-9cb6-4d0a-b70a-7f9e04c4f59e",
   "metadata": {},
   "outputs": [
    {
     "name": "stdout",
     "output_type": "stream",
     "text": [
      "<class 'str'>\n",
      "<class 'int'>\n"
     ]
    },
    {
     "ename": "FileNotFoundError",
     "evalue": "[Errno 2] No such file or directory: 'README.md'",
     "output_type": "error",
     "traceback": [
      "\u001b[1;31m---------------------------------------------------------------------------\u001b[0m",
      "\u001b[1;31mFileNotFoundError\u001b[0m                         Traceback (most recent call last)",
      "Cell \u001b[1;32mIn[85], line 4\u001b[0m\n\u001b[0;32m      2\u001b[0m \u001b[38;5;28mprint\u001b[39m(\u001b[38;5;28mtype\u001b[39m(\u001b[38;5;124m\"\u001b[39m\u001b[38;5;124mabc\u001b[39m\u001b[38;5;124m\"\u001b[39m))\n\u001b[0;32m      3\u001b[0m \u001b[38;5;28mprint\u001b[39m(\u001b[38;5;28mtype\u001b[39m(\u001b[38;5;241m1234\u001b[39m))\n\u001b[1;32m----> 4\u001b[0m \u001b[38;5;28mprint\u001b[39m(\u001b[38;5;28mtype\u001b[39m(\u001b[38;5;28;43mopen\u001b[39;49m\u001b[43m(\u001b[49m\u001b[38;5;124;43m\"\u001b[39;49m\u001b[38;5;124;43mREADME.md\u001b[39;49m\u001b[38;5;124;43m\"\u001b[39;49m\u001b[43m,\u001b[49m\u001b[38;5;124;43m\"\u001b[39;49m\u001b[38;5;124;43mr\u001b[39;49m\u001b[38;5;124;43m\"\u001b[39;49m\u001b[43m)\u001b[49m)) \u001b[38;5;66;03m# 파일 자료형\u001b[39;00m\n",
      "File \u001b[1;32m~\\AppData\\Local\\Programs\\Python\\Python313\\Lib\\site-packages\\IPython\\core\\interactiveshell.py:324\u001b[0m, in \u001b[0;36m_modified_open\u001b[1;34m(file, *args, **kwargs)\u001b[0m\n\u001b[0;32m    317\u001b[0m \u001b[38;5;28;01mif\u001b[39;00m file \u001b[38;5;129;01min\u001b[39;00m {\u001b[38;5;241m0\u001b[39m, \u001b[38;5;241m1\u001b[39m, \u001b[38;5;241m2\u001b[39m}:\n\u001b[0;32m    318\u001b[0m     \u001b[38;5;28;01mraise\u001b[39;00m \u001b[38;5;167;01mValueError\u001b[39;00m(\n\u001b[0;32m    319\u001b[0m         \u001b[38;5;124mf\u001b[39m\u001b[38;5;124m\"\u001b[39m\u001b[38;5;124mIPython won\u001b[39m\u001b[38;5;124m'\u001b[39m\u001b[38;5;124mt let you open fd=\u001b[39m\u001b[38;5;132;01m{\u001b[39;00mfile\u001b[38;5;132;01m}\u001b[39;00m\u001b[38;5;124m by default \u001b[39m\u001b[38;5;124m\"\u001b[39m\n\u001b[0;32m    320\u001b[0m         \u001b[38;5;124m\"\u001b[39m\u001b[38;5;124mas it is likely to crash IPython. If you know what you are doing, \u001b[39m\u001b[38;5;124m\"\u001b[39m\n\u001b[0;32m    321\u001b[0m         \u001b[38;5;124m\"\u001b[39m\u001b[38;5;124myou can use builtins\u001b[39m\u001b[38;5;124m'\u001b[39m\u001b[38;5;124m open.\u001b[39m\u001b[38;5;124m\"\u001b[39m\n\u001b[0;32m    322\u001b[0m     )\n\u001b[1;32m--> 324\u001b[0m \u001b[38;5;28;01mreturn\u001b[39;00m \u001b[43mio_open\u001b[49m\u001b[43m(\u001b[49m\u001b[43mfile\u001b[49m\u001b[43m,\u001b[49m\u001b[43m \u001b[49m\u001b[38;5;241;43m*\u001b[39;49m\u001b[43margs\u001b[49m\u001b[43m,\u001b[49m\u001b[43m \u001b[49m\u001b[38;5;241;43m*\u001b[39;49m\u001b[38;5;241;43m*\u001b[39;49m\u001b[43mkwargs\u001b[49m\u001b[43m)\u001b[49m\n",
      "\u001b[1;31mFileNotFoundError\u001b[0m: [Errno 2] No such file or directory: 'README.md'"
     ]
    }
   ],
   "source": [
    "# type **자료형 확인\n",
    "print(type(\"abc\"))\n",
    "print(type(1234))\n",
    "print(type(open(\"README.md\",\"r\"))) # 파일 자료형"
   ]
  },
  {
   "cell_type": "code",
   "execution_count": 86,
   "id": "ac635693-194d-4721-8eac-32c5aed30962",
   "metadata": {},
   "outputs": [
    {
     "name": "stdout",
     "output_type": "stream",
     "text": [
      "11 : apple => dog\n",
      "22 : banana => cat\n",
      "33 : kiwi => elephant\n",
      "44 : cherry => lion\n",
      "55 : mango => Rabbit\n"
     ]
    }
   ],
   "source": [
    "# zip ** 묶어서 리턴\n",
    "fruit = ['apple', 'banana','kiwi','cherry', 'mango']\n",
    "animal = ['dog','cat', 'elephant', 'lion', 'Rabbit']\n",
    "num = [11,22,33,44,55]\n",
    "for f, a, n in zip(fruit, animal, num):\n",
    "    print(n,':',f,'=>',a)"
   ]
  },
  {
   "cell_type": "markdown",
   "id": "f441b463-e407-4697-a486-0849713b19cf",
   "metadata": {},
   "source": [
    "# 표준 라이브러리"
   ]
  },
  {
   "cell_type": "code",
   "execution_count": 101,
   "id": "91c9a392-bcc2-4580-a326-8c0bc2ac19a5",
   "metadata": {},
   "outputs": [
    {
     "name": "stdout",
     "output_type": "stream",
     "text": [
      "전체 수업기간: 172 일\n",
      "남은 수업기간: 157 일\n",
      "지난 수업기간: 15 일\n"
     ]
    }
   ],
   "source": [
    "import datetime\n",
    "day1 = datetime.date(2025,2,3)\n",
    "day2 = datetime.date(2025,7,25)\n",
    "diff = day2- day1\n",
    "print(\"전체 수업기간:\", diff.days,\"일\")\n",
    "diff2 = day2 - datetime.datetime.now().date()\n",
    "print(\"남은 수업기간:\", diff2. days, \"일\")\n",
    "print(\"지난 수업기간:\", diff.days - diff2.days, \"일\")"
   ]
  },
  {
   "cell_type": "code",
   "execution_count": 100,
   "id": "44b302b0-6627-44d7-a738-4948dcac34c4",
   "metadata": {},
   "outputs": [
    {
     "data": {
      "text/plain": [
       "datetime.date(2025, 2, 18)"
      ]
     },
     "execution_count": 100,
     "metadata": {},
     "output_type": "execute_result"
    }
   ],
   "source": [
    "datetime.datetime.now().date()"
   ]
  },
  {
   "cell_type": "code",
   "execution_count": 108,
   "id": "7aceb07d-5ed2-4280-9291-df6fd7fc3122",
   "metadata": {},
   "outputs": [
    {
     "ename": "AttributeError",
     "evalue": "'datetime.date' object has no attribute 'weekend'",
     "output_type": "error",
     "traceback": [
      "\u001b[1;31m---------------------------------------------------------------------------\u001b[0m",
      "\u001b[1;31mAttributeError\u001b[0m                            Traceback (most recent call last)",
      "Cell \u001b[1;32mIn[108], line 5\u001b[0m\n\u001b[0;32m      3\u001b[0m day \u001b[38;5;241m=\u001b[39m datetime\u001b[38;5;241m.\u001b[39mdate(\u001b[38;5;241m2020\u001b[39m,\u001b[38;5;241m12\u001b[39m,\u001b[38;5;241m2\u001b[39m)\n\u001b[0;32m      4\u001b[0m \u001b[38;5;66;03m# day.isoweekday() #1부터 시작\u001b[39;00m\n\u001b[1;32m----> 5\u001b[0m \u001b[38;5;28mprint\u001b[39m(\u001b[38;5;124m\"\u001b[39m\u001b[38;5;124m그날은\u001b[39m\u001b[38;5;124m\"\u001b[39m\u001b[38;5;241m+\u001b[39m days[\u001b[43mday\u001b[49m\u001b[38;5;241;43m.\u001b[39;49m\u001b[43mweekend\u001b[49m()]\u001b[38;5;241m+\u001b[39m \u001b[38;5;124m\"\u001b[39m\u001b[38;5;124m요일 입니다.\u001b[39m\u001b[38;5;124m\"\u001b[39m)\n",
      "\u001b[1;31mAttributeError\u001b[0m: 'datetime.date' object has no attribute 'weekend'"
     ]
    }
   ],
   "source": [
    "# 요일 확인\n",
    "days = ['월', '화', '수', '목', '금', '토','일']\n",
    "day = datetime.date(2020,12,2)\n",
    "# day.isoweekday() #1부터 시작\n",
    "print(\"그날은\"+ days[day.weekend()]+ \"요일 입니다.\")"
   ]
  },
  {
   "cell_type": "code",
   "execution_count": 104,
   "id": "f32effae-7dfb-4343-8889-c73c028ddcad",
   "metadata": {},
   "outputs": [
    {
     "data": {
      "text/plain": [
       "6"
      ]
     },
     "execution_count": 104,
     "metadata": {},
     "output_type": "execute_result"
    }
   ],
   "source": [
    "day = datetime.date(2020,2,2)\n",
    "day.weekday()"
   ]
  },
  {
   "cell_type": "code",
   "execution_count": 105,
   "id": "d41e3606-8c17-4a7a-b272-baa595e70277",
   "metadata": {},
   "outputs": [
    {
     "data": {
      "text/plain": [
       "7"
      ]
     },
     "execution_count": 105,
     "metadata": {},
     "output_type": "execute_result"
    }
   ],
   "source": [
    "# day.isoweekday()"
   ]
  },
  {
   "cell_type": "code",
   "execution_count": 115,
   "id": "3972da0c-3ff0-4c9d-80aa-f468497c41ea",
   "metadata": {},
   "outputs": [
    {
     "name": "stdout",
     "output_type": "stream",
     "text": [
      "어버이날까지 남은 기간: 79 일\n",
      "어버이날은 목요일 입니다\n"
     ]
    }
   ],
   "source": [
    "import datetime\n",
    "day1 = datetime.date(2025,2,18)\n",
    "day2 = datetime.date(2025,5,8)\n",
    "diff = day2- day1\n",
    "print(\"어버이날까지 남은 기간:\", diff.days,\"일\")\n",
    "days = ['월', '화', '수', '목', '금', '토', '일']\n",
    "print(f\"어버이날은 {days[day2.weekday()]}요일 입니다\")"
   ]
  },
  {
   "cell_type": "code",
   "execution_count": 117,
   "id": "d65e49c4-fccf-41d0-a43e-170fbf02bb93",
   "metadata": {},
   "outputs": [
    {
     "ename": "SyntaxError",
     "evalue": "invalid syntax (3734630809.py, line 3)",
     "output_type": "error",
     "traceback": [
      "\u001b[1;36m  Cell \u001b[1;32mIn[117], line 3\u001b[1;36m\u001b[0m\n\u001b[1;33m    def = parents():\u001b[0m\n\u001b[1;37m        ^\u001b[0m\n\u001b[1;31mSyntaxError\u001b[0m\u001b[1;31m:\u001b[0m invalid syntax\n"
     ]
    }
   ],
   "source": [
    "#3)\n",
    "import datetime\n",
    "def = parents():\n",
    "    day1 = datetime.date(2025,2,18)\n",
    "    day2 = datetime.date(2025,5,8)\n",
    "    diff = day2- day1\n",
    "    print(\"어버이날까지 남은 기간:\", diff.days,\"일\")\n",
    "    days = ['월', '화', '수', '목', '금', '토', '일']\n",
    "    print(f\"어버이날은 {days[day2.weekday()]}요일 입니다\")"
   ]
  },
  {
   "cell_type": "code",
   "execution_count": 118,
   "id": "3e24479e-cd65-479a-b6fd-5364e8dbd7d4",
   "metadata": {},
   "outputs": [
    {
     "name": "stdout",
     "output_type": "stream",
     "text": [
      "어버이날까지 남은 기간: 79 일\n",
      "어버이날은 목요일 입니다\n"
     ]
    }
   ],
   "source": [
    "import datetime\n",
    "\n",
    "def parents():\n",
    "    day1 = datetime.date(2025, 2, 18)\n",
    "    day2 = datetime.date(2025, 5, 8)\n",
    "    diff = day2 - day1\n",
    "    print(\"어버이날까지 남은 기간:\", diff.days, \"일\")\n",
    "    days = ['월', '화', '수', '목', '금', '토', '일']\n",
    "    print(f\"어버이날은 {days[day2.weekday()]}요일 입니다\")\n",
    "\n",
    "parents()"
   ]
  },
  {
   "cell_type": "markdown",
   "id": "25721fef-7114-4cfc-a6e3-7cf2118dc8b6",
   "metadata": {},
   "source": [
    "## time"
   ]
  },
  {
   "cell_type": "code",
   "execution_count": 119,
   "id": "389de5c7-a973-4019-b614-034d28aedbbc",
   "metadata": {},
   "outputs": [
    {
     "data": {
      "text/plain": [
       "1739855511.473074"
      ]
     },
     "execution_count": 119,
     "metadata": {},
     "output_type": "execute_result"
    }
   ],
   "source": [
    "import time\n",
    "time.time()"
   ]
  },
  {
   "cell_type": "code",
   "execution_count": 124,
   "id": "bc29008a-9b1a-4554-a9cb-b9593ecf42b9",
   "metadata": {},
   "outputs": [
    {
     "name": "stdout",
     "output_type": "stream",
     "text": [
      "time.struct_time(tm_year=2025, tm_mon=2, tm_mday=18, tm_hour=14, tm_min=15, tm_sec=2, tm_wday=1, tm_yday=49, tm_isdst=0)\n"
     ]
    }
   ],
   "source": [
    "#time.localtime\n",
    "tt = time.localtime(time.time())\n",
    "print(tt)"
   ]
  },
  {
   "cell_type": "code",
   "execution_count": null,
   "id": "a642b67e-db38-45fb-80cb-e07fb28914d7",
   "metadata": {},
   "outputs": [],
   "source": [
    "#time."
   ]
  },
  {
   "cell_type": "code",
   "execution_count": 129,
   "id": "1c45f031-c6a7-45df-ad56-afd474c64324",
   "metadata": {},
   "outputs": [
    {
     "data": {
      "text/plain": [
       "'Tue Feb 18 14:21:39 2025'"
      ]
     },
     "execution_count": 129,
     "metadata": {},
     "output_type": "execute_result"
    }
   ],
   "source": [
    "#time.ctime()\n",
    "time.ctime()"
   ]
  },
  {
   "cell_type": "code",
   "execution_count": 130,
   "id": "2579abfa-5447-4e48-a9cd-c727c937865d",
   "metadata": {},
   "outputs": [
    {
     "data": {
      "text/plain": [
       "'Tue Feb 18 14:21:39 2025'"
      ]
     },
     "execution_count": 130,
     "metadata": {},
     "output_type": "execute_result"
    }
   ],
   "source": [
    "#time.strftime\n",
    "time.strftime('%x',time.localtime(time.time()))\n",
    "time.strftime('%X',time.localtime(time.time()))\n",
    "time.strftime('%c',time.localtime(time.time()))"
   ]
  },
  {
   "cell_type": "code",
   "execution_count": 127,
   "id": "037d7e8b-64d4-46c2-acdf-1e7fbb5d0e32",
   "metadata": {},
   "outputs": [
    {
     "name": "stdout",
     "output_type": "stream",
     "text": [
      "10"
     ]
    }
   ],
   "source": [
    "#time.sleep\n",
    "import time as t\n",
    "for i in range(1,11):\n",
    "    print(i,end='\\r')\n",
    "    t.sleep(1)"
   ]
  },
  {
   "cell_type": "markdown",
   "id": "0d1b0b99-8485-462a-9601-e9ec5292dc38",
   "metadata": {},
   "source": [
    "## math.gcd, math.lcm"
   ]
  },
  {
   "cell_type": "code",
   "execution_count": 131,
   "id": "6c9c4883-1ca9-4917-af73-c492b2e3f478",
   "metadata": {},
   "outputs": [],
   "source": [
    "import math"
   ]
  },
  {
   "cell_type": "code",
   "execution_count": 132,
   "id": "464884b0-58e9-45fc-9e8a-b2fc018ee21d",
   "metadata": {},
   "outputs": [
    {
     "name": "stdout",
     "output_type": "stream",
     "text": [
      "3.141592653589793\n",
      "20\n"
     ]
    }
   ],
   "source": [
    "print (math.pi) # pi 값\n",
    "print (math.gcd(60,100,80)) # 최대공약수 값\n",
    "print (math.lcm(15,25))"
   ]
  },
  {
   "cell_type": "markdown",
   "id": "d0be8b9b-5d59-4543-9f61-4b7b0d42029b",
   "metadata": {},
   "source": [
    "## random"
   ]
  },
  {
   "cell_type": "code",
   "execution_count": 134,
   "id": "0c77263c-6d51-45f6-a7dd-d48326cad20b",
   "metadata": {},
   "outputs": [
    {
     "name": "stdout",
     "output_type": "stream",
     "text": [
      "0.46028018901193546\n",
      "1\n"
     ]
    }
   ],
   "source": [
    "import random as r\n",
    "# r.random()\n",
    "print(r.random()) #0.0에서 1.0 사이의 난수\n",
    "#r.randint()\n",
    "print(r.randint(1,10)) # a에서 b까지의 난수 리턴"
   ]
  },
  {
   "cell_type": "code",
   "execution_count": 136,
   "id": "dc05864c-52e8-4bf8-8c57-f552c5c9a321",
   "metadata": {},
   "outputs": [
    {
     "name": "stdout",
     "output_type": "stream",
     "text": [
      "66 22 11 11 11 33 "
     ]
    }
   ],
   "source": [
    "#r.choice()\n",
    "data = [11,22,33,44,55,66]\n",
    "for n in range (6):\n",
    "    print(r.choice(data), end=' ')"
   ]
  },
  {
   "cell_type": "code",
   "execution_count": 141,
   "id": "0fd55b73-9198-424d-825b-b91c6f6d4ba5",
   "metadata": {},
   "outputs": [
    {
     "name": "stdout",
     "output_type": "stream",
     "text": [
      "[6, 11, 18, 7, 8, 9, 15, 12, 13, 20, 10, 19, 2, 17, 3, 16, 14, 1, 5, 4] 20\n",
      "{1, 2, 3, 4, 5, 6, 7, 8, 9, 10, 11, 12, 13, 14, 15, 16, 17, 18, 19, 20} 20\n"
     ]
    }
   ],
   "source": [
    "# r.sample()\n",
    "li = list(range(1,21))\n",
    "arr = []\n",
    "for n in r.sample(li,len(li)):\n",
    "    arr.append(n)\n",
    "print(arr,len(arr))\n",
    "sarr = set(arr)\n",
    "print(sarr,len(sarr))"
   ]
  },
  {
   "cell_type": "code",
   "execution_count": 4,
   "id": "6edf6557-0cb0-4d87-ab6e-570d658566ce",
   "metadata": {},
   "outputs": [
    {
     "name": "stdout",
     "output_type": "stream",
     "text": [
      "1\n",
      "2\n",
      "3\n",
      "3\n"
     ]
    }
   ],
   "source": [
    "def get_total_page(m,n):\n",
    "    if m % n==0:\n",
    "        return m//n\n",
    "    else:\n",
    "        return m // n + 1\n",
    "\n",
    "print(get_total_page(5,10))\n",
    "print(get_total_page(15,10))\n",
    "print(get_total_page(25,10))\n",
    "print(get_total_page(30,10))"
   ]
  },
  {
   "cell_type": "code",
   "execution_count": 6,
   "id": "1a537e2d-7b12-4098-ab2a-16f8be1e0ff5",
   "metadata": {},
   "outputs": [
    {
     "name": "stdout",
     "output_type": "stream",
     "text": [
      "[('한민서', '사탕'), ('황지민', '초콜릿'), ('이영철', '젤리'), ('이광수', '새우깡'), ('김승민', '새우깡')]\n"
     ]
    }
   ],
   "source": [
    "# itertools.zip_longest\n",
    "import itertools\n",
    "students = ['한민서', '황지민', '이영철', '이광수', '김승민']\n",
    "snacks = ['사탕', '초콜릿', '젤리']\n",
    "\n",
    "#result = zip(students, snacks) #zip은 작은 배열에 길이를 맞춤\n",
    "result = itertools.zip_longest(students, snacks, fillvalue=\"새우깡\")\n",
    "print(list(result))"
   ]
  },
  {
   "cell_type": "code",
   "execution_count": null,
   "id": "401efcc6-ae50-44b8-9904-5082841bec89",
   "metadata": {},
   "outputs": [],
   "source": [
    "#itertools.permutation\n",
    "import itertools\n",
    "list(itertools.permutations(['1','2','3'],2))"
   ]
  },
  {
   "cell_type": "code",
   "execution_count": null,
   "id": "cec2cdf3-02db-44d3-b82a-42af1c780c13",
   "metadata": {},
   "outputs": [],
   "source": [
    "#itertools.combination\n",
    "import itertools\n",
    "print(list(itertools.permutations(['1','2','3'],2)))"
   ]
  },
  {
   "cell_type": "code",
   "execution_count": 18,
   "id": "4241ccea-413d-403c-bf0c-ff32257ec283",
   "metadata": {
    "scrolled": true
   },
   "outputs": [
    {
     "name": "stdout",
     "output_type": "stream",
     "text": [
      "<class 'itertools.combinations'>\n",
      "(1, 2, 3, 4, 5, 6)\n",
      "(1, 2, 3, 4, 5, 7)\n",
      "(1, 2, 3, 4, 5, 8)\n",
      "(1, 2, 3, 4, 5, 9)\n",
      "(1, 2, 3, 4, 5, 10)\n",
      "(1, 2, 3, 4, 5, 11)\n",
      "(1, 2, 3, 4, 5, 12)\n",
      "(1, 2, 3, 4, 5, 13)\n",
      "(1, 2, 3, 4, 5, 14)\n",
      "(1, 2, 3, 4, 5, 15)\n",
      "(1, 2, 3, 4, 5, 16)\n",
      "(1, 2, 3, 4, 5, 17)\n",
      "(1, 2, 3, 4, 5, 18)\n",
      "(1, 2, 3, 4, 5, 19)\n",
      "(1, 2, 3, 4, 5, 20)\n",
      "(1, 2, 3, 4, 5, 21)\n",
      "(1, 2, 3, 4, 5, 22)\n",
      "(1, 2, 3, 4, 5, 23)\n",
      "(1, 2, 3, 4, 5, 24)\n",
      "(1, 2, 3, 4, 5, 25)\n",
      "(1, 2, 3, 4, 5, 26)\n",
      "(1, 2, 3, 4, 5, 27)\n",
      "(1, 2, 3, 4, 5, 28)\n",
      "(1, 2, 3, 4, 5, 29)\n",
      "(1, 2, 3, 4, 5, 30)\n",
      "(1, 2, 3, 4, 5, 31)\n",
      "(1, 2, 3, 4, 5, 32)\n",
      "(1, 2, 3, 4, 5, 33)\n",
      "(1, 2, 3, 4, 5, 34)\n",
      "(1, 2, 3, 4, 5, 35)\n",
      "(1, 2, 3, 4, 5, 36)\n",
      "(1, 2, 3, 4, 5, 37)\n",
      "(1, 2, 3, 4, 5, 38)\n",
      "(1, 2, 3, 4, 5, 39)\n",
      "(1, 2, 3, 4, 5, 40)\n",
      "(1, 2, 3, 4, 5, 41)\n",
      "(1, 2, 3, 4, 5, 42)\n",
      "(1, 2, 3, 4, 5, 43)\n",
      "(1, 2, 3, 4, 5, 44)\n",
      "(1, 2, 3, 4, 5, 45)\n",
      "(1, 2, 3, 4, 6, 7)\n",
      "(1, 2, 3, 4, 6, 8)\n",
      "(1, 2, 3, 4, 6, 9)\n",
      "(1, 2, 3, 4, 6, 10)\n",
      "(1, 2, 3, 4, 6, 11)\n",
      "(1, 2, 3, 4, 6, 12)\n",
      "(1, 2, 3, 4, 6, 13)\n",
      "(1, 2, 3, 4, 6, 14)\n"
     ]
    },
    {
     "data": {
      "text/plain": [
       "8145060"
      ]
     },
     "execution_count": 18,
     "metadata": {},
     "output_type": "execute_result"
    }
   ],
   "source": [
    "# itertools.combination 응용\n",
    "import itertools\n",
    "lotto = itertools.combinations(range(1,46),6)\n",
    "print(type(lotto))\n",
    "ls = list(lotto)\n",
    "for num in ls[:48]:\n",
    "    print(num)\n",
    "len(ls)"
   ]
  },
  {
   "cell_type": "code",
   "execution_count": 22,
   "id": "dd85e4cc-ad3c-4ac5-afc0-a96777150b6f",
   "metadata": {},
   "outputs": [
    {
     "name": "stdout",
     "output_type": "stream",
     "text": [
      "8145060\n",
      "15890700\n"
     ]
    }
   ],
   "source": [
    "print(len(list(itertools.combinations(range(1,46),6))))\n",
    "print(len(list(itertools.combinations_with_replacement(range(1,46),6))))"
   ]
  },
  {
   "cell_type": "code",
   "execution_count": 24,
   "id": "845503ab-ae58-423a-9f83-264f6656211b",
   "metadata": {},
   "outputs": [
    {
     "name": "stdout",
     "output_type": "stream",
     "text": [
      "55\n"
     ]
    }
   ],
   "source": [
    "# function.reduce\n",
    "import functools\n",
    "data = [1,2,3,4,5,6,7,8,9,10]\n",
    "result = functools.reduce(lambda x,y : x+y, data)\n",
    "print(result)"
   ]
  },
  {
   "cell_type": "code",
   "execution_count": 26,
   "id": "4c20ed6c-c909-4ca5-8a1e-51ac40f6dc34",
   "metadata": {},
   "outputs": [
    {
     "name": "stdout",
     "output_type": "stream",
     "text": [
      "8\n"
     ]
    }
   ],
   "source": [
    "import functools\n",
    "num_list = [3,2,8,1,6,7]\n",
    "max_num = functools.reduce(lambda x,y:x if x > y else y, num_list)\n",
    "print(max_num)"
   ]
  },
  {
   "cell_type": "code",
   "execution_count": 35,
   "id": "9bb221bf-e1e9-42b0-84bd-dcb428768a53",
   "metadata": {},
   "outputs": [
    {
     "name": "stdout",
     "output_type": "stream",
     "text": [
      "[('dave', 32, 'B'), ('jane', 22, 'A'), ('sally', 17, 'B')]\n"
     ]
    }
   ],
   "source": [
    "#operator.itemgetter *\n",
    "from operator import itemgetter\n",
    "name = [\"jane\", \"dave\", \"sally\"]\n",
    "age = [22,32,17]\n",
    "grade = ['A', 'B', 'B']\n",
    "students = zip(name, age, grade)\n",
    "# print(list(students))\n",
    "# students = [\n",
    "#         (\"jane\", 22, 'A')\n",
    "#         (\"dave\", 32, 'B')\n",
    "#         (\"sally\", 17, 'B')\n",
    "# ]\n",
    "result = sorted(students, key = itemgetter(1),reverse=True)\n",
    "print(result)"
   ]
  },
  {
   "cell_type": "code",
   "execution_count": 38,
   "id": "fd6750bc-81ef-4021-9ce3-e430f5d6990e",
   "metadata": {},
   "outputs": [
    {
     "name": "stdout",
     "output_type": "stream",
     "text": [
      "[{'name': 'sally', 'age': 17, 'grade': 'B'}, {'name': 'jane', 'age': 22, 'grade': 'A'}, {'name': 'dave', 'age': 32, 'grade': 'B'}]\n"
     ]
    }
   ],
   "source": [
    "# itemgetter2.py\n",
    "from operator import itemgetter\n",
    "\n",
    "students = [\n",
    "    {\"name\": \"jane\", \"age\": 22, \"grade\": 'A'},\n",
    "    {\"name\": \"dave\", \"age\": 32, \"grade\": 'B'},\n",
    "    {\"name\": \"sally\", \"age\": 17, \"grade\": 'B'}\n",
    "]\n",
    "result = sorted(students, key = itemgetter('age'))\n",
    "print(result)"
   ]
  },
  {
   "cell_type": "code",
   "execution_count": 47,
   "id": "b9fabc9e-1ae1-4c64-bab0-194c14db2ff7",
   "metadata": {},
   "outputs": [
    {
     "name": "stdout",
     "output_type": "stream",
     "text": [
      "[{'name': 'jane', 'age': 22, 'grade': 'A'}, {'name': 'dave', 'age': 32, 'grade': 'B'}, {'name': 'sally', 'age': 17, 'grade': 'B'}]\n",
      "[{'name': 'sally', 'age': 17, 'grade': 'B'}, {'name': 'jane', 'age': 22, 'grade': 'A'}, {'name': 'dave', 'age': 32, 'grade': 'B'}]\n"
     ]
    }
   ],
   "source": [
    "# itemgetter2.py\n",
    "from operator import itemgetter\n",
    "name = [\"jane\", \"dave\", \"sally\"]\n",
    "age = [22,32,17]\n",
    "grade = ['A', 'B', 'B']\n",
    "# students = []\n",
    "# for n, a, g in zip(name,age,grade):\n",
    "#    students.append({'name':n, 'age':a,'grade':g})\n",
    "# print(students)\n",
    "\n",
    "students = [ {'name':n, 'age':a,'grade':g} for n, a, g in zip (name, age, grade)]\n",
    "print(students)\n",
    "# students = [\n",
    "#     {\"name\": \"jane\", \"age\": 22, \"grade\": 'A'},\n",
    "#     {\"name\": \"dave\", \"age\": 32, \"grade\": 'B'},\n",
    "#     {\"name\": \"sally\", \"age\": 17, \"grade\": 'B'}\n",
    "# ]\n",
    "result = sorted(students, key = itemgetter('age'))\n",
    "print(result)"
   ]
  },
  {
   "cell_type": "code",
   "execution_count": 54,
   "id": "60df3925-d01c-43c9-bcd5-ae208de0bd7a",
   "metadata": {},
   "outputs": [
    {
     "name": "stdout",
     "output_type": "stream",
     "text": [
      "('sally', 17, 'B')\n",
      "('jane', 22, 'A')\n",
      "('dave', 32, 'B')\n"
     ]
    }
   ],
   "source": [
    "# operator.attrgetter()\n",
    "from operator import attrgetter\n",
    "\n",
    "class Student:\n",
    "    def __init__(self, name, age, grade):\n",
    "        self.name = name\n",
    "        self.age = age\n",
    "        self.grade = grade \n",
    "    def pr(self):\n",
    "        return self.name , self.age, self.grade\n",
    "students = [\n",
    "    Student('jane',22,'A'),\n",
    "    Student('dave',32,'B'),\n",
    "    Student('sally',17,'B')\n",
    "]\n",
    "\n",
    "result = sorted (students, key = attrgetter('age'))\n",
    "for r in result:\n",
    "    print(r.pr())"
   ]
  },
  {
   "cell_type": "code",
   "execution_count": 65,
   "id": "0d25128c-75cf-48fb-9d7d-4a0a45a4df41",
   "metadata": {},
   "outputs": [
    {
     "name": "stdout",
     "output_type": "stream",
     "text": [
      "29191\n",
      "29196\n",
      "29201\n",
      "29206\n",
      "29211\n"
     ]
    }
   ],
   "source": [
    "#shutil\n",
    "import shutil, time as t\n",
    "\n",
    "for n in range(5):\n",
    "    tstamp = str(round(t.time()))[-5:]\n",
    "    print(tstamp)\n",
    "    shutil.copy(\"README.md\",f\"./backup/README_{tstamp}.md.bak\")\n",
    "    t.sleep(5)"
   ]
  },
  {
   "cell_type": "code",
   "execution_count": 72,
   "id": "ecdcb834-1c24-4435-bc98-fa98e6f161c8",
   "metadata": {},
   "outputs": [
    {
     "name": "stdout",
     "output_type": "stream",
     "text": [
      "./backup\\README_29191.md.bak\n",
      "./backup\\README_29196.md.bak\n",
      "./backup\\README_29201.md.bak\n",
      "./backup\\README_29206.md.bak\n",
      "./backup\\README_29211.md.bak\n",
      "./backup\\README.md\n"
     ]
    }
   ],
   "source": [
    "# glob\n",
    "import glob\n",
    "for file in glob.glob(\"./backup/*.bak\"):\n",
    "    print(file)\n",
    "for file in glob.glob(\"./backup/*.md\"):\n",
    "    print(file)"
   ]
  },
  {
   "cell_type": "code",
   "execution_count": 74,
   "id": "c777ac7e-901e-45c8-bc9c-01eb37dccd89",
   "metadata": {},
   "outputs": [],
   "source": [
    "import pickle\n",
    "f = open(\"test.txt\", 'wb')\n",
    "data = {1: 'python', 2: 'you need'}\n",
    "pickle.dump(data, f)\n",
    "f.close()"
   ]
  },
  {
   "cell_type": "code",
   "execution_count": 75,
   "id": "2a33a0d9-36ac-4529-9486-cce58e5adda5",
   "metadata": {},
   "outputs": [
    {
     "name": "stdout",
     "output_type": "stream",
     "text": [
      "{1: 'python', 2: 'you need'}\n"
     ]
    }
   ],
   "source": [
    "import pickle\n",
    "f = open(\"test.txt\",'rb')\n",
    "data = pickle.load(f)\n",
    "print(data)"
   ]
  },
  {
   "cell_type": "markdown",
   "id": "9b38cc6a-d9fc-41c6-af78-29848df64a31",
   "metadata": {},
   "source": [
    "## os"
   ]
  },
  {
   "cell_type": "code",
   "execution_count": 78,
   "id": "13d3071c-ebcc-4437-af03-cafddc9a40aa",
   "metadata": {
    "scrolled": true
   },
   "outputs": [
    {
     "data": {
      "text/plain": [
       "environ{'%JAVA_HOME%': 'C:\\\\Program Files (x86)\\\\Java\\\\jre1.8.0_441\\\\',\n",
       "        '%JAVA_HOME%\\\\BIN': 'C:\\\\Program Files (x86)\\\\Java\\\\jre1.8.0_441\\\\bin',\n",
       "        'ALLUSERSPROFILE': 'C:\\\\ProgramData',\n",
       "        'APPDATA': 'C:\\\\Users\\\\Admin\\\\AppData\\\\Roaming',\n",
       "        'COMMONPROGRAMFILES': 'C:\\\\Program Files\\\\Common Files',\n",
       "        'COMMONPROGRAMFILES(X86)': 'C:\\\\Program Files (x86)\\\\Common Files',\n",
       "        'COMMONPROGRAMW6432': 'C:\\\\Program Files\\\\Common Files',\n",
       "        'COMPUTERNAME': 'DESKTOP-8EI80N4',\n",
       "        'COMSPEC': 'C:\\\\WINDOWS\\\\system32\\\\cmd.exe',\n",
       "        'DRIVERDATA': 'C:\\\\Windows\\\\System32\\\\Drivers\\\\DriverData',\n",
       "        'EFC_12972': '1',\n",
       "        'HOMEDRIVE': 'C:',\n",
       "        'HOMEPATH': '\\\\Users\\\\Admin',\n",
       "        'IPY_INTERRUPT_EVENT': '1352',\n",
       "        'JPY_INTERRUPT_EVENT': '1352',\n",
       "        'JPY_PARENT_PID': '1772',\n",
       "        'JPY_SESSION_NAME': 'D:\\\\hhm\\\\code\\\\python07.ipynb',\n",
       "        'LOCALAPPDATA': 'C:\\\\Users\\\\Admin\\\\AppData\\\\Local',\n",
       "        'LOGONSERVER': '\\\\\\\\DESKTOP-8EI80N4',\n",
       "        'NUMBER_OF_PROCESSORS': '16',\n",
       "        'ONEDRIVE': 'C:\\\\Users\\\\Admin\\\\OneDrive',\n",
       "        'OS': 'Windows_NT',\n",
       "        'PATH': 'C:\\\\Program Files (x86)\\\\Common Files\\\\Oracle\\\\Java\\\\java8path;C:\\\\Program Files (x86)\\\\Common Files\\\\Oracle\\\\Java\\\\javapath;C:\\\\WINDOWS\\\\system32;C:\\\\WINDOWS;C:\\\\WINDOWS\\\\System32\\\\Wbem;C:\\\\WINDOWS\\\\System32\\\\WindowsPowerShell\\\\v1.0\\\\;C:\\\\WINDOWS\\\\System32\\\\OpenSSH\\\\;C:\\\\Program Files (x86)\\\\NVIDIA Corporation\\\\PhysX\\\\Common;C:\\\\Program Files\\\\Git\\\\cmd;C:\\\\Users\\\\Admin\\\\AppData\\\\Local\\\\Programs\\\\Python\\\\Python313\\\\Scripts\\\\;C:\\\\Users\\\\Admin\\\\AppData\\\\Local\\\\Programs\\\\Python\\\\Python313\\\\;C:\\\\Users\\\\Admin\\\\AppData\\\\Local\\\\Programs\\\\Python\\\\Launcher\\\\;C:\\\\Users\\\\Admin\\\\AppData\\\\Local\\\\Microsoft\\\\WindowsApps;C:\\\\Program Files (x86)\\\\Brackets\\\\;C:\\\\Users\\\\Admin\\\\AppData\\\\Local\\\\Programs\\\\Microsoft VS Code\\\\bin;C:\\\\Program Files (x86)\\\\Java\\\\jre1.8.0_441\\\\bin;',\n",
       "        'PATHEXT': '.COM;.EXE;.BAT;.CMD;.VBS;.VBE;.JS;.JSE;.WSF;.WSH;.MSC',\n",
       "        'PROCESSOR_ARCHITECTURE': 'AMD64',\n",
       "        'PROCESSOR_IDENTIFIER': 'Intel64 Family 6 Model 183 Stepping 1, GenuineIntel',\n",
       "        'PROCESSOR_LEVEL': '6',\n",
       "        'PROCESSOR_REVISION': 'b701',\n",
       "        'PROGRAMDATA': 'C:\\\\ProgramData',\n",
       "        'PROGRAMFILES': 'C:\\\\Program Files',\n",
       "        'PROGRAMFILES(X86)': 'C:\\\\Program Files (x86)',\n",
       "        'PROGRAMW6432': 'C:\\\\Program Files',\n",
       "        'PROMPT': '$P$G',\n",
       "        'PSMODULEPATH': 'C:\\\\Program Files\\\\WindowsPowerShell\\\\Modules;C:\\\\WINDOWS\\\\system32\\\\WindowsPowerShell\\\\v1.0\\\\Modules',\n",
       "        'PUBLIC': 'C:\\\\Users\\\\Public',\n",
       "        'SESSIONNAME': 'Console',\n",
       "        'SYSTEMDRIVE': 'C:',\n",
       "        'SYSTEMROOT': 'C:\\\\WINDOWS',\n",
       "        'TEMP': 'C:\\\\Users\\\\Admin\\\\AppData\\\\Local\\\\Temp',\n",
       "        'TMP': 'C:\\\\Users\\\\Admin\\\\AppData\\\\Local\\\\Temp',\n",
       "        'USERDOMAIN': 'DESKTOP-8EI80N4',\n",
       "        'USERDOMAIN_ROAMINGPROFILE': 'DESKTOP-8EI80N4',\n",
       "        'USERNAME': 'Admin',\n",
       "        'USERPROFILE': 'C:\\\\Users\\\\Admin',\n",
       "        'WINDIR': 'C:\\\\WINDOWS',\n",
       "        'PYDEVD_USE_FRAME_EVAL': 'NO',\n",
       "        'TERM': 'xterm-color',\n",
       "        'CLICOLOR': '1',\n",
       "        'FORCE_COLOR': '1',\n",
       "        'CLICOLOR_FORCE': '1',\n",
       "        'PAGER': 'cat',\n",
       "        'GIT_PAGER': 'cat',\n",
       "        'MPLBACKEND': 'module://matplotlib_inline.backend_inline'}"
      ]
     },
     "execution_count": 78,
     "metadata": {},
     "output_type": "execute_result"
    }
   ],
   "source": [
    "import os\n",
    "os.environ"
   ]
  },
  {
   "cell_type": "code",
   "execution_count": 84,
   "id": "d707e3d8-5cfc-4c4a-8e98-1195af143147",
   "metadata": {
    "scrolled": true
   },
   "outputs": [
    {
     "data": {
      "text/plain": [
       "'C:\\\\WINDOWS'"
      ]
     },
     "execution_count": 84,
     "metadata": {},
     "output_type": "execute_result"
    }
   ],
   "source": [
    "import os\n",
    "# 환경변수 중 PATH 값\n",
    "os.environ['PATH']\n",
    "# 디렉토리 변경\n",
    "os.chdir(\"C:\\\\WINDOWS\")\n",
    "# 디렉토리 위치 받기\n",
    "os.getcwd()"
   ]
  },
  {
   "cell_type": "code",
   "execution_count": 88,
   "id": "1b4c720d-7c77-4253-b9f7-1f52f45c085b",
   "metadata": {},
   "outputs": [
    {
     "data": {
      "text/plain": [
       "1"
      ]
     },
     "execution_count": 88,
     "metadata": {},
     "output_type": "execute_result"
    }
   ],
   "source": [
    "os.system(\"dir\")\n",
    "os.system(\"dlsfd\")"
   ]
  },
  {
   "cell_type": "code",
   "execution_count": 89,
   "id": "9039d395-79c4-4712-aa8e-4e76a965ce44",
   "metadata": {},
   "outputs": [
    {
     "data": {
      "text/plain": [
       "0"
      ]
     },
     "execution_count": 89,
     "metadata": {},
     "output_type": "execute_result"
    }
   ],
   "source": [
    "# 시스템 명령어 호출\n",
    "os.system(\"python -V\") # 에러시 1을 반환"
   ]
  },
  {
   "cell_type": "code",
   "execution_count": 90,
   "id": "09bcaf8e-16c5-4646-9b44-ffde9c3e9180",
   "metadata": {
    "scrolled": true
   },
   "outputs": [
    {
     "data": {
      "text/plain": [
       "' C 드라이브의 볼륨에는 이름이 없습니다.\\n 볼륨 일련 번호: AC8F-6757\\n\\n C:\\\\Windows 디렉터리\\n\\n2025-02-14  오전 08:53    <DIR>          .\\n2025-01-10  오후 12:33    <DIR>          appcompat\\n2025-02-14  오전 10:27    <DIR>          apppatch\\n2025-02-19  오전 09:36    <DIR>          AppReadiness\\n2024-12-31  오전 10:42    <DIR>          assembly\\n2025-01-24  오후 04:49    <DIR>          bcastdvr\\n2024-12-31  오후 12:36           126,976 bfsvc.exe\\n2024-04-01  오후 04:34    <DIR>          Boot\\n2024-04-01  오후 04:26    <DIR>          Branding\\n2024-10-05  오전 09:25    <DIR>          BrowserCore\\n2025-02-19  오전 10:59    <DIR>          CbsTemp\\n2024-04-02  오전 01:34    <DIR>          Containers\\n2024-12-31  오전 09:52    <DIR>          CSC\\n2024-04-01  오후 04:26    <DIR>          Cursors\\n2025-02-13  오전 08:48    <DIR>          debug\\n2024-04-01  오후 04:34    <DIR>          diagnostics\\n2024-04-01  오후 04:34    <DIR>          DiagTrack\\n2024-04-02  오전 01:31    <DIR>          DigitalLocker\\n2024-04-02  오전 01:31    <DIR>          en-US\\n2024-12-31  오후 12:36         2,864,984 explorer.exe\\n2024-04-01  오후 04:26    <DIR>          GameBarPresenceWriter\\n2024-04-02  오전 01:33    <DIR>          Globalization\\n2024-12-31  오전 10:49    <DIR>          HancomIME\\n2024-04-02  오전 01:31    <DIR>          Help\\n2024-12-31  오후 12:36         1,085,440 HelpPane.exe\\n2024-10-05  오전 09:17            40,960 hh.exe\\n2024-04-01  오후 04:34    <DIR>          IdentityCRL\\n2024-10-05  오전 09:25    <DIR>          IME\\n2025-01-10  오후 12:47    <DIR>          ImmersiveControlPanel\\n2024-10-05  오전 09:11    <DIR>          InboxApps\\n2025-02-17  오후 04:32    <DIR>          INF\\n2024-04-01  오후 04:34    <DIR>          InputMethod\\n2024-10-05  오전 09:25    <DIR>          ko-KR\\n2024-04-01  오후 04:26    <DIR>          L2Schemas\\n2025-01-24  오후 04:02    <DIR>          LiveKernelReports\\n2025-02-17  오후 04:41    <DIR>          Logs\\n2024-04-01  오후 04:22            43,131 mib.bin\\n2025-02-19  오전 09:06    <DIR>          Microsoft.NET\\n2024-04-01  오후 04:26    <DIR>          Migration\\n2024-04-01  오후 04:26    <DIR>          ModemLogs\\n2024-10-05  오전 09:17           360,448 notepad.exe\\n2024-04-02  오전 01:33    <DIR>          OCR\\n2024-04-01  오후 04:26    <DIR>          Offline Web Pages\\n2024-12-31  오전 09:52    <DIR>          Panther\\n2024-04-01  오후 04:26    <DIR>          Performance\\n2025-02-17  오후 04:27            12,226 PFRO.log\\n2024-04-01  오후 04:34    <DIR>          PLA\\n2025-01-10  오후 12:47    <DIR>          PolicyDefinitions\\n2025-02-19  오전 09:35    <DIR>          Prefetch\\n2024-04-01  오후 04:22            25,359 Professional.xml\\n2025-01-10  오후 12:47    <DIR>          Provisioning\\n2024-12-31  오후 12:36           606,208 regedit.exe\\n2024-04-01  오후 04:34    <DIR>          Registration\\n2024-04-02  오전 01:34    <DIR>          RemotePackages\\n2024-04-01  오후 04:26    <DIR>          rescache\\n2024-04-01  오후 04:34    <DIR>          Resources\\n2024-04-01  오후 04:26    <DIR>          SchCache\\n2025-02-10  오후 04:52    <DIR>          schemas\\n2024-04-02  오전 01:34    <DIR>          security\\n2024-12-31  오전 09:50    <DIR>          ServiceProfiles\\n2024-12-31  오전 09:52    <DIR>          ServiceState\\n2024-10-05  오전 09:25    <DIR>          servicing\\n2024-04-01  오후 04:29    <DIR>          Setup\\n2025-01-10  오후 12:47    <DIR>          ShellComponents\\n2025-01-10  오후 12:47    <DIR>          ShellExperiences\\n2024-04-01  오후 04:34    <DIR>          SKB\\n2024-12-31  오전 09:55    <DIR>          SoftwareDistribution\\n2024-04-01  오후 04:26    <DIR>          Speech\\n2024-04-01  오후 04:26    <DIR>          Speech_OneCore\\n2024-12-31  오후 12:36           241,664 splwow64.exe\\n2024-04-01  오후 04:26    <DIR>          System\\n2024-04-01  오후 04:24               219 system.ini\\n2025-02-19  오전 09:08    <DIR>          System32\\n2024-10-05  오전 09:25    <DIR>          SystemApps\\n2025-01-24  오후 04:49    <DIR>          SystemResources\\n2025-02-19  오전 09:15    <DIR>          SystemTemp\\n2025-02-19  오전 09:08    <DIR>          SysWOW64\\n2024-04-01  오후 04:26    <DIR>          TAPI\\n2024-12-31  오전 09:51    <DIR>          Tasks\\n2025-02-19  오전 09:15    <DIR>          Temp\\n2024-04-01  오후 04:26    <DIR>          tracing\\n2024-04-01  오후 04:26    <DIR>          twain_32\\n2024-04-01  오후 04:22            69,120 twain_32.dll\\n2025-01-10  오후 12:47    <DIR>          UUS\\n2024-04-01  오후 04:26    <DIR>          Vss\\n2024-04-01  오후 04:26    <DIR>          WaaS\\n2024-04-01  오후 04:34    <DIR>          Web\\n2024-04-01  오후 04:24                92 win.ini\\n2025-02-19  오전 09:36               276 WindowsUpdate.log\\n2024-04-01  오후 04:22            12,288 winhlp32.exe\\n2025-02-14  오전 08:59    <DIR>          WinSxS\\n2024-04-02  오전 01:34           316,640 WMSysPr9.prx\\n2024-10-05  오전 09:11    <DIR>          WUModels\\n              16개 파일           5,806,031 바이트\\n              77개 디렉터리  271,800,905,728 바이트 남음\\n'"
      ]
     },
     "execution_count": 90,
     "metadata": {},
     "output_type": "execute_result"
    }
   ],
   "source": [
    "f = os.popen(\"dir\")\n",
    "f.read()"
   ]
  },
  {
   "cell_type": "code",
   "execution_count": 95,
   "id": "cdb0dad3-026e-47e0-aae9-a0db69a152c4",
   "metadata": {},
   "outputs": [],
   "source": [
    "# 시스템 명령어 호출\n",
    "def what(what):\n",
    "    if not os.system(what): #에러시 1을 반환\n",
    "        f= os.popen(f\"{what} -V\")\n",
    "        print(f.read())\n",
    "    else:\n",
    "        print('없는 명령어 입니다.')"
   ]
  },
  {
   "cell_type": "code",
   "execution_count": 96,
   "id": "b02cafd7-2c73-41fc-85b7-36c2dcfec64d",
   "metadata": {},
   "outputs": [
    {
     "name": "stdout",
     "output_type": "stream",
     "text": [
      "Python 3.13.1\n",
      "\n"
     ]
    }
   ],
   "source": [
    "what(\"python\")"
   ]
  },
  {
   "cell_type": "code",
   "execution_count": 97,
   "id": "bc2ee2a3-5d71-4753-943b-70d452d06075",
   "metadata": {},
   "outputs": [
    {
     "ename": "IndentationError",
     "evalue": "unexpected indent (2887235472.py, line 12)",
     "output_type": "error",
     "traceback": [
      "\u001b[1;36m  Cell \u001b[1;32mIn[97], line 12\u001b[1;36m\u001b[0m\n\u001b[1;33m    myzip.extractall()\u001b[0m\n\u001b[1;37m    ^\u001b[0m\n\u001b[1;31mIndentationError\u001b[0m\u001b[1;31m:\u001b[0m unexpected indent\n"
     ]
    }
   ],
   "source": [
    "# zipfile\n",
    "#import \n",
    "\n",
    "#파일 합치기\n",
    "#with zipfile.ZipFile('mytext.zip','w') as ,yzip\n",
    "#     mtzip.write('a.txt')\n",
    "#     mtzip.write('b.txt')\n",
    "#     mtzip.write('c.txt')\n",
    "\n",
    "## 해제하기\n",
    "#with zipfile.ZipFile('mytext.zip') as myzip:\n",
    "#    myzip.extractall()"
   ]
  },
  {
   "cell_type": "code",
   "execution_count": 98,
   "id": "6e13ef51-b233-4f07-b399-427f529b3522",
   "metadata": {},
   "outputs": [],
   "source": [
    "#특정 파일만 해제하기\n",
    "#with.zipfile.ZipFile('mytext.zip') as myzip:\n",
    "#     myzip.extract('a.txt')"
   ]
  },
  {
   "cell_type": "markdown",
   "id": "43bf03bc-0d1c-4afa-bb55-7ecbcea672f4",
   "metadata": {},
   "source": [
    "## Threading"
   ]
  },
  {
   "cell_type": "code",
   "execution_count": 99,
   "id": "ce9b3915-dd51-4144-8783-9998f645ad5e",
   "metadata": {},
   "outputs": [],
   "source": [
    "import time\n",
    "def long_tesk():\n",
    "    for i in range(5):\n",
    "        time.sleep(1)\n",
    "        print(f\"일하는 중...{i}\")"
   ]
  },
  {
   "cell_type": "code",
   "execution_count": null,
   "id": "17f35dee-15e8-45a8-aac3-5f87493698a5",
   "metadata": {
    "scrolled": true
   },
   "outputs": [],
   "source": [
    "# 기본 작업 5초 X 5회 = 25초\n",
    "start = time.time()\n",
    "print(\"=====Start=====\")\n",
    "for n in range(5):\n",
    "        long_tesk()\n",
    "print(\"=====End=====\")\n",
    "print(time.time() - start())"
   ]
  },
  {
   "cell_type": "code",
   "execution_count": null,
   "id": "a4863e84-2cf2-400e-89fc-fed8687666c0",
   "metadata": {},
   "outputs": [],
   "source": [
    "#thread를 사용\n",
    "import threading\n",
    "start = time.time()\n",
    "print(\"=====Start=====\")\n",
    "threads = []\n",
    "for n in range(5):\n",
    "    t = threading.Thread(target=long_tesk)\n",
    "    threads.append(t)\n",
    "for t in threads:\n",
    "    t.start()\n",
    "    for t in threads:\n",
    "        t.join\n",
    "print(\"=====End=====\")\n",
    "print(time.time()- start)"
   ]
  },
  {
   "cell_type": "markdown",
   "id": "bcd234ed-35a8-4754-97f4-5ff737d1b958",
   "metadata": {},
   "source": [
    "## etc"
   ]
  },
  {
   "cell_type": "code",
   "execution_count": 112,
   "id": "d822fe11-d608-4d23-bcde-1092034e9804",
   "metadata": {},
   "outputs": [],
   "source": [
    "#tempfile\n",
    "import tempfile\n",
    "filename = tempfile.mkstemp()\n",
    "filename\n",
    "f.close()"
   ]
  },
  {
   "cell_type": "code",
   "execution_count": 114,
   "id": "0aba082d-27fa-4cb5-972e-ea671227e56a",
   "metadata": {},
   "outputs": [
    {
     "name": "stdout",
     "output_type": "stream",
     "text": [
      "오류가 발생했습니다.\n",
      "Traceback (most recent call last):\n",
      "  File \"C:\\Users\\Admin\\AppData\\Local\\Temp\\ipykernel_6720\\1622472386.py\", line 9, in main\n",
      "    b()\n",
      "    ~^^\n",
      "  File \"C:\\Users\\Admin\\AppData\\Local\\Temp\\ipykernel_6720\\1622472386.py\", line 6, in b\n",
      "    a()\n",
      "    ~^^\n",
      "  File \"C:\\Users\\Admin\\AppData\\Local\\Temp\\ipykernel_6720\\1622472386.py\", line 4, in a\n",
      "    return 1/0\n",
      "           ~^~\n",
      "ZeroDivisionError: division by zero\n",
      "\n"
     ]
    }
   ],
   "source": [
    "#traceback\n",
    "import traceback\n",
    "def a():\n",
    "    return 1/0\n",
    "def b():\n",
    "    a()\n",
    "def main():\n",
    "    try:\n",
    "        b()\n",
    "    except:\n",
    "        print(\"오류가 발생했습니다.\")\n",
    "        print(traceback.format_exc())\n",
    "main()"
   ]
  },
  {
   "cell_type": "markdown",
   "id": "e0361b48-9a95-4757-a76d-252d7a273ff7",
   "metadata": {},
   "source": [
    "## JSON"
   ]
  },
  {
   "cell_type": "code",
   "execution_count": 131,
   "id": "6aa0afab-fa59-4c55-aeac-ba7cef583e89",
   "metadata": {},
   "outputs": [
    {
     "data": {
      "text/plain": [
       "{'name': '홍길동', 'birth': '0525', 'age': 30}"
      ]
     },
     "execution_count": 131,
     "metadata": {},
     "output_type": "execute_result"
    }
   ],
   "source": [
    "{\n",
    "    \"name\":\"홍길동\",\n",
    "    \"birth\":\"0525\",\n",
    "    \"age\": 30\n",
    "}"
   ]
  },
  {
   "cell_type": "code",
   "execution_count": null,
   "id": "019a1095-80cd-475e-9bc9-6d0c7ec31aa5",
   "metadata": {
    "scrolled": true
   },
   "outputs": [],
   "source": [
    "import requests\n",
    "# import json\n",
    "url = 'https://jsonplaceholder.typicode.com/todos'\n",
    "res = requests.get(url)\n",
    "for n in res.json():\n",
    "    print(n)"
   ]
  },
  {
   "cell_type": "code",
   "execution_count": 156,
   "id": "138347ff-84db-4e60-8990-7b6f67609f37",
   "metadata": {},
   "outputs": [
    {
     "ename": "PermissionError",
     "evalue": "[Errno 13] Permission denied: 'todo.json'",
     "output_type": "error",
     "traceback": [
      "\u001b[1;31m---------------------------------------------------------------------------\u001b[0m",
      "\u001b[1;31mPermissionError\u001b[0m                           Traceback (most recent call last)",
      "Cell \u001b[1;32mIn[156], line 6\u001b[0m\n\u001b[0;32m      4\u001b[0m data \u001b[38;5;241m=\u001b[39m requests\u001b[38;5;241m.\u001b[39mget(url)\u001b[38;5;241m.\u001b[39mjson()[\u001b[38;5;241m0\u001b[39m] \u001b[38;5;66;03m# JSON ->> DICT\u001b[39;00m\n\u001b[0;32m      5\u001b[0m data [\u001b[38;5;124m'\u001b[39m\u001b[38;5;124mtest\u001b[39m\u001b[38;5;124m'\u001b[39m] \u001b[38;5;241m=\u001b[39m \u001b[38;5;124m\"\u001b[39m\u001b[38;5;124m한글도 되나보자\u001b[39m\u001b[38;5;124m\"\u001b[39m \u001b[38;5;66;03m# DICT에 자료삽입\u001b[39;00m\n\u001b[1;32m----> 6\u001b[0m \u001b[38;5;28;01mwith\u001b[39;00m \u001b[38;5;28;43mopen\u001b[39;49m\u001b[43m(\u001b[49m\u001b[38;5;124;43m'\u001b[39;49m\u001b[38;5;124;43mtodo.json\u001b[39;49m\u001b[38;5;124;43m'\u001b[39;49m\u001b[43m,\u001b[49m\u001b[43m \u001b[49m\u001b[38;5;124;43m'\u001b[39;49m\u001b[38;5;124;43mw\u001b[39;49m\u001b[38;5;124;43m'\u001b[39;49m\u001b[43m)\u001b[49m \u001b[38;5;28;01mas\u001b[39;00m f: \n\u001b[0;32m      7\u001b[0m     json\u001b[38;5;241m.\u001b[39mdump(data, f) \u001b[38;5;66;03m#DICT --> JSON\u001b[39;00m\n\u001b[0;32m      8\u001b[0m data_s \u001b[38;5;241m=\u001b[39m json\u001b[38;5;241m.\u001b[39mdumps(data) \u001b[38;5;66;03m#한글 깨짐\u001b[39;00m\n",
      "File \u001b[1;32m~\\AppData\\Local\\Programs\\Python\\Python313\\Lib\\site-packages\\IPython\\core\\interactiveshell.py:324\u001b[0m, in \u001b[0;36m_modified_open\u001b[1;34m(file, *args, **kwargs)\u001b[0m\n\u001b[0;32m    317\u001b[0m \u001b[38;5;28;01mif\u001b[39;00m file \u001b[38;5;129;01min\u001b[39;00m {\u001b[38;5;241m0\u001b[39m, \u001b[38;5;241m1\u001b[39m, \u001b[38;5;241m2\u001b[39m}:\n\u001b[0;32m    318\u001b[0m     \u001b[38;5;28;01mraise\u001b[39;00m \u001b[38;5;167;01mValueError\u001b[39;00m(\n\u001b[0;32m    319\u001b[0m         \u001b[38;5;124mf\u001b[39m\u001b[38;5;124m\"\u001b[39m\u001b[38;5;124mIPython won\u001b[39m\u001b[38;5;124m'\u001b[39m\u001b[38;5;124mt let you open fd=\u001b[39m\u001b[38;5;132;01m{\u001b[39;00mfile\u001b[38;5;132;01m}\u001b[39;00m\u001b[38;5;124m by default \u001b[39m\u001b[38;5;124m\"\u001b[39m\n\u001b[0;32m    320\u001b[0m         \u001b[38;5;124m\"\u001b[39m\u001b[38;5;124mas it is likely to crash IPython. If you know what you are doing, \u001b[39m\u001b[38;5;124m\"\u001b[39m\n\u001b[0;32m    321\u001b[0m         \u001b[38;5;124m\"\u001b[39m\u001b[38;5;124myou can use builtins\u001b[39m\u001b[38;5;124m'\u001b[39m\u001b[38;5;124m open.\u001b[39m\u001b[38;5;124m\"\u001b[39m\n\u001b[0;32m    322\u001b[0m     )\n\u001b[1;32m--> 324\u001b[0m \u001b[38;5;28;01mreturn\u001b[39;00m \u001b[43mio_open\u001b[49m\u001b[43m(\u001b[49m\u001b[43mfile\u001b[49m\u001b[43m,\u001b[49m\u001b[43m \u001b[49m\u001b[38;5;241;43m*\u001b[39;49m\u001b[43margs\u001b[49m\u001b[43m,\u001b[49m\u001b[43m \u001b[49m\u001b[38;5;241;43m*\u001b[39;49m\u001b[38;5;241;43m*\u001b[39;49m\u001b[43mkwargs\u001b[49m\u001b[43m)\u001b[49m\n",
      "\u001b[1;31mPermissionError\u001b[0m: [Errno 13] Permission denied: 'todo.json'"
     ]
    }
   ],
   "source": [
    "import requests\n",
    "import json\n",
    "url = 'https://jsonplaceholder.typicode.com/todos' #JSON 파일을 읽어오기\n",
    "data = requests.get(url).json()[0] # JSON ->> DICT\n",
    "data ['test'] = \"한글도 되나보자\" # DICT에 자료삽입\n",
    "with open('todo.json', 'w') as f: \n",
    "    json.dump(data, f) #DICT --> JSON\n",
    "data_s = json.dumps(data) #한글 깨짐\n",
    "# data_s = json.dumps(data,ensure_ascii=False)\n",
    "print(data_s)"
   ]
  },
  {
   "cell_type": "code",
   "execution_count": null,
   "id": "cc572cf6-3c9c-41dd-aa1f-9ce06a034b8a",
   "metadata": {},
   "outputs": [],
   "source": [
    "with open ('todo.json') as f:\n",
    "    data = json.load(f)  #JSON -> DICT\n",
    "print(json.loads(data_s))\n",
    "print(data)"
   ]
  },
  {
   "cell_type": "code",
   "execution_count": 157,
   "id": "c4b5c481-9b68-4e3f-8de6-36628744be81",
   "metadata": {},
   "outputs": [
    {
     "ename": "PermissionError",
     "evalue": "[Errno 13] Permission denied: 'wikidocs_1.html'",
     "output_type": "error",
     "traceback": [
      "\u001b[1;31m---------------------------------------------------------------------------\u001b[0m",
      "\u001b[1;31mPermissionError\u001b[0m                           Traceback (most recent call last)",
      "Cell \u001b[1;32mIn[157], line 8\u001b[0m\n\u001b[0;32m      6\u001b[0m         \u001b[38;5;28;01mwith\u001b[39;00m \u001b[38;5;28mopen\u001b[39m(\u001b[38;5;124m'\u001b[39m\u001b[38;5;124mwikidocs_\u001b[39m\u001b[38;5;132;01m%s\u001b[39;00m\u001b[38;5;124m.html\u001b[39m\u001b[38;5;124m'\u001b[39m \u001b[38;5;241m%\u001b[39m page, \u001b[38;5;124m'\u001b[39m\u001b[38;5;124mwb\u001b[39m\u001b[38;5;124m'\u001b[39m) \u001b[38;5;28;01mas\u001b[39;00m f:\n\u001b[0;32m      7\u001b[0m             f\u001b[38;5;241m.\u001b[39mwrite(s\u001b[38;5;241m.\u001b[39mread())\n\u001b[1;32m----> 8\u001b[0m \u001b[43mget_wikidocs\u001b[49m\u001b[43m(\u001b[49m\u001b[43mn\u001b[49m\u001b[43m)\u001b[49m\n",
      "Cell \u001b[1;32mIn[157], line 6\u001b[0m, in \u001b[0;36mget_wikidocs\u001b[1;34m(page)\u001b[0m\n\u001b[0;32m      4\u001b[0m resource \u001b[38;5;241m=\u001b[39m \u001b[38;5;124m'\u001b[39m\u001b[38;5;124mhttps://wikidocs.net/\u001b[39m\u001b[38;5;132;01m{}\u001b[39;00m\u001b[38;5;124m'\u001b[39m\u001b[38;5;241m.\u001b[39mformat(page)\n\u001b[0;32m      5\u001b[0m \u001b[38;5;28;01mwith\u001b[39;00m urllib\u001b[38;5;241m.\u001b[39mrequest\u001b[38;5;241m.\u001b[39murlopen(resource) \u001b[38;5;28;01mas\u001b[39;00m s:\n\u001b[1;32m----> 6\u001b[0m     \u001b[38;5;28;01mwith\u001b[39;00m \u001b[38;5;28;43mopen\u001b[39;49m\u001b[43m(\u001b[49m\u001b[38;5;124;43m'\u001b[39;49m\u001b[38;5;124;43mwikidocs_\u001b[39;49m\u001b[38;5;132;43;01m%s\u001b[39;49;00m\u001b[38;5;124;43m.html\u001b[39;49m\u001b[38;5;124;43m'\u001b[39;49m\u001b[43m \u001b[49m\u001b[38;5;241;43m%\u001b[39;49m\u001b[43m \u001b[49m\u001b[43mpage\u001b[49m\u001b[43m,\u001b[49m\u001b[43m \u001b[49m\u001b[38;5;124;43m'\u001b[39;49m\u001b[38;5;124;43mwb\u001b[39;49m\u001b[38;5;124;43m'\u001b[39;49m\u001b[43m)\u001b[49m \u001b[38;5;28;01mas\u001b[39;00m f:\n\u001b[0;32m      7\u001b[0m         f\u001b[38;5;241m.\u001b[39mwrite(s\u001b[38;5;241m.\u001b[39mread())\n",
      "File \u001b[1;32m~\\AppData\\Local\\Programs\\Python\\Python313\\Lib\\site-packages\\IPython\\core\\interactiveshell.py:324\u001b[0m, in \u001b[0;36m_modified_open\u001b[1;34m(file, *args, **kwargs)\u001b[0m\n\u001b[0;32m    317\u001b[0m \u001b[38;5;28;01mif\u001b[39;00m file \u001b[38;5;129;01min\u001b[39;00m {\u001b[38;5;241m0\u001b[39m, \u001b[38;5;241m1\u001b[39m, \u001b[38;5;241m2\u001b[39m}:\n\u001b[0;32m    318\u001b[0m     \u001b[38;5;28;01mraise\u001b[39;00m \u001b[38;5;167;01mValueError\u001b[39;00m(\n\u001b[0;32m    319\u001b[0m         \u001b[38;5;124mf\u001b[39m\u001b[38;5;124m\"\u001b[39m\u001b[38;5;124mIPython won\u001b[39m\u001b[38;5;124m'\u001b[39m\u001b[38;5;124mt let you open fd=\u001b[39m\u001b[38;5;132;01m{\u001b[39;00mfile\u001b[38;5;132;01m}\u001b[39;00m\u001b[38;5;124m by default \u001b[39m\u001b[38;5;124m\"\u001b[39m\n\u001b[0;32m    320\u001b[0m         \u001b[38;5;124m\"\u001b[39m\u001b[38;5;124mas it is likely to crash IPython. If you know what you are doing, \u001b[39m\u001b[38;5;124m\"\u001b[39m\n\u001b[0;32m    321\u001b[0m         \u001b[38;5;124m\"\u001b[39m\u001b[38;5;124myou can use builtins\u001b[39m\u001b[38;5;124m'\u001b[39m\u001b[38;5;124m open.\u001b[39m\u001b[38;5;124m\"\u001b[39m\n\u001b[0;32m    322\u001b[0m     )\n\u001b[1;32m--> 324\u001b[0m \u001b[38;5;28;01mreturn\u001b[39;00m \u001b[43mio_open\u001b[49m\u001b[43m(\u001b[49m\u001b[43mfile\u001b[49m\u001b[43m,\u001b[49m\u001b[43m \u001b[49m\u001b[38;5;241;43m*\u001b[39;49m\u001b[43margs\u001b[49m\u001b[43m,\u001b[49m\u001b[43m \u001b[49m\u001b[38;5;241;43m*\u001b[39;49m\u001b[38;5;241;43m*\u001b[39;49m\u001b[43mkwargs\u001b[49m\u001b[43m)\u001b[49m\n",
      "\u001b[1;31mPermissionError\u001b[0m: [Errno 13] Permission denied: 'wikidocs_1.html'"
     ]
    }
   ],
   "source": [
    "#urllib\n",
    "import urllib.request\n",
    "def get_wikidocs(page):\n",
    "    resource = 'https://wikidocs.net/{}'.format(page)\n",
    "    with urllib.request.urlopen(resource) as s:\n",
    "        with open('wikidocs_%s.html' % page, 'wb') as f:\n",
    "            f.write(s.read())\n",
    "get_wikidocs(n)"
   ]
  },
  {
   "cell_type": "code",
   "execution_count": null,
   "id": "a143d240-9c7a-48f2-8cf0-1b19efb0257d",
   "metadata": {},
   "outputs": [],
   "source": [
    "# webbrowser\n",
    "import webbrowser\n",
    "webbrowser.open_new('http://python.org')"
   ]
  },
  {
   "cell_type": "code",
   "execution_count": 158,
   "id": "16cc6e27-dad5-422a-a98b-8a3838e43cc1",
   "metadata": {},
   "outputs": [
    {
     "data": {
      "text/plain": [
       "True"
      ]
     },
     "execution_count": 158,
     "metadata": {},
     "output_type": "execute_result"
    }
   ],
   "source": [
    "webbrowser.open('http://python.org')"
   ]
  },
  {
   "cell_type": "code",
   "execution_count": 159,
   "id": "8b2f02e0-6c24-4c7c-a7d5-24de94ee8314",
   "metadata": {},
   "outputs": [
    {
     "ename": "PermissionError",
     "evalue": "[Errno 13] Permission denied: 'posts_11.html'",
     "output_type": "error",
     "traceback": [
      "\u001b[1;31m---------------------------------------------------------------------------\u001b[0m",
      "\u001b[1;31mPermissionError\u001b[0m                           Traceback (most recent call last)",
      "Cell \u001b[1;32mIn[159], line 8\u001b[0m\n\u001b[0;32m      6\u001b[0m         \u001b[38;5;28;01mwith\u001b[39;00m \u001b[38;5;28mopen\u001b[39m(\u001b[38;5;124mf\u001b[39m\u001b[38;5;124m'\u001b[39m\u001b[38;5;124mposts_\u001b[39m\u001b[38;5;132;01m{\u001b[39;00mpage\u001b[38;5;132;01m}\u001b[39;00m\u001b[38;5;124m.html\u001b[39m\u001b[38;5;124m'\u001b[39m, \u001b[38;5;124m'\u001b[39m\u001b[38;5;124mwb\u001b[39m\u001b[38;5;124m'\u001b[39m) \u001b[38;5;28;01mas\u001b[39;00m f:\n\u001b[0;32m      7\u001b[0m             f\u001b[38;5;241m.\u001b[39mwrite(s\u001b[38;5;241m.\u001b[39mread())\n\u001b[1;32m----> 8\u001b[0m \u001b[43mget_posts\u001b[49m\u001b[43m(\u001b[49m\u001b[38;5;241;43m11\u001b[39;49m\u001b[43m)\u001b[49m\n",
      "Cell \u001b[1;32mIn[159], line 6\u001b[0m, in \u001b[0;36mget_posts\u001b[1;34m(page)\u001b[0m\n\u001b[0;32m      4\u001b[0m resource \u001b[38;5;241m=\u001b[39m \u001b[38;5;124mf\u001b[39m\u001b[38;5;124m'\u001b[39m\u001b[38;5;124mhttps://jsonplaceholder.typicode.com/posts/\u001b[39m\u001b[38;5;132;01m{\u001b[39;00mpage\u001b[38;5;132;01m}\u001b[39;00m\u001b[38;5;124m'\u001b[39m\n\u001b[0;32m      5\u001b[0m \u001b[38;5;28;01mwith\u001b[39;00m urllib\u001b[38;5;241m.\u001b[39mrequest\u001b[38;5;241m.\u001b[39murlopen(resource) \u001b[38;5;28;01mas\u001b[39;00m s:\n\u001b[1;32m----> 6\u001b[0m     \u001b[38;5;28;01mwith\u001b[39;00m \u001b[38;5;28;43mopen\u001b[39;49m\u001b[43m(\u001b[49m\u001b[38;5;124;43mf\u001b[39;49m\u001b[38;5;124;43m'\u001b[39;49m\u001b[38;5;124;43mposts_\u001b[39;49m\u001b[38;5;132;43;01m{\u001b[39;49;00m\u001b[43mpage\u001b[49m\u001b[38;5;132;43;01m}\u001b[39;49;00m\u001b[38;5;124;43m.html\u001b[39;49m\u001b[38;5;124;43m'\u001b[39;49m\u001b[43m,\u001b[49m\u001b[43m \u001b[49m\u001b[38;5;124;43m'\u001b[39;49m\u001b[38;5;124;43mwb\u001b[39;49m\u001b[38;5;124;43m'\u001b[39;49m\u001b[43m)\u001b[49m \u001b[38;5;28;01mas\u001b[39;00m f:\n\u001b[0;32m      7\u001b[0m         f\u001b[38;5;241m.\u001b[39mwrite(s\u001b[38;5;241m.\u001b[39mread())\n",
      "File \u001b[1;32m~\\AppData\\Local\\Programs\\Python\\Python313\\Lib\\site-packages\\IPython\\core\\interactiveshell.py:324\u001b[0m, in \u001b[0;36m_modified_open\u001b[1;34m(file, *args, **kwargs)\u001b[0m\n\u001b[0;32m    317\u001b[0m \u001b[38;5;28;01mif\u001b[39;00m file \u001b[38;5;129;01min\u001b[39;00m {\u001b[38;5;241m0\u001b[39m, \u001b[38;5;241m1\u001b[39m, \u001b[38;5;241m2\u001b[39m}:\n\u001b[0;32m    318\u001b[0m     \u001b[38;5;28;01mraise\u001b[39;00m \u001b[38;5;167;01mValueError\u001b[39;00m(\n\u001b[0;32m    319\u001b[0m         \u001b[38;5;124mf\u001b[39m\u001b[38;5;124m\"\u001b[39m\u001b[38;5;124mIPython won\u001b[39m\u001b[38;5;124m'\u001b[39m\u001b[38;5;124mt let you open fd=\u001b[39m\u001b[38;5;132;01m{\u001b[39;00mfile\u001b[38;5;132;01m}\u001b[39;00m\u001b[38;5;124m by default \u001b[39m\u001b[38;5;124m\"\u001b[39m\n\u001b[0;32m    320\u001b[0m         \u001b[38;5;124m\"\u001b[39m\u001b[38;5;124mas it is likely to crash IPython. If you know what you are doing, \u001b[39m\u001b[38;5;124m\"\u001b[39m\n\u001b[0;32m    321\u001b[0m         \u001b[38;5;124m\"\u001b[39m\u001b[38;5;124myou can use builtins\u001b[39m\u001b[38;5;124m'\u001b[39m\u001b[38;5;124m open.\u001b[39m\u001b[38;5;124m\"\u001b[39m\n\u001b[0;32m    322\u001b[0m     )\n\u001b[1;32m--> 324\u001b[0m \u001b[38;5;28;01mreturn\u001b[39;00m \u001b[43mio_open\u001b[49m\u001b[43m(\u001b[49m\u001b[43mfile\u001b[49m\u001b[43m,\u001b[49m\u001b[43m \u001b[49m\u001b[38;5;241;43m*\u001b[39;49m\u001b[43margs\u001b[49m\u001b[43m,\u001b[49m\u001b[43m \u001b[49m\u001b[38;5;241;43m*\u001b[39;49m\u001b[38;5;241;43m*\u001b[39;49m\u001b[43mkwargs\u001b[49m\u001b[43m)\u001b[49m\n",
      "\u001b[1;31mPermissionError\u001b[0m: [Errno 13] Permission denied: 'posts_11.html'"
     ]
    }
   ],
   "source": [
    "# 테스트 urllib\n",
    "import urllib.request\n",
    "def get_posts(page):\n",
    "    resource = f'https://jsonplaceholder.typicode.com/posts/{page}'\n",
    "    with urllib.request.urlopen(resource) as s:\n",
    "        with open(f'posts_{page}.html', 'wb') as f:\n",
    "            f.write(s.read())\n",
    "get_posts(11)"
   ]
  },
  {
   "cell_type": "code",
   "execution_count": 160,
   "id": "f9477ee0-1607-46f2-8f07-44a21b26b3f8",
   "metadata": {},
   "outputs": [
    {
     "ename": "PermissionError",
     "evalue": "[Errno 13] Permission denied: 'posts_1.html'",
     "output_type": "error",
     "traceback": [
      "\u001b[1;31m---------------------------------------------------------------------------\u001b[0m",
      "\u001b[1;31mPermissionError\u001b[0m                           Traceback (most recent call last)",
      "Cell \u001b[1;32mIn[160], line 9\u001b[0m\n\u001b[0;32m      7\u001b[0m             f\u001b[38;5;241m.\u001b[39mwrite(s\u001b[38;5;241m.\u001b[39mread())\n\u001b[0;32m      8\u001b[0m \u001b[38;5;28;01mfor\u001b[39;00m n \u001b[38;5;129;01min\u001b[39;00m \u001b[38;5;28mrange\u001b[39m(\u001b[38;5;241m1\u001b[39m,\u001b[38;5;241m11\u001b[39m):\n\u001b[1;32m----> 9\u001b[0m     \u001b[43mget_posts\u001b[49m\u001b[43m(\u001b[49m\u001b[43mn\u001b[49m\u001b[43m)\u001b[49m\n\u001b[0;32m     10\u001b[0m     t\u001b[38;5;241m.\u001b[39msleep(\u001b[38;5;241m0.1\u001b[39m)\n",
      "Cell \u001b[1;32mIn[160], line 6\u001b[0m, in \u001b[0;36mget_posts\u001b[1;34m(page)\u001b[0m\n\u001b[0;32m      4\u001b[0m resource \u001b[38;5;241m=\u001b[39m \u001b[38;5;124mf\u001b[39m\u001b[38;5;124m'\u001b[39m\u001b[38;5;124mhttps://jsonplaceholder.typicode.com/posts/\u001b[39m\u001b[38;5;132;01m{\u001b[39;00mpage\u001b[38;5;132;01m}\u001b[39;00m\u001b[38;5;124m'\u001b[39m\n\u001b[0;32m      5\u001b[0m \u001b[38;5;28;01mwith\u001b[39;00m urllib\u001b[38;5;241m.\u001b[39mrequest\u001b[38;5;241m.\u001b[39murlopen(resource) \u001b[38;5;28;01mas\u001b[39;00m s:\n\u001b[1;32m----> 6\u001b[0m     \u001b[38;5;28;01mwith\u001b[39;00m \u001b[38;5;28;43mopen\u001b[39;49m\u001b[43m(\u001b[49m\u001b[38;5;124;43mf\u001b[39;49m\u001b[38;5;124;43m'\u001b[39;49m\u001b[38;5;124;43mposts_\u001b[39;49m\u001b[38;5;132;43;01m{\u001b[39;49;00m\u001b[43mpage\u001b[49m\u001b[38;5;132;43;01m}\u001b[39;49;00m\u001b[38;5;124;43m.html\u001b[39;49m\u001b[38;5;124;43m'\u001b[39;49m\u001b[43m,\u001b[49m\u001b[43m \u001b[49m\u001b[38;5;124;43m'\u001b[39;49m\u001b[38;5;124;43mwb\u001b[39;49m\u001b[38;5;124;43m'\u001b[39;49m\u001b[43m)\u001b[49m \u001b[38;5;28;01mas\u001b[39;00m f:\n\u001b[0;32m      7\u001b[0m         f\u001b[38;5;241m.\u001b[39mwrite(s\u001b[38;5;241m.\u001b[39mread())\n",
      "File \u001b[1;32m~\\AppData\\Local\\Programs\\Python\\Python313\\Lib\\site-packages\\IPython\\core\\interactiveshell.py:324\u001b[0m, in \u001b[0;36m_modified_open\u001b[1;34m(file, *args, **kwargs)\u001b[0m\n\u001b[0;32m    317\u001b[0m \u001b[38;5;28;01mif\u001b[39;00m file \u001b[38;5;129;01min\u001b[39;00m {\u001b[38;5;241m0\u001b[39m, \u001b[38;5;241m1\u001b[39m, \u001b[38;5;241m2\u001b[39m}:\n\u001b[0;32m    318\u001b[0m     \u001b[38;5;28;01mraise\u001b[39;00m \u001b[38;5;167;01mValueError\u001b[39;00m(\n\u001b[0;32m    319\u001b[0m         \u001b[38;5;124mf\u001b[39m\u001b[38;5;124m\"\u001b[39m\u001b[38;5;124mIPython won\u001b[39m\u001b[38;5;124m'\u001b[39m\u001b[38;5;124mt let you open fd=\u001b[39m\u001b[38;5;132;01m{\u001b[39;00mfile\u001b[38;5;132;01m}\u001b[39;00m\u001b[38;5;124m by default \u001b[39m\u001b[38;5;124m\"\u001b[39m\n\u001b[0;32m    320\u001b[0m         \u001b[38;5;124m\"\u001b[39m\u001b[38;5;124mas it is likely to crash IPython. If you know what you are doing, \u001b[39m\u001b[38;5;124m\"\u001b[39m\n\u001b[0;32m    321\u001b[0m         \u001b[38;5;124m\"\u001b[39m\u001b[38;5;124myou can use builtins\u001b[39m\u001b[38;5;124m'\u001b[39m\u001b[38;5;124m open.\u001b[39m\u001b[38;5;124m\"\u001b[39m\n\u001b[0;32m    322\u001b[0m     )\n\u001b[1;32m--> 324\u001b[0m \u001b[38;5;28;01mreturn\u001b[39;00m \u001b[43mio_open\u001b[49m\u001b[43m(\u001b[49m\u001b[43mfile\u001b[49m\u001b[43m,\u001b[49m\u001b[43m \u001b[49m\u001b[38;5;241;43m*\u001b[39;49m\u001b[43margs\u001b[49m\u001b[43m,\u001b[49m\u001b[43m \u001b[49m\u001b[38;5;241;43m*\u001b[39;49m\u001b[38;5;241;43m*\u001b[39;49m\u001b[43mkwargs\u001b[49m\u001b[43m)\u001b[49m\n",
      "\u001b[1;31mPermissionError\u001b[0m: [Errno 13] Permission denied: 'posts_1.html'"
     ]
    }
   ],
   "source": [
    "# 테스트 urllib\n",
    "import urllib.request\n",
    "def get_posts(page):\n",
    "    resource = f'https://jsonplaceholder.typicode.com/posts/{page}'\n",
    "    with urllib.request.urlopen(resource) as s:\n",
    "        with open(f'posts_{page}.html', 'wb') as f:\n",
    "            f.write(s.read())\n",
    "for n in range(1,11):\n",
    "    get_posts(n)\n",
    "    t.sleep(0.1)"
   ]
  },
  {
   "cell_type": "code",
   "execution_count": null,
   "id": "56d5cf66-62d6-4caf-bd69-177b6e39d2e9",
   "metadata": {},
   "outputs": [],
   "source": []
  }
 ],
 "metadata": {
  "kernelspec": {
   "display_name": "Python 3 (ipykernel)",
   "language": "python",
   "name": "python3"
  },
  "language_info": {
   "codemirror_mode": {
    "name": "ipython",
    "version": 3
   },
   "file_extension": ".py",
   "mimetype": "text/x-python",
   "name": "python",
   "nbconvert_exporter": "python",
   "pygments_lexer": "ipython3",
   "version": "3.13.1"
  }
 },
 "nbformat": 4,
 "nbformat_minor": 5
}
