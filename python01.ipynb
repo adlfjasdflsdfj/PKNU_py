{
 "cells": [
  {
   "cell_type": "code",
   "execution_count": 1,
   "id": "299d826e-fba1-401b-a0ee-0b14d5a281d7",
   "metadata": {
    "scrolled": true
   },
   "outputs": [
    {
     "name": "stdout",
     "output_type": "stream",
     "text": [
      "안녕안녕안녕안녕\n"
     ]
    }
   ],
   "source": [
    "print('안녕'*4)"
   ]
  },
  {
   "cell_type": "code",
   "execution_count": 1,
   "id": "8bfa89fc-a987-4e4f-ad17-9a6913031ae3",
   "metadata": {},
   "outputs": [
    {
     "name": "stdout",
     "output_type": "stream",
     "text": [
      "16\n"
     ]
    }
   ],
   "source": [
    "print(4+4*3)"
   ]
  },
  {
   "cell_type": "markdown",
   "id": "e76f9eeb-38f4-4dad-93c7-3c80c7cd3d1c",
   "metadata": {},
   "source": [
    "# 주피터랩 단축키\n",
    "- a:위 셀 추가\n",
    "- b:아래 셀 추가\n",
    "- ctrl + shift+ 위: 셀 위로 이동\n",
    "- ctrl +shift + 아래: 셀 아래로 이동\n",
    "- shift + Enter: 셀 실행\n",
    "- dd: 셀 삭제\n",
    "- c: 셀 복사\n",
    "- v: 셀 붙여넣기\n",
    "- X: 셀 잘라내기\n",
    "- z: undo\n",
    "- shift + z:redo\n",
    "- m: markdown\n",
    "- y: code"
   ]
  },
  {
   "cell_type": "markdown",
   "id": "406c795a-ba57-4b54-b346-be332a164dd0",
   "metadata": {},
   "source": [
    "# print기초"
   ]
  },
  {
   "cell_type": "code",
   "execution_count": 2,
   "id": "3c767506-d6a7-4ccc-bc45-d5458710db1e",
   "metadata": {},
   "outputs": [
    {
     "name": "stdout",
     "output_type": "stream",
     "text": [
      "주피터랩에 처음이에요\n",
      "사실은 두번째~~\n"
     ]
    }
   ],
   "source": [
    "print('주피터랩에 처음이에요')\n",
    "print('사실은 두번째~~')"
   ]
  },
  {
   "cell_type": "code",
   "execution_count": 3,
   "id": "a81f65b9-fb58-477d-883b-a205d98f981f",
   "metadata": {},
   "outputs": [
    {
     "name": "stdout",
     "output_type": "stream",
     "text": [
      "4610\n"
     ]
    }
   ],
   "source": [
    "print(1277+3333)"
   ]
  },
  {
   "cell_type": "code",
   "execution_count": 5,
   "id": "16d10a2d-ea11-409e-9491-066463d9cf68",
   "metadata": {},
   "outputs": [
    {
     "name": "stdout",
     "output_type": "stream",
     "text": [
      "시간이 많이 남았어...\n"
     ]
    }
   ],
   "source": [
    "import time as t\n",
    "print('배고프다', end='\\r')\n",
    "t.sleep(1)\n",
    "print('근데   ', end='\\r')\n",
    "t.sleep(1)\n",
    "print('시간이 많이 남았어...')"
   ]
  },
  {
   "cell_type": "code",
   "execution_count": 5,
   "id": "86582efa-1bfb-4370-adeb-3748c9b4890d",
   "metadata": {},
   "outputs": [
    {
     "name": "stdout",
     "output_type": "stream",
     "text": [
      "1*2*3*4*5\n"
     ]
    }
   ],
   "source": [
    "print(1,2,3,4,5, sep='*')"
   ]
  },
  {
   "cell_type": "markdown",
   "id": "143d25f6-b095-4faf-b1eb-7825a1fa3bd4",
   "metadata": {},
   "source": [
    "# 자료형"
   ]
  },
  {
   "cell_type": "markdown",
   "id": "85c03b92-4acd-4b96-93d9-14174991e79b",
   "metadata": {},
   "source": [
    "## 숫자형"
   ]
  },
  {
   "cell_type": "code",
   "execution_count": 43,
   "id": "28b23dc6-5c5f-4cb1-b687-975a888bec90",
   "metadata": {},
   "outputs": [
    {
     "name": "stdout",
     "output_type": "stream",
     "text": [
      "덧셈 877\n",
      "===================\n",
      "뺄셈 677\n",
      "===================\n",
      "곱셈 77700\n",
      "===================\n",
      "나눗셈 7.77\n",
      "===================\n",
      "몫 7\n",
      "===================\n",
      "나머지 77\n",
      "===================\n",
      "승 603729\n",
      "===================\n"
     ]
    }
   ],
   "source": [
    "#사칙연산 예\n",
    "sachik=777\n",
    "sem=100\n",
    "print('덧셈',sachik + sem, end='\\n===================\\n')\n",
    "print('뺄셈',sachik - sem, end='\\n===================\\n')\n",
    "print('곱셈',sachik  *sem, end='\\n===================\\n')\n",
    "print('나눗셈',sachik / sem, end='\\n===================\\n')\n",
    "print('몫',sachik // sem, end='\\n===================\\n')\n",
    "print('나머지',sachik % sem, end='\\n===================\\n')\n",
    "print('승',sachik ** 2, end='\\n===================\\n')"
   ]
  },
  {
   "cell_type": "code",
   "execution_count": 7,
   "id": "0640b0d0-d47d-4137-99f6-4ac611c1bfa3",
   "metadata": {},
   "outputs": [
    {
     "name": "stdout",
     "output_type": "stream",
     "text": [
      "123 -178 0\n"
     ]
    }
   ],
   "source": [
    "# 정수형\n",
    "a=123\n",
    "b=-178\n",
    "c=0\n",
    "print(a,b,c)"
   ]
  },
  {
   "cell_type": "code",
   "execution_count": 6,
   "id": "f1f436bf-9ce9-4ee5-85fc-9763206256b0",
   "metadata": {},
   "outputs": [
    {
     "name": "stdout",
     "output_type": "stream",
     "text": [
      "1.2 -3.14 4.24e-10\n"
     ]
    }
   ],
   "source": [
    "# 실수형\n",
    "aa = 1.2\n",
    "bb = -3.14\n",
    "cc = 4.24e-10\n",
    "print(aa,bb,cc)"
   ]
  },
  {
   "cell_type": "code",
   "execution_count": 14,
   "id": "ef751852-ce0e-4b5e-87b8-599cbadca447",
   "metadata": {},
   "outputs": [
    {
     "name": "stdout",
     "output_type": "stream",
     "text": [
      "15\n",
      "127 2748\n"
     ]
    }
   ],
   "source": [
    "#2진수(bin)\n",
    "aaa=0b1111\n",
    "print(aaa)\n",
    "#8진수(oct)와 16진수(hex)\n",
    "bbb=0o177\n",
    "ccc=0xABC\n",
    "print(bbb,ccc)"
   ]
  },
  {
   "cell_type": "code",
   "execution_count": 16,
   "id": "0ec352c2-5620-43d6-a8e8-b077673889d8",
   "metadata": {},
   "outputs": [
    {
     "name": "stdout",
     "output_type": "stream",
     "text": [
      "81\n",
      "3\n",
      "0.75\n"
     ]
    }
   ],
   "source": [
    "a=3\n",
    "b=4\n",
    "print(a**b)\n",
    "print(a%b)\n",
    "print(a/b)"
   ]
  },
  {
   "cell_type": "code",
   "execution_count": 19,
   "id": "3850e818-6667-4dad-a3e4-d14c3e985d3f",
   "metadata": {},
   "outputs": [
    {
     "name": "stdout",
     "output_type": "stream",
     "text": [
      "2\n",
      "3\n",
      "4\n"
     ]
    }
   ],
   "source": [
    "#복합연산자\n",
    "a=1\n",
    "a=a+1\n",
    "print(a)\n",
    "a=a+1\n",
    "print(a)\n",
    "a=a+1\n",
    "print(a)"
   ]
  },
  {
   "cell_type": "code",
   "execution_count": 29,
   "id": "0727a840-5927-4afa-ac4a-da36eb616dcd",
   "metadata": {},
   "outputs": [
    {
     "name": "stdout",
     "output_type": "stream",
     "text": [
      "9\n",
      "8\n",
      "7\n"
     ]
    }
   ],
   "source": [
    "#복합연산자\n",
    "a=10\n",
    "a -=1\n",
    "print(a)\n",
    "a -=1\n",
    "print(a)\n",
    "a -=1\n",
    "print(a)"
   ]
  },
  {
   "cell_type": "code",
   "execution_count": 30,
   "id": "8bbd4fcd-ecb2-4a99-a0da-6df3afcdfd39",
   "metadata": {},
   "outputs": [],
   "source": [
    "#복합연산자\n",
    "#+=, -=, *=, /=, //=, %=, **="
   ]
  },
  {
   "cell_type": "markdown",
   "id": "d55dc5f3-57e6-4eb5-b208-70f987fbcd82",
   "metadata": {},
   "source": [
    "## 문자열 자료형"
   ]
  },
  {
   "cell_type": "markdown",
   "id": "74a16979-9ab4-4fd2-b44b-710239617d55",
   "metadata": {},
   "source": [
    "### 문자열 연산하기"
   ]
  },
  {
   "cell_type": "code",
   "execution_count": 36,
   "id": "83af98cf-7f9c-4d9c-803a-63cade31cb0d",
   "metadata": {},
   "outputs": [
    {
     "name": "stdout",
     "output_type": "stream",
     "text": [
      "문자형입니다.\n",
      "\n",
      "이것은 여러 줄 주석 처리입니다.\n",
      "\n",
      "\n",
      "이것도 여러 줄 주석 입니다. \n",
      "\n"
     ]
    }
   ],
   "source": [
    "#주석처리입니다.\n",
    "str1 = '문자형입니다.'\n",
    "print(str1)\n",
    "str2 = '''\n",
    "이것은 여러 줄 주석 처리입니다.\n",
    "'''\n",
    "print(str2)\n",
    "str3 = \"\"\"\n",
    "이것도 여러 줄 주석 입니다. \n",
    "\"\"\"\n",
    "print(str3)"
   ]
  },
  {
   "cell_type": "code",
   "execution_count": 5,
   "id": "94d8759e-02ac-4c86-86d2-25a8aeab23f6",
   "metadata": {},
   "outputs": [
    {
     "name": "stdout",
     "output_type": "stream",
     "text": [
      "python's' favorite' food is perl\n"
     ]
    }
   ],
   "source": [
    "# food = \"python's favorite food is perl\"\n",
    "food = 'python\\'s\\' favorite\\' food is perl'\n",
    "print(food)"
   ]
  },
  {
   "cell_type": "code",
   "execution_count": 60,
   "id": "43199c01-cca4-45b9-9b39-e936380b4d0e",
   "metadata": {},
   "outputs": [
    {
     "name": "stdout",
     "output_type": "stream",
     "text": [
      "Life is too short\n",
      "you need python\n"
     ]
    }
   ],
   "source": [
    "multiline = \"Life is too short\\nyou need python\"\n",
    "print(multiline)"
   ]
  },
  {
   "cell_type": "code",
   "execution_count": 62,
   "id": "edc52e74-33a5-4cc9-8c7d-7f4b0eac52f4",
   "metadata": {},
   "outputs": [
    {
     "name": "stdout",
     "output_type": "stream",
     "text": [
      "\n",
      "Life is too short\n",
      "You need python\n",
      "\n"
     ]
    }
   ],
   "source": [
    "multiline='''\n",
    "Life is too short\n",
    "You need python\n",
    "'''\n",
    "print(multiline)"
   ]
  },
  {
   "cell_type": "code",
   "execution_count": 7,
   "id": "ddfe7fc2-75c9-417c-a654-3ed6db6c442e",
   "metadata": {},
   "outputs": [
    {
     "name": "stdout",
     "output_type": "stream",
     "text": [
      "pythonis fun!\n"
     ]
    }
   ],
   "source": [
    "#문자열 연산하기\n",
    "head = \"python\"\n",
    "tail = \"is fun!\"\n",
    "print(head + tail)"
   ]
  },
  {
   "cell_type": "code",
   "execution_count": 66,
   "id": "38641b80-2bad-4d61-90cd-6cd4e830c21b",
   "metadata": {},
   "outputs": [
    {
     "name": "stdout",
     "output_type": "stream",
     "text": [
      "python\n",
      "python\n",
      "python\n",
      "python\n",
      "python\n",
      "\n"
     ]
    }
   ],
   "source": [
    "a=\"python\"+\"\\n\" \n",
    "print(a*5)"
   ]
  },
  {
   "cell_type": "code",
   "execution_count": 89,
   "id": "d8ddb7c9-d0f4-4159-9e1e-becbcd4d6b68",
   "metadata": {},
   "outputs": [
    {
     "name": "stdout",
     "output_type": "stream",
     "text": [
      "===============\n",
      "     영수증\n",
      "===============\n",
      "아메리카노16500원\n",
      "라떼7200원\n",
      "허브티12000원\n",
      "===============\n"
     ]
    }
   ],
   "source": [
    "p1=5500*3\n",
    "p2=7200*1\n",
    "p3=6000*2\n",
    "m1=\"아메리카노\"+str(p1)+\"원\\n\" #문자랑 숫자는 더할 수 없다.\n",
    "m2=\"라떼\"+str(p2)+\"원\\n\"\n",
    "m3=\"허브티\"+str(p3)+\"원\"\n",
    "title=\"     \"+\"영수증\" #문자와 문자는 더할 수 있다. \n",
    "print(\"=\"*15) #문자랑 숫자는 곱할 수 있다. \n",
    "print(title)\n",
    "print(\"=\"*15)\n",
    "print(m1+m2+m3)\n",
    "print(\"=\"*15)"
   ]
  },
  {
   "cell_type": "code",
   "execution_count": 9,
   "id": "a72c515b-2878-4e4c-88af-9d3133f36c99",
   "metadata": {},
   "outputs": [
    {
     "name": "stdout",
     "output_type": "stream",
     "text": [
      "===============\n",
      "     영수증\n",
      "===============\n",
      "아메리카노16500원\n",
      "라떼7200원\n",
      "허브티12000원\n",
      "=============== 86\n"
     ]
    }
   ],
   "source": [
    "#숫자계산\n",
    "p1=5500*3\n",
    "p2=7200*1\n",
    "p3=6000*2\n",
    "\n",
    "#문자열 계산\n",
    "m1=\"아메리카노\"+str(p1)+\"원\\n\" #문자랑 숫자는 더할 수 없다.\n",
    "m2=\"라떼\"+str(p2)+\"원\\n\"\n",
    "m3=\"허브티\"+str(p3)+\"원\"\n",
    "title=\"     \"+\"영수증\" #문자와 문자는 더할 수 있다. \n",
    "\n",
    "#출력 조합\n",
    "pp =''\n",
    "pp += (\"=\" *15)+'\\n' # 문자랑 숫자는 곱할 수 있다.\n",
    "pp += (title)+'\\n'\n",
    "pp += (\"=\"*15)+'\\n'\n",
    "pp += (m1+m2+m3)+'\\n'\n",
    "pp += (\"=\"*15)\n",
    "\n",
    "#출력\n",
    "print(pp, len(pp))"
   ]
  },
  {
   "cell_type": "code",
   "execution_count": 8,
   "id": "eb738082-8c8d-469e-9c5a-6b5a7d11402a",
   "metadata": {},
   "outputs": [
    {
     "name": "stdout",
     "output_type": "stream",
     "text": [
      "17\n"
     ]
    }
   ],
   "source": [
    "a = \"Life is too short\"\n",
    "print(len(a))"
   ]
  },
  {
   "cell_type": "markdown",
   "id": "469a6ff1-d1a4-4b73-b7bc-accfa1e991f4",
   "metadata": {},
   "source": [
    "### 문자열 인덱싱과 슬라이싱"
   ]
  },
  {
   "cell_type": "code",
   "execution_count": 9,
   "id": "4b6d1399-6e40-4556-98e2-08d16f8b7070",
   "metadata": {},
   "outputs": [
    {
     "name": "stdout",
     "output_type": "stream",
     "text": [
      "L i f e\n",
      "Life\n"
     ]
    }
   ],
   "source": [
    "print(a[0],a[1],a[2],a[3])\n",
    "print(a[0]+a[1]+a[2]+a[3])"
   ]
  },
  {
   "cell_type": "code",
   "execution_count": 119,
   "id": "653cdf1e-a81e-4b08-9bfc-8a1f8a3918c6",
   "metadata": {},
   "outputs": [
    {
     "name": "stdout",
     "output_type": "stream",
     "text": [
      "t o o\n",
      "too\n"
     ]
    }
   ],
   "source": [
    "# too 출력하기\n",
    "print(a[8],a[9],a[10])\n",
    "print(a[8]+a[9]+a[10])"
   ]
  },
  {
   "cell_type": "code",
   "execution_count": 120,
   "id": "113b4c71-f1dd-48ef-a8ab-a7fba63da601",
   "metadata": {},
   "outputs": [
    {
     "name": "stdout",
     "output_type": "stream",
     "text": [
      "t r\n"
     ]
    }
   ],
   "source": [
    "print(a[-1],a[-2])"
   ]
  },
  {
   "cell_type": "code",
   "execution_count": 126,
   "id": "bff4feae-1477-448f-9559-f057ebb11acb",
   "metadata": {},
   "outputs": [
    {
     "name": "stdout",
     "output_type": "stream",
     "text": [
      "too\n",
      "need\n"
     ]
    }
   ],
   "source": [
    "a = \"Life is too short, you need python\"\n",
    "print(a[8:11]) #8 <= a <11\n",
    "print(a[23:27])"
   ]
  },
  {
   "cell_type": "code",
   "execution_count": 132,
   "id": "136f1eaa-13f1-495b-a1f7-a4a792be417d",
   "metadata": {},
   "outputs": [
    {
     "name": "stdout",
     "output_type": "stream",
     "text": [
      "Life is too short, you need\n",
      "Life is too short, you need\n",
      "python\n"
     ]
    }
   ],
   "source": [
    "print(a[0:27])\n",
    "print(a[:27])\n",
    "print(a[28:])"
   ]
  },
  {
   "cell_type": "code",
   "execution_count": 133,
   "id": "9703f87c-8538-4cbd-895d-d17cef3c4f66",
   "metadata": {},
   "outputs": [
    {
     "name": "stdout",
     "output_type": "stream",
     "text": [
      "nohtyp deen uoy ,trohs oot si efiL\n"
     ]
    }
   ],
   "source": [
    "print(a[::-1])"
   ]
  },
  {
   "cell_type": "code",
   "execution_count": 135,
   "id": "7a259ff8-98ec-442e-aac3-d7c3c26ab7b0",
   "metadata": {},
   "outputs": [],
   "source": [
    "today = \"20250203오늘은화창하다\""
   ]
  },
  {
   "cell_type": "code",
   "execution_count": 157,
   "id": "8a9c39f6-e562-429e-81f8-8acb95d3f56b",
   "metadata": {},
   "outputs": [
    {
     "name": "stdout",
     "output_type": "stream",
     "text": [
      "2025년 02월 03일 오늘은 화창하다!\n"
     ]
    }
   ],
   "source": [
    "year=today[:4]\n",
    "month=today[4:6]\n",
    "date=today[6:8]\n",
    "print(year+\"년\",month+\"월\",date+\"일\"+today[8:12]+today[12:17]+\"!\")"
   ]
  },
  {
   "cell_type": "code",
   "execution_count": 173,
   "id": "1d12fd85-7868-4640-abf8-c48ee4c06e17",
   "metadata": {},
   "outputs": [
    {
     "name": "stdout",
     "output_type": "stream",
     "text": [
      "한국서 돈벌고 '나 몰라라' 코스트코… 연회비 인상률은 미국의 3배\n"
     ]
    }
   ],
   "source": [
    "import requests\n",
    "url = 'https://v.daum.net/v/20250203151815463'\n",
    "res = requests.get(url).text\n",
    "result =res[374:411]\n",
    "out = result [:-2] + '3' + result[-1]\n",
    "print(out)"
   ]
  },
  {
   "cell_type": "code",
   "execution_count": 175,
   "id": "17fd34a4-3c19-4167-9502-44c1f32fd02a",
   "metadata": {},
   "outputs": [
    {
     "name": "stdout",
     "output_type": "stream",
     "text": [
      "대빵의 톡쏘는 일상 : 네이버 블로그\n"
     ]
    }
   ],
   "source": [
    "#목표출력\n",
    "print(\"대빵의 톡쏘는 일상 : 네이버 블로그\")"
   ]
  },
  {
   "cell_type": "code",
   "execution_count": 31,
   "id": "01e8009f-ec26-49ab-8bb8-d62afc86d08e",
   "metadata": {},
   "outputs": [
    {
     "name": "stdout",
     "output_type": "stream",
     "text": [
      "대빵의 톡쏘는 일상 : 네이버 블로그\n"
     ]
    }
   ],
   "source": [
    "import requests\n",
    "url = 'https://blog.naver.com/droad777' \n",
    "res = requests.get(url).text\n",
    "result = res[897:915]\n",
    "out ='대빵'+result[:]\n",
    "print(out)"
   ]
  },
  {
   "cell_type": "markdown",
   "id": "fb77d955-a5a5-4f32-8575-16dab741406d",
   "metadata": {},
   "source": [
    "### 문자열 포매팅"
   ]
  },
  {
   "cell_type": "code",
   "execution_count": 5,
   "id": "47b54ab3-1d11-4cfb-9234-9e354205aeff",
   "metadata": {},
   "outputs": [
    {
     "name": "stdout",
     "output_type": "stream",
     "text": [
      "I eat 3 apples.\n",
      "I eat 17 apples.\n",
      "I eat 12 apples.\n",
      "I eat five apples.\n"
     ]
    }
   ],
   "source": [
    "print(\"I eat 3 apples.\")\n",
    "print(\"I eat %d apples.\" %17)\n",
    "print(\"I eat %s apples.\" %12)\n",
    "print(\"I eat %s apples.\" %\"five\")"
   ]
  },
  {
   "cell_type": "code",
   "execution_count": 27,
   "id": "76c1c04f-fba6-43f5-93d2-84579c1f3e51",
   "metadata": {},
   "outputs": [
    {
     "name": "stdout",
     "output_type": "stream",
     "text": [
      "사람 몸의 수분은 약 60% 이다.\n",
      "사람 몸의 수분은 약 60% 이다.\n"
     ]
    }
   ],
   "source": [
    "print(\"사람 몸의 수분은 약 60% 이다.\")\n",
    "print(\"사람 몸의 수분은 약 %d%% 이다.\" %60)"
   ]
  },
  {
   "cell_type": "code",
   "execution_count": 16,
   "id": "c8603090-b73f-41ba-bb63-37d3f086e8b0",
   "metadata": {},
   "outputs": [
    {
     "name": "stdout",
     "output_type": "stream",
     "text": [
      "십진수로 123은 123이다\n",
      "십진수로 123은 16진수로 7b이다\n",
      "십진수로 123은 10진수로 123이다\n",
      "십진수로 123은 8진수로 173이다\n"
     ]
    }
   ],
   "source": [
    "print(\"십진수로 123은 %d이다\" %123)\n",
    "print(\"십진수로 %d은 16진수로 %x이다\" %(123,123))\n",
    "print(\"십진수로 %d은 10진수로 %d이다\" %(123,123))\n",
    "print(\"십진수로 %d은 8진수로 %o이다\" %(123,123))"
   ]
  },
  {
   "cell_type": "code",
   "execution_count": 30,
   "id": "95a17946-042b-42ba-83ed-26c55f94759b",
   "metadata": {},
   "outputs": [
    {
     "name": "stdout",
     "output_type": "stream",
     "text": [
      "hi\n",
      "        hi\n",
      "hi        \n"
     ]
    }
   ],
   "source": [
    "#정렬과 공백 (오른쪽 정렬)\n",
    "print(\"%s\" % \"hi\")\n",
    "print(\"%10s\" % \"hi\")\n",
    "print(\"%-10s\" % \"hi\")"
   ]
  },
  {
   "attachments": {
    "8d22ca82-7784-4df4-8528-0f012b2486b5.png": {
     "image/png": "[encoded data removed]"
    }
   },
   "cell_type": "markdown",
   "id": "ad2df22d-aa6d-4069-819c-eced71ed8992",
   "metadata": {},
   "source": [
    "<img src=\"attachment:8d22ca82-7784-4df4-8528-0f012b2486b5.png\" width=300>"
   ]
  },
  {
   "cell_type": "code",
   "execution_count": 35,
   "id": "b94c0c3b-3d74-4996-88f3-80d5f0b9cff2",
   "metadata": {},
   "outputs": [
    {
     "name": "stdout",
     "output_type": "stream",
     "text": [
      "hi        jane\n",
      "        hijane\n",
      "        hi\n"
     ]
    }
   ],
   "source": [
    "#정렬과 공백(음수일 때 왼쪽 정렬)\n",
    "print(\"%-10sjane\" % \"hi\")\n",
    "print(\"%10sjane\" % \"hi\")\n",
    "print(\"%10s\" % \"hi\")"
   ]
  },
  {
   "cell_type": "code",
   "execution_count": 40,
   "id": "3aa8be45-70c9-4fa8-89ef-4447cb9a4a34",
   "metadata": {},
   "outputs": [
    {
     "name": "stdout",
     "output_type": "stream",
     "text": [
      "3.141592\n",
      "3.141592\n",
      "3.1416\n",
      "3.1416\n",
      "    3.1416\n"
     ]
    }
   ],
   "source": [
    "#소숫점 표현하기\n",
    "print(\"%s\" %3.141592) #s는 계산이 안됨. \n",
    "print(\"%f\" %3.141592)\n",
    "print(\"%0.4f\" %3.141592) #소수점 아래 4자리까지만 표시\n",
    "print(\"%.4f\" %3.141592)\n",
    "print(\"%10.4f\" %3.141592)"
   ]
  },
  {
   "attachments": {
    "d9777aac-e62e-4fd8-898c-808c1a632df3.png": {
     "image/png": "[encoded data removed]"
    }
   },
   "cell_type": "markdown",
   "id": "7b19888f-53a3-4501-8737-ffbc9c21a1dd",
   "metadata": {},
   "source": [
    "<img src=\"attachment:d9777aac-e62e-4fd8-898c-808c1a632df3.png\" width=350>"
   ]
  },
  {
   "cell_type": "markdown",
   "id": "e7b3d09b-2634-4d39-a8a2-8daa63252a63",
   "metadata": {},
   "source": [
    "### format 함수를 사용한 포매팅"
   ]
  },
  {
   "cell_type": "code",
   "execution_count": 50,
   "id": "5b00376b-1465-4e55-ad3d-87fc447f0731",
   "metadata": {},
   "outputs": [
    {
     "name": "stdout",
     "output_type": "stream",
     "text": [
      "I eat {0} apples\n",
      "I eat 3 apples\n",
      "I eat 3 of 10 apples\n"
     ]
    }
   ],
   "source": [
    "#바로 대입하기\n",
    "print(\"I eat {0} apples\")\n",
    "print(\"I eat {0} apples\" .format(3))\n",
    "print(\"I eat {0} of {1} apples\" .format(3,10))"
   ]
  },
  {
   "cell_type": "code",
   "execution_count": 53,
   "id": "a6e9d661-ea85-41ec-8f0f-e8ea2713e435",
   "metadata": {},
   "outputs": [
    {
     "name": "stdout",
     "output_type": "stream",
     "text": [
      "I eat three of 10 apples\n"
     ]
    }
   ],
   "source": [
    "#변수로 대입하기\n",
    "total=10\n",
    "ea=\"three\"\n",
    "print(\"I eat {0} of {1} apples\" .format(ea, total))"
   ]
  },
  {
   "cell_type": "code",
   "execution_count": 57,
   "id": "24362917-4edf-48d1-9423-d9d4b5a1ecf6",
   "metadata": {},
   "outputs": [
    {
     "name": "stdout",
     "output_type": "stream",
     "text": [
      "I eat three of 10 apples\n"
     ]
    }
   ],
   "source": [
    "print(\"I eat {ea} of {total} apples\" .format(ea=\"three\", total=10))"
   ]
  },
  {
   "cell_type": "code",
   "execution_count": 18,
   "id": "b02caaa7",
   "metadata": {},
   "outputs": [
    {
     "name": "stdout",
     "output_type": "stream",
     "text": [
      "I eat three of 10 apples\n"
     ]
    }
   ],
   "source": [
    "print(\"I eat {} of {} apples\" .format(\"three\", 10))"
   ]
  },
  {
   "cell_type": "code",
   "execution_count": 32,
   "id": "cecbc860-0683-47d3-989d-626e3476753d",
   "metadata": {},
   "outputs": [
    {
     "data": {
      "text/plain": [
       "'I ate 10 apples. so I was sick for 3 days.'"
      ]
     },
     "execution_count": 32,
     "metadata": {},
     "output_type": "execute_result"
    }
   ],
   "source": [
    "# 인덱스와 이름을 혼용해서 넣기\n",
    "\"I ate {0} apples. so I was sick for {day} days.\" .format(10, day=3)"
   ]
  },
  {
   "cell_type": "code",
   "execution_count": 69,
   "id": "870df1ce-8407-4619-b7b7-fb2f28331ac3",
   "metadata": {},
   "outputs": [
    {
     "name": "stdout",
     "output_type": "stream",
     "text": [
      "        hi\n",
      "hi        \n",
      "    hi    \n"
     ]
    }
   ],
   "source": [
    "#우측 정렬\n",
    "print(\"{0:>10}\".format(\"hi\"))\n",
    "#좌측 정렬\n",
    "print(\"{0:<10}\".format(\"hi\"))\n",
    "#가운데 정렬\n",
    "print(\"{0:^10}\".format(\"hi\"))"
   ]
  },
  {
   "cell_type": "code",
   "execution_count": 74,
   "id": "c36dd22e-f7c5-4cdb-b0c5-b6c2ba714162",
   "metadata": {},
   "outputs": [
    {
     "name": "stdout",
     "output_type": "stream",
     "text": [
      "ㅋㅋㅋㅋㅋㅋㅋㅋ웃겨!ㅋㅋㅋㅋㅋㅋㅋㅋㅋ\n"
     ]
    }
   ],
   "source": [
    "#가운데 정렬 + 글자 채우기\n",
    "print(\"{0:ㅋ^20}\".format(\"웃겨!\"))"
   ]
  },
  {
   "cell_type": "code",
   "execution_count": 81,
   "id": "706fa96e-b7c6-4cd8-8f19-8388f6ff4ff7",
   "metadata": {},
   "outputs": [
    {
     "name": "stdout",
     "output_type": "stream",
     "text": [
      "3.1416\n",
      "              3.1416\n"
     ]
    }
   ],
   "source": [
    "#소수점 표현하기\n",
    "pi = 3.141592\n",
    "print(\"{0:0.4f}\".format(pi))\n",
    "print(\"{0:20.4f}\".format(pi))"
   ]
  },
  {
   "cell_type": "code",
   "execution_count": 83,
   "id": "47f6ebcd-4e7d-4a4e-bdbf-5f402be99b28",
   "metadata": {},
   "outputs": [
    {
     "name": "stdout",
     "output_type": "stream",
     "text": [
      "중괄호은 {과} 입니다.\n"
     ]
    }
   ],
   "source": [
    "print(\"{0}은 {{과}} 입니다.\". format(\"중괄호\"))"
   ]
  },
  {
   "cell_type": "code",
   "execution_count": 84,
   "id": "4b03f2dd-a4fa-4995-87bd-1f6861c9563e",
   "metadata": {},
   "outputs": [
    {
     "name": "stdout",
     "output_type": "stream",
     "text": [
      "1111011\n"
     ]
    }
   ],
   "source": [
    "#2진수 처리\n",
    "print(\"{0:b}\" .format(123))"
   ]
  },
  {
   "cell_type": "code",
   "execution_count": 102,
   "id": "f4d9b447-5cd0-4f81-8c66-a4633dab65aa",
   "metadata": {},
   "outputs": [
    {
     "name": "stdout",
     "output_type": "stream",
     "text": [
      "01111011\n"
     ]
    }
   ],
   "source": [
    "#출력하라 0111 1011\n",
    "#2진수 처리\n",
    "print(\"{0:0>8b}\" .format(123))"
   ]
  },
  {
   "cell_type": "markdown",
   "id": "ef9bc481-0266-4c17-bfd7-88986748d0b1",
   "metadata": {},
   "source": [
    "### f문자열 포매팅"
   ]
  },
  {
   "cell_type": "code",
   "execution_count": 33,
   "id": "0bb91516-2bd6-4705-928f-31e42aa996fd",
   "metadata": {},
   "outputs": [
    {
     "name": "stdout",
     "output_type": "stream",
     "text": [
      "나의 이름은 황혜미 입니다. 나이는 24입니다.\n",
      " 내년이면 25살이 됩니다.\n"
     ]
    }
   ],
   "source": [
    "# \" \".format() -> f\" \"\n",
    "name=\"황혜미\"\n",
    "age=24\n",
    "print(f\"나의 이름은 {name} 입니다. 나이는 {age}입니다.\")\n",
    "print(f\" 내년이면 {age+1}살이 됩니다.\")"
   ]
  },
  {
   "cell_type": "code",
   "execution_count": 122,
   "id": "442c142d-8fd8-4f26-8111-f2739be35daf",
   "metadata": {},
   "outputs": [
    {
     "name": "stdout",
     "output_type": "stream",
     "text": [
      "나의 이름은 황혜미입니다. 나이는 24입니다. 성별은 female입니다.\n"
     ]
    }
   ],
   "source": [
    "d = {'name':'황혜미', 'age':24, 'gen':'female'}\n",
    "print(f'나의 이름은 {d[\"name\"]}입니다. 나이는 {d[\"age\"]}입니다. 성별은 {d[\"gen\"]}입니다.')"
   ]
  },
  {
   "cell_type": "code",
   "execution_count": 126,
   "id": "42eec591-487a-49b5-8d0d-8a0dc95fa853",
   "metadata": {},
   "outputs": [
    {
     "name": "stdout",
     "output_type": "stream",
     "text": [
      "hi        \n",
      "        hi\n",
      "    hi    \n"
     ]
    }
   ],
   "source": [
    "#왼쪽 정렬\n",
    "print(f'{\"hi\":<10}')\n",
    "#오른쪽 정렬\n",
    "print(f'{\"hi\":>10}')\n",
    "#가운데 정렬\n",
    "print(f'{\"hi\":^10}')"
   ]
  },
  {
   "cell_type": "code",
   "execution_count": 135,
   "id": "c1ab8500-bcf9-4d00-942c-649c48090d8a",
   "metadata": {},
   "outputs": [
    {
     "name": "stdout",
     "output_type": "stream",
     "text": [
      "====hi====\n",
      "hi!!!!!!!!\n"
     ]
    }
   ],
   "source": [
    "print(f'{\"hi\":=^10}') # 가운데 정렬하고 '=' 문자로 공백 채우기\n",
    "print(f'{\"hi\":!<10}') # 왼쪽 정렬하고 'ㅣ' 문자로 공백 채우기"
   ]
  },
  {
   "cell_type": "code",
   "execution_count": 138,
   "id": "6b7d2bb3-07f3-49ef-a045-f2a77b9dc848",
   "metadata": {},
   "outputs": [
    {
     "name": "stdout",
     "output_type": "stream",
     "text": [
      "3.4213\n",
      "    3.4213\n"
     ]
    }
   ],
   "source": [
    "y=3.42134234\n",
    "print(f'{y:0.4f}')  # 소수점 4자리까지만 표현\n",
    "print(f'{y:10.4f}') #소수점 4자리까지 표현하고 총 자리수를 10으로 맞춤"
   ]
  },
  {
   "cell_type": "code",
   "execution_count": 139,
   "id": "f2298d71-1599-4532-9016-187ec8bd6cf7",
   "metadata": {},
   "outputs": [
    {
     "name": "stdout",
     "output_type": "stream",
     "text": [
      "{and}\n"
     ]
    }
   ],
   "source": [
    "print(f'{{and}}')"
   ]
  },
  {
   "cell_type": "markdown",
   "id": "18291bd4-72c4-4352-986a-e7013c822d17",
   "metadata": {},
   "source": [
    "### 문자열 관련 함수들"
   ]
  },
  {
   "cell_type": "code",
   "execution_count": 35,
   "id": "205d29ba-acaf-4281-b7fe-c18a22dc4524",
   "metadata": {},
   "outputs": [
    {
     "name": "stdout",
     "output_type": "stream",
     "text": [
      "2\n"
     ]
    },
    {
     "data": {
      "text/plain": [
       "2"
      ]
     },
     "execution_count": 35,
     "metadata": {},
     "output_type": "execute_result"
    }
   ],
   "source": [
    "#문자 갯수 세기 count\n",
    "a = \"hobby\"\n",
    "print(a.count('b'))\n",
    "\"hobby\" .count('b')"
   ]
  },
  {
   "cell_type": "code",
   "execution_count": 23,
   "id": "ab5e701f-2141-4a0a-8664-1f27bee90bb1",
   "metadata": {},
   "outputs": [
    {
     "name": "stdout",
     "output_type": "stream",
     "text": [
      "한국서 돈벌고 '나 몰라라' 코스트코… 연회비 인상률은 미국의 3배\n",
      "2\n",
      "1\n"
     ]
    }
   ],
   "source": [
    "import requests\n",
    "url = 'https://v.daum.net/v/20250203151815463'\n",
    "res = requests.get(url).text\n",
    "result =res[374:411]\n",
    "out = result [:-2] + '3' + result[-1]\n",
    "print(out)\n",
    "print(out.count('코'))\n",
    "print(out.count('한국'))"
   ]
  },
  {
   "cell_type": "code",
   "execution_count": 24,
   "id": "12a8c543-9c7c-4963-b45f-3e187d004bbd",
   "metadata": {},
   "outputs": [
    {
     "name": "stdout",
     "output_type": "stream",
     "text": [
      "한국서 돈벌고 '나 몰라라' 코스트코… 연회비 인상률은 미국의 3배\n",
      "-1\n"
     ]
    }
   ],
   "source": [
    "#위치 알려주기1 find\n",
    "print(out)\n",
    "print(out.find('밥'))"
   ]
  },
  {
   "cell_type": "code",
   "execution_count": 37,
   "id": "897127b1-1cf0-4633-a652-9931c1ef169f",
   "metadata": {},
   "outputs": [
    {
     "name": "stdout",
     "output_type": "stream",
     "text": [
      "374\n"
     ]
    }
   ],
   "source": [
    "import requests\n",
    "url = 'https://v.daum.net/v/20250203151815463' \n",
    "res = requests.get(url).text\n",
    "print(res.find('한'))"
   ]
  },
  {
   "cell_type": "code",
   "execution_count": 153,
   "id": "5de1aa18-007b-46fe-bc6b-a95f91cbd1a7",
   "metadata": {},
   "outputs": [
    {
     "name": "stdout",
     "output_type": "stream",
     "text": [
      "41529\n",
      "toxic till the end\",\"url\":\"https://music.apple.com/kr/song/toxic-till-the-end/1783280225\",\"duration\"\n"
     ]
    }
   ],
   "source": [
    "import requests\n",
    "url = 'https://music.apple.com/kr/playlist/%EC%98%A4%EB%8A%98%EC%9D%98-top-100-%EB%8C%80%ED%95%9C%EB%AF%BC%EA%B5%AD/pl.d3d10c32fbc540b38e266367dc8cb00c'\n",
    "res = requests.get(url).text\n",
    "print(res.find('toxic till the end'))\n",
    "print(res[41529:41629])"
   ]
  },
  {
   "cell_type": "code",
   "execution_count": 158,
   "id": "1eb31edb-aa84-49fb-83ba-e39fd4195ca7",
   "metadata": {},
   "outputs": [
    {
     "name": "stdout",
     "output_type": "stream",
     "text": [
      "41529\n",
      "좋아하는 노래제목: toxic till the end\n"
     ]
    }
   ],
   "source": [
    "import requests\n",
    "url = 'https://music.apple.com/kr/playlist/%EC%98%A4%EB%8A%98%EC%9D%98-top-100-%EB%8C%80%ED%95%9C%EB%AF%BC%EA%B5%AD/pl.d3d10c32fbc540b38e266367dc8cb00c'\n",
    "res = requests.get(url).text\n",
    "print(res.index('toxic till the end'))\n",
    "print('좋아하는 노래제목:',res[41529:41547])"
   ]
  },
  {
   "cell_type": "code",
   "execution_count": null,
   "id": "b4deb4d8-f1ed-49e5-ba7d-adbec7b71f1c",
   "metadata": {},
   "outputs": [],
   "source": [
    "dir(str)"
   ]
  },
  {
   "cell_type": "code",
   "execution_count": 27,
   "id": "78f94731-9d7d-4a33-8556-a8100108d2b6",
   "metadata": {},
   "outputs": [
    {
     "name": "stdout",
     "output_type": "stream",
     "text": [
      "a,b,c,d,e,f,g\n"
     ]
    }
   ],
   "source": [
    "#문자열 삽입 join*\n",
    "#리스트 튜플을 문자열로\n",
    "print(\",\". join('abcdefg'))"
   ]
  },
  {
   "cell_type": "code",
   "execution_count": 38,
   "id": "5ba6a8ec-78b8-4df4-a7f7-673c43c71738",
   "metadata": {},
   "outputs": [
    {
     "name": "stdout",
     "output_type": "stream",
     "text": [
      "abcdefg\n"
     ]
    }
   ],
   "source": [
    "print(\",\". join(['abcdefg']))"
   ]
  },
  {
   "cell_type": "code",
   "execution_count": 163,
   "id": "862aa151-ba47-43d0-972d-d9720c8c2e76",
   "metadata": {},
   "outputs": [
    {
     "name": "stdout",
     "output_type": "stream",
     "text": [
      "a,b,c,d\n"
     ]
    }
   ],
   "source": [
    "print(\",\".join(['a', 'b', 'c', 'd']))"
   ]
  },
  {
   "cell_type": "code",
   "execution_count": 166,
   "id": "a3678854-4098-4f41-8ed4-ed3eddf02e80",
   "metadata": {},
   "outputs": [
    {
     "name": "stdout",
     "output_type": "stream",
     "text": [
      "HI\n"
     ]
    }
   ],
   "source": [
    "#소문자를 대문자로 바꾸기 upper\n",
    "a=\"hi\"\n",
    "print(a. upper())"
   ]
  },
  {
   "cell_type": "code",
   "execution_count": 39,
   "id": "c21395fe-5dcc-450f-bf86-2e13663ce9fb",
   "metadata": {},
   "outputs": [
    {
     "name": "stdout",
     "output_type": "stream",
     "text": [
      "hi\n"
     ]
    }
   ],
   "source": [
    "#대문자를 소문자로 바꾸기 lower\n",
    "a=\"HI\"\n",
    "print(a.lower())"
   ]
  },
  {
   "cell_type": "code",
   "execution_count": 169,
   "id": "eafb65bc-0150-420c-9668-61b9b95c97bd",
   "metadata": {},
   "outputs": [
    {
     "name": "stdout",
     "output_type": "stream",
     "text": [
      "Life is Egg\n",
      "LIFE IS EGG\n",
      "life is egg\n"
     ]
    }
   ],
   "source": [
    "# 연습\n",
    "v = \"Life is Egg\"\n",
    "big = v.upper()\n",
    "small = v.lower()\n",
    "print (v)\n",
    "print (big)\n",
    "print (small)"
   ]
  },
  {
   "cell_type": "code",
   "execution_count": 180,
   "id": "11aad9a7-164b-4d6d-942b-ab5cf4fbdc83",
   "metadata": {},
   "outputs": [
    {
     "name": "stdout",
     "output_type": "stream",
     "text": [
      "    !    hi   !  \n",
      "!    hi   !  \n",
      "    !    hi   !\n",
      "!    hi   !\n"
     ]
    }
   ],
   "source": [
    "a= \"    !    hi   !  \"\n",
    "aa=a.lstrip()\n",
    "bb=a.rstrip()\n",
    "cc=a.strip()\n",
    "print(a)\n",
    "print(aa)\n",
    "print(bb)\n",
    "print(cc)"
   ]
  },
  {
   "cell_type": "code",
   "execution_count": 179,
   "id": "28b7d8d6-8ca9-44d9-8f6d-d63bfb774163",
   "metadata": {},
   "outputs": [
    {
     "name": "stdout",
     "output_type": "stream",
     "text": [
      "         hi         \n",
      "hi         \n",
      "         hi\n",
      "hi\n"
     ]
    }
   ],
   "source": [
    "f = f\"{'hi':^20}\"\n",
    "f1 = f.lstrip()\n",
    "f2 = f.rstrip()\n",
    "f3 = f.strip()\n",
    "print(f)\n",
    "print(f1)\n",
    "print(f2)\n",
    "print(f3)"
   ]
  },
  {
   "cell_type": "code",
   "execution_count": 186,
   "id": "7c3a6062-8078-4993-9d68-502eaaa3f0c2",
   "metadata": {},
   "outputs": [
    {
     "name": "stdout",
     "output_type": "stream",
     "text": [
      "Life is Egg\n",
      "Life is Beautiful\n"
     ]
    }
   ],
   "source": [
    "#문자열 바꾸기 replace **\n",
    "a = \"Life is Egg\"\n",
    "c = a.replace(\"Egg\",\"Beautiful\")\n",
    "print(a)\n",
    "print(c)"
   ]
  },
  {
   "cell_type": "code",
   "execution_count": 189,
   "id": "e83da770-e14e-42c9-aa72-a22bf686b7e1",
   "metadata": {},
   "outputs": [
    {
     "name": "stdout",
     "output_type": "stream",
     "text": [
      "['Life', 'is', 'Egg']\n"
     ]
    }
   ],
   "source": [
    "#문자열 나누기 split *\n",
    "#문자열을 배열로\n",
    "a = \"Life is Egg\"\n",
    "aa= a.split()\n",
    "print(aa)"
   ]
  },
  {
   "cell_type": "code",
   "execution_count": 192,
   "id": "acf6dabf-1dd7-4c8a-b615-1856a3502dbe",
   "metadata": {},
   "outputs": [
    {
     "name": "stdout",
     "output_type": "stream",
     "text": [
      "['Life', 'is', 'Egg']\n",
      "['Life-is-Egg']\n"
     ]
    }
   ],
   "source": [
    "a = \"Life-is-Egg\"\n",
    "aa = a.split('-')\n",
    "bb = a.split()\n",
    "print(aa)\n",
    "print(bb)"
   ]
  },
  {
   "cell_type": "code",
   "execution_count": 34,
   "id": "ddc4023e-af66-4a9f-afc2-790ff9f8f055",
   "metadata": {},
   "outputs": [
    {
     "name": "stdout",
     "output_type": "stream",
     "text": [
      "['abcdefghi']\n",
      "a=b=c=d=e=f=g=h=i\n",
      "['a', 'b', 'c', 'd', 'e', 'f', 'g', 'h', 'i']\n",
      "abcdefghi\n"
     ]
    }
   ],
   "source": [
    "#연습\n",
    "ex= \"abcdefghi\"\n",
    "ex2 = ex. split()\n",
    "print(ex2)\n",
    "ex_join= \"=\" .join(ex)\n",
    "print(ex_join)\n",
    "ex_split= ex_join.split(\"=\")\n",
    "print(ex_split)\n",
    "ex_replace = ex_join. replace(\"=\",\"\")\n",
    "print(ex_replace)"
   ]
  },
  {
   "cell_type": "code",
   "execution_count": null,
   "id": "be92bf1d-41c6-4ab1-9dfd-9118db8552d0",
   "metadata": {},
   "outputs": [],
   "source": []
  }
 ],
 "metadata": {
  "kernelspec": {
   "display_name": "Python 3 (ipykernel)",
   "language": "python",
   "name": "python3"
  },
  "language_info": {
   "codemirror_mode": {
    "name": "ipython",
    "version": 3
   },
   "file_extension": ".py",
   "mimetype": "text/x-python",
   "name": "python",
   "nbconvert_exporter": "python",
   "pygments_lexer": "ipython3",
   "version": "3.13.1"
  }
 },
 "nbformat": 4,
 "nbformat_minor": 5
}
