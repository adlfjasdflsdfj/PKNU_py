{
 "cells": [
  {
   "cell_type": "markdown",
   "id": "44078c59-befe-4b73-974a-6536f219b709",
   "metadata": {},
   "source": [
    "# 모듈"
   ]
  },
  {
   "cell_type": "markdown",
   "id": "8f86a10b-2e54-4d87-a732-646f917f6ddd",
   "metadata": {},
   "source": [
    "## 모듈 만들기"
   ]
  },
  {
   "cell_type": "code",
   "execution_count": 17,
   "id": "3ef087d2-2e3b-45ac-b843-7dad891aa574",
   "metadata": {},
   "outputs": [],
   "source": [
    "#모듈 만들기 -mod1.py\n",
    "def add(a,b):\n",
    "    return a+b\n",
    "def sub(a,b):\n",
    "    return a-b"
   ]
  },
  {
   "cell_type": "code",
   "execution_count": 18,
   "id": "68cd36ec-32c7-492b-8971-97656166260e",
   "metadata": {},
   "outputs": [
    {
     "name": "stdout",
     "output_type": "stream",
     "text": [
      "33\n",
      "11\n"
     ]
    }
   ],
   "source": [
    "import mod1\n",
    "print(mod1.add(11,22))\n",
    "print(mod1.sub(33,22))"
   ]
  },
  {
   "cell_type": "code",
   "execution_count": 22,
   "id": "47c26c87-9111-49e2-8465-e17ac657afe1",
   "metadata": {},
   "outputs": [],
   "source": [
    "with open(\"mod2.py\",\"w\")as f:\n",
    "    data=\"\"\"def mul(a,b):\n",
    "    return a*b\n",
    "def div(a,b):\n",
    "    return a/b\"\"\"\n",
    "    f.write(data)"
   ]
  },
  {
   "cell_type": "code",
   "execution_count": 23,
   "id": "08b666c7-9031-471c-bfbe-74a55718c8b9",
   "metadata": {},
   "outputs": [
    {
     "name": "stdout",
     "output_type": "stream",
     "text": [
      "12\n",
      "2.0\n"
     ]
    }
   ],
   "source": [
    "import mod2\n",
    "print(mod2.mul(3,4))\n",
    "print(mod2.div(8,4))"
   ]
  },
  {
   "cell_type": "code",
   "execution_count": 8,
   "id": "3baf2e27-ab11-4fee-82c4-60085c7892f7",
   "metadata": {},
   "outputs": [
    {
     "name": "stdout",
     "output_type": "stream",
     "text": [
      "33\n",
      "11\n",
      "12\n",
      "2.0\n"
     ]
    }
   ],
   "source": [
    "import mod1 , mod2\n",
    "print(mod1.add(11,22))\n",
    "print(mod1.sub(33,22))\n",
    "print(mod2.mul(3,4))\n",
    "print(mod2.div(8,4))"
   ]
  },
  {
   "cell_type": "code",
   "execution_count": 9,
   "id": "8816de97-c0d1-4ea7-90f2-7a96c36330b8",
   "metadata": {},
   "outputs": [
    {
     "name": "stdout",
     "output_type": "stream",
     "text": [
      "33\n",
      "11\n",
      "12\n",
      "2.0\n"
     ]
    }
   ],
   "source": [
    "# import mod1 as m1\n",
    "# import mod2 as m2\n",
    "import mod1 as m1, mod2 as m2\n",
    "print(m1.add(11,22))\n",
    "print(m1.sub(33,22))\n",
    "print(m2.mul(3,4))\n",
    "print(m2.div(8,4))"
   ]
  },
  {
   "cell_type": "code",
   "execution_count": 10,
   "id": "a8964a2f-43fe-4af7-948f-621a32e40084",
   "metadata": {},
   "outputs": [
    {
     "name": "stdout",
     "output_type": "stream",
     "text": [
      "77\n"
     ]
    }
   ],
   "source": [
    "from mod1 import add , sub\n",
    "print(add(33,44))"
   ]
  },
  {
   "cell_type": "code",
   "execution_count": 11,
   "id": "32535606-c117-4711-a531-068f82fa145b",
   "metadata": {},
   "outputs": [
    {
     "name": "stdout",
     "output_type": "stream",
     "text": [
      "20\n"
     ]
    }
   ],
   "source": [
    "from mod2 import  *\n",
    "print(mul(4,5))"
   ]
  },
  {
   "cell_type": "markdown",
   "id": "92006215-84ac-4952-bed9-09ebaf931910",
   "metadata": {},
   "source": [
    "## __main__ 의 의미"
   ]
  },
  {
   "cell_type": "code",
   "execution_count": 6,
   "id": "8d05370c-3101-411d-80d3-db6cca6351f8",
   "metadata": {},
   "outputs": [],
   "source": [
    "with open(\"mod1.py\",\"a\")as f:\n",
    "    text = \"\"\"\\nprint(add(1,4))\\nprint(sub(4,2))\"\"\"\n",
    "    f.write(text)"
   ]
  },
  {
   "cell_type": "code",
   "execution_count": 7,
   "id": "5ee29c2a-80d1-4630-bf25-a2d0b46aa2bb",
   "metadata": {},
   "outputs": [
    {
     "name": "stdout",
     "output_type": "stream",
     "text": [
      "Microsoft Windows [Version 10.0.26100.2894]\n",
      "(c) Microsoft Corporation. All rights reserved.\n",
      "\n",
      "hm\\code>python mod1.py\n"
     ]
    },
    {
     "name": "stderr",
     "output_type": "stream",
     "text": [
      "Traceback (most recent call last):\n",
      "  File \"D:\\hhm\\code\\mod1.py\", line 2, in <module>\n",
      "    print(add(1,4))\n",
      "          ^^^\n",
      "me 'add' is not defined\n"
     ]
    },
    {
     "name": "stdout",
     "output_type": "stream",
     "text": [
      "\n",
      "D:\\hhm\\code>"
     ]
    }
   ],
   "source": [
    "%%cmd\n",
    "python mod1.py"
   ]
  },
  {
   "cell_type": "code",
   "execution_count": 16,
   "id": "d86c5b1c-4f77-4da2-a374-c0de510a3b9b",
   "metadata": {},
   "outputs": [
    {
     "name": "stdout",
     "output_type": "stream",
     "text": [
      "5\n",
      "2\n"
     ]
    },
    {
     "data": {
      "text/plain": [
       "['__builtins__',\n",
       " '__cached__',\n",
       " '__doc__',\n",
       " '__file__',\n",
       " '__loader__',\n",
       " '__name__',\n",
       " '__package__',\n",
       " '__spec__',\n",
       " 'add',\n",
       " 'sub']"
      ]
     },
     "execution_count": 16,
     "metadata": {},
     "output_type": "execute_result"
    }
   ],
   "source": [
    "import mod1\n",
    "dir(mod1)"
   ]
  },
  {
   "cell_type": "code",
   "execution_count": 9,
   "id": "78952f76-7233-434e-b137-49d936499567",
   "metadata": {},
   "outputs": [
    {
     "name": "stdout",
     "output_type": "stream",
     "text": [
      "삼성전자:55,900원\n"
     ]
    }
   ],
   "source": [
    "import requests as req\n",
    "url =\"https://finance.naver.com/sise/sise_market_sum.naver\"\n",
    "web = req.get(url)\n",
    "html = web.text\n",
    "# print(html)\n",
    "f1=html.find('삼성전자')\n",
    "# print(html[f1:f1+100].find('<td class=\"number\">'))\n",
    "print('삼성전자:'+html[f1:f1+100][19:50].replace('<td class=\"number\">',\"\").replace('<td class=\"number\">',\"\").replace('</td>',\"\").replace('\\n',\"\")+\"원\")"
   ]
  },
  {
   "cell_type": "code",
   "execution_count": 24,
   "id": "c7a8b779-913e-42aa-ac9d-15e1bfd98141",
   "metadata": {},
   "outputs": [
    {
     "name": "stdout",
     "output_type": "stream",
     "text": [
      "19\n",
      "삼성전자:55,900원\n",
      "17\n",
      "기아 :94,600원\n"
     ]
    }
   ],
   "source": [
    "import requests as req\n",
    "url =\"https://finance.naver.com/sise/sise_market_sum.naver\"\n",
    "web = req.get(url)\n",
    "html = web.text\n",
    "# print(html)\n",
    "f1=html.find('삼성전자')\n",
    "print(html[f1:f1+100].find('<td class=\"number\">'))\n",
    "print('삼성전자:'+html[f1:f1+100][19:50].replace('<td class=\"number\">',\"\").replace('<td class=\"number\">',\"\").replace('</td>',\"\").replace('\\n',\"\")+\"원\")\n",
    "f2=html.find('기아')\n",
    "print(html[f2:f2+100].find('<td class=\"number\">'))\n",
    "print('기아 :'+html[f2:f2+100][17:50].replace('<td class=\"number\">',\"\").replace('</td>',\"\").replace('\\n',\"\").replace('\\t',\"\")+\"원\")"
   ]
  },
  {
   "cell_type": "code",
   "execution_count": 25,
   "id": "b88d8d6e-4ef1-4172-b30b-c3c6bc6b7b40",
   "metadata": {},
   "outputs": [
    {
     "data": {
      "text/plain": [
       "'삼성물산:  121,500원'"
      ]
     },
     "execution_count": 25,
     "metadata": {},
     "output_type": "execute_result"
    }
   ],
   "source": [
    "import  sam\n",
    "sam.sam('삼성물산')"
   ]
  },
  {
   "cell_type": "markdown",
   "id": "a1c24d83-b521-4f0b-a08d-c77bf1d27a21",
   "metadata": {},
   "source": [
    "## 클래스나 변수등을 포함한 모듈"
   ]
  },
  {
   "cell_type": "code",
   "execution_count": 4,
   "id": "a05f1542-04d7-49ec-8aab-02ddb83534ba",
   "metadata": {},
   "outputs": [],
   "source": [
    "with open (\"mod3.py\",\"w\") as f:\n",
    "    text=\"\"\"PI = 3.141592\\n\\nclass Math:\\n\\tdef solve(self,r):\\n\\t\\treturn PI * (r**2)\\n\\ndef add(a,b):\\n\\treturn a+b\"\"\"\n",
    "    f.write(text)"
   ]
  },
  {
   "cell_type": "code",
   "execution_count": 11,
   "id": "f6411997-5296-4857-b8ee-455f869a5d4d",
   "metadata": {},
   "outputs": [
    {
     "name": "stdout",
     "output_type": "stream",
     "text": [
      "Microsoft Windows [Version 10.0.26100.2894]\n",
      "(c) Microsoft Corporation. All rights reserved.\n",
      "\n",
      "hm\\code>set PYTHONPATH=D:\\\\hhm\\code\n",
      "\n",
      "D:\\hhm\\code>"
     ]
    }
   ],
   "source": [
    "%%cmd\n",
    "set PYTHONPATH=D:\\\\hhm\\code"
   ]
  },
  {
   "cell_type": "code",
   "execution_count": null,
   "id": "2e7dc909-231a-4e80-82ff-2e8e725bacc3",
   "metadata": {},
   "outputs": [],
   "source": [
    "-CMD 에서 setPYTHONPATH=D:\\hhm\\code\\mymod\n",
    "-PS에서 $en."
   ]
  },
  {
   "cell_type": "code",
   "execution_count": 5,
   "id": "5f6f5d6d-1de7-4e6a-bff2-af984285feb6",
   "metadata": {},
   "outputs": [
    {
     "name": "stdout",
     "output_type": "stream",
     "text": [
      "3.141592\n",
      "314.1592\n",
      "7.5415920000000005\n"
     ]
    }
   ],
   "source": [
    "import mod3\n",
    "#변수\n",
    "print(mod3.PI)\n",
    "#클래스\n",
    "a= mod3.Math()\n",
    "print(a.solve(10))\n",
    "#함수\n",
    "print(mod3.add(mod3.PI, 4.4))"
   ]
  },
  {
   "cell_type": "markdown",
   "id": "e52792e7-c046-4739-a728-adf194790079",
   "metadata": {},
   "source": [
    "## 다른 디렉터리에 있는 모듈 불러오는 방법"
   ]
  },
  {
   "cell_type": "code",
   "execution_count": 4,
   "id": "104d0d97-2ea1-4675-bf1e-bbc6be31bc40",
   "metadata": {},
   "outputs": [
    {
     "data": {
      "text/plain": [
       "['C:\\\\Users\\\\Admin\\\\AppData\\\\Local\\\\Programs\\\\Python\\\\Python313\\\\python313.zip',\n",
       " 'C:\\\\Users\\\\Admin\\\\AppData\\\\Local\\\\Programs\\\\Python\\\\Python313\\\\DLLs',\n",
       " 'C:\\\\Users\\\\Admin\\\\AppData\\\\Local\\\\Programs\\\\Python\\\\Python313\\\\Lib',\n",
       " 'C:\\\\Users\\\\Admin\\\\AppData\\\\Local\\\\Programs\\\\Python\\\\Python313',\n",
       " '',\n",
       " 'C:\\\\Users\\\\Admin\\\\AppData\\\\Local\\\\Programs\\\\Python\\\\Python313\\\\Lib\\\\site-packages',\n",
       " 'C:\\\\Users\\\\Admin\\\\AppData\\\\Local\\\\Programs\\\\Python\\\\Python313\\\\Lib\\\\site-packages\\\\win32',\n",
       " 'C:\\\\Users\\\\Admin\\\\AppData\\\\Local\\\\Programs\\\\Python\\\\Python313\\\\Lib\\\\site-packages\\\\win32\\\\lib',\n",
       " 'C:\\\\Users\\\\Admin\\\\AppData\\\\Local\\\\Programs\\\\Python\\\\Python313\\\\Lib\\\\site-packages\\\\Pythonwin']"
      ]
     },
     "execution_count": 4,
     "metadata": {},
     "output_type": "execute_result"
    }
   ],
   "source": [
    "import sys\n",
    "sys.path"
   ]
  },
  {
   "cell_type": "code",
   "execution_count": 5,
   "id": "a6ead8c7-597b-448a-883c-5adeef078042",
   "metadata": {},
   "outputs": [
    {
     "data": {
      "text/plain": [
       "['C:\\\\Users\\\\Admin\\\\AppData\\\\Local\\\\Programs\\\\Python\\\\Python313\\\\python313.zip',\n",
       " 'C:\\\\Users\\\\Admin\\\\AppData\\\\Local\\\\Programs\\\\Python\\\\Python313\\\\DLLs',\n",
       " 'C:\\\\Users\\\\Admin\\\\AppData\\\\Local\\\\Programs\\\\Python\\\\Python313\\\\Lib',\n",
       " 'C:\\\\Users\\\\Admin\\\\AppData\\\\Local\\\\Programs\\\\Python\\\\Python313',\n",
       " '',\n",
       " 'C:\\\\Users\\\\Admin\\\\AppData\\\\Local\\\\Programs\\\\Python\\\\Python313\\\\Lib\\\\site-packages',\n",
       " 'C:\\\\Users\\\\Admin\\\\AppData\\\\Local\\\\Programs\\\\Python\\\\Python313\\\\Lib\\\\site-packages\\\\win32',\n",
       " 'C:\\\\Users\\\\Admin\\\\AppData\\\\Local\\\\Programs\\\\Python\\\\Python313\\\\Lib\\\\site-packages\\\\win32\\\\lib',\n",
       " 'C:\\\\Users\\\\Admin\\\\AppData\\\\Local\\\\Programs\\\\Python\\\\Python313\\\\Lib\\\\site-packages\\\\Pythonwin',\n",
       " 'D:\\\\kys\\\\code\\\\mymod']"
      ]
     },
     "execution_count": 5,
     "metadata": {},
     "output_type": "execute_result"
    }
   ],
   "source": [
    "sys.path.append('D:\\\\kys\\\\code\\\\mymod')  #초기화하면 사라짐\n",
    "sys.path"
   ]
  },
  {
   "cell_type": "code",
   "execution_count": 7,
   "id": "0190fce7-b888-408e-a987-eb13a89534dc",
   "metadata": {},
   "outputs": [
    {
     "name": "stdout",
     "output_type": "stream",
     "text": [
      "Requirement already satisfied: python-dotenv in c:\\users\\admin\\appdata\\local\\programs\\python\\python313\\lib\\site-packages (1.0.1)\n"
     ]
    },
    {
     "name": "stderr",
     "output_type": "stream",
     "text": [
      "\n",
      "[notice] A new release of pip is available: 25.0 -> 25.0.1\n",
      "[notice] To update, run: python.exe -m pip install --upgrade pip\n"
     ]
    },
    {
     "name": "stdout",
     "output_type": "stream",
     "text": [
      "Requirement already satisfied: pip in c:\\users\\admin\\appdata\\local\\programs\\python\\python313\\lib\\site-packages (25.0)\n",
      "Collecting pip\n",
      "  Downloading pip-25.0.1-py3-none-any.whl.metadata (3.7 kB)\n",
      "Downloading pip-25.0.1-py3-none-any.whl (1.8 MB)\n",
      "   ---------------------------------------- 0.0/1.8 MB ? eta -:--:--\n",
      "   ---------------------------------------- 1.8/1.8 MB 11.9 MB/s eta 0:00:00\n",
      "Installing collected packages: pip\n",
      "  Attempting uninstall: pip\n",
      "    Found existing installation: pip 25.0\n",
      "    Uninstalling pip-25.0:\n",
      "      Successfully uninstalled pip-25.0\n",
      "Successfully installed pip-25.0.1\n"
     ]
    }
   ],
   "source": [
    "!pip install python-dotenv\n",
    "!python.exe -m pip install --upgrade pip"
   ]
  },
  {
   "cell_type": "code",
   "execution_count": 2,
   "id": "0a9f4acf-dbef-4b62-b90c-1daaf8979553",
   "metadata": {},
   "outputs": [
    {
     "name": "stdout",
     "output_type": "stream",
     "text": [
      "my phone 010-7777-7777\n",
      "https://www.google.com\n",
      "이게 될까? 모르겠어요.!\n"
     ]
    }
   ],
   "source": [
    "from dotenv import load_dotenv\n",
    "import os\n",
    "\n",
    "#.env 파일 로드\n",
    "load_dotenv()\n",
    "\n",
    "SKEY = os.getenv(\"SECRET_KEY\")\n",
    "print(SKEY)\n",
    "DBUG = os.getenv(\"DEBUG\")\n",
    "print(DBUG)\n",
    "TEST = os.getenv(\"TEST\")\n",
    "print(TEST)"
   ]
  },
  {
   "cell_type": "code",
   "execution_count": 6,
   "id": "8cdc6a0f-2dd7-41ba-a8c2-730e4df379eb",
   "metadata": {
    "scrolled": true
   },
   "outputs": [
    {
     "name": "stdout",
     "output_type": "stream",
     "text": [
      "{\n",
      "\t\"lastBuildDate\":\"Thu, 13 Feb 2025 15:43:43 +0900\",\n",
      "\t\"total\":2094071,\n",
      "\t\"start\":1,\n",
      "\t\"display\":5,\n",
      "\t\"items\":[\n",
      "\t\t{\n",
      "\t\t\t\"title\":\"[<b>속보<\\/b>] 대만 타이중 백화점서 폭발 사고\",\n",
      "\t\t\t\"originallink\":\"https:\\/\\/www.khan.co.kr\\/article\\/202502131504001\",\n",
      "\t\t\t\"link\":\"https:\\/\\/n.news.naver.com\\/mnews\\/article\\/032\\/0003350795?sid=104\",\n",
      "\t\t\t\"description\":\"대만 타이중에 있는 신콩미츠코시 백화점에서 13일(현지시간) 폭발이 일어나 적어도 1명이 숨졌다고 AFP통신이 보도했다. 소방당국은 백화점 내 폭발로 1명이 사망하고 4명은 생체 징후가 없는 상태라고 밝혔다. 당국은... \",\n",
      "\t\t\t\"pubDate\":\"Thu, 13 Feb 2025 15:05:00 +0900\"\n",
      "\t\t},\n",
      "\t\t{\n",
      "\t\t\t\"title\":\"[<b>속보<\\/b>] 대만 타이중 백화점서 폭발···최소 1명 사망\",\n",
      "\t\t\t\"originallink\":\"http:\\/\\/www.segye.com\\/newsView\\/20250213512918?OutUrl=naver\",\n",
      "\t\t\t\"link\":\"https:\\/\\/n.news.naver.com\\/mnews\\/article\\/022\\/0004010649?sid=104\",\n",
      "\t\t\t\"description\":\"대만 타이중에 있는 신콩미츠코시 백화점에서 13일(현지시간) 폭발이 일어나 적어도 1명이 숨졌다고 AFP통신이 보도했다. 소방당국은 백화점 내 폭발로 1명이 사망하고 4명은 생체 징후가 없는 상태라고 밝혔다. 당국은... \",\n",
      "\t\t\t\"pubDate\":\"Thu, 13 Feb 2025 15:11:00 +0900\"\n",
      "\t\t},\n",
      "\t\t{\n",
      "\t\t\t\"title\":\"[<b>속보<\\/b>] 日 혼다-닛산 '세기의 합병' 결국 두달만에 철회\",\n",
      "\t\t\t\"originallink\":\"https:\\/\\/www.sedaily.com\\/NewsView\\/2GOYD9OEGG\",\n",
      "\t\t\t\"link\":\"https:\\/\\/n.news.naver.com\\/mnews\\/article\\/011\\/0004450152?sid=104\",\n",
      "\t\t\t\"description\":\"일본 자동차 업계 '빅딜'로 주목받았던 혼다와 닛산자동차의 경영 통합이 2개월 만에 무산됐다. 13일 닛케이에 따르면 양사는 이날 각각 이사회를 열어 합병 협의 중단을 결정했다. 양사는 지난해 12월 2026년 8월 지주회사... \",\n",
      "\t\t\t\"pubDate\":\"Thu, 13 Feb 2025 14:58:00 +0900\"\n",
      "\t\t},\n",
      "\t\t{\n",
      "\t\t\t\"title\":\"[<b>속보<\\/b>]혼다·닛산, 합병 협의 중단 결정\",\n",
      "\t\t\t\"originallink\":\"https:\\/\\/www.newsis.com\\/view\\/NISX20250213_0003064350\",\n",
      "\t\t\t\"link\":\"https:\\/\\/n.news.naver.com\\/mnews\\/article\\/003\\/0013065545?sid=104\",\n",
      "\t\t\t\"description\":\"후속기사가 이어집니다\",\n",
      "\t\t\t\"pubDate\":\"Thu, 13 Feb 2025 15:00:00 +0900\"\n",
      "\t\t},\n",
      "\t\t{\n",
      "\t\t\t\"title\":\"[<b>속보<\\/b>]尹측 &quot;헌재가 법률 규정 위반해 재판 진행…계속되면 중대 결심&quot;\",\n",
      "\t\t\t\"originallink\":\"https:\\/\\/www.kwnews.co.kr\\/page\\/view\\/2025021315273920296\",\n",
      "\t\t\t\"link\":\"https:\\/\\/n.news.naver.com\\/mnews\\/article\\/087\\/0001097878?sid=102\",\n",
      "\t\t\t\"description\":\"<b>속보<\\/b>='12·3 비상계엄'으로 국회가 탄핵소추한 윤석열 대통령에 대한 헌법재판소 탄핵심판 절차가 진행되고 있는 가운데, 윤 대통령 측은 헌재의 재판 진행 방식에 항의하며 한덕수 국무총리를 증인으로 불러달라고 다시... \",\n",
      "\t\t\t\"pubDate\":\"Thu, 13 Feb 2025 15:29:00 +0900\"\n",
      "\t\t}\n",
      "\t]\n",
      "}\n"
     ]
    }
   ],
   "source": [
    "# 네이버 검색 API 예제 - 뉴스 검색\n",
    "import os\n",
    "import sys\n",
    "import urllib.request\n",
    "\n",
    "load_dotenv()\n",
    "client_id = os. environ.get(\"MY_ID\")\n",
    "client_secret = os. environ.get(\"MY_SECRET\")\n",
    "\n",
    "encText = urllib.parse.quote(\"속보\")\n",
    "url = \"https://openapi.naver.com/v1/search/news.json?query=\" + encText+ '&display=5&start=1&sort=sim'\n",
    "# JSON 결과\n",
    "request = urllib.request.Request(url)\n",
    "request.add_header(\"X-Naver-Client-Id\",client_id)\n",
    "request.add_header(\"X-Naver-Client-Secret\",client_secret)\n",
    "response = urllib.request.urlopen(request)\n",
    "rescode = response.getcode()\n",
    "if(rescode==200):\n",
    "    response_body = response.read()\n",
    "    print(response_body.decode('utf-8'))\n",
    "else:\n",
    "    print(\"Error Code:\" + rescode)"
   ]
  },
  {
   "cell_type": "code",
   "execution_count": 12,
   "id": "7af89a26-3c3c-4641-89f0-353f59cb28f9",
   "metadata": {},
   "outputs": [
    {
     "ename": "NameError",
     "evalue": "name 'ldata' is not defined",
     "output_type": "error",
     "traceback": [
      "\u001b[1;31m---------------------------------------------------------------------------\u001b[0m",
      "\u001b[1;31mNameError\u001b[0m                                 Traceback (most recent call last)",
      "Cell \u001b[1;32mIn[12], line 1\u001b[0m\n\u001b[1;32m----> 1\u001b[0m \u001b[38;5;28mprint\u001b[39m(\u001b[43mldata\u001b[49m)\n",
      "\u001b[1;31mNameError\u001b[0m: name 'ldata' is not defined"
     ]
    }
   ],
   "source": [
    "print(ldata)"
   ]
  },
  {
   "cell_type": "code",
   "execution_count": 13,
   "id": "a314a65e",
   "metadata": {
    "scrolled": true
   },
   "outputs": [
    {
     "name": "stdout",
     "output_type": "stream",
     "text": [
      "[속보]국민의힘 윤리위, 尹 징계 않기로\n",
      "국민의힘 윤리위, 尹 징계 않기로 ※CBS노컷뉴스는 여러분의 제보로 함께 세상을 바꿉니다. 각종 비리와 부당대우, 사건사고와 미담 등 모든 얘깃거리를 알려주세요.이메일 : 카카오톡 : @노컷뉴스사이트 : https... \n",
      "https://www.nocutnews.co.kr/news/6292989?utm_source=naver&utm_medium=article&utm_campaign=20250213035336\n",
      "[속보] KT, 올해 2500억 규모 자사주 소각\n",
      "KT는 올해 약 2500억원 규모의 자사주를 소각한다고 13일 밝혔다. 소각할 주식은 보통주 553만7099주다. KT는 지난해 11월 발표한 기업가치 제고 계획(밸류업 프로그램)을 발표하며 연결 자기자본이익률(ROE) 목표를 9... \n",
      "https://www.newsis.com/view/NISX20250213_0003064022\n",
      "[속보]박지원, 홍장원 인사청탁 부정 “청탁자는 주영대사 역임 前 간부...\n",
      "박지원 더불어민주당 의원이 13일 “홍장원 전 국가정보원 1차장은 정보위 회의에서 첫 대면했다”라면서 홍 전 차장이 자신에게 인사 청탁을 했다는 의혹을 전면 부인했다. 박 의원은 이날 자신의 페이스북에 글을 올려... \n",
      "https://www.munhwa.com/news/view.html?no=2025021301039910289018\n",
      "[속보] '이재명 습격' 60대 남성 징역 15년 확정\n",
      "지난해 1월 이재명 더불어민주당 대표를 흉기로 살해하려고 시도한 60대 남성에게 징역 15년이 확정됐다. 13일 대법원 2부(오경미 대법관)는 살인미수와 공직선거법 위반 혐의로 기소된 김모(68)씨에게 징역 15년을... \n",
      "https://www.hankyung.com/article/2025021327947\n",
      "[속보] ‘이재명 습격’ 60대 남성 징역 15년 확정\n",
      "이재명 더불어민주당 대표를 흉기로 살해하려고 시도했던 60대 남성에게 징역 15년이 확정됐다. 13일 법조계에 따르면 대법원 2부(주심 오경미 대법관)는 이날 살인미수와 공직선거법 위반 혐의로 기소된 김모(68) 씨에게... \n",
      "https://www.mk.co.kr/article/11239884\n"
     ]
    }
   ],
   "source": [
    "# 네이버 검색 API 예제 - 뉴스 검색\n",
    "import os\n",
    "import sys\n",
    "import urllib.request\n",
    "import json\n",
    "\n",
    "load_dotenv()\n",
    "client_id = os. environ.get(\"MY_ID\")\n",
    "client_secret = os. environ.get(\"MY_SECRET\")\n",
    "\n",
    "encText = urllib.parse.quote(\"속보\")\n",
    "url = \"https://openapi.naver.com/v1/search/news.json?query=\" + encText+ '&display=5&start=1&sort=sim'\n",
    "# JSON 결과\n",
    "request = urllib.request.Request(url)\n",
    "request.add_header(\"X-Naver-Client-Id\",client_id)\n",
    "request.add_header(\"X-Naver-Client-Secret\",client_secret)\n",
    "response = urllib.request.urlopen(request)\n",
    "rescode = response.getcode()\n",
    "\n",
    "if(rescode==200):\n",
    "    response_body = response.read()\n",
    "    result = response_body.decode('utf-8')\n",
    "    data = json.loads(result)\n",
    "    ldata = data['items']\n",
    "    for n in ldata:\n",
    "        print(n['title'].replace('<b>','').replace('</b>',''))\n",
    "        print(n['description'])\n",
    "        print(n['originallink'])\n",
    "else:\n",
    "              print(\"Error code:\" +rescode)"
   ]
  },
  {
   "cell_type": "code",
   "execution_count": 7,
   "id": "297129a1-92c2-457e-8d84-ab62b0a5bbb0",
   "metadata": {
    "scrolled": true
   },
   "outputs": [
    {
     "name": "stdout",
     "output_type": "stream",
     "text": [
      "<?xml version=\"1.0\" encoding=\"UTF-8\"?><rss version=\"2.0\"><channel><title>Naver Open API - book ::&apos;책&apos;</title><link>https://search.naver.com</link><description>Naver Search Result</description><lastBuildDate>Thu, 13 Feb 2025 15:57:04 +0900</lastBuildDate><total>56559</total><start>1</start><display>5</display><item><title>Go Go 카카오프렌즈 35 (중국 2)</title><link>https://search.shopping.naver.com/book/catalog/52921299426</link><image>https://shopping-phinf.pstatic.net/main_5292129/52921299426.20250211084309.jpg</image><author>김미영</author><discount>15120</discount><publisher>아울북</publisher><pubdate>20250212</pubdate><isbn>9791171179954</isbn><description>카카오프렌즈, 잃어버린 퍼즐을 찾으러 다시 중국으로 향하다!\n",
      "이프 때문에 퍼즐을 놓치고 말았던 중국은 황허 문명과 삼국지에 등장하는 위, 촉, 오의 혼란한 시대를 거쳐 현대에 이르기까지 오랜 왕조와 역사를 간직하고 있어. 그래서 지금의 중국은 역사와 현대의 기술을 모두 아우르고 있대. 대륙인 만큼 여러 지역의 특색을 가진 문화도 놓칠 수 없지. 아름다운 고궁 자금성과 반짝이는 상하이의 야경도 정말 멋지다고! 이번에는 퍼즐을 놓치지 않도록 서둘러 떠나자!</description></item><item><title>흔한남매 18</title><link>https://search.shopping.naver.com/book/catalog/51878213620</link><image>https://shopping-phinf.pstatic.net/main_5187821/51878213620.20241213070913.jpg</image><author>백난도</author><discount>14220</discount><publisher>미래엔아이세움</publisher><pubdate>20241218</pubdate><isbn>9791173114038</isbn><description>온 가족에게 웃음꽃을 선물할 흔한남매의 공감 백배 일상!\n",
      "\n",
      "얼굴에 여드름이 난 흔한남매, 어린 으뜸이의 첫 심부름, 별똥별이 떨어진 날 영혼이 뒤바뀌어 버린 으뜸이와 에이미, 오싹할 정도로 공감되는 이야기, 으뜸이의 이상형 찾기 대작전 등 흔한남매와 함께라면 어느새 환한 웃음꽃이 피어날 거예요.</description></item><item><title>설민석의 그리스 로마 신화 대모험 10 (바다의 신 포세이돈)</title><link>https://search.shopping.naver.com/book/catalog/52207055619</link><image>https://shopping-phinf.pstatic.net/main_5220705/52207055619.20250105071712.jpg</image><author>설민석^남이담</author><discount>13500</discount><publisher>단꿈아이</publisher><pubdate>20250106</pubdate><isbn>9791193031940</isbn><description>이번에도 설쌤이, 누구보다 재미있게! 생생하게!\n",
      "오랫동안 사랑받아 온 신들의 이야기를 \n",
      "아이들의 마음속에 오래 남도록 들려드립니다!\n",
      "\n",
      "“저와 함께 떠난 신화 대모험이 어린이들의 마음속에 오래도록 남아, 훗날 인생을 살아가는 지혜가 된다면 더없이 기쁠 것 같습니다.”  -저자 설민석\n",
      "\n",
      "뻔한 그리스 로마 신화는 이제 그만! 그리스 로마 신화를 처음 접하는 아이들을 위해 스토리텔러 설쌤이 나섰다! \n",
      "〈설민석의 그리스 로마 신화 대모험〉은 오랜 시간 그 가치를 인정받은 그리스 로마 신화에 설쌤의 풍부한 상상력을 더한 새로운 대모험 시리즈입니다. 〈설민석의 그리스 로마 신화 대모험〉은 낯설고 어려운 그리스 로마 신화를 어린이의 눈높이에 맞춰 아주 쉽게, 흥미진진한 만화로 재구성했어요. 설쌤이 들려주는 재미있고 생생한 신들의 이야기를 듣다 보면, 어느새 그리스 로마 신화에 흠뻑 빠져들 거예요. 또한 주인공들이 겪는 신비한 일들을 따라가다 보면, 자연스레 신들과 더 가까워진답니다. 이야기를 재미있게 읽은 뒤에는 더 깊은 정보와 재미난 퀴즈로 신화 박사에 도전해 보세요! 자, 그럼 설쌤과 함께 신화 속 세상으로 대모험을 떠나 볼까요?</description></item><item><title>설민석의 세계사 대모험 23 (인도 편: 황자의 첫사랑)</title><link>https://search.shopping.naver.com/book/catalog/51905899622</link><image>https://shopping-phinf.pstatic.net/main_5190589/51905899622.20241216071958.jpg</image><author>설민석^김정욱</author><discount>12600</discount><publisher>단꿈아이</publisher><pubdate>20241216</pubdate><isbn>9791193031803</isbn><description>세계사의 주요 장면을 쏙쏙 뽑아 엮은 흥미진진한 이야기!\n",
      "재미와 학습을 책임지는 『설민석의 세계사 대모험』!\n",
      "이번에는 타지마할에 숨겨진 사랑 이야기를 찾아 인도로 떠나자!\n",
      "\n",
      "세계사는 낯설고 복잡해서 어렵기만 하다고요? 흥미진진한 세계사 현장으로 시간 여행을 떠나, 설쌤이 들려주는 재미있는 이야기에 빠져 보는 건 어떨까요? 『설민석의 세계사 대모험』은 아이들이 꼭 알아야 할 세계사의 주요 장면을 쏙쏙 뽑아 생생하게 경험하고, 다양한 역사 인물을 만나 볼 수 있도록 구성했습니다. 또한 전문가의 꼼꼼한 감수를 통해, 인도의 역사 정보도 알차게 담았답니다. 자, 그럼 램프 원정대와 함께 타지마할에 숨겨진 사랑 이야기를 찾아 인도로 떠나 볼까요?\n",
      "\n",
      "23권 줄거리\n",
      "램프 원정대, 인도 무굴 제국으로 떠나다!\n",
      "대악마 샤이탄의 모든 비밀을 알게 된 슈리! 서둘러 램프 원정대에게 다음 고대 물건의 행방을 알려 주는데요. 세 번째 고대 물건은 사랑하는 사람을 잃고 비참한 최후를 맞이한 인도 황제에게 있었지요. 그렇게 램프 원정대는 인도 역사상 가장 강했던 나라인 무굴 제국으로 향합니다. 그리고 그곳에서 우연히 사랑 고백을 연습하고 있는 한 소년을 만나는데요! 과연 이 소년의 정체는 무엇일까요? 그리고 램프 원정대는 무사히 고대 물건을 찾을 수 있을까요?</description></item><item><title>설민석의 한국사 대모험 31 (만파식적 편: 신비한 피리)</title><link>https://search.shopping.naver.com/book/catalog/51549049621</link><image>https://shopping-phinf.pstatic.net/main_5154904/51549049621.20241126071200.jpg</image><author>설민석^남이담</author><discount>12600</discount><publisher>단꿈아이</publisher><pubdate>20241125</pubdate><isbn>9791193031742</isbn><description>우리 아이 한국사 첫걸음, \n",
      "〈설민석의 한국사 대모험〉으로 시작하세요!\n",
      "\n",
      "2017년 1권이 처음 출간된 이래, 누적 판매 부수 600만 부라는 경이적인 수치를 기록하며 대한민국 대표 어린이 역사책으로 굳건히 자리매김한 〈설민석의 한국사 대모험〉! 〈설민석의 한국사 대모험〉은 아이들이 처음 접하는 한국사를 재미있는 만화와 깊이 있는 부록으로 유익하게 전달합니다. 이 책은 우리 아이들이 놀이하듯 즐겁게 한국사를 접하며 한국사에 관심을 가지고, 나아가 한국사를 사랑하는 어린이로 성장하게 도와줄 것입니다. \n",
      "〈설민석의 한국사 대모험〉 31권에서는 “타임 드래곤의 송곳니”를 찾아 떠나는 새로운 모험이 시작됩니다! 시간 여행 장치인 마법 분필에 이상이 생기자, 마법 분필의 재료인 타임 드래곤의 송곳니를 찾아 나서는 설쌤 일행! 설쌤과 함께하는 시간 여행을 통해 통일 신라 신문왕은 어떤 일을 했는지, 만파식적 설화에 담긴 의미는 무엇인지 확인해 보세요!</description></item></channel></rss>\n"
     ]
    }
   ],
   "source": [
    "# 네이버 검색 API 예제 - 책 검색\n",
    "import os\n",
    "import sys\n",
    "import urllib.request\n",
    "\n",
    "load_dotenv()\n",
    "client_id = os. environ.get(\"MY_ID\")\n",
    "client_secret = os. environ.get(\"MY_SECRET\")\n",
    "\n",
    "encText = urllib.parse.quote(\"책\")\n",
    "url = \"https://openapi.naver.com/v1/search/book.xml?query=\" + encText+ '&display=5&start=1&sort=sim'\n",
    "# JSON 결과\n",
    "request = urllib.request.Request(url)\n",
    "request.add_header(\"X-Naver-Client-Id\",client_id)\n",
    "request.add_header(\"X-Naver-Client-Secret\",client_secret)\n",
    "response = urllib.request.urlopen(request)\n",
    "rescode = response.getcode()\n",
    "if(rescode==200):\n",
    "    response_body = response.read()\n",
    "    print(response_body.decode('utf-8'))\n",
    "else:\n",
    "    print(\"Error Code:\" + rescode)"
   ]
  },
  {
   "cell_type": "code",
   "execution_count": 20,
   "id": "ae81b884-3f2c-4a30-8a13-9ea56bff93d9",
   "metadata": {},
   "outputs": [],
   "source": [
    "prompt=\"\"\"\n",
    "1. Add\n",
    "2. Del\n",
    "3. List\n",
    "4.Quit\n",
    "\n",
    "Enter number: \"\"\""
   ]
  },
  {
   "cell_type": "code",
   "execution_count": 22,
   "id": "8385a185-6cd9-4dab-8011-a77fd039c10f",
   "metadata": {},
   "outputs": [
    {
     "name": "stdout",
     "output_type": "stream",
     "text": [
      "\n",
      "1. Add\n",
      "2. Del\n",
      "3. List\n",
      "4.Quit\n",
      "\n",
      "Enter number: \n"
     ]
    },
    {
     "name": "stdin",
     "output_type": "stream",
     "text": [
      " 2\n"
     ]
    },
    {
     "name": "stdout",
     "output_type": "stream",
     "text": [
      "\n",
      "1. Add\n",
      "2. Del\n",
      "3. List\n",
      "4.Quit\n",
      "\n",
      "Enter number: \n"
     ]
    },
    {
     "name": "stdin",
     "output_type": "stream",
     "text": [
      " 3\n"
     ]
    },
    {
     "name": "stdout",
     "output_type": "stream",
     "text": [
      "\n",
      "1. Add\n",
      "2. Del\n",
      "3. List\n",
      "4.Quit\n",
      "\n",
      "Enter number: \n"
     ]
    },
    {
     "name": "stdin",
     "output_type": "stream",
     "text": [
      " 4\n"
     ]
    }
   ],
   "source": [
    "number = 0\n",
    "while number !=4:\n",
    "    print(prompt)\n",
    "    number = int(input())"
   ]
  },
  {
   "cell_type": "code",
   "execution_count": 35,
   "id": "78d24f1d-4711-4faf-817c-ed29b09f2f20",
   "metadata": {},
   "outputs": [
    {
     "name": "stdout",
     "output_type": "stream",
     "text": [
      "우영우는 거꾸로 하면 같은 단어 입니다.\n",
      "파이썬는 거꾸로 하면 다른 단어 입니다.\n",
      "인도인는 거꾸로 하면 같은 단어 입니다.\n"
     ]
    }
   ],
   "source": [
    "word = {'우영우', '인도인', '파이썬'}\n",
    "\n",
    "for a in word:\n",
    "    if a == a[::-1]:\n",
    "        print(f'{a}는 거꾸로 하면 같은 단어 입니다.')\n",
    "    else:\n",
    "        print(f'{a}는 거꾸로 하면 다른 단어 입니다.')"
   ]
  },
  {
   "cell_type": "code",
   "execution_count": 84,
   "id": "46b52dc4-e1d7-40e3-8479-d271a9f7d7da",
   "metadata": {},
   "outputs": [
    {
     "name": "stdout",
     "output_type": "stream",
     "text": [
      "짝수는 [2, 4, 6, 8, 10] 입니다.\n",
      "홀수는 [1, 3, 5, 7, 9] 입니다.\n"
     ]
    }
   ],
   "source": [
    "a = [1,2,3,4,5,6,7,8,9,10]\n",
    "\n",
    "boxA = []\n",
    "boxB = []\n",
    "\n",
    "for num in a:\n",
    "    if num % 2 == 0:\n",
    "        boxA.append(num)\n",
    "    else:\n",
    "        boxB.append(num)\n",
    "        \n",
    "print(f'짝수는 {boxA} 입니다.')\n",
    "print(f'홀수는 {boxB} 입니다.')"
   ]
  },
  {
   "cell_type": "code",
   "execution_count": 88,
   "id": "ee6907db-caa4-4cbb-b56b-e240295a9946",
   "metadata": {},
   "outputs": [
    {
     "name": "stdin",
     "output_type": "stream",
     "text": [
      "문장:  안녕 내 이름은 황혜미 나이는 스물넷 혈액형은 O형\n"
     ]
    },
    {
     "name": "stdout",
     "output_type": "stream",
     "text": [
      "가장 긴 단어: 혈액형은\n"
     ]
    }
   ],
   "source": [
    "sentence = input(\"문장: \")\n",
    "words = sentence.split()\n",
    "\n",
    "long_word = \"\"\n",
    "for word in words:\n",
    "    if len(word) > len(long_word):\n",
    "        long_word = word\n",
    "\n",
    "print(\"가장 긴 단어:\", long_word)"
   ]
  },
  {
   "cell_type": "code",
   "execution_count": 1,
   "id": "a2a4b5ed-7ded-4a0e-8c46-ec2f9557cdd2",
   "metadata": {},
   "outputs": [
    {
     "name": "stdout",
     "output_type": "stream",
     "text": [
      "Requirement already satisfied: qrcode in c:\\users\\admin\\appdata\\local\\programs\\python\\python313\\lib\\site-packages (8.0)\n",
      "Requirement already satisfied: colorama in c:\\users\\admin\\appdata\\local\\programs\\python\\python313\\lib\\site-packages (from qrcode) (0.4.6)\n"
     ]
    }
   ],
   "source": [
    "!pip install qrcode"
   ]
  },
  {
   "cell_type": "code",
   "execution_count": 128,
   "id": "4947cca2-cb54-4584-8477-1baefc485bfa",
   "metadata": {},
   "outputs": [],
   "source": [
    "import qrcode\n",
    "\n",
    "def qrcode_maker(text,filename='qr.png'):\n",
    "    qr = qrcode.make(text)\n",
    "    qr.save(filename)\n",
    "\n",
    "#qrcode_maker\n",
    "qrcode_maker('안녕하세요. 누구입니다!!! ^^')\n",
    "# qrcode_maker('www.naver.com','naver.png')"
   ]
  },
  {
   "cell_type": "code",
   "execution_count": 132,
   "id": "1ae3ddbb-ab0a-4552-bb48-d8cff7b57103",
   "metadata": {},
   "outputs": [
    {
     "data": {
      "text/html": [
       "<img src=\"qr.png\"width=200>"
      ],
      "text/plain": [
       "<IPython.core.display.HTML object>"
      ]
     },
     "metadata": {},
     "output_type": "display_data"
    },
    {
     "data": {
      "image/jpeg": "[encoded data removed]",
      "image/png": "[encoded data removed]",
      "text/plain": [
       "<PIL.PngImagePlugin.PngImageFile image mode=1 size=370x370>"
      ]
     },
     "metadata": {},
     "output_type": "display_data"
    }
   ],
   "source": [
    "from IPython.display import display , HTML\n",
    "from PIL import Image\n",
    "\n",
    "image_path = \"qr.png\"\n",
    "img = Image.open(image_path)\n",
    "htmlcode = '<img src=\"qr.png\"width=200>'\n",
    "display(HTML(htmlcode))\n",
    "display(img)"
   ]
  },
  {
   "cell_type": "code",
   "execution_count": 62,
   "id": "ce1af13f-ac4b-45bd-b2ff-96f528788ea6",
   "metadata": {},
   "outputs": [
    {
     "name": "stdin",
     "output_type": "stream",
     "text": [
      "당신의 기분을 한 문장으로 표현해주세요.:  화나지만 좋아 그리고 행복해\n"
     ]
    },
    {
     "name": "stdout",
     "output_type": "stream",
     "text": [
      "평범한 하루네요.\n",
      "기분이 좋아보이네요. \n",
      "평범한 하루네요.\n",
      "평범한 하루네요.\n"
     ]
    }
   ],
   "source": [
    "positive_words = [\"좋아\", \"행복\", \"멋져\", \"최고\", \"사랑해\"]\n",
    "negative_words = [\"싫어\" ,\"화나\", \"짜증\", \"별로\", \"나빠\"]\n",
    "\n",
    "A= input(\"당신의 기분을 한 문장으로 표현해주세요.: \")\n",
    "words= A.split()\n",
    "for word in words:\n",
    "    \n",
    "    if word in positive_words:\n",
    "        print(\"기분이 좋아보이네요. \")\n",
    "      \n",
    "        \n",
    "    elif word in negative_words:\n",
    "        print(\"기분이 나빠보이네요. \")\n",
    "     \n",
    "    else: \n",
    "        print(\"평범한 하루네요.\")"
   ]
  },
  {
   "cell_type": "code",
   "execution_count": 66,
   "id": "7b283385-82b4-4de4-8233-40aa4c572399",
   "metadata": {},
   "outputs": [
    {
     "name": "stdin",
     "output_type": "stream",
     "text": [
      "당신의 기분을 한 문장으로 표현해주세요.:  좋아 화나 짜증\n"
     ]
    },
    {
     "name": "stdout",
     "output_type": "stream",
     "text": [
      "기분이 나빠보이네요.\n"
     ]
    }
   ],
   "source": [
    "positive_words = [\"좋아\", \"행복\", \"멋져\", \"최고\", \"사랑해\"]\n",
    "negative_words = [\"싫어\", \"화나\", \"짜증\", \"별로\", \"나빠\"]\n",
    "\n",
    "A = input(\"당신의 기분을 한 문장으로 표현해주세요.: \")\n",
    "words = A.split()\n",
    "\n",
    "positive_count = 0\n",
    "negative_count = 0\n",
    "\n",
    "for word in words:\n",
    "    if word in positive_words:\n",
    "        positive_count += 1\n",
    "    elif word in negative_words:\n",
    "        negative_count += 1\n",
    "\n",
    "if positive_count > negative_count:\n",
    "    print(\"기분이 좋아보이네요.\")\n",
    "elif negative_count > positive_count:\n",
    "    print(\"기분이 나빠보이네요.\")\n",
    "else:\n",
    "    print(\"평범한 하루네요.\")\n"
   ]
  },
  {
   "cell_type": "code",
   "execution_count": 126,
   "id": "7bb2896c-f28a-4329-8948-ae117fb7ff74",
   "metadata": {},
   "outputs": [
    {
     "name": "stdin",
     "output_type": "stream",
     "text": [
      "영어 문장을 입력하세요:  apples are delicious\n"
     ]
    },
    {
     "name": "stdout",
     "output_type": "stream",
     "text": [
      "Apples Are Delicious.\n"
     ]
    }
   ],
   "source": [
    "#5 : 영어 소문자로 문장을 입력받으면 매 첫글자만 대문자로 변경되게 하여라.\n",
    "sentence=input(\"영어 문장을 입력하세요: \")\n",
    "words = sentence.split( )\n",
    "\n",
    "A=\"\"\n",
    "\n",
    "for word in words:\n",
    "    A += word[0].upper() + word[1:] + \" \"\n",
    "A = A.rstrip() + \".\"\n",
    "print(A)"
   ]
  },
  {
   "cell_type": "code",
   "execution_count": null,
   "id": "a03f69a9-00cf-490e-a72a-ab7c959d9c50",
   "metadata": {},
   "outputs": [],
   "source": [
    "\"싫어\" in \"오늘 답답하지만 할만해, 멋져!! \""
   ]
  },
  {
   "cell_type": "markdown",
   "id": "d643595b-1779-4f9a-b12e-0f9a99c6bf43",
   "metadata": {},
   "source": [
    "# 패키지"
   ]
  },
  {
   "cell_type": "markdown",
   "id": "4f39ed0d-d62d-485d-8f58-1f67f9322ccf",
   "metadata": {},
   "source": [
    "## 패키지 만들기"
   ]
  },
  {
   "cell_type": "code",
   "execution_count": 2,
   "id": "f5b3ce98-4895-4497-ab2a-8708605b3a74",
   "metadata": {},
   "outputs": [
    {
     "name": "stdout",
     "output_type": "stream",
     "text": [
      "Microsoft Windows [Version 10.0.26100.2894]\n",
      "(c) Microsoft Corporation. All rights reserved.\n",
      "\n",
      "hm\\code>set PYTHONPATH=D:\\hhm\\code\\game\n",
      "\n",
      "D:\\hhm\\code>"
     ]
    }
   ],
   "source": [
    "%%cmd\n",
    "set PYTHONPATH=D:\\hhm\\code\\game"
   ]
  },
  {
   "cell_type": "code",
   "execution_count": 10,
   "id": "b3f06cb1-d0a1-45c1-b64a-790887b5a8ef",
   "metadata": {},
   "outputs": [
    {
     "ename": "AttributeError",
     "evalue": "module 'game.sound.echo' has no attribute 'echo_test'",
     "output_type": "error",
     "traceback": [
      "\u001b[1;31m---------------------------------------------------------------------------\u001b[0m",
      "\u001b[1;31mAttributeError\u001b[0m                            Traceback (most recent call last)",
      "Cell \u001b[1;32mIn[10], line 4\u001b[0m\n\u001b[0;32m      2\u001b[0m \u001b[38;5;28;01mimport\u001b[39;00m\u001b[38;5;250m \u001b[39m\u001b[38;5;21;01mgame\u001b[39;00m\u001b[38;5;21;01m.\u001b[39;00m\u001b[38;5;21;01msound\u001b[39;00m\u001b[38;5;21;01m.\u001b[39;00m\u001b[38;5;21;01mecho\u001b[39;00m\n\u001b[0;32m      3\u001b[0m \u001b[38;5;28;01mimport\u001b[39;00m\u001b[38;5;250m \u001b[39m\u001b[38;5;21;01mgame\u001b[39;00m\u001b[38;5;21;01m.\u001b[39;00m\u001b[38;5;21;01mgraphic\u001b[39;00m\u001b[38;5;21;01m.\u001b[39;00m\u001b[38;5;21;01mrender\u001b[39;00m\n\u001b[1;32m----> 4\u001b[0m \u001b[43mgame\u001b[49m\u001b[38;5;241;43m.\u001b[39;49m\u001b[43msound\u001b[49m\u001b[38;5;241;43m.\u001b[39;49m\u001b[43mecho\u001b[49m\u001b[38;5;241;43m.\u001b[39;49m\u001b[43mecho_test\u001b[49m()\n\u001b[0;32m      5\u001b[0m game\u001b[38;5;241m.\u001b[39mgraphic\u001b[38;5;241m.\u001b[39mrender\u001b[38;5;241m.\u001b[39mrender_test()\n",
      "\u001b[1;31mAttributeError\u001b[0m: module 'game.sound.echo' has no attribute 'echo_test'"
     ]
    }
   ],
   "source": [
    "# 테스트 1 명시적이다. 그렇지만 길다.\n",
    "import game.sound.echo\n",
    "import game.graphic.render\n",
    "game.sound.echo.echo_test()\n",
    "game.graphic.render.render_test()"
   ]
  },
  {
   "cell_type": "code",
   "execution_count": 13,
   "id": "42718ede-56d0-47bb-80ea-490689040792",
   "metadata": {},
   "outputs": [
    {
     "ename": "ModuleNotFoundError",
     "evalue": "No module named 'game.echo'",
     "output_type": "error",
     "traceback": [
      "\u001b[1;31m---------------------------------------------------------------------------\u001b[0m",
      "\u001b[1;31mModuleNotFoundError\u001b[0m                       Traceback (most recent call last)",
      "Cell \u001b[1;32mIn[13], line 2\u001b[0m\n\u001b[0;32m      1\u001b[0m \u001b[38;5;66;03m# 짧지만 중복의 위험이 있다. 그리고 명시적이진 않다.\u001b[39;00m\n\u001b[1;32m----> 2\u001b[0m \u001b[38;5;28;01mfrom\u001b[39;00m\u001b[38;5;250m \u001b[39m\u001b[38;5;21;01mgame\u001b[39;00m\u001b[38;5;21;01m.\u001b[39;00m\u001b[38;5;21;01mecho\u001b[39;00m\u001b[38;5;250m \u001b[39m\u001b[38;5;28;01mimport\u001b[39;00m echo_test\n\u001b[0;32m      3\u001b[0m \u001b[38;5;28;01mfrom\u001b[39;00m\u001b[38;5;250m \u001b[39m\u001b[38;5;21;01mgame\u001b[39;00m\u001b[38;5;21;01m.\u001b[39;00m\u001b[38;5;21;01mecho_v\u001b[39;00m\u001b[38;5;250m \u001b[39m\u001b[38;5;28;01mimport\u001b[39;00m echo_test\n\u001b[0;32m      4\u001b[0m echo_test()\n",
      "\u001b[1;31mModuleNotFoundError\u001b[0m: No module named 'game.echo'"
     ]
    }
   ],
   "source": [
    "# 짧지만 중복의 위험이 있다. 그리고 명시적이진 않다.\n",
    "from game.echo import echo_test\n",
    "from game.echo_v import echo_test\n",
    "echo_test()\n",
    "echo_test()"
   ]
  },
  {
   "cell_type": "code",
   "execution_count": 23,
   "id": "66574e4c-1d82-4134-b6df-79ab34108995",
   "metadata": {},
   "outputs": [
    {
     "ename": "ImportError",
     "evalue": "cannot import name 'echo_test' from 'game.echo_v' (D:\\hhm\\code\\game\\echo_v.py)",
     "output_type": "error",
     "traceback": [
      "\u001b[1;31m---------------------------------------------------------------------------\u001b[0m",
      "\u001b[1;31mImportError\u001b[0m                               Traceback (most recent call last)",
      "Cell \u001b[1;32mIn[23], line 1\u001b[0m\n\u001b[1;32m----> 1\u001b[0m \u001b[38;5;28;01mfrom\u001b[39;00m\u001b[38;5;250m \u001b[39m\u001b[38;5;21;01mgame\u001b[39;00m\u001b[38;5;21;01m.\u001b[39;00m\u001b[38;5;21;01mecho_v\u001b[39;00m\u001b[38;5;250m \u001b[39m\u001b[38;5;28;01mimport\u001b[39;00m echo_test \u001b[38;5;28;01mas\u001b[39;00m ev\n\u001b[0;32m      2\u001b[0m \u001b[38;5;28;01mfrom\u001b[39;00m\u001b[38;5;250m \u001b[39m\u001b[38;5;21;01mgame\u001b[39;00m\u001b[38;5;21;01m.\u001b[39;00m\u001b[38;5;21;01mecho\u001b[39;00m\u001b[38;5;250m \u001b[39m\u001b[38;5;28;01mimport\u001b[39;00m echo_test \u001b[38;5;28;01mas\u001b[39;00m e\n\u001b[0;32m      3\u001b[0m ev()\n",
      "\u001b[1;31mImportError\u001b[0m: cannot import name 'echo_test' from 'game.echo_v' (D:\\hhm\\code\\game\\echo_v.py)"
     ]
    }
   ],
   "source": [
    "from game.echo_v import echo_test as ev\n",
    "from game.echo import echo_test as e\n",
    "ev()\n",
    "e()"
   ]
  },
  {
   "cell_type": "code",
   "execution_count": 24,
   "id": "4a2114f9-b7e9-43bc-a18c-37438568f569",
   "metadata": {},
   "outputs": [
    {
     "ename": "AttributeError",
     "evalue": "module 'game.graphic' has no attribute 'echo'",
     "output_type": "error",
     "traceback": [
      "\u001b[1;31m---------------------------------------------------------------------------\u001b[0m",
      "\u001b[1;31mAttributeError\u001b[0m                            Traceback (most recent call last)",
      "Cell \u001b[1;32mIn[24], line 4\u001b[0m\n\u001b[0;32m      1\u001b[0m \u001b[38;5;66;03m# from game.graphic.echo import echo_test\u001b[39;00m\n\u001b[0;32m      2\u001b[0m \u001b[38;5;66;03m# from game.sound.echo import echo_test\u001b[39;00m\n\u001b[0;32m      3\u001b[0m \u001b[38;5;28;01mfrom\u001b[39;00m\u001b[38;5;250m \u001b[39m\u001b[38;5;21;01mgame\u001b[39;00m\u001b[38;5;250m \u001b[39m\u001b[38;5;28;01mimport\u001b[39;00m graphic\n\u001b[1;32m----> 4\u001b[0m \u001b[43mgraphic\u001b[49m\u001b[38;5;241;43m.\u001b[39;49m\u001b[43mecho\u001b[49m\u001b[38;5;241m.\u001b[39mecho_test()\n",
      "\u001b[1;31mAttributeError\u001b[0m: module 'game.graphic' has no attribute 'echo'"
     ]
    }
   ],
   "source": [
    "# from game.graphic.echo import echo_test\n",
    "# from game.sound.echo import echo_test\n",
    "from game import graphic\n",
    "graphic.echo.echo_test()\n",
    "\n"
   ]
  },
  {
   "cell_type": "code",
   "execution_count": 14,
   "id": "c079268a-05cf-4769-99c6-912274e36866",
   "metadata": {},
   "outputs": [
    {
     "ename": "AttributeError",
     "evalue": "module 'game' has no attribute 'VERSION'",
     "output_type": "error",
     "traceback": [
      "\u001b[1;31m---------------------------------------------------------------------------\u001b[0m",
      "\u001b[1;31mAttributeError\u001b[0m                            Traceback (most recent call last)",
      "Cell \u001b[1;32mIn[14], line 3\u001b[0m\n\u001b[0;32m      1\u001b[0m \u001b[38;5;66;03m# __init__.py 를 사용하기\u001b[39;00m\n\u001b[0;32m      2\u001b[0m \u001b[38;5;28;01mimport\u001b[39;00m\u001b[38;5;250m \u001b[39m\u001b[38;5;21;01mgame\u001b[39;00m\n\u001b[1;32m----> 3\u001b[0m \u001b[38;5;28mprint\u001b[39m(\u001b[43mgame\u001b[49m\u001b[38;5;241;43m.\u001b[39;49m\u001b[43mVERSION\u001b[49m)\n\u001b[0;32m      4\u001b[0m game\u001b[38;5;241m.\u001b[39mprint_version_info()\n",
      "\u001b[1;31mAttributeError\u001b[0m: module 'game' has no attribute 'VERSION'"
     ]
    }
   ],
   "source": [
    "# __init__.py 를 사용하기\n",
    "import game\n",
    "print(game.VERSION)\n",
    "game.print_version_info()"
   ]
  },
  {
   "cell_type": "code",
   "execution_count": 15,
   "id": "e406ef9c-acae-481b-9988-ab4213bba040",
   "metadata": {},
   "outputs": [],
   "source": [
    "#__init__.py은 한번만 로드됨\n",
    "import game"
   ]
  },
  {
   "cell_type": "code",
   "execution_count": 16,
   "id": "d8b487cd-8a89-40c7-bd1c-b116d95021e8",
   "metadata": {},
   "outputs": [
    {
     "ename": "AttributeError",
     "evalue": "module 'game' has no attribute 'render_test'",
     "output_type": "error",
     "traceback": [
      "\u001b[1;31m---------------------------------------------------------------------------\u001b[0m",
      "\u001b[1;31mAttributeError\u001b[0m                            Traceback (most recent call last)",
      "Cell \u001b[1;32mIn[16], line 2\u001b[0m\n\u001b[0;32m      1\u001b[0m \u001b[38;5;66;03m#__init__.py 는 패키지내에 내 모듈을 미리 import 할 수 있다. \u001b[39;00m\n\u001b[1;32m----> 2\u001b[0m \u001b[43mgame\u001b[49m\u001b[38;5;241;43m.\u001b[39;49m\u001b[43mrender_test\u001b[49m()\n",
      "\u001b[1;31mAttributeError\u001b[0m: module 'game' has no attribute 'render_test'"
     ]
    }
   ],
   "source": [
    "#__init__.py 는 패키지내에 내 모듈을 미리 import 할 수 있다. \n",
    "game.render_test()"
   ]
  },
  {
   "cell_type": "code",
   "execution_count": 8,
   "id": "a40e9c6c-6995-4d18-8748-4598ec0ebcd0",
   "metadata": {},
   "outputs": [
    {
     "ename": "ModuleNotFoundError",
     "evalue": "No module named 'game.grapic'",
     "output_type": "error",
     "traceback": [
      "\u001b[1;31m---------------------------------------------------------------------------\u001b[0m",
      "\u001b[1;31mModuleNotFoundError\u001b[0m                       Traceback (most recent call last)",
      "Cell \u001b[1;32mIn[8], line 1\u001b[0m\n\u001b[1;32m----> 1\u001b[0m \u001b[38;5;28;01mimport\u001b[39;00m\u001b[38;5;250m \u001b[39m\u001b[38;5;21;01mgame\u001b[39;00m\u001b[38;5;21;01m.\u001b[39;00m\u001b[38;5;21;01mgrapic\u001b[39;00m\n",
      "\u001b[1;31mModuleNotFoundError\u001b[0m: No module named 'game.grapic'"
     ]
    }
   ],
   "source": [
    "import game.grapic"
   ]
  },
  {
   "cell_type": "code",
   "execution_count": 9,
   "id": "54e8544d-c50a-42e5-874e-13619a924cb4",
   "metadata": {},
   "outputs": [
    {
     "ename": "NameError",
     "evalue": "name 'print_graphic' is not defined",
     "output_type": "error",
     "traceback": [
      "\u001b[1;31m---------------------------------------------------------------------------\u001b[0m",
      "\u001b[1;31mNameError\u001b[0m                                 Traceback (most recent call last)",
      "Cell \u001b[1;32mIn[9], line 1\u001b[0m\n\u001b[1;32m----> 1\u001b[0m \u001b[43mprint_graphic\u001b[49m\u001b[38;5;241m.\u001b[39mprint_version_info()\n",
      "\u001b[1;31mNameError\u001b[0m: name 'print_graphic' is not defined"
     ]
    }
   ],
   "source": [
    "game.graphic.print_version_info()"
   ]
  },
  {
   "cell_type": "code",
   "execution_count": 6,
   "id": "e913e010-eb00-4ff0-8298-279e1ecf1bfa",
   "metadata": {},
   "outputs": [],
   "source": [
    "# __all__ 사용하기\n",
    "from game.graphic import *"
   ]
  },
  {
   "cell_type": "code",
   "execution_count": 7,
   "id": "3fed2a60-a579-457c-8cb1-f3ed9f393767",
   "metadata": {},
   "outputs": [
    {
     "name": "stdout",
     "output_type": "stream",
     "text": [
      "비디오에코\n"
     ]
    }
   ],
   "source": [
    "echo.echo_test()"
   ]
  },
  {
   "cell_type": "code",
   "execution_count": 8,
   "id": "4e60e95a-8846-46e2-b0d9-70b8ea7b472b",
   "metadata": {},
   "outputs": [
    {
     "ename": "ImportError",
     "evalue": "cannot import name 'echo_test' from 'game.sound.echo' (D:\\hhm\\code\\game\\sound\\echo.py)",
     "output_type": "error",
     "traceback": [
      "\u001b[1;31m---------------------------------------------------------------------------\u001b[0m",
      "\u001b[1;31mImportError\u001b[0m                               Traceback (most recent call last)",
      "Cell \u001b[1;32mIn[8], line 2\u001b[0m\n\u001b[0;32m      1\u001b[0m \u001b[38;5;66;03m#relative 패키지\u001b[39;00m\n\u001b[1;32m----> 2\u001b[0m \u001b[38;5;28;01mfrom\u001b[39;00m\u001b[38;5;250m \u001b[39m\u001b[38;5;21;01mgame\u001b[39;00m\u001b[38;5;21;01m.\u001b[39;00m\u001b[38;5;21;01mgraphic\u001b[39;00m\u001b[38;5;21;01m.\u001b[39;00m\u001b[38;5;21;01mrender\u001b[39;00m\u001b[38;5;250m \u001b[39m\u001b[38;5;28;01mimport\u001b[39;00m render_test\n",
      "File \u001b[1;32mD:\\hhm\\code\\game\\graphic\\render.py:1\u001b[0m\n\u001b[1;32m----> 1\u001b[0m \u001b[38;5;28;01mfrom\u001b[39;00m\u001b[38;5;250m \u001b[39m\u001b[38;5;21;01mgame\u001b[39;00m\u001b[38;5;21;01m.\u001b[39;00m\u001b[38;5;21;01msound\u001b[39;00m\u001b[38;5;21;01m.\u001b[39;00m\u001b[38;5;21;01mecho\u001b[39;00m\u001b[38;5;250m \u001b[39m\u001b[38;5;28;01mimport\u001b[39;00m echo_test\n\u001b[0;32m      2\u001b[0m \u001b[38;5;28;01mdef\u001b[39;00m\u001b[38;5;250m \u001b[39m\u001b[38;5;21mrender_test\u001b[39m():\n\u001b[0;32m      3\u001b[0m     \u001b[38;5;28mprint\u001b[39m(\u001b[38;5;124m\"\u001b[39m\u001b[38;5;124m랜더링\u001b[39m\u001b[38;5;124m\"\u001b[39m)\n",
      "\u001b[1;31mImportError\u001b[0m: cannot import name 'echo_test' from 'game.sound.echo' (D:\\hhm\\code\\game\\sound\\echo.py)"
     ]
    }
   ],
   "source": [
    "#relative 패키지\n",
    "from game.graphic.render import render_test"
   ]
  },
  {
   "cell_type": "code",
   "execution_count": 9,
   "id": "43fb643c-fc44-4015-a0ed-6bcb8c205c93",
   "metadata": {},
   "outputs": [
    {
     "ename": "NameError",
     "evalue": "name 'render_test' is not defined",
     "output_type": "error",
     "traceback": [
      "\u001b[1;31m---------------------------------------------------------------------------\u001b[0m",
      "\u001b[1;31mNameError\u001b[0m                                 Traceback (most recent call last)",
      "Cell \u001b[1;32mIn[9], line 1\u001b[0m\n\u001b[1;32m----> 1\u001b[0m \u001b[43mrender_test\u001b[49m()\n",
      "\u001b[1;31mNameError\u001b[0m: name 'render_test' is not defined"
     ]
    }
   ],
   "source": [
    "# 비디오 에코가 아닌 사운드 에코 호출\n",
    "render_test()"
   ]
  },
  {
   "cell_type": "markdown",
   "id": "ecf69f1b-7b93-4f30-b5db-fb3f632db339",
   "metadata": {},
   "source": [
    "# 예외 처리"
   ]
  },
  {
   "cell_type": "markdown",
   "id": "879eaf2d-fa9c-4bd7-bc14-ade4e35ea3e0",
   "metadata": {},
   "source": [
    "## 오류발생\n",
    "- 오타\n",
    "- 존재하지 않는 파일을 지정 또는 사용\n",
    "- 문법 오류\n",
    "- 수학적 오류\n",
    "- 인덱스 오류\n",
    "# 오류 예외 처리 기법\n",
    "- try-except 문\n",
    "- try-finally 문\n",
    "- 여러개의 오류 처리\n",
    "- try-else문"
   ]
  },
  {
   "cell_type": "code",
   "execution_count": 15,
   "id": "488e4dd0-05a1-4845-ae4e-f71a0260036c",
   "metadata": {},
   "outputs": [],
   "source": [
    "# f = open('뜬금파일', 'r')\n",
    "# # FileNotFoundError: [Errno 2] No such file or directory: '뜬금파일'"
   ]
  },
  {
   "cell_type": "code",
   "execution_count": 14,
   "id": "96fa5ee4-689d-45e8-b35a-00eb34ddea66",
   "metadata": {},
   "outputs": [],
   "source": [
    "# 4/0\n",
    "# ZeroDivisionError: division by zero"
   ]
  },
  {
   "cell_type": "code",
   "execution_count": 13,
   "id": "f650eba7-2457-4ecb-a978-b4315df693d0",
   "metadata": {},
   "outputs": [],
   "source": [
    "# a = [1,2,3]\n",
    "# print(a[7])\n",
    "# IndexError: list index out of range"
   ]
  },
  {
   "cell_type": "code",
   "execution_count": 18,
   "id": "c7e77389-f0d5-4add-9c03-c7c226162db4",
   "metadata": {},
   "outputs": [
    {
     "name": "stdout",
     "output_type": "stream",
     "text": [
      "없는 거 찾지마, 혼자있고싶어.\n",
      "[Errno 2] No such file or directory: '뜬금파일'\n",
      "코드 작성을 마칩니다.\n"
     ]
    }
   ],
   "source": [
    "# 테스트 1\n",
    "try:\n",
    "    f = open('뜬금파일','r')\n",
    "except FileNotFoundError as e:\n",
    "    if e:\n",
    "        print('없는 거 찾지마, 혼자있고싶어.')\n",
    "    print(e)\n",
    "finally:\n",
    "    print('코드 작성을 마칩니다.')"
   ]
  },
  {
   "cell_type": "code",
   "execution_count": 21,
   "id": "6f5ea89e-d946-4618-9032-767282069ae3",
   "metadata": {},
   "outputs": [
    {
     "name": "stdout",
     "output_type": "stream",
     "text": [
      "0으로 나눌 수 없어요 division by zero\n"
     ]
    }
   ],
   "source": [
    "# 지정한 이름의 예외처리, as로 별칭 가능. \n",
    "try:\n",
    "    4/0\n",
    "except ZeroDivisionError as e:\n",
    "    print('0으로 나눌 수 없어요', e)"
   ]
  },
  {
   "cell_type": "code",
   "execution_count": 22,
   "id": "24f9e512-3e45-4b13-872a-1f64edfbe466",
   "metadata": {},
   "outputs": [
    {
     "name": "stdout",
     "output_type": "stream",
     "text": [
      "0으로 나누지 마세요.\n"
     ]
    }
   ],
   "source": [
    "# try-except-finally 3단계도 가능, finally는 에러가 나도 무조건 처리하는 것 (여기서는 파일 닫기)\n",
    "try:\n",
    "    f = open('foo.txt', 'w')\n",
    "    f.write(4/0)\n",
    "except:\n",
    "    print(\"0으로 나누지 마세요.\")\n",
    "finally:\n",
    "    f.close()"
   ]
  },
  {
   "cell_type": "code",
   "execution_count": 24,
   "id": "b93234fa-ebbf-49d8-9ecd-ebe5de7ea85e",
   "metadata": {},
   "outputs": [
    {
     "name": "stdout",
     "output_type": "stream",
     "text": [
      "tuple index out of range\n"
     ]
    }
   ],
   "source": [
    "# 테스트 해볼 것 2개 이상의 오류를 동일하게 처리\n",
    "try:\n",
    "    a = 1,2\n",
    "    print(a[512])\n",
    "    4/0\n",
    "except (ZeroDivisionError, IndexError) as e:\n",
    "    print(e)"
   ]
  },
  {
   "cell_type": "code",
   "execution_count": 28,
   "id": "e1959237-caa3-4a3d-ab1b-18ee9dfb48b6",
   "metadata": {},
   "outputs": [
    {
     "name": "stdin",
     "output_type": "stream",
     "text": [
      "나이를 입력하세요. 11\n"
     ]
    },
    {
     "name": "stdout",
     "output_type": "stream",
     "text": [
      "미성년자는 출입금지\n",
      "====================\n",
      "분석 끝.\n"
     ]
    }
   ],
   "source": [
    "#try-else 문\n",
    "try:\n",
    "    age = int(input(\"나이를 입력하세요.\")) \n",
    "except:\n",
    "    print(\"입력이 정확하지 않습니다.\")\n",
    "else:\n",
    "    if age <= 18:\n",
    "        print('미성년자는 출입금지')\n",
    "    else:\n",
    "        print('환영합니다.')\n",
    "finally:\n",
    "    print('='*20+'\\n분석 끝.')"
   ]
  },
  {
   "cell_type": "code",
   "execution_count": 27,
   "id": "6f72606f-ceae-4629-aab3-470785546dbe",
   "metadata": {},
   "outputs": [
    {
     "name": "stdin",
     "output_type": "stream",
     "text": [
      "나이를 입력하세요. 11\n"
     ]
    },
    {
     "name": "stdout",
     "output_type": "stream",
     "text": [
      "미성년자는 출입금지\n"
     ]
    }
   ],
   "source": [
    "#try-else 문\n",
    "try:\n",
    "    age = int(input(\"나이를 입력하세요.\")) \n",
    "except:\n",
    "    print(\"입력이 정확하지 않습니다.\")\n",
    "else:\n",
    "    if age <= 18:\n",
    "        print('미성년자는 출입금지')\n",
    "    else:\n",
    "        print('환영합니다.')"
   ]
  },
  {
   "cell_type": "code",
   "execution_count": 30,
   "id": "4836d5ba-9e62-4604-8d86-da765800c4d7",
   "metadata": {},
   "outputs": [
    {
     "name": "stdout",
     "output_type": "stream",
     "text": [
      "반가워\n"
     ]
    }
   ],
   "source": [
    "#오류 회피하기\n",
    "try:\n",
    "    print('반가워')\n",
    "    f = open('없는파일','r') # 이 에러지점부터 이후로는 처리안함. \n",
    "    print('안녕')\n",
    "except FileNotFoundError:\n",
    "    pass"
   ]
  },
  {
   "cell_type": "code",
   "execution_count": 33,
   "id": "9cf7f870-967c-45e5-96b5-12142c14a069",
   "metadata": {},
   "outputs": [
    {
     "name": "stdin",
     "output_type": "stream",
     "text": [
      "13보다 큰 수를 입력하세요. 1\n"
     ]
    },
    {
     "name": "stdout",
     "output_type": "stream",
     "text": [
      "크다\n"
     ]
    }
   ],
   "source": [
    "#테스트\n",
    "inp = int(input(\"13보다 큰 수를 입력하세요.\"))\n",
    "if 13>inp:\n",
    "    print('크다')\n",
    "else:\n",
    "    raise NotImplementedError"
   ]
  },
  {
   "cell_type": "code",
   "execution_count": null,
   "id": "af9e1ce0-52f7-496c-a6f1-57d8f17f3672",
   "metadata": {},
   "outputs": [],
   "source": [
    "#오류 일부러 발생시키기(클래스 상속기반)\n",
    "class Bird:\n",
    "    def fly(self):\n",
    "        raise NotImplementedError\n",
    "\n",
    "class Eagle(Bird):\n",
    "    def fly(self):\n",
    "        print('난 독수리다')\n",
    "\n",
    "eagle = Eagle()\n",
    "eagle.fly()"
   ]
  },
  {
   "cell_type": "code",
   "execution_count": 40,
   "id": "aea1193b-acdc-462f-94c4-3e8064371380",
   "metadata": {},
   "outputs": [],
   "source": [
    "# 예외 만들기\n",
    "class MyError(Exception):\n",
    "    pass"
   ]
  },
  {
   "cell_type": "code",
   "execution_count": 44,
   "id": "09be2dcf-4be8-47d4-bb7a-ede8d4732260",
   "metadata": {},
   "outputs": [],
   "source": [
    "def say_nick(nick):\n",
    "    if nick == '바보':\n",
    "        raise MyError()\n",
    "    print(nick)"
   ]
  },
  {
   "cell_type": "code",
   "execution_count": 46,
   "id": "cf75e9a9-d3fb-4730-b0ba-92e31ef7e2b7",
   "metadata": {},
   "outputs": [
    {
     "ename": "MyError",
     "evalue": "",
     "output_type": "error",
     "traceback": [
      "\u001b[1;31m---------------------------------------------------------------------------\u001b[0m",
      "\u001b[1;31mMyError\u001b[0m                                   Traceback (most recent call last)",
      "Cell \u001b[1;32mIn[46], line 1\u001b[0m\n\u001b[1;32m----> 1\u001b[0m \u001b[43msay_nick\u001b[49m\u001b[43m(\u001b[49m\u001b[38;5;124;43m\"\u001b[39;49m\u001b[38;5;124;43m바보\u001b[39;49m\u001b[38;5;124;43m\"\u001b[39;49m\u001b[43m)\u001b[49m\n",
      "Cell \u001b[1;32mIn[44], line 3\u001b[0m, in \u001b[0;36msay_nick\u001b[1;34m(nick)\u001b[0m\n\u001b[0;32m      1\u001b[0m \u001b[38;5;28;01mdef\u001b[39;00m\u001b[38;5;250m \u001b[39m\u001b[38;5;21msay_nick\u001b[39m(nick):\n\u001b[0;32m      2\u001b[0m     \u001b[38;5;28;01mif\u001b[39;00m nick \u001b[38;5;241m==\u001b[39m \u001b[38;5;124m'\u001b[39m\u001b[38;5;124m바보\u001b[39m\u001b[38;5;124m'\u001b[39m:\n\u001b[1;32m----> 3\u001b[0m         \u001b[38;5;28;01mraise\u001b[39;00m MyError()\n\u001b[0;32m      4\u001b[0m     \u001b[38;5;28mprint\u001b[39m(nick)\n",
      "\u001b[1;31mMyError\u001b[0m: "
     ]
    }
   ],
   "source": [
    "say_nick(\"바보\")"
   ]
  },
  {
   "cell_type": "code",
   "execution_count": 47,
   "id": "07c57a7b-277f-4f39-b5c8-40d4d80db4e6",
   "metadata": {},
   "outputs": [
    {
     "name": "stdout",
     "output_type": "stream",
     "text": [
      "천사\n",
      "욕하지마 나 바보 아냐, 그래도 사람은 착해\n"
     ]
    }
   ],
   "source": [
    "try:\n",
    "    say_nick(\"천사\")\n",
    "    say_nick(\"바보\")\n",
    "except MyError:\n",
    "    print(\"욕하지마 바보아냐, 그래도 사람은 착해\", e)"
   ]
  },
  {
   "cell_type": "code",
   "execution_count": 49,
   "id": "09279134-efc7-48e9-bb6b-df8e7adf95d4",
   "metadata": {},
   "outputs": [],
   "source": [
    "class MyError(Exception):\n",
    "    def __str__(self):\n",
    "        return \"욕하지마 그래도 사람은 착해\""
   ]
  },
  {
   "cell_type": "code",
   "execution_count": null,
   "id": "31e3f852-cca3-4264-8c56-0a00bba16de0",
   "metadata": {},
   "outputs": [],
   "source": []
  }
 ],
 "metadata": {
  "kernelspec": {
   "display_name": "Python 3 (ipykernel)",
   "language": "python",
   "name": "python3"
  },
  "language_info": {
   "codemirror_mode": {
    "name": "ipython",
    "version": 3
   },
   "file_extension": ".py",
   "mimetype": "text/x-python",
   "name": "python",
   "nbconvert_exporter": "python",
   "pygments_lexer": "ipython3",
   "version": "3.13.1"
  }
 },
 "nbformat": 4,
 "nbformat_minor": 5
}
