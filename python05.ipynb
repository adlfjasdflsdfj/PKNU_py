{
 "cells": [
  {
   "cell_type": "markdown",
   "id": "fb0d1fbd-3b2e-4b19-afa0-68b58d852f47",
   "metadata": {},
   "source": [
    "# 클래스"
   ]
  },
  {
   "cell_type": "markdown",
   "id": "5bd1dcc8-a66c-4afa-8bb5-7a5f17cfcec5",
   "metadata": {},
   "source": [
    "## 클래스 기본"
   ]
  },
  {
   "cell_type": "code",
   "execution_count": 13,
   "id": "14922a3f-a3bd-4b6b-b658-f21ba8cd506f",
   "metadata": {},
   "outputs": [
    {
     "name": "stdout",
     "output_type": "stream",
     "text": [
      "[1, 2, 3, 4] <class 'list'>\n",
      "(11, 22, 33, 44) <class 'tuple'>\n"
     ]
    }
   ],
   "source": [
    "what1 =[1,2,3,4]\n",
    "what2 =['a','b','c']\n",
    "who = 11,22,33,44\n",
    "print(what1,type(what1))\n",
    "print(who,type(who))"
   ]
  },
  {
   "cell_type": "code",
   "execution_count": 3,
   "id": "2f41da8d-faf8-47ee-bb5a-98d0dbd6bf67",
   "metadata": {},
   "outputs": [
    {
     "name": "stdout",
     "output_type": "stream",
     "text": [
      "3\n",
      "7\n"
     ]
    }
   ],
   "source": [
    "result = 0\n",
    "def add(num):\n",
    "    global result\n",
    "    result+=num\n",
    "    return result\n",
    "\n",
    "print(add(3))\n",
    "print(add(4))"
   ]
  },
  {
   "cell_type": "code",
   "execution_count": 19,
   "id": "4c7f1dd0-9c04-4ec2-84f0-d3887d691ecd",
   "metadata": {},
   "outputs": [
    {
     "name": "stdout",
     "output_type": "stream",
     "text": [
      "1: 1\n",
      "2: 1\n",
      "2: 2\n",
      "2: 3\n",
      "1: 2\n",
      "1: 3\n"
     ]
    }
   ],
   "source": [
    "#함수로 구성\n",
    "result1 = 0\n",
    "result2 = 0\n",
    "def add1(num):\n",
    "    global result1\n",
    "    result1+=num\n",
    "    return result1\n",
    "def add2(num):\n",
    "    global result2\n",
    "    result2 += num\n",
    "    return result2\n",
    "print('1:',add1(1))\n",
    "print('2:',add2(1))\n",
    "print('2:',add2(1))\n",
    "print('2:',add2(1))\n",
    "print('1:',add1(1))\n",
    "print('1:',add1(1))"
   ]
  },
  {
   "cell_type": "code",
   "execution_count": 20,
   "id": "417b920e-2455-4fcf-9242-3fc52362a87f",
   "metadata": {},
   "outputs": [
    {
     "name": "stdout",
     "output_type": "stream",
     "text": [
      "1: 1\n",
      "2: 2\n",
      "2: 1\n",
      "2: 2\n",
      "1: 3\n",
      "1: 3\n",
      "1: 4\n",
      "2: 2\n",
      "2: 1\n"
     ]
    }
   ],
   "source": [
    "#클래스 구성\n",
    "class Calculator:\n",
    "    def __init__ (self):\n",
    "        self.result = 0\n",
    "    def add(self, num):\n",
    "        self.result += num\n",
    "        return self.result\n",
    "    def sub(self,num):\n",
    "        self.result -= num\n",
    "        return self.result\n",
    "#인스턴스화\n",
    "cal1= Calculator() #[1,2,3,4,5]\n",
    "cal2= Calculator() #['a','b']\n",
    "print('1:',cal1.add(1))\n",
    "print('2:',cal1.add(1))\n",
    "print('2:',cal2.add(1))\n",
    "print('2:',cal2.add(1))\n",
    "print('1:',cal2.add(1))\n",
    "print('1:',cal1.add(1))\n",
    "print('1:',cal1.add(1))\n",
    "\n",
    "print('2:',cal2.sub(1))\n",
    "print('2:',cal2.sub(1))"
   ]
  },
  {
   "cell_type": "code",
   "execution_count": 6,
   "id": "af2bba9e-4104-44b9-8599-72e3fabde9ec",
   "metadata": {},
   "outputs": [
    {
     "name": "stdout",
     "output_type": "stream",
     "text": [
      "3\n",
      "7\n",
      "3\n",
      "10\n"
     ]
    }
   ],
   "source": [
    "class Calculator:\n",
    "    def __init__ (self):\n",
    "        self.result = 0\n",
    "    def add(self, num):\n",
    "        self.result += num\n",
    "        return self.result\n",
    "    def sub(self,num):\n",
    "        self.result += num\n",
    "        return self.result\n",
    "\n",
    "cal1= Calculator() #[1,2,3,4,5]\n",
    "cal2= Calculator() #['a','b']\n",
    "print(cal1.add(3))\n",
    "print(cal1.add(4))\n",
    "print(cal2.add(3))\n",
    "print(cal2.add(7))"
   ]
  },
  {
   "cell_type": "markdown",
   "id": "6c528167-abcc-450d-8ebe-bcf080280380",
   "metadata": {},
   "source": [
    "## 생성자"
   ]
  },
  {
   "cell_type": "code",
   "execution_count": 21,
   "id": "9841e03f-e9ee-4633-8ec5-8d98f0d478c3",
   "metadata": {},
   "outputs": [],
   "source": [
    "#예제1\n",
    "class Dduk():\n",
    "    def __init__(self,won,ea):\n",
    "        self.won = won\n",
    "        self.ea = ea\n",
    "    def dduk(self):\n",
    "        result = self.won*self.ea\n",
    "        print(f\"배가 고파서 떡볶이 집에서 떡볶이를 {result}원어치 먹었다.\")\n",
    "    def odeng(self):\n",
    "        result  = self.won*2*self.ea\n",
    "        print(f\"배가 고파서 떡볶이집에서 오뎅을 {result}원어치 먹었다.\")"
   ]
  },
  {
   "cell_type": "code",
   "execution_count": 8,
   "id": "1cb8a3e4-43cd-4e2d-bd32-3652b08155a5",
   "metadata": {},
   "outputs": [],
   "source": [
    "성훈=Dduk(2000,3)\n",
    "희성=Dduk(3000,2)\n",
    "기윤=Dduk(1500,6)"
   ]
  },
  {
   "cell_type": "code",
   "execution_count": 9,
   "id": "612bbc44-bf7c-49fa-b421-f94dd38de12b",
   "metadata": {},
   "outputs": [
    {
     "name": "stdout",
     "output_type": "stream",
     "text": [
      "배가 고파서 떡볶이 집에서 떡볶이를 6000원어치 먹었다.\n",
      "배가 고파서 떡볶이집에서 오뎅을 12000원어치 먹었다.\n"
     ]
    }
   ],
   "source": [
    "성훈.dduk()\n",
    "성훈.odeng()"
   ]
  },
  {
   "cell_type": "code",
   "execution_count": 10,
   "id": "8f241c7a-e5e4-4928-91b0-a03d0f0f6536",
   "metadata": {},
   "outputs": [
    {
     "name": "stdout",
     "output_type": "stream",
     "text": [
      "배가 고파서 떡볶이 집에서 떡볶이를 6000원어치 먹었다.\n",
      "배가 고파서 떡볶이집에서 오뎅을 12000원어치 먹었다.\n"
     ]
    }
   ],
   "source": [
    "희성.dduk()\n",
    "희성.odeng()"
   ]
  },
  {
   "cell_type": "code",
   "execution_count": 11,
   "id": "c9b476d8-3b52-44fd-b622-8cf5f7200a6f",
   "metadata": {},
   "outputs": [
    {
     "name": "stdout",
     "output_type": "stream",
     "text": [
      "배가 고파서 떡볶이 집에서 떡볶이를 9000원어치 먹었다.\n",
      "배가 고파서 떡볶이집에서 오뎅을 18000원어치 먹었다.\n"
     ]
    }
   ],
   "source": [
    "기윤.dduk()\n",
    "기윤.odeng()"
   ]
  },
  {
   "cell_type": "code",
   "execution_count": 12,
   "id": "9bc5bf13-dbfc-4b08-ac5f-159a033af82a",
   "metadata": {},
   "outputs": [],
   "source": [
    "성훈.__init__(3300,2)"
   ]
  },
  {
   "cell_type": "code",
   "execution_count": 13,
   "id": "6ebb864b-b805-4fe5-bc26-22c31900a671",
   "metadata": {},
   "outputs": [
    {
     "name": "stdout",
     "output_type": "stream",
     "text": [
      "배가 고파서 떡볶이 집에서 떡볶이를 6600원어치 먹었다.\n",
      "배가 고파서 떡볶이집에서 오뎅을 13200원어치 먹었다.\n"
     ]
    }
   ],
   "source": [
    "성훈.dduk()\n",
    "성훈.odeng()"
   ]
  },
  {
   "cell_type": "code",
   "execution_count": 16,
   "id": "bf375351-3fb2-421a-ae38-a0b1446540da",
   "metadata": {},
   "outputs": [],
   "source": [
    "class store():\n",
    "    def  __init__(self,won,ea):\n",
    "        self.won = won\n",
    "        self.ea = ea\n",
    "    def dduk(self):\n",
    "        result = self.won*self.ea\n",
    "        print(f\" 떡볶이를 {result}원어치 먹었다.\")\n",
    "    def odeng(self):\n",
    "        result = self.won*2*self.ea\n",
    "        print(f\"오뎅을 {result}원어치 먹었다.\")\n",
    "    def sundae(self):\n",
    "        result = self.won*self.ea\n",
    "        print(f\"순대를 {result}원어치 먹었다.\")"
   ]
  },
  {
   "cell_type": "code",
   "execution_count": 17,
   "id": "7037b185-df71-4491-a07d-601ebb76dea5",
   "metadata": {},
   "outputs": [],
   "source": [
    "혜미=store(6000,3)"
   ]
  },
  {
   "cell_type": "code",
   "execution_count": 18,
   "id": "ba516587-f89c-43c3-9566-3b8e8cc6c287",
   "metadata": {},
   "outputs": [
    {
     "name": "stdout",
     "output_type": "stream",
     "text": [
      " 떡볶이를 18000원어치 먹었다.\n",
      "오뎅을 36000원어치 먹었다.\n",
      "순대를 18000원어치 먹었다.\n"
     ]
    }
   ],
   "source": [
    "혜미.dduk()\n",
    "혜미.odeng()\n",
    "혜미.sundae()"
   ]
  },
  {
   "cell_type": "markdown",
   "id": "f5af0fcf-fb29-4d1d-970c-29f3e0fd51dc",
   "metadata": {},
   "source": [
    "## 예제들"
   ]
  },
  {
   "cell_type": "code",
   "execution_count": 28,
   "id": "4dce5bbb-ef53-47eb-9453-7dc954a6aedb",
   "metadata": {},
   "outputs": [
    {
     "name": "stdout",
     "output_type": "stream",
     "text": [
      "방가방가1 저는 고전 인사입니다!!\n",
      "방가방가2 저는 고전 인사입니다!!\n",
      "방가방가3 저는 고전 인사입니다!!\n",
      "==========\n",
      "\n",
      "이것은 예로부터 전해오는 고전 인사함수 입니다. DocString\n",
      "\n",
      "==============================\n",
      "Help on function test in module __main__:\n",
      "\n",
      "test()\n",
      "    이것은 예로부터 전해오는 고전 인사함수 입니다. DocString\n",
      "\n"
     ]
    }
   ],
   "source": [
    "# 테스트\n",
    "def test():\n",
    "    \"\"\"\n",
    "    이것은 예로부터 전해오는 고전 인사함수 입니다. DocString\n",
    "    \"\"\"\n",
    "    print(\"방가방가1 저는 고전 인사입니다!!\")\n",
    "    print(\"방가방가2 저는 고전 인사입니다!!\")\n",
    "    print(\"방가방가3 저는 고전 인사입니다!!\")\n",
    "test()\n",
    "print(\"=\"*10)\n",
    "print(test.__doc__)\n",
    "print(\"=\"*30)\n",
    "help(test)"
   ]
  },
  {
   "cell_type": "code",
   "execution_count": null,
   "id": "916844e7-054c-4ecd-91be-8da836dd4890",
   "metadata": {},
   "outputs": [],
   "source": [
    "#테스트1\n",
    "#class의 self없이 함수 만들기\n",
    "def set_car(name, color):\n",
    "    return {\"name\":name, \"color\":color}\n",
    "def get_car_info(car):\n",
    "    return f\"Car:{car['name']}, Color:{car['color']}\"\n",
    "\n",
    "# 자동차를 생성\n",
    "car = set_car(\"HD\",\"Blue\")\n",
    "# 자동차 정보를 생성\n",
    "print(get_car_info(car))\n",
    "\n",
    "print(get_car_info(set_car(\"kia\",\"White\")))"
   ]
  },
  {
   "cell_type": "code",
   "execution_count": null,
   "id": "379ad4f1-962c-4ca1-aa7f-5e16270bf857",
   "metadata": {},
   "outputs": [],
   "source": [
    "# 테스트 3\n",
    "class Car:\n",
    "    def set_car(name, color):\n",
    "        return {\"name\":name, \"color\":color}\n",
    "    def get_car_info(car):\n",
    "        return f\"Car:{car['name']}, Color:{car['color']}\"\n",
    "\n",
    "car1 = Car.set_car(\"HD\",\"Yellow\")\n",
    "car2 = Car.set_car(\"Kia\",\"White\")\n",
    "print(Car.get_car_info(car1))\n",
    "print(Car.get_car_info(car2))"
   ]
  },
  {
   "cell_type": "code",
   "execution_count": 5,
   "id": "fe13cf7c-e2a7-40e7-b307-bc89098da36b",
   "metadata": {},
   "outputs": [
    {
     "name": "stdout",
     "output_type": "stream",
     "text": [
      "Car:HD,Color:Black\n",
      "Car:Kia,Color:Gray\n"
     ]
    }
   ],
   "source": [
    "# 테스트 4\n",
    "class Car:\n",
    "    def __init__(self,name,color): #생성자\n",
    "        self.name = name\n",
    "        self.color = color\n",
    "    def get_car_info(self):\n",
    "        return f\"Car:{self.name},Color:{self.color}\"\n",
    "\n",
    "car1 = Car(\"HD\",\"Black\")\n",
    "car2 = Car(\"Kia\",\"Gray\")\n",
    "\n",
    "print(car1.get_car_info())\n",
    "print(car2.get_car_info())"
   ]
  },
  {
   "cell_type": "code",
   "execution_count": 5,
   "id": "ef6ee612-ce20-4df2-98ee-8ba5bda20242",
   "metadata": {},
   "outputs": [],
   "source": [
    "# 테스트 5\n",
    "class Car:\n",
    "    def __init__(self,name,color): #생성자\n",
    "        self.name = name\n",
    "        self.color = color\n",
    "        self.speed = 0 #초기값 0\n",
    "    def get_car_info(self):\n",
    "        return f\"Car:{self.name}, Color:{self.color}\"\n",
    "    def acc(self, amount):\n",
    "        self.speed += amount #속도가 증가\n",
    "        return f\"{self.name} 속도 올려요. 현재 속도는 {self.speed}Km/h\""
   ]
  },
  {
   "cell_type": "code",
   "execution_count": 6,
   "id": "cd2792ff-33d7-426b-b3c5-98ce3b74e234",
   "metadata": {},
   "outputs": [
    {
     "name": "stdout",
     "output_type": "stream",
     "text": [
      "Car:HD, Color:Black\n",
      "Car:Kia, Color:Gray\n",
      "HD 속도 올려요. 현재 속도는 30Km/h\n",
      "Kia 속도 올려요. 현재 속도는 50Km/h\n",
      "HD 속도 올려요. 현재 속도는 40Km/h\n"
     ]
    }
   ],
   "source": [
    "car1= Car(\"HD\",\"Black\")\n",
    "car2 = Car(\"Kia\",\"Gray\")\n",
    "print(car1.get_car_info())\n",
    "print(car2.get_car_info())\n",
    "print(car1.acc(30))\n",
    "print(car2.acc(50))\n",
    "print(car1.acc(10))"
   ]
  },
  {
   "cell_type": "code",
   "execution_count": 7,
   "id": "23d0782c-a53c-4a5b-b760-01dc133ad473",
   "metadata": {
    "scrolled": true
   },
   "outputs": [
    {
     "name": "stdout",
     "output_type": "stream",
     "text": [
      "HD 속도 올려요. 현재 속도는 41Km/h\n",
      "HD 속도 올려요. 현재 속도는 42Km/h\n",
      "HD 속도 올려요. 현재 속도는 43Km/h\n",
      "HD 속도 올려요. 현재 속도는 44Km/h\n",
      "HD 속도 올려요. 현재 속도는 45Km/h\n",
      "HD 속도 올려요. 현재 속도는 46Km/h\n",
      "HD 속도 올려요. 현재 속도는 47Km/h\n",
      "HD 속도 올려요. 현재 속도는 48Km/h\n",
      "HD 속도 올려요. 현재 속도는 49Km/h\n",
      "HD 속도 올려요. 현재 속도는 50Km/h\n",
      "HD 속도 올려요. 현재 속도는 51Km/h\n",
      "HD 속도 올려요. 현재 속도는 52Km/h\n",
      "HD 속도 올려요. 현재 속도는 53Km/h\n",
      "HD 속도 올려요. 현재 속도는 54Km/h\n",
      "HD 속도 올려요. 현재 속도는 55Km/h\n",
      "HD 속도 올려요. 현재 속도는 56Km/h\n",
      "HD 속도 올려요. 현재 속도는 57Km/h\n",
      "HD 속도 올려요. 현재 속도는 58Km/h\n",
      "HD 속도 올려요. 현재 속도는 59Km/h\n",
      "HD 속도 올려요. 현재 속도는 60Km/h\n",
      "HD 속도 올려요. 현재 속도는 61Km/h\n",
      "HD 속도 올려요. 현재 속도는 62Km/h\n",
      "HD 속도 올려요. 현재 속도는 63Km/h\n",
      "HD 속도 올려요. 현재 속도는 64Km/h\n",
      "HD 속도 올려요. 현재 속도는 65Km/h\n",
      "HD 속도 올려요. 현재 속도는 66Km/h\n",
      "HD 속도 올려요. 현재 속도는 67Km/h\n",
      "HD 속도 올려요. 현재 속도는 68Km/h\n",
      "HD 속도 올려요. 현재 속도는 69Km/h\n",
      "HD 속도 올려요. 현재 속도는 70Km/h\n",
      "HD 속도 올려요. 현재 속도는 71Km/h\n",
      "HD 속도 올려요. 현재 속도는 72Km/h\n",
      "HD 속도 올려요. 현재 속도는 73Km/h\n",
      "HD 속도 올려요. 현재 속도는 74Km/h\n",
      "HD 속도 올려요. 현재 속도는 75Km/h\n",
      "HD 속도 올려요. 현재 속도는 76Km/h\n",
      "HD 속도 올려요. 현재 속도는 77Km/h\n",
      "HD 속도 올려요. 현재 속도는 78Km/h\n",
      "HD 속도 올려요. 현재 속도는 79Km/h\n",
      "HD 속도 올려요. 현재 속도는 80Km/h\n",
      "HD 속도 올려요. 현재 속도는 81Km/h\n",
      "HD 속도 올려요. 현재 속도는 82Km/h\n",
      "HD 속도 올려요. 현재 속도는 83Km/h\n",
      "HD 속도 올려요. 현재 속도는 84Km/h\n",
      "HD 속도 올려요. 현재 속도는 85Km/h\n",
      "HD 속도 올려요. 현재 속도는 86Km/h\n",
      "HD 속도 올려요. 현재 속도는 87Km/h\n",
      "HD 속도 올려요. 현재 속도는 88Km/h\n",
      "HD 속도 올려요. 현재 속도는 89Km/h\n",
      "HD 속도 올려요. 현재 속도는 90Km/h\n",
      "HD 속도 올려요. 현재 속도는 91Km/h\n",
      "HD 속도 올려요. 현재 속도는 92Km/h\n",
      "HD 속도 올려요. 현재 속도는 93Km/h\n",
      "HD 속도 올려요. 현재 속도는 94Km/h\n",
      "HD 속도 올려요. 현재 속도는 95Km/h\n",
      "HD 속도 올려요. 현재 속도는 96Km/h\n",
      "HD 속도 올려요. 현재 속도는 97Km/h\n",
      "HD 속도 올려요. 현재 속도는 98Km/h\n",
      "HD 속도 올려요. 현재 속도는 99Km/h\n",
      "HD 속도 올려요. 현재 속도는 100Km/h\n",
      "100Km/h 속도 유지중...\n"
     ]
    }
   ],
   "source": [
    "# 테스트 연습\n",
    "import time as t\n",
    "for n  in range(60):\n",
    "    print(car1.acc(1))\n",
    "    t.sleep(1)\n",
    "print(\"100Km/h 속도 유지중...\")"
   ]
  },
  {
   "cell_type": "code",
   "execution_count": 14,
   "id": "bd802a6d-3bc3-4c67-8521-295a259efd30",
   "metadata": {},
   "outputs": [],
   "source": [
    "# 테스트 6 상속\n",
    "class Mycar(Car):\n",
    "    def turbo(self):\n",
    "        self.speed += 50\n",
    "        return(f\"내 차가 나른다!! 터보 ! {self.speed} Km/h\")\n",
    "    def acc(self):\n",
    "        self.speed += 30 #속도가 증가\n",
    "        return f\"{self.name}의 {self.speed}!!\""
   ]
  },
  {
   "cell_type": "code",
   "execution_count": 18,
   "id": "1e4d07bd-7bff-4563-8fb9-2b8eba976d66",
   "metadata": {},
   "outputs": [
    {
     "name": "stdout",
     "output_type": "stream",
     "text": [
      "Kia 속도 올려요. 현재 속도는 10Km/h\n"
     ]
    },
    {
     "ename": "TypeError",
     "evalue": "Car.acc() missing 1 required positional argument: 'amount'",
     "output_type": "error",
     "traceback": [
      "\u001b[1;31m---------------------------------------------------------------------------\u001b[0m",
      "\u001b[1;31mTypeError\u001b[0m                                 Traceback (most recent call last)",
      "Cell \u001b[1;32mIn[18], line 4\u001b[0m\n\u001b[0;32m      2\u001b[0m car0 \u001b[38;5;241m=\u001b[39m Car(\u001b[38;5;124m\"\u001b[39m\u001b[38;5;124mKia\u001b[39m\u001b[38;5;124m\"\u001b[39m,\u001b[38;5;124m\"\u001b[39m\u001b[38;5;124mGray\u001b[39m\u001b[38;5;124m\"\u001b[39m)\n\u001b[0;32m      3\u001b[0m \u001b[38;5;28mprint\u001b[39m(car0\u001b[38;5;241m.\u001b[39macc(\u001b[38;5;241m10\u001b[39m))\n\u001b[1;32m----> 4\u001b[0m \u001b[38;5;28mprint\u001b[39m(\u001b[43mmy\u001b[49m\u001b[38;5;241;43m.\u001b[39;49m\u001b[43macc\u001b[49m\u001b[43m(\u001b[49m\u001b[43m)\u001b[49m)\n",
      "\u001b[1;31mTypeError\u001b[0m: Car.acc() missing 1 required positional argument: 'amount'"
     ]
    }
   ],
   "source": [
    "my = Mycar(\"mycar\",\"skyblue\")\n",
    "car0 = Car(\"Kia\",\"Gray\")\n",
    "print(car0.acc(10))\n",
    "print(my.acc())"
   ]
  },
  {
   "cell_type": "code",
   "execution_count": 21,
   "id": "c1bddb76-1efc-4845-99df-07c1c76f6634",
   "metadata": {},
   "outputs": [
    {
     "name": "stdout",
     "output_type": "stream",
     "text": [
      "내 차가 나른다!! 터보 ! 250 Km/h\n",
      "None\n",
      "내 차가 나른다!! 터보 ! 300 Km/h\n",
      "None\n"
     ]
    }
   ],
   "source": [
    "print(my.turbo())\n",
    "print(my.turbo())"
   ]
  },
  {
   "cell_type": "code",
   "execution_count": 46,
   "id": "25604d97-4059-40d4-b696-28eebf1dfa03",
   "metadata": {},
   "outputs": [],
   "source": [
    "# 테스트 7\n",
    "class Pet:\n",
    "    def __init__(self,name,species):\n",
    "        \"\"\"펫을 생성\"\"\"\n",
    "        self.name = name\n",
    "        self.species = species\n",
    "        self.hunger = 50 #초가 배고픔 수치 ( 0 ~ 100 )\n",
    "    def feed(self):\n",
    "        \"\"\"밥을 주면 배고픔 감소\"\"\"\n",
    "        if self.hunger > 10:\n",
    "            self.hunger -= 10\n",
    "            return f\"{self.name}에게 밥을 줬습니다.! 배고픔:{self.hunger}\"\n",
    "    def play(self):\n",
    "        \"\"\"놀아주면 배고픔이 증가\"\"\"\n",
    "        if self.hunger < 80:\n",
    "            self.hunger += 20\n",
    "        return f\"{self.name}와 아주 잘 놀아줬어요!!!!~~~~ 배고픔:{self.hunger}\""
   ]
  },
  {
   "cell_type": "code",
   "execution_count": 47,
   "id": "bff33c2f-f99f-4e1a-9992-6c1c3998aa9e",
   "metadata": {},
   "outputs": [
    {
     "name": "stdout",
     "output_type": "stream",
     "text": [
      "뽀삐에게 밥을 줬습니다.! 배고픔:40\n",
      "뽀삐에게 밥을 줬습니다.! 배고픔:30\n",
      "아지와 아주 잘 놀아줬어요!!!!~~~~ 배고픔:70\n",
      "아지와 아주 잘 놀아줬어요!!!!~~~~ 배고픔:90\n",
      "아지와 아주 잘 놀아줬어요!!!!~~~~ 배고픔:90\n",
      "뽀삐와 아주 잘 놀아줬어요!!!!~~~~ 배고픔:50\n",
      "뽀삐와 아주 잘 놀아줬어요!!!!~~~~ 배고픔:70\n"
     ]
    },
    {
     "ename": "AttributeError",
     "evalue": "'pet' object has no attribute 'nam'",
     "output_type": "error",
     "traceback": [
      "\u001b[1;31m---------------------------------------------------------------------------\u001b[0m",
      "\u001b[1;31mAttributeError\u001b[0m                            Traceback (most recent call last)",
      "Cell \u001b[1;32mIn[47], line 12\u001b[0m\n\u001b[0;32m     10\u001b[0m \u001b[38;5;28mprint\u001b[39m(dog1\u001b[38;5;241m.\u001b[39m play())\n\u001b[0;32m     11\u001b[0m \u001b[38;5;28mprint\u001b[39m(dog1\u001b[38;5;241m.\u001b[39m play())\n\u001b[1;32m---> 12\u001b[0m \u001b[38;5;28mprint\u001b[39m(\u001b[43mcat\u001b[49m\u001b[38;5;241;43m.\u001b[39;49m\u001b[43m \u001b[49m\u001b[43mplay\u001b[49m\u001b[43m(\u001b[49m\u001b[43m)\u001b[49m)\n\u001b[0;32m     13\u001b[0m \u001b[38;5;28mprint\u001b[39m(cat\u001b[38;5;241m.\u001b[39m play())\n\u001b[0;32m     14\u001b[0m \u001b[38;5;28mprint\u001b[39m(cat\u001b[38;5;241m.\u001b[39m feed())\n",
      "Cell \u001b[1;32mIn[25], line 19\u001b[0m, in \u001b[0;36mpet.play\u001b[1;34m(self)\u001b[0m\n\u001b[0;32m     17\u001b[0m \u001b[38;5;28;01melse\u001b[39;00m:\n\u001b[0;32m     18\u001b[0m     \u001b[38;5;28mself\u001b[39m\u001b[38;5;241m.\u001b[39mhunger \u001b[38;5;241m=\u001b[39m\u001b[38;5;241m100\u001b[39m\n\u001b[1;32m---> 19\u001b[0m \u001b[38;5;28;01mreturn\u001b[39;00m \u001b[38;5;124mf\u001b[39m\u001b[38;5;124m\"\u001b[39m\u001b[38;5;132;01m{\u001b[39;00m\u001b[38;5;28;43mself\u001b[39;49m\u001b[38;5;241;43m.\u001b[39;49m\u001b[43mnam\u001b[49m\u001b[38;5;132;01m}\u001b[39;00m\u001b[38;5;124m와 아주 잘 놀아줬어요!!!!~~~~ 배고픔:\u001b[39m\u001b[38;5;132;01m{\u001b[39;00m\u001b[38;5;28mself\u001b[39m\u001b[38;5;241m.\u001b[39mhunger\u001b[38;5;132;01m}\u001b[39;00m\u001b[38;5;124m\"\u001b[39m\n",
      "\u001b[1;31mAttributeError\u001b[0m: 'pet' object has no attribute 'nam'"
     ]
    }
   ],
   "source": [
    "# 펫 생성\n",
    "dog1 = Pet(\"뽀삐\",\"말티즈\")\n",
    "dog2 = Pet(\"아지\",\"요크\")\n",
    "cat=pet(\"컁이\",\"나만고양없어\")\n",
    "print(dog1. feed())\n",
    "print(dog1. feed())\n",
    "print(dog2. play())\n",
    "print(dog2. play())\n",
    "print(dog2. play())\n",
    "print(dog1. play())\n",
    "print(dog1. play())\n",
    "print(cat. play())\n",
    "print(cat. play())\n",
    "print(cat. feed())"
   ]
  },
  {
   "cell_type": "code",
   "execution_count": 61,
   "id": "0714b350-e5b0-4413-9456-7f583eade0bb",
   "metadata": {},
   "outputs": [],
   "source": [
    "# 테스트 8\n",
    "class Bacteria:\n",
    "    def __init__(self,initial_population, growth_rate):\n",
    "        \"\"\"세균초기화\"\"\"\n",
    "        self.population = initial_population\n",
    "        self.growth_rate = growth_rate\n",
    "        self.time = 0 #시작시간\n",
    "\n",
    "    def grow (self,hours):\n",
    "        \"\"\"일정시간이 지나면 세균이 증식함.\"\"\"\n",
    "        self.time += hours\n",
    "        self.population *= self.growth_rate**hours\n",
    "        return f\"{self.time} 시간 후 세균 수: {int(self.population)} 마리\" \n",
    "    def check(self):\n",
    "        \"\"\"현재 세균 수 확인\"\"\"\n",
    "        return f\"현재 세균 수: {int(self.population)} 마리 \""
   ]
  },
  {
   "cell_type": "code",
   "execution_count": 59,
   "id": "697f4775-5910-4e03-9753-561bb287d8a1",
   "metadata": {},
   "outputs": [],
   "source": [
    "bacteria = Bacteria(100,2)"
   ]
  },
  {
   "cell_type": "code",
   "execution_count": 60,
   "id": "cae7e055-4be8-43cc-90b6-9426a5986abb",
   "metadata": {},
   "outputs": [
    {
     "name": "stdout",
     "output_type": "stream",
     "text": [
      "1 시간 후 세균 수: 200 마리\n",
      "3 시간 후 세균 수: 800 마리\n",
      "6 시간 후 세균 수: 6400 마리\n"
     ]
    }
   ],
   "source": [
    "print(bacteria.grow(1))\n",
    "print(bacteria.grow(2))\n",
    "print(bacteria.grow(3))"
   ]
  },
  {
   "cell_type": "code",
   "execution_count": 94,
   "id": "2197201b-df7c-4e9c-a551-362fc5c95808",
   "metadata": {},
   "outputs": [
    {
     "name": "stdout",
     "output_type": "stream",
     "text": [
      "철수님의 잔고는 50000원 입니다.\n",
      "영희님의 잔고는 200000원 입니다.\n",
      "철수님의 잔고는 9000000원 입니다.\n",
      "9000000\n"
     ]
    }
   ],
   "source": [
    "#테스트 9 은행예금 캡슐화 안됨, 클래스 변수\n",
    "class BankAccount:\n",
    "    interest_rate= 0.02 #클래스 변수\n",
    "    def __init__(self, owner, balance):\n",
    "        self.owner = owner\n",
    "        self.balance = balance or 0\n",
    "    def bprint(self):\n",
    "        return f\"{self.owner}님의 잔고는 {self.balance}원 입니다.\"\n",
    "\n",
    "acc1 = BankAccount(\"철수\",50000)\n",
    "acc2 = BankAccount(\"영희\", 200000)\n",
    "print(acc1.bprint())\n",
    "print(acc2.bprint())\n",
    "#공격후\n",
    "acc1.balance = 9000000\n",
    "print(acc1.bprint())\n",
    "print(acc1.balance)"
   ]
  },
  {
   "cell_type": "code",
   "execution_count": 113,
   "id": "a14028cb-aa2c-4736-bbcc-7fa74aae88f4",
   "metadata": {},
   "outputs": [
    {
     "name": "stdout",
     "output_type": "stream",
     "text": [
      "철수님의 잔고는 50000원 입니다.\n",
      "영희님의 잔고는 200000원 입니다.\n",
      "0.02% 의 이자가 반영된 금액은 51000원 입니다.\n",
      "0.02% 의 이자가 반영된 금액은 204000원 입니다.\n",
      "0.03% 의 이자가 반영된 금액은 51500원 입니다.\n",
      "0.03% 의 이자가 반영된 금액은 206000원 입니다.\n"
     ]
    }
   ],
   "source": [
    "#테스트 9 은행예금 캡슐화 된 예제, 클래스 변수\n",
    "class BankAccount:\n",
    "    interest_rate = 0.02 #클래스 변수\n",
    "    def __init__(self, owner, balance):\n",
    "        self.owner = owner\n",
    "        self.__balance= balance or 0\n",
    "    def bprint(self):\n",
    "        return f\"{self.owner}님의 잔고는 {self.__balance}원 입니다.\"\n",
    "    def deposit(self, amount):\n",
    "        self.__balance += amount\n",
    "        return f\"{self.owner}님의 계좌에 {amount}원이 입금되었습니다. 현재 잔액:{self.__balance}원\"\n",
    "    def withdraw(self, amount):\n",
    "        if self.__balance >= amount:\n",
    "            self.__balance -= amount\n",
    "            return f\"{self.owner}님의 계좌에 {amount}원이 출금 되었습니다. 현재 잔액: {self.__balance}원\"\n",
    "        return \"잔액이 부족합니다.\"\n",
    "    def interest(self):\n",
    "        total = self.__balance * (1 + self.interest_rate)\n",
    "        return f\"{self.interest_rate}% 의 이자가 반영된 금액은 {total:.0f}원 입니다.\"\n",
    "# 인스턴스화\n",
    "acc3 = BankAccount(\"철수\", 50000)\n",
    "acc4 = BankAccount(\"영희\", 200000)\n",
    "print(acc3.bprint())\n",
    "print(acc4.bprint())\n",
    "print(acc3.interest())\n",
    "print(acc4.interest())\n",
    "# 클래스 변수 바꾸기\n",
    "BankAccount.interest_rate = 0.03\n",
    "print(acc3.interest())\n",
    "print(acc4.interest())\n",
    "\n",
    "# 공격후\n",
    "# acc3.balance = 9000000\n",
    "# print(acc3.balance)\n",
    "\n",
    "# 내장메소드로 캡슐화된 변수 접근\n",
    "# print(acc3.deposit(30000))\n",
    "# print(acc3.withdraw(30000))"
   ]
  },
  {
   "cell_type": "code",
   "execution_count": 123,
   "id": "ab635c40-c1cf-4480-848d-ac3b1957de0c",
   "metadata": {},
   "outputs": [
    {
     "name": "stdout",
     "output_type": "stream",
     "text": [
      "잔액이 2000원으로 증가했습니다.\n",
      "콜라을(를) 구매했습니다! 남은 잔액: 500원\n",
      "잔액이 부족합니다! (사이다 가격: 1400원, 현재 잔액: 500원)\n",
      "잔액 500원이 반환되었습니다.\n"
     ]
    }
   ],
   "source": [
    "class VendingMachine:\n",
    "    def __init__(self):\n",
    "        \"\"\"자동판매기 초기화\"\"\"\n",
    "        self.balance=0 #사용자의 잔액\n",
    "        self.items = {\n",
    "            \"콜라\":1500,\n",
    "            \"사이다\":1400,\n",
    "            \"물\": 1000\n",
    "        }\n",
    "\n",
    "    def insert_money(self, amount):\n",
    "            \"\"\"잔액 충전\"\"\"\n",
    "            self.balance += amount\n",
    "            return f\"잔액이 {self.balance}원으로 증가했습니다.\"\n",
    "    def buy_item(self, item_name):\n",
    "        \"\"\"상품구매\"\"\"\n",
    "        if item_name not in self.items:\n",
    "            return f\"{item_name}은(는) 판매하지 않는 상품입니다.\"\n",
    "        price = self.items[item_name]\n",
    "        if self.balance < price:\n",
    "            return f\"잔액이 부족합니다! ({item_name} 가격: {price}원, 현재 잔액: {self.balance}원)\"\n",
    "        self.balance -= price\n",
    "        return f\"{item_name}을(를) 구매했습니다! 남은 잔액: {self.balance}원\"\n",
    "    def refund(self):\n",
    "        \"\"\"잔액 반환\"\"\"\n",
    "        amount = self.balance\n",
    "        self.balance = 0\n",
    "        return f\"잔액 {amount}원이 반환되었습니다.\"\n",
    "#자동판매기 객체 생성\n",
    "vm = VendingMachine()\n",
    "#잔액 충전\n",
    "print(vm.insert_money(2000)) #잔액이 2000원으로 증가했습니다.\n",
    "#상품 구매\n",
    "print(vm.buy_item(\"콜라\")) #콜라을(를) 구매했습니다! 남은 잔액: 500원\n",
    "print(vm.buy_item(\"사이다\")) #잔액이 부족합니다! (사이다 가격: 1400원, 현재 잔액: 500원)\n",
    "#잔액 반환\n",
    "print(vm.refund())"
   ]
  },
  {
   "cell_type": "code",
   "execution_count": null,
   "id": "71accf4d-3b54-45b8-8307-f2df4d9d1090",
   "metadata": {},
   "outputs": [],
   "source": [
    "import"
   ]
  },
  {
   "cell_type": "code",
   "execution_count": null,
   "id": "270c8766-1390-4cbb-a177-13b7ba9cd48d",
   "metadata": {},
   "outputs": [],
   "source": [
    "import turtle\n",
    "window = turtle.Screen()\n",
    "my_turtle = turtle.Turtle()\n",
    "my_turtle.shape(\"turtle\")\n",
    "my_turtle.color(\"yellow\")\n",
    "\n",
    "#사각형 그리기\n",
    "for _ in range(4):\n",
    "    my_turtle.forward(100)  #앞으로 100 픽셀 이동\n",
    "    my_turtle.right(45)  #오른쪽으로 90도 회전\n",
    "    my_turtle.forward(100)  #앞으로 100 픽셀 이동\n",
    "    my_turtle.left(45)\n",
    "    my_turtle.back(100)\n",
    "\n",
    "#창 닫기\n",
    "window.mainloop()"
   ]
  },
  {
   "cell_type": "code",
   "execution_count": null,
   "id": "97f46641-9f1e-48ea-9e2a-6b209eff25c2",
   "metadata": {},
   "outputs": [],
   "source": [
    "#테스트\n",
    "a, _, c = 1, 77, 2\n",
    "print(a,c)"
   ]
  },
  {
   "cell_type": "code",
   "execution_count": 127,
   "id": "3dd1a326-1c9f-489a-adbf-efd16e9a3cc6",
   "metadata": {},
   "outputs": [
    {
     "name": "stdout",
     "output_type": "stream",
     "text": [
      "인사 다섯번 할게요.\n",
      "인사 다섯번 할게요.\n",
      "인사 다섯번 할게요.\n",
      "인사 다섯번 할게요.\n",
      "인사 다섯번 할게요.\n"
     ]
    }
   ],
   "source": [
    "for _ in range(5):\n",
    "    print(\"인사 다섯번 할게요.\")"
   ]
  },
  {
   "cell_type": "code",
   "execution_count": 15,
   "id": "08b3f053-1c96-488f-83e0-0a0b4b36254a",
   "metadata": {},
   "outputs": [],
   "source": [
    "import random\n",
    "\n",
    "class Character:\n",
    "    def __init__(self, name, hp, attack_p):\n",
    "        \"\"\"캐릭터 초기화\"\"\"\n",
    "        self.name = name\n",
    "        self.hp = hp\n",
    "        self.attack_p = attack_p\n",
    "    def attack(self, opponent):\n",
    "        \"\"\"상대방을 공격\"\"\"\n",
    "        damage = random.randint(2,self.attack_p)\n",
    "        opponent.hp -= damage\n",
    "        print(f\"{self.name}가 {opponent.name}를 공격하여 {damage} 데미지를 입혔습니다.\")\n",
    "    def now_status(self):\n",
    "        \"\"\"현재 체력 상태 확인\"\"\"\n",
    "        return f\"{self.name} 체력: {self.hp}\"\n",
    "    def is_alive(self):\n",
    "        \"\"\"캐릭터 생존여부 확인\"\"\"\n",
    "        return self.hp > 0"
   ]
  },
  {
   "cell_type": "code",
   "execution_count": 16,
   "id": "03ad9df2-063b-498a-865e-0de26daf2895",
   "metadata": {},
   "outputs": [],
   "source": [
    "#히어로와 몬스터 생성\n",
    "player = Character(\"영웅\", attack_p=15, hp =50)\n",
    "monster = Character(\"골렘\", 60, 9)"
   ]
  },
  {
   "cell_type": "code",
   "execution_count": 17,
   "id": "15e26b48-68f6-405b-b8e5-c0f9f10e9038",
   "metadata": {},
   "outputs": [
    {
     "name": "stdout",
     "output_type": "stream",
     "text": [
      "=====전투시작!!!=====\n"
     ]
    },
    {
     "name": "stdin",
     "output_type": "stream",
     "text": [
      "공격하려면 엔터를 치세요. \n"
     ]
    },
    {
     "name": "stdout",
     "output_type": "stream",
     "text": [
      "영웅가 골렘를 공격하여 4 데미지를 입혔습니다.\n",
      "골렘가 영웅를 공격하여 3 데미지를 입혔습니다.\n",
      "영웅 체력: 47  vs  골렘 체력: 56\n"
     ]
    },
    {
     "name": "stdin",
     "output_type": "stream",
     "text": [
      "공격하려면 엔터를 치세요. \n"
     ]
    },
    {
     "name": "stdout",
     "output_type": "stream",
     "text": [
      "영웅가 골렘를 공격하여 10 데미지를 입혔습니다.\n",
      "골렘가 영웅를 공격하여 9 데미지를 입혔습니다.\n",
      "영웅 체력: 38  vs  골렘 체력: 46\n"
     ]
    },
    {
     "name": "stdin",
     "output_type": "stream",
     "text": [
      "공격하려면 엔터를 치세요. \n"
     ]
    },
    {
     "name": "stdout",
     "output_type": "stream",
     "text": [
      "영웅가 골렘를 공격하여 15 데미지를 입혔습니다.\n",
      "골렘가 영웅를 공격하여 9 데미지를 입혔습니다.\n",
      "영웅 체력: 29  vs  골렘 체력: 31\n"
     ]
    },
    {
     "name": "stdin",
     "output_type": "stream",
     "text": [
      "공격하려면 엔터를 치세요. \n"
     ]
    },
    {
     "name": "stdout",
     "output_type": "stream",
     "text": [
      "영웅가 골렘를 공격하여 13 데미지를 입혔습니다.\n",
      "골렘가 영웅를 공격하여 3 데미지를 입혔습니다.\n",
      "영웅 체력: 26  vs  골렘 체력: 18\n"
     ]
    },
    {
     "name": "stdin",
     "output_type": "stream",
     "text": [
      "공격하려면 엔터를 치세요. \n"
     ]
    },
    {
     "name": "stdout",
     "output_type": "stream",
     "text": [
      "영웅가 골렘를 공격하여 4 데미지를 입혔습니다.\n",
      "골렘가 영웅를 공격하여 5 데미지를 입혔습니다.\n",
      "영웅 체력: 21  vs  골렘 체력: 14\n"
     ]
    },
    {
     "name": "stdin",
     "output_type": "stream",
     "text": [
      "공격하려면 엔터를 치세요. \n"
     ]
    },
    {
     "name": "stdout",
     "output_type": "stream",
     "text": [
      "영웅가 골렘를 공격하여 8 데미지를 입혔습니다.\n",
      "골렘가 영웅를 공격하여 8 데미지를 입혔습니다.\n",
      "영웅 체력: 13  vs  골렘 체력: 6\n"
     ]
    },
    {
     "name": "stdin",
     "output_type": "stream",
     "text": [
      "공격하려면 엔터를 치세요. \n"
     ]
    },
    {
     "name": "stdout",
     "output_type": "stream",
     "text": [
      "영웅가 골렘를 공격하여 6 데미지를 입혔습니다.\n",
      "영웅 체력: 13  vs  골렘 체력: 0\n",
      "🎇당신이 승리하였습니다.🎇\n"
     ]
    }
   ],
   "source": [
    "#전투진행\n",
    "print( \"=====전투시작!!!=====\")\n",
    "while player.is_alive and monster.is_alive():\n",
    "    input(\"공격하려면 엔터를 치세요.\")\n",
    "    player.attack(monster)\n",
    "    if monster.is_alive():\n",
    "        monster.attack(player)\n",
    "    print(player.now_status(),' vs ',monster.now_status())\n",
    "#결과\n",
    "if player.is_alive():\n",
    "    print(\"🎇당신이 승리하였습니다.🎇\")\n",
    "else:\n",
    "    print(\"☠️패배하였습니다...☠️ to be continue...?\")"
   ]
  },
  {
   "cell_type": "code",
   "execution_count": null,
   "id": "06dd04a1-cfdf-49c4-b403-585ee8e8d65d",
   "metadata": {},
   "outputs": [],
   "source": []
  },
  {
   "cell_type": "code",
   "execution_count": null,
   "id": "b2f7dd33-07be-4584-8f4b-028669fe7c97",
   "metadata": {},
   "outputs": [],
   "source": []
  }
 ],
 "metadata": {
  "kernelspec": {
   "display_name": "Python 3 (ipykernel)",
   "language": "python",
   "name": "python3"
  },
  "language_info": {
   "codemirror_mode": {
    "name": "ipython",
    "version": 3
   },
   "file_extension": ".py",
   "mimetype": "text/x-python",
   "name": "python",
   "nbconvert_exporter": "python",
   "pygments_lexer": "ipython3",
   "version": "3.13.1"
  }
 },
 "nbformat": 4,
 "nbformat_minor": 5
}
