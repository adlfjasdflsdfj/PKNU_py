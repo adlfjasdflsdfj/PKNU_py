{
 "cells": [
  {
   "cell_type": "markdown",
   "id": "4f1d3fa6-a9b9-463f-b804-0917a22f267b",
   "metadata": {},
   "source": [
    "# 함수"
   ]
  },
  {
   "cell_type": "code",
   "execution_count": 82,
   "id": "5a06e3c6-923f-47aa-b2a7-6cc34c00608d",
   "metadata": {},
   "outputs": [],
   "source": [
    "def 덧셈(a,b):\n",
    "    return a+b"
   ]
  },
  {
   "cell_type": "code",
   "execution_count": 83,
   "id": "035be8dc-a05f-43da-aa6e-e2cbfefe8349",
   "metadata": {},
   "outputs": [
    {
     "name": "stdout",
     "output_type": "stream",
     "text": [
      "7\n"
     ]
    }
   ],
   "source": [
    "c= 덧셈(3,4)\n",
    "print(c)"
   ]
  },
  {
   "cell_type": "code",
   "execution_count": 86,
   "id": "8491493e-f238-4262-a963-bf2303d36826",
   "metadata": {
    "scrolled": true
   },
   "outputs": [
    {
     "name": "stdout",
     "output_type": "stream",
     "text": [
      "====2단====\n",
      "2 x 1 = 2\n",
      "2 x 2 = 4\n",
      "2 x 3 = 6\n",
      "2 x 4 = 8\n",
      "2 x 5 = 10\n",
      "2 x 6 = 12\n",
      "2 x 7 = 14\n",
      "2 x 8 = 16\n",
      "2 x 9 = 18\n",
      "\n"
     ]
    }
   ],
   "source": [
    "def gugu(end = 9):\n",
    "    data=''\n",
    "    for j in range(2, end+1):\n",
    "        print(f\"{str(j)+ '단':=^10}\")\n",
    "        for i in range(1,10):\n",
    "            data += (f'{j} x {i} = {j*i}')+ '\\n'\n",
    "    return data\n",
    "print(gugu(2))"
   ]
  },
  {
   "cell_type": "markdown",
   "id": "e730e61e-e6a3-4c4f-bd4d-aefb13316704",
   "metadata": {},
   "source": [
    "## 입력값과 리턴값에 따른 함수의 형태"
   ]
  },
  {
   "cell_type": "code",
   "execution_count": 87,
   "id": "59f5d214-8b68-4852-81fa-542710cf7024",
   "metadata": {},
   "outputs": [],
   "source": [
    "#일반적인 함수\n",
    "def add(a,b):\n",
    "    result = a+b\n",
    "    return result"
   ]
  },
  {
   "cell_type": "code",
   "execution_count": 15,
   "id": "be90c147-d711-425b-9c3b-5b7de78a40da",
   "metadata": {},
   "outputs": [
    {
     "data": {
      "text/plain": [
       "87"
      ]
     },
     "execution_count": 15,
     "metadata": {},
     "output_type": "execute_result"
    }
   ],
   "source": [
    "add(77,10)"
   ]
  },
  {
   "cell_type": "code",
   "execution_count": 18,
   "id": "bd35cdf8-2f81-41f4-94a4-911891acb172",
   "metadata": {},
   "outputs": [],
   "source": [
    "# 입력값이 없는 함수\n",
    "def say():\n",
    "    return '안녕'"
   ]
  },
  {
   "cell_type": "code",
   "execution_count": 19,
   "id": "6afc9644-176d-4dff-b524-70da26225398",
   "metadata": {},
   "outputs": [
    {
     "name": "stdout",
     "output_type": "stream",
     "text": [
      "안녕\n"
     ]
    }
   ],
   "source": [
    "a= say()\n",
    "print(a)"
   ]
  },
  {
   "cell_type": "code",
   "execution_count": 22,
   "id": "819fdaee-d3a2-4efd-943c-d73210f7472c",
   "metadata": {},
   "outputs": [],
   "source": [
    "# 리턴값이 없는 함수\n",
    "def add(a,b):\n",
    "    print(\"%d, %d의 합은 %d 입니다.\" %(a, b, a+b))"
   ]
  },
  {
   "cell_type": "code",
   "execution_count": 23,
   "id": "4af733c5-cd61-4f30-b354-c360b5a7686e",
   "metadata": {},
   "outputs": [
    {
     "name": "stdout",
     "output_type": "stream",
     "text": [
      "111, 33의 합은 144 입니다.\n"
     ]
    }
   ],
   "source": [
    "add(111,33)"
   ]
  },
  {
   "cell_type": "code",
   "execution_count": 24,
   "id": "a3db2f11-f552-4b0c-adaf-e3f2ef1c7e9a",
   "metadata": {},
   "outputs": [],
   "source": [
    "# 입력값과 리턴값이 없는 함수\n",
    "def say():\n",
    "    print(\"안녕!\")\n",
    "    print(\"전 입력값과 리턴값이 없어요.\")\n",
    "    print(\"빠이~\")"
   ]
  },
  {
   "cell_type": "code",
   "execution_count": 25,
   "id": "c38dcd38-5492-4f04-a508-a5f9a86331ce",
   "metadata": {},
   "outputs": [
    {
     "name": "stdout",
     "output_type": "stream",
     "text": [
      "안녕!\n",
      "전 입력값과 리턴값이 없어요.\n",
      "빠이~\n"
     ]
    }
   ],
   "source": [
    "say()"
   ]
  },
  {
   "cell_type": "code",
   "execution_count": 43,
   "id": "cc5806f6-33dd-4dcb-b112-cb1072259389",
   "metadata": {},
   "outputs": [],
   "source": [
    "#테스트\n",
    "import time as t\n",
    "def disp():\n",
    "    print(\"안녕!\\r\", end=\"\")\n",
    "    t.sleep(2)\n",
    "    print(\"전 입력값과 리턴값이 없어요.\\r\",end=\"\")\n",
    "    t.sleep(2)\n",
    "    print(\"빠이~              \", end=\"\" )\n",
    "    t.sleep(2)"
   ]
  },
  {
   "cell_type": "code",
   "execution_count": 44,
   "id": "4859fc2a-b836-43c4-93af-380f16cd7fde",
   "metadata": {},
   "outputs": [
    {
     "name": "stdout",
     "output_type": "stream",
     "text": [
      "빠이~              "
     ]
    }
   ],
   "source": [
    "disp()"
   ]
  },
  {
   "cell_type": "code",
   "execution_count": 37,
   "id": "d46dcb00-905e-4096-887d-3ebd5464de60",
   "metadata": {},
   "outputs": [
    {
     "name": "stdout",
     "output_type": "stream",
     "text": [
      "44\n"
     ]
    }
   ],
   "source": [
    "#max()//\n",
    "def bs(li=[33,11,22,44]):\n",
    "    sw = 0\n",
    "    for x in range(len(li)):\n",
    "        if sw < li[x]:\n",
    "            sw = li[x]\n",
    "    return sw\n",
    "print(bs())"
   ]
  },
  {
   "cell_type": "code",
   "execution_count": 38,
   "id": "e92d69b0-6dc7-4c7c-828a-ef6623bd4bbb",
   "metadata": {},
   "outputs": [
    {
     "name": "stdout",
     "output_type": "stream",
     "text": [
      "176\n"
     ]
    }
   ],
   "source": [
    "print(bs([1,21,3,41,5,16,7,18,19,115,4,3,2,1,3,4,51,176,78,3,4]))"
   ]
  },
  {
   "cell_type": "code",
   "execution_count": 48,
   "id": "f30ded1d-2349-4e90-a378-81fea4914aaf",
   "metadata": {},
   "outputs": [],
   "source": [
    "#매개 변수를 지정하여 호출하기\n",
    "def sub(a,b):\n",
    "    return a-b"
   ]
  },
  {
   "cell_type": "code",
   "execution_count": 49,
   "id": "6f67edf5-d39f-4797-918f-a25c8a5d8e87",
   "metadata": {},
   "outputs": [
    {
     "name": "stdout",
     "output_type": "stream",
     "text": [
      "4\n"
     ]
    }
   ],
   "source": [
    "# result = sub(a=7,b=3)\n",
    "result = sub(b=3,a=7)\n",
    "print(result)"
   ]
  },
  {
   "cell_type": "code",
   "execution_count": 88,
   "id": "ab4681a5-69e4-425b-91a7-9c53ede1dd6d",
   "metadata": {},
   "outputs": [],
   "source": [
    "# 테스트: 함수 random 주사위\n",
    "import random as r\n",
    "def dice(target = 250000):\n",
    "    box = [] # 초기화\n",
    "    num = 0\n",
    "    while num < target:\n",
    "        num = num + 1\n",
    "        ran = r. randint(1,6)\n",
    "        box.append(ran)\n",
    "    if target == len(box):\n",
    "        print(f\"{target}회 정상 진행되었습니다.\")\n",
    "    else:\n",
    "        print(f\"검증결과 횟수 이상이 있습니다. 이유:({target}회 목표로 동작하였으나. {len(box)}으로 측정되었습니다.)\")\n",
    "    for n in range(1,7):\n",
    "        print(f\"{n}번이 {box.count(n)}번({(box.count(n))/len(box)*100:.2f}%) 등장하였습니다.\")"
   ]
  },
  {
   "cell_type": "code",
   "execution_count": 89,
   "id": "b3739645-3860-4617-b369-24243cbac279",
   "metadata": {},
   "outputs": [
    {
     "name": "stdout",
     "output_type": "stream",
     "text": [
      "250000회 정상 진행되었습니다.\n",
      "1번이 41880번(16.75%) 등장하였습니다.\n",
      "2번이 41465번(16.59%) 등장하였습니다.\n",
      "3번이 41922번(16.77%) 등장하였습니다.\n",
      "4번이 41334번(16.53%) 등장하였습니다.\n",
      "5번이 41662번(16.66%) 등장하였습니다.\n",
      "6번이 41737번(16.69%) 등장하였습니다.\n"
     ]
    }
   ],
   "source": [
    "dice()"
   ]
  },
  {
   "cell_type": "code",
   "execution_count": 85,
   "id": "78f78d5b-605f-42f1-90bc-206a888d854b",
   "metadata": {},
   "outputs": [],
   "source": [
    "# 테스트: 함수 random 주사위\n",
    "import random as r\n",
    "import matplotlib.pyplot as plt\n",
    "def dice(target = 250000):\n",
    "    box = [] # 초기화\n",
    "    num = 0\n",
    "    results = {}\n",
    "    while num < target:\n",
    "        num = num + 1\n",
    "        ran = r. randint(1,6)\n",
    "        box.append(ran)\n",
    "    if target == len(box):\n",
    "        print(f\"{target}회 정상 진행되었습니다.\")\n",
    "    else:\n",
    "        print(f\"검증결과 횟수 이상이 있습니다. 이유:({target}회 목표로 동작하였으나. {len(box)}으로 측정되었습니다.)\")\n",
    "    for n in range(1,7):\n",
    "        results[n] = box.count(n)\n",
    "        print(f\"{n}번이 {box.count(n)}번({(box.count(n))/len(box)*100:.2f}%) 나왔습니다.\")\n",
    "    print(results)\n",
    "    color=[\"skyblue\",\"orange\",\"skyblue\",\"orange\",\"orange\",\"skyblue\"]\n",
    "    plt.bar(results.keys(),results.values(),color=color)\n",
    "    plt.show()"
   ]
  },
  {
   "cell_type": "code",
   "execution_count": 86,
   "id": "64a251da-65a0-4efd-ace5-c37453d8b0a7",
   "metadata": {},
   "outputs": [
    {
     "name": "stdout",
     "output_type": "stream",
     "text": [
      "250000회 정상 진행되었습니다.\n",
      "1번이 41200번(16.48%) 나왔습니다.\n",
      "2번이 41909번(16.76%) 나왔습니다.\n",
      "3번이 41587번(16.63%) 나왔습니다.\n",
      "4번이 41654번(16.66%) 나왔습니다.\n",
      "5번이 41778번(16.71%) 나왔습니다.\n",
      "6번이 41872번(16.75%) 나왔습니다.\n",
      "{1: 41200, 2: 41909, 3: 41587, 4: 41654, 5: 41778, 6: 41872}\n"
     ]
    },
    {
     "data": {
      "image/png": "[encoded data removed]",
      "text/plain": [
       "<Figure size 640x480 with 1 Axes>"
      ]
     },
     "metadata": {},
     "output_type": "display_data"
    }
   ],
   "source": [
    "dice()"
   ]
  },
  {
   "cell_type": "code",
   "execution_count": 63,
   "id": "12986abf-3407-4bf6-813d-aa8efad2dac2",
   "metadata": {
    "scrolled": true
   },
   "outputs": [
    {
     "name": "stdout",
     "output_type": "stream",
     "text": [
      "Collecting matplotlib\n",
      "  Downloading matplotlib-3.10.0-cp313-cp313-win_amd64.whl.metadata (11 kB)\n",
      "Collecting contourpy>=1.0.1 (from matplotlib)\n",
      "  Downloading contourpy-1.3.1-cp313-cp313-win_amd64.whl.metadata (5.4 kB)\n",
      "Collecting cycler>=0.10 (from matplotlib)\n",
      "  Downloading cycler-0.12.1-py3-none-any.whl.metadata (3.8 kB)\n",
      "Collecting fonttools>=4.22.0 (from matplotlib)\n",
      "  Downloading fonttools-4.56.0-cp313-cp313-win_amd64.whl.metadata (103 kB)\n",
      "Collecting kiwisolver>=1.3.1 (from matplotlib)\n",
      "  Downloading kiwisolver-1.4.8-cp313-cp313-win_amd64.whl.metadata (6.3 kB)\n",
      "Collecting numpy>=1.23 (from matplotlib)\n",
      "  Downloading numpy-2.2.2-cp313-cp313-win_amd64.whl.metadata (60 kB)\n",
      "Requirement already satisfied: packaging>=20.0 in c:\\users\\admin\\appdata\\local\\programs\\python\\python313\\lib\\site-packages (from matplotlib) (24.2)\n",
      "Collecting pillow>=8 (from matplotlib)\n",
      "  Downloading pillow-11.1.0-cp313-cp313-win_amd64.whl.metadata (9.3 kB)\n",
      "Collecting pyparsing>=2.3.1 (from matplotlib)\n",
      "  Downloading pyparsing-3.2.1-py3-none-any.whl.metadata (5.0 kB)\n",
      "Requirement already satisfied: python-dateutil>=2.7 in c:\\users\\admin\\appdata\\local\\programs\\python\\python313\\lib\\site-packages (from matplotlib) (2.9.0.post0)\n",
      "Requirement already satisfied: six>=1.5 in c:\\users\\admin\\appdata\\local\\programs\\python\\python313\\lib\\site-packages (from python-dateutil>=2.7->matplotlib) (1.17.0)\n",
      "Downloading matplotlib-3.10.0-cp313-cp313-win_amd64.whl (8.0 MB)\n",
      "   ---------------------------------------- 0.0/8.0 MB ? eta -:--:--\n",
      "   --------- ------------------------------ 1.8/8.0 MB 9.6 MB/s eta 0:00:01\n",
      "   ------------- -------------------------- 2.6/8.0 MB 8.2 MB/s eta 0:00:01\n",
      "   -------------- ------------------------- 2.9/8.0 MB 5.2 MB/s eta 0:00:01\n",
      "   --------------- ------------------------ 3.1/8.0 MB 3.9 MB/s eta 0:00:02\n",
      "   ------------------- -------------------- 3.9/8.0 MB 3.7 MB/s eta 0:00:02\n",
      "   ------------------------ --------------- 5.0/8.0 MB 4.0 MB/s eta 0:00:01\n",
      "   ------------------------------- -------- 6.3/8.0 MB 4.4 MB/s eta 0:00:01\n",
      "   ----------------------------------- ---- 7.1/8.0 MB 4.3 MB/s eta 0:00:01\n",
      "   ------------------------------------- -- 7.6/8.0 MB 4.2 MB/s eta 0:00:01\n",
      "   ------------------------------------- -- 7.6/8.0 MB 4.2 MB/s eta 0:00:01\n",
      "   ---------------------------------------- 8.0/8.0 MB 3.6 MB/s eta 0:00:00\n",
      "Downloading contourpy-1.3.1-cp313-cp313-win_amd64.whl (220 kB)\n",
      "Downloading cycler-0.12.1-py3-none-any.whl (8.3 kB)\n",
      "Downloading fonttools-4.56.0-cp313-cp313-win_amd64.whl (2.2 MB)\n",
      "   ---------------------------------------- 0.0/2.2 MB ? eta -:--:--\n",
      "   --------- ------------------------------ 0.5/2.2 MB 3.1 MB/s eta 0:00:01\n",
      "   ------------------- -------------------- 1.0/2.2 MB 2.5 MB/s eta 0:00:01\n",
      "   ----------------------- ---------------- 1.3/2.2 MB 2.3 MB/s eta 0:00:01\n",
      "   ---------------------------- ----------- 1.6/2.2 MB 2.2 MB/s eta 0:00:01\n",
      "   ---------------------------------------- 2.2/2.2 MB 2.1 MB/s eta 0:00:00\n",
      "Downloading kiwisolver-1.4.8-cp313-cp313-win_amd64.whl (71 kB)\n",
      "Downloading numpy-2.2.2-cp313-cp313-win_amd64.whl (12.6 MB)\n",
      "   ---------------------------------------- 0.0/12.6 MB ? eta -:--:--\n",
      "    --------------------------------------- 0.3/12.6 MB ? eta -:--:--\n",
      "   -- ------------------------------------- 0.8/12.6 MB 2.4 MB/s eta 0:00:05\n",
      "   ---- ----------------------------------- 1.3/12.6 MB 2.7 MB/s eta 0:00:05\n",
      "   ------ --------------------------------- 2.1/12.6 MB 2.9 MB/s eta 0:00:04\n",
      "   --------- ------------------------------ 2.9/12.6 MB 3.1 MB/s eta 0:00:04\n",
      "   ------------ --------------------------- 3.9/12.6 MB 3.5 MB/s eta 0:00:03\n",
      "   --------------- ------------------------ 5.0/12.6 MB 3.9 MB/s eta 0:00:02\n",
      "   ------------------ --------------------- 5.8/12.6 MB 3.9 MB/s eta 0:00:02\n",
      "   ------------------- -------------------- 6.0/12.6 MB 3.7 MB/s eta 0:00:02\n",
      "   -------------------- ------------------- 6.6/12.6 MB 3.6 MB/s eta 0:00:02\n",
      "   ---------------------- ----------------- 7.1/12.6 MB 3.4 MB/s eta 0:00:02\n",
      "   ------------------------ --------------- 7.6/12.6 MB 3.3 MB/s eta 0:00:02\n",
      "   -------------------------- ------------- 8.4/12.6 MB 3.3 MB/s eta 0:00:02\n",
      "   ---------------------------- ----------- 8.9/12.6 MB 3.3 MB/s eta 0:00:02\n",
      "   ----------------------------- ---------- 9.4/12.6 MB 3.3 MB/s eta 0:00:01\n",
      "   ------------------------------- -------- 10.0/12.6 MB 3.2 MB/s eta 0:00:01\n",
      "   ---------------------------------- ----- 10.7/12.6 MB 3.2 MB/s eta 0:00:01\n",
      "   ---------------------------------- ----- 11.0/12.6 MB 3.2 MB/s eta 0:00:01\n",
      "   ------------------------------------ --- 11.5/12.6 MB 3.1 MB/s eta 0:00:01\n",
      "   -------------------------------------- - 12.1/12.6 MB 3.1 MB/s eta 0:00:01\n",
      "   ---------------------------------------  12.3/12.6 MB 3.1 MB/s eta 0:00:01\n",
      "   ---------------------------------------- 12.6/12.6 MB 2.9 MB/s eta 0:00:00\n",
      "Downloading pillow-11.1.0-cp313-cp313-win_amd64.whl (2.6 MB)\n",
      "   ---------------------------------------- 0.0/2.6 MB ? eta -:--:--\n",
      "   --- ------------------------------------ 0.3/2.6 MB ? eta -:--:--\n",
      "   ------- -------------------------------- 0.5/2.6 MB 1.8 MB/s eta 0:00:02\n",
      "   ------------------- -------------------- 1.3/2.6 MB 2.2 MB/s eta 0:00:01\n",
      "   ------------------------------- -------- 2.1/2.6 MB 2.8 MB/s eta 0:00:01\n",
      "   ---------------------------------------- 2.6/2.6 MB 2.6 MB/s eta 0:00:00\n",
      "Downloading pyparsing-3.2.1-py3-none-any.whl (107 kB)\n",
      "Installing collected packages: pyparsing, pillow, numpy, kiwisolver, fonttools, cycler, contourpy, matplotlib\n",
      "Successfully installed contourpy-1.3.1 cycler-0.12.1 fonttools-4.56.0 kiwisolver-1.4.8 matplotlib-3.10.0 numpy-2.2.2 pillow-11.1.0 pyparsing-3.2.1\n"
     ]
    },
    {
     "name": "stderr",
     "output_type": "stream",
     "text": [
      "\n",
      "[notice] A new release of pip is available: 25.0 -> 25.0.1\n",
      "[notice] To update, run: python.exe -m pip install --upgrade pip\n"
     ]
    }
   ],
   "source": [
    "!pip install matplotlib"
   ]
  },
  {
   "cell_type": "code",
   "execution_count": 92,
   "id": "157439f1-372f-4d73-b3d3-e8ed22ed2afa",
   "metadata": {},
   "outputs": [],
   "source": [
    "# 여러개의 입력값을 받는 함수 만들기\n",
    "def add_many(args):\n",
    "    result = 0\n",
    "    for i in args:\n",
    "        result = result + i\n",
    "    return result"
   ]
  },
  {
   "cell_type": "code",
   "execution_count": 93,
   "id": "018c6791-70e4-4f7a-98dc-5a3fba1dfc27",
   "metadata": {},
   "outputs": [
    {
     "name": "stdout",
     "output_type": "stream",
     "text": [
      "5\n"
     ]
    }
   ],
   "source": [
    "print(add_many((1,4)))"
   ]
  },
  {
   "cell_type": "code",
   "execution_count": 94,
   "id": "e0a8d405-9160-4ca9-9124-07645e85b8e9",
   "metadata": {},
   "outputs": [
    {
     "name": "stdout",
     "output_type": "stream",
     "text": [
      "16\n"
     ]
    }
   ],
   "source": [
    "res = add_many((1,4,5,2,4))\n",
    "print(res)"
   ]
  },
  {
   "cell_type": "code",
   "execution_count": 104,
   "id": "50777d5d-28ff-42ab-b64e-9d58ef096a67",
   "metadata": {},
   "outputs": [],
   "source": [
    "def add_mul(choice, *args):\n",
    "    if choice == 'add':  #매개변수 choice에 \"add\"를 입력받았을 때\n",
    "        result = 0\n",
    "        for i in args:\n",
    "            result = result + i\n",
    "    elif choice == \"sub\":    #매개변수 choice에 \"sub\"를 입력받았을 때\n",
    "        result=0\n",
    "        for i in args:\n",
    "            result=result-i\n",
    "    elif choice == \"mul\":    #매개변수 choice에 \"mul\"를 입력받았을 때\n",
    "        result=1\n",
    "        for i in args:\n",
    "            result=result * i\n",
    "    elif choice == \"div\":     #매개변수 choice에 \"div\"를 입력받았을 때\n",
    "        result=1\n",
    "        for i in args:\n",
    "            result=result / i\n",
    "    else:\n",
    "        result=choice\n",
    "        print(\"정확하게 입력하세요.\")\n",
    "    return result"
   ]
  },
  {
   "cell_type": "code",
   "execution_count": 105,
   "id": "c2752f4b-8c32-4027-b29d-fa9fc8fdc7b6",
   "metadata": {},
   "outputs": [
    {
     "data": {
      "text/plain": [
       "0.3333333333333333"
      ]
     },
     "execution_count": 105,
     "metadata": {},
     "output_type": "execute_result"
    }
   ],
   "source": [
    "add_mul('div',3,1)"
   ]
  },
  {
   "cell_type": "code",
   "execution_count": 107,
   "id": "56ca7387-8120-4a83-9a5e-2d51b21f937f",
   "metadata": {},
   "outputs": [],
   "source": [
    "# 키워드 매개 변수 kwargs\n",
    "def print_kwargs(**kwargs):\n",
    "    print(kwargs)\n",
    "    print_kwargs(name='홍길동',age=21, address='대한민국')"
   ]
  },
  {
   "cell_type": "code",
   "execution_count": 109,
   "id": "f2e07857-6e85-42dc-acd8-03e6c85ba4d0",
   "metadata": {},
   "outputs": [
    {
     "name": "stdout",
     "output_type": "stream",
     "text": [
      "{'name': '홍길동', 'age': 21, 'address': '대한민국'}\n"
     ]
    }
   ],
   "source": [
    "def print_kwargs(kwargs):\n",
    "    print(kwargs)\n",
    "print_kwargs({'name':'홍길동', 'age':21, 'address':'대한민국'})"
   ]
  },
  {
   "cell_type": "code",
   "execution_count": 135,
   "id": "9a001708-63f7-484d-8ad5-6fe1a34dd71b",
   "metadata": {},
   "outputs": [],
   "source": [
    "# test\n",
    "def test():\n",
    "    print('저야 영광이죠~!!')\n",
    "    if 3>4: return\n",
    "    print('집에 가고 싶어!~!')\n",
    "    return"
   ]
  },
  {
   "cell_type": "code",
   "execution_count": 136,
   "id": "639f052a-704f-4154-a83b-d695d827813b",
   "metadata": {},
   "outputs": [
    {
     "name": "stdout",
     "output_type": "stream",
     "text": [
      "저야 영광이죠~!!\n",
      "집에 가고 싶어!~!\n"
     ]
    }
   ],
   "source": [
    "test()"
   ]
  },
  {
   "cell_type": "code",
   "execution_count": 112,
   "id": "53b228c3-0307-4e4e-b84d-1a31b7fcf1ba",
   "metadata": {},
   "outputs": [
    {
     "name": "stdout",
     "output_type": "stream",
     "text": [
      "35 286\n"
     ]
    }
   ],
   "source": [
    "#test2\n",
    "def test2(a,b):\n",
    "    return a+b,a*b\n",
    "add_result, mul_result = test2(13,22)\n",
    "print(add_result, mul_result)"
   ]
  },
  {
   "cell_type": "code",
   "execution_count": 140,
   "id": "6c514f49-a296-4bf7-b920-f080329f5dea",
   "metadata": {},
   "outputs": [],
   "source": [
    "def say_nick(nick):\n",
    "    if nick == \"바보\":\n",
    "        return\n",
    "    print(\"나의 별명은 %s입니다.\"%nick)"
   ]
  },
  {
   "cell_type": "code",
   "execution_count": 143,
   "id": "b6831dca-ff25-4896-aac2-150090ca19f4",
   "metadata": {},
   "outputs": [
    {
     "name": "stdout",
     "output_type": "stream",
     "text": [
      "나의 별명은 야호입니다.\n",
      "None\n"
     ]
    }
   ],
   "source": [
    "say_nick('야호')\n",
    "print(say_nick('바보'))"
   ]
  },
  {
   "cell_type": "markdown",
   "id": "48fd91e1-39fc-4cf2-a00e-3a4c50ce0fc1",
   "metadata": {},
   "source": [
    "## 함수 안에서 선언한 변수의 효력 범위"
   ]
  },
  {
   "cell_type": "code",
   "execution_count": 19,
   "id": "79eab999-8a6c-4975-97ba-9f4a8b6bac22",
   "metadata": {},
   "outputs": [
    {
     "name": "stdout",
     "output_type": "stream",
     "text": [
      "1\n"
     ]
    }
   ],
   "source": [
    "# 테스트 1\n",
    "a=1\n",
    "def test(a):\n",
    "    a = a + 1\n",
    "test(a)\n",
    "print(a)"
   ]
  },
  {
   "cell_type": "code",
   "execution_count": 4,
   "id": "29046bc0-6882-45c9-84f6-8ff42ce30501",
   "metadata": {},
   "outputs": [],
   "source": [
    "# 테스트 2\n",
    "def test2(b):\n",
    "    b = b+1\n",
    "test2(3)\n",
    "#print(b)  #에러 발생"
   ]
  },
  {
   "cell_type": "code",
   "execution_count": 2,
   "id": "105675d7-dce2-43f3-be8c-5a9cdefcb03b",
   "metadata": {},
   "outputs": [
    {
     "name": "stdout",
     "output_type": "stream",
     "text": [
      "2\n"
     ]
    }
   ],
   "source": [
    "# 테스트 3\n",
    "c=1\n",
    "def test3(c):\n",
    "    c = c + 1\n",
    "    return c\n",
    "c = test3(c)  # c=c+1 과 같음\n",
    "print(c)"
   ]
  },
  {
   "cell_type": "code",
   "execution_count": 5,
   "id": "3dc657bd-631a-486b-ae53-f29cc0d7accd",
   "metadata": {},
   "outputs": [
    {
     "name": "stdout",
     "output_type": "stream",
     "text": [
      "2\n"
     ]
    }
   ],
   "source": [
    "# 테스트 4\n",
    "d=1\n",
    "def test4():\n",
    "    global d\n",
    "    d= d+1\n",
    "test4()\n",
    "print(d)"
   ]
  },
  {
   "cell_type": "markdown",
   "id": "e5754a7e-8911-442b-8d47-01e80f408f65",
   "metadata": {},
   "source": [
    "## lambda 예약어( 익명함수 )"
   ]
  },
  {
   "cell_type": "code",
   "execution_count": 10,
   "id": "fcfb4cf8-7b83-486f-b940-58c5a3d55e1c",
   "metadata": {},
   "outputs": [
    {
     "name": "stdout",
     "output_type": "stream",
     "text": [
      "5\n"
     ]
    }
   ],
   "source": [
    "def test (a,b):\n",
    "    return a+b\n",
    "add=lambda a,b:a+b\n",
    "print(add(1,4))"
   ]
  },
  {
   "cell_type": "code",
   "execution_count": 11,
   "id": "506f53fb-d96f-40da-b398-0fec19337788",
   "metadata": {},
   "outputs": [
    {
     "name": "stdout",
     "output_type": "stream",
     "text": [
      "[0, 1, 2, 3, 4, 5, 6, 7, 8, 9]\n"
     ]
    }
   ],
   "source": [
    "a1=[x for x in  range(10)]\n",
    "print(a1)"
   ]
  },
  {
   "cell_type": "code",
   "execution_count": 12,
   "id": "d06d3a34-90c7-4e8c-ad66-7963e50c8256",
   "metadata": {},
   "outputs": [
    {
     "name": "stdout",
     "output_type": "stream",
     "text": [
      "[0, 2, 4, 6, 8, 10, 12, 14, 16, 18]\n"
     ]
    }
   ],
   "source": [
    "a2=[(lambda x: x*2)(x) for x in range(10)]\n",
    "print(a2)"
   ]
  },
  {
   "cell_type": "code",
   "execution_count": 18,
   "id": "68e6df02-ce49-4814-b43f-158b9ab9be0c",
   "metadata": {},
   "outputs": [
    {
     "name": "stdout",
     "output_type": "stream",
     "text": [
      "[0, 1, 4, 9, 16, 25, 36, 49, 64, 81]\n"
     ]
    }
   ],
   "source": [
    "# 응용 예제\n",
    "a3=[0, 1, 2, 3, 4, 5, 6, 7, 8, 9]\n",
    "p=list(map(lambda x: x**2, a3))\n",
    "print(p)"
   ]
  },
  {
   "cell_type": "markdown",
   "id": "dbaa6462-a861-4b57-84cc-83c677482b47",
   "metadata": {
    "jp-MarkdownHeadingCollapsed": true
   },
   "source": [
    " # 파일 읽고 쓰기"
   ]
  },
  {
   "cell_type": "markdown",
   "id": "26ff6b08-984e-40f8-b7af-bacd94087afd",
   "metadata": {},
   "source": [
    "## 파일 생성하기"
   ]
  },
  {
   "cell_type": "code",
   "execution_count": null,
   "id": "48835f1e-0784-4bb2-9c2b-43f1c0557527",
   "metadata": {},
   "outputs": [],
   "source": [
    "#파일 생성하기1\n",
    "f=open(\"새파일생성1.txt\",\"w\")\n",
    "f.colse()"
   ]
  },
  {
   "cell_type": "markdown",
   "id": "57e065b3-e79d-496d-b6ba-14cf532ed498",
   "metadata": {},
   "source": [
    "<table style=\"float:left\"> \n",
    "    <thead>\n",
    "        <tr>\n",
    "            <th>파일 열기 모드</th>\n",
    "            <th>설명</th>\n",
    "        </tr>\n",
    "    </thead>\n",
    "    <tbody>\n",
    "        <tr>\n",
    "            <td>r</td>\n",
    "            <td>읽기 모드: 파일을 읽기만 할 때 사용한다.</td>\n",
    "        </tr>\n",
    "        <tr>\n",
    "            <td>w</td>\n",
    "            <td>쓰기 모드: 파일에 내용을 쓸 때 사용한다.</td>\n",
    "        </tr>\n",
    "        <tr>\n",
    "            <td>a</td>\n",
    "            <td>추가 모드: 파일의 마지막에 새로운 내용을 추가할 때 사용한다.</td>\n",
    "        </tr>\n",
    "    </tbody>\n",
    "</table>"
   ]
  },
  {
   "cell_type": "code",
   "execution_count": 4,
   "id": "07bb3d92-d8e1-4866-88ac-30654a093609",
   "metadata": {},
   "outputs": [],
   "source": [
    "# 파일생성하기2 + 경로\n",
    "path= \"./testfile/\"\n",
    "f=open(path + \"새파일생성2.txt\",\"w\")\n",
    "f.close()"
   ]
  },
  {
   "cell_type": "code",
   "execution_count": 10,
   "id": "0b447c7d-d5e0-4e38-9c5d-72e3c287b49e",
   "metadata": {},
   "outputs": [],
   "source": [
    "# 파일을 쓰기 모드로 열어 내용 쓰기\n",
    "path = \"./testfile/\"\n",
    "f = open(path + \"새파일생성3.txt\",\"w\",encoding=\"utf-8\")\n",
    "for n in range(10):\n",
    "    f.write(f\"{n+1}번째 한글도 잘돼요!!!\\n\")\n",
    "f.close()"
   ]
  },
  {
   "cell_type": "code",
   "execution_count": 19,
   "id": "a04fa96d-500e-4e07-be73-15a08a48883a",
   "metadata": {},
   "outputs": [],
   "source": [
    "def diary(name):\n",
    "    path = path = \"./testfile/\"\n",
    "    f=open(path+name+\"계속저장용.txt\",\"a\",encoding=\"utf-8\")\n",
    "    while 1:\n",
    "        inp = input(\"작성하고 싶은 내용\")\n",
    "        if inp == '그만' : break\n",
    "        f.write(inp+'\\n')\n",
    "    f.close()"
   ]
  },
  {
   "cell_type": "code",
   "execution_count": 20,
   "id": "314d1cbf-a9d6-4728-8cfd-b2179dd76828",
   "metadata": {},
   "outputs": [
    {
     "name": "stdin",
     "output_type": "stream",
     "text": [
      "작성하고 싶은 내용 오늘 날씨가 춥다.\n",
      "작성하고 싶은 내용 그리고 춥다\n",
      "작성하고 싶은 내용 너무 춥다\n",
      "작성하고 싶은 내용 ㅂㅐ도 고프다..\n",
      "작성하고 싶은 내용 그만\n"
     ]
    }
   ],
   "source": [
    "diary('20250201일기')"
   ]
  },
  {
   "cell_type": "markdown",
   "id": "420f0dc8-878f-4f0b-917b-30f118623408",
   "metadata": {},
   "source": [
    "## 파일을 읽는 방법"
   ]
  },
  {
   "cell_type": "code",
   "execution_count": 29,
   "id": "d879c4d8-2a09-4be8-b75b-da3875f713df",
   "metadata": {},
   "outputs": [],
   "source": [
    "path = \"./testfile/\"\n",
    "f = open(path + \"새파일생성3.txt\",\"w\",encoding=\"utf-8\")\n",
    "for n in range(10):\n",
    "    f.write(f\"{n+1}번째 한글도 잘돼요!!!\\n\")\n",
    "f.close()"
   ]
  },
  {
   "cell_type": "code",
   "execution_count": 30,
   "id": "13661e22-75df-4b75-85e0-05cf177b1696",
   "metadata": {},
   "outputs": [
    {
     "name": "stdout",
     "output_type": "stream",
     "text": [
      "1번째 한글도 잘돼요!!!\n",
      "\n",
      "2번째 한글도 잘돼요!!!\n",
      "\n"
     ]
    }
   ],
   "source": [
    "# readline\n",
    "f=open(path+\"새파일생성4.txt\",\"r\",encoding=\"utf-8\")\n",
    "print(f.readline())\n",
    "print(f.readline())\n",
    "f.close()"
   ]
  },
  {
   "cell_type": "code",
   "execution_count": 33,
   "id": "4f7a4e07-d086-41b4-93df-8265f3430b22",
   "metadata": {},
   "outputs": [
    {
     "name": "stdout",
     "output_type": "stream",
     "text": [
      "1번째 한글도 잘돼요!!!\n",
      "\n",
      "2번째 한글도 잘돼요!!!\n",
      "\n",
      "3번째 한글도 잘돼요!!!\n",
      "\n",
      "4번째 한글도 잘돼요!!!\n",
      "\n",
      "5번째 한글도 잘돼요!!!\n",
      "\n",
      "6번째 한글도 잘돼요!!!\n",
      "\n",
      "7번째 한글도 잘돼요!!!\n",
      "\n",
      "8번째 한글도 잘돼요!!!\n",
      "\n",
      "9번째 한글도 잘돼요!!!\n",
      "\n",
      "10번째 한글도 잘돼요!!!\n",
      "\n"
     ]
    }
   ],
   "source": [
    "#2. readline + while\n",
    "f=open(path +\"새파일생성4.txt\",\"r\",encoding=\"utf-8\")\n",
    "while 1:\n",
    "    line =f.readline()\n",
    "    if not line: break\n",
    "    print(line)\n",
    "f.close()"
   ]
  },
  {
   "cell_type": "code",
   "execution_count": 39,
   "id": "75ccdc24-45c0-4766-b161-c73e5d69e164",
   "metadata": {},
   "outputs": [
    {
     "name": "stdout",
     "output_type": "stream",
     "text": [
      "1번째 한글도 잘돼요!!!\n",
      "2번째 한글도 잘돼요!!!\n",
      "3번째 한글도 잘돼요!!!\n",
      "4번째 한글도 잘돼요!!!\n",
      "5번째 한글도 잘돼요!!!\n",
      "6번째 한글도 잘돼요!!!\n",
      "7번째 한글도 잘돼요!!!\n",
      "8번째 한글도 잘돼요!!!\n",
      "9번째 한글도 잘돼요!!!\n",
      "10번째 한글도 잘돼요!!!\n"
     ]
    }
   ],
   "source": [
    "#readlines, print의 \\n 없애기\n",
    "f=\"./testfile/\"\n",
    "f=open(path+\"새파일생성4.txt\",\"r\",encoding=\"utf-8\")\n",
    "lines = f.readlines()\n",
    "# print(lines,type(lines))\n",
    "for n in lines:\n",
    "    print(n, end='')\n",
    "f.close()"
   ]
  },
  {
   "cell_type": "code",
   "execution_count": 47,
   "id": "1b4db096-e2dd-4edb-8853-05c0f40ebdef",
   "metadata": {},
   "outputs": [
    {
     "name": "stdout",
     "output_type": "stream",
     "text": [
      "['1', '번', '째', ' ', '한', '글', '도', ' ', '잘', '돼', '요', '!', '!', '!', '\\n']\n",
      "['1', '번', '째', ' ', '한', '글', '도', ' ', '잘', '돼', '요', '!', '!', '!', '\\n']\n",
      "['2', '번', '째', ' ', '한', '글', '도', ' ', '잘', '돼', '요', '!', '!', '!', '\\n']\n",
      "['2', '번', '째', ' ', '한', '글', '도', ' ', '잘', '돼', '요', '!', '!', '!', '\\n']\n",
      "['3', '번', '째', ' ', '한', '글', '도', ' ', '잘', '돼', '요', '!', '!', '!', '\\n']\n",
      "['3', '번', '째', ' ', '한', '글', '도', ' ', '잘', '돼', '요', '!', '!', '!', '\\n']\n",
      "['4', '번', '째', ' ', '한', '글', '도', ' ', '잘', '돼', '요', '!', '!', '!', '\\n']\n",
      "['4', '번', '째', ' ', '한', '글', '도', ' ', '잘', '돼', '요', '!', '!', '!', '\\n']\n",
      "['5', '번', '째', ' ', '한', '글', '도', ' ', '잘', '돼', '요', '!', '!', '!', '\\n']\n",
      "['5', '번', '째', ' ', '한', '글', '도', ' ', '잘', '돼', '요', '!', '!', '!', '\\n']\n",
      "['6', '번', '째', ' ', '한', '글', '도', ' ', '잘', '돼', '요', '!', '!', '!', '\\n']\n",
      "['6', '번', '째', ' ', '한', '글', '도', ' ', '잘', '돼', '요', '!', '!', '!', '\\n']\n",
      "['7', '번', '째', ' ', '한', '글', '도', ' ', '잘', '돼', '요', '!', '!', '!', '\\n']\n",
      "['7', '번', '째', ' ', '한', '글', '도', ' ', '잘', '돼', '요', '!', '!', '!', '\\n']\n",
      "['8', '번', '째', ' ', '한', '글', '도', ' ', '잘', '돼', '요', '!', '!', '!', '\\n']\n",
      "['8', '번', '째', ' ', '한', '글', '도', ' ', '잘', '돼', '요', '!', '!', '!', '\\n']\n",
      "['9', '번', '째', ' ', '한', '글', '도', ' ', '잘', '돼', '요', '!', '!', '!', '\\n']\n",
      "['9', '번', '째', ' ', '한', '글', '도', ' ', '잘', '돼', '요', '!', '!', '!', '\\n']\n",
      "['1', '0', '번', '째', ' ', '한', '글', '도', ' ', '잘', '돼', '요', '!', '!', '!', '\\n']\n",
      "['1', '0', '번', '째', ' ', '한', '글', '도', ' ', '잘', '돼', '요', '!', '!', '!', '\\n']\n"
     ]
    }
   ],
   "source": [
    "# readlines + strip()->list 타입\n",
    "f=\"./testfile/\"\n",
    "f=open(path+\"새파일생성4.txt\",\"r\",encoding=\"utf-8\")\n",
    "lines = f.readlines()\n",
    "# print(lines,type(lines))\n",
    "for n in lines:\n",
    "    print(list(n))\n",
    "    n.strip()\n",
    "    print(list(n))\n",
    "f.close()"
   ]
  },
  {
   "cell_type": "code",
   "execution_count": 65,
   "id": "82fead25-580c-4863-989f-e9f92b15e6b5",
   "metadata": {},
   "outputs": [
    {
     "name": "stdout",
     "output_type": "stream",
     "text": [
      "19\n"
     ]
    }
   ],
   "source": [
    "#테스트\n",
    "f=open(\"파일이름.txt\",'w')\n",
    "print(f.write('내용작성 zzzzzzz  12111'))\n",
    "f.close()"
   ]
  },
  {
   "cell_type": "code",
   "execution_count": 61,
   "id": "fcb284b2-f56c-4c94-8f4f-dddbb2758327",
   "metadata": {},
   "outputs": [
    {
     "ename": "IndentationError",
     "evalue": "unexpected indent (799101594.py, line 5)",
     "output_type": "error",
     "traceback": [
      "\u001b[1;36m  Cell \u001b[1;32mIn[61], line 5\u001b[1;36m\u001b[0m\n\u001b[1;33m    print(data)\u001b[0m\n\u001b[1;37m    ^\u001b[0m\n\u001b[1;31mIndentationError\u001b[0m\u001b[1;31m:\u001b[0m unexpected indent\n"
     ]
    }
   ],
   "source": [
    "#3. read 함수 사용하기 ->str 타입\n",
    "path = \"./testfile/\"\n",
    "f = open(path+\"새파일생성4.txt\",\"r\",encoding=\"utf-8\")\n",
    "data=f.read()\n",
    "    print(data)\n",
    "f.close()"
   ]
  },
  {
   "cell_type": "code",
   "execution_count": 62,
   "id": "aac30127-ed01-482b-87a5-f5185f7c24a1",
   "metadata": {},
   "outputs": [
    {
     "name": "stdout",
     "output_type": "stream",
     "text": [
      "1번째 한글도 잘돼요!!!\n",
      "\n",
      "2번째 한글도 잘돼요!!!\n",
      "\n",
      "3번째 한글도 잘돼요!!!\n",
      "\n",
      "4번째 한글도 잘돼요!!!\n",
      "\n",
      "5번째 한글도 잘돼요!!!\n",
      "\n",
      "6번째 한글도 잘돼요!!!\n",
      "\n",
      "7번째 한글도 잘돼요!!!\n",
      "\n",
      "8번째 한글도 잘돼요!!!\n",
      "\n",
      "9번째 한글도 잘돼요!!!\n",
      "\n",
      "10번째 한글도 잘돼요!!!\n",
      "\n"
     ]
    }
   ],
   "source": [
    "#4. for로 출력하기\n",
    "path = \"./testfile/\"\n",
    "f = open(path+\"새파일생성4.txt\",\"r\",encoding=\"utf-8\")\n",
    "for line in f:\n",
    "    print(line)\n",
    "f.close()"
   ]
  },
  {
   "cell_type": "code",
   "execution_count": 63,
   "id": "93c8df03-3edb-4e4a-91be-9944334679a6",
   "metadata": {},
   "outputs": [
    {
     "name": "stdout",
     "output_type": "stream",
     "text": [
      "1번째 한글도 잘돼요!!!\n",
      "\n",
      "2번째 한글도 잘돼요!!!\n",
      "\n",
      "3번째 한글도 잘돼요!!!\n",
      "\n",
      "4번째 한글도 잘돼요!!!\n",
      "\n",
      "5번째 한글도 잘돼요!!!\n",
      "\n",
      "6번째 한글도 잘돼요!!!\n",
      "\n",
      "7번째 한글도 잘돼요!!!\n",
      "\n",
      "8번째 한글도 잘돼요!!!\n",
      "\n",
      "9번째 한글도 잘돼요!!!\n",
      "\n",
      "10번째 한글도 잘돼요!!!\n",
      "\n"
     ]
    }
   ],
   "source": [
    "# with 문과 함께 사용하기, 자동 닫기\n",
    "path= \"./testfile/\"\n",
    "with open (path+\"새파일생성4.txt\",\"r\", encoding=\"utf-8\") as f:\n",
    "    for line in f:\n",
    "        print(line)"
   ]
  },
  {
   "cell_type": "code",
   "execution_count": 64,
   "id": "eacaa197-93ce-49b7-ae33-8c453593a4b9",
   "metadata": {},
   "outputs": [],
   "source": [
    "#p182\n",
    "with open(\"too.txt\",\"w\")as f:\n",
    "    f.write(\":ife is too short, you need python\")"
   ]
  },
  {
   "cell_type": "markdown",
   "id": "dad66c5a-38ab-44b9-8d6e-15e5d08ba58c",
   "metadata": {},
   "source": [
    "## 프로그램의 입출력"
   ]
  },
  {
   "cell_type": "code",
   "execution_count": 70,
   "id": "5c802592-52a6-41d6-aff2-05ce2eb94fa7",
   "metadata": {},
   "outputs": [
    {
     "name": "stdout",
     "output_type": "stream",
     "text": [
      "C:\\Users\\Admin\\AppData\\Local\\Programs\\Python\\Python313\\Lib\\site-packages\\ipykernel_launcher.py\n",
      "-f\n",
      "C:\\Users\\Admin\\AppData\\Roaming\\jupyter\\runtime\\kernel-73e66233-a261-441f-ae61-8a8c6d3fcd22.json\n"
     ]
    }
   ],
   "source": [
    "import sys\n",
    "args = sys.argv\n",
    "for i in args:\n",
    "    print(i)"
   ]
  },
  {
   "cell_type": "code",
   "execution_count": 117,
   "id": "867eefe1-71dc-4a24-948d-e334c75d7bbb",
   "metadata": {},
   "outputs": [
    {
     "name": "stdout",
     "output_type": "stream",
     "text": [
      "===2단===\n",
      "2x1=2\n",
      "2x2=4\n",
      "2x3=6\n",
      "2x4=8\n",
      "2x5=10\n",
      "2x6=12\n",
      "2x7=14\n",
      "2x8=16\n",
      "2x9=18\n",
      "===2단===\n",
      "3x1=3\n",
      "3x2=6\n",
      "3x3=9\n",
      "3x4=12\n",
      "3x5=15\n",
      "3x6=18\n",
      "3x7=21\n",
      "3x8=24\n",
      "3x9=27\n"
     ]
    }
   ],
   "source": [
    "def gugu(a,b):\n",
    "    for i in range (a,a+b):\n",
    "        print(f\"==={a}단===\")\n",
    "        for j in range(1,10):\n",
    "            print(f\"{i}x{j}={i*j}\")\n",
    "gugu(2,2)"
   ]
  },
  {
   "cell_type": "code",
   "execution_count": 147,
   "id": "c9bc31fc-861c-4f25-bea2-4e95e67c729f",
   "metadata": {},
   "outputs": [
    {
     "name": "stdout",
     "output_type": "stream",
     "text": [
      "19\n",
      "삼성전자:55,700원\n",
      "17\n",
      "기아 :93,800원\n"
     ]
    }
   ],
   "source": [
    "import requests as req\n",
    "url =\"https://finance.naver.com/sise/sise_market_sum.naver\"\n",
    "web = req.get(url)\n",
    "html = web.text\n",
    "# print(html)\n",
    "f1=html.find('삼성전자')\n",
    "print(html[f1:f1+100].find('<td class=\"number\">'))\n",
    "print('삼성전자:'+html[f1:f1+100][19:50].replace('<td class=\"number\">',\"\").replace('<td class=\"number\">',\"\").replace('</td>',\"\").replace('\\n',\"\")+\"원\")\n",
    "f2=html.find('기아')\n",
    "print(html[f2:f2+100].find('<td class=\"number\">'))\n",
    "print('기아 :'+html[f2:f2+100][17:50].replace('<td class=\"number\">',\"\").replace('</td>',\"\").replace('\\n',\"\").replace('\\t',\"\")+\"원\")"
   ]
  },
  {
   "cell_type": "code",
   "execution_count": null,
   "id": "28b6de14-c3ce-4afe-8937-4df6606ac5c3",
   "metadata": {},
   "outputs": [],
   "source": []
  }
 ],
 "metadata": {
  "kernelspec": {
   "display_name": "Python 3 (ipykernel)",
   "language": "python",
   "name": "python3"
  },
  "language_info": {
   "codemirror_mode": {
    "name": "ipython",
    "version": 3
   },
   "file_extension": ".py",
   "mimetype": "text/x-python",
   "name": "python",
   "nbconvert_exporter": "python",
   "pygments_lexer": "ipython3",
   "version": "3.13.1"
  }
 },
 "nbformat": 4,
 "nbformat_minor": 5
}
