{
 "cells": [
  {
   "cell_type": "code",
   "execution_count": 31,
   "id": "4d2de248-5a38-4af5-877c-b0b089cae7b0",
   "metadata": {},
   "outputs": [
    {
     "ename": "FileNotFoundError",
     "evalue": "[Errno 2] No such file or directory: './drive/MyDrive/ReadME.md'",
     "output_type": "error",
     "traceback": [
      "\u001b[1;31m---------------------------------------------------------------------------\u001b[0m",
      "\u001b[1;31mFileNotFoundError\u001b[0m                         Traceback (most recent call last)",
      "Cell \u001b[1;32mIn[31], line 1\u001b[0m\n\u001b[1;32m----> 1\u001b[0m \u001b[38;5;28;01mwith\u001b[39;00m \u001b[38;5;28;43mopen\u001b[39;49m\u001b[43m(\u001b[49m\u001b[38;5;124;43m'\u001b[39;49m\u001b[38;5;124;43m./drive/MyDrive/ReadME.md\u001b[39;49m\u001b[38;5;124;43m'\u001b[39;49m\u001b[43m,\u001b[49m\u001b[38;5;124;43m'\u001b[39;49m\u001b[38;5;124;43mw\u001b[39;49m\u001b[38;5;124;43m'\u001b[39;49m\u001b[43m)\u001b[49m \u001b[38;5;28;01mas\u001b[39;00m f:\n\u001b[0;32m      2\u001b[0m       data\u001b[38;5;241m=\u001b[39mf\u001b[38;5;241m.\u001b[39mwrite(\u001b[38;5;124m'\u001b[39m\u001b[38;5;124m*반가워요.\u001b[39m\u001b[38;5;124m'\u001b[39m)\n\u001b[0;32m      3\u001b[0m       \u001b[38;5;28mprint\u001b[39m(\u001b[38;5;124m\"\u001b[39m\u001b[38;5;124m저장되었습니다.\u001b[39m\u001b[38;5;124m\"\u001b[39m)\n",
      "File \u001b[1;32m~\\AppData\\Local\\Programs\\Python\\Python313\\Lib\\site-packages\\IPython\\core\\interactiveshell.py:324\u001b[0m, in \u001b[0;36m_modified_open\u001b[1;34m(file, *args, **kwargs)\u001b[0m\n\u001b[0;32m    317\u001b[0m \u001b[38;5;28;01mif\u001b[39;00m file \u001b[38;5;129;01min\u001b[39;00m {\u001b[38;5;241m0\u001b[39m, \u001b[38;5;241m1\u001b[39m, \u001b[38;5;241m2\u001b[39m}:\n\u001b[0;32m    318\u001b[0m     \u001b[38;5;28;01mraise\u001b[39;00m \u001b[38;5;167;01mValueError\u001b[39;00m(\n\u001b[0;32m    319\u001b[0m         \u001b[38;5;124mf\u001b[39m\u001b[38;5;124m\"\u001b[39m\u001b[38;5;124mIPython won\u001b[39m\u001b[38;5;124m'\u001b[39m\u001b[38;5;124mt let you open fd=\u001b[39m\u001b[38;5;132;01m{\u001b[39;00mfile\u001b[38;5;132;01m}\u001b[39;00m\u001b[38;5;124m by default \u001b[39m\u001b[38;5;124m\"\u001b[39m\n\u001b[0;32m    320\u001b[0m         \u001b[38;5;124m\"\u001b[39m\u001b[38;5;124mas it is likely to crash IPython. If you know what you are doing, \u001b[39m\u001b[38;5;124m\"\u001b[39m\n\u001b[0;32m    321\u001b[0m         \u001b[38;5;124m\"\u001b[39m\u001b[38;5;124myou can use builtins\u001b[39m\u001b[38;5;124m'\u001b[39m\u001b[38;5;124m open.\u001b[39m\u001b[38;5;124m\"\u001b[39m\n\u001b[0;32m    322\u001b[0m     )\n\u001b[1;32m--> 324\u001b[0m \u001b[38;5;28;01mreturn\u001b[39;00m \u001b[43mio_open\u001b[49m\u001b[43m(\u001b[49m\u001b[43mfile\u001b[49m\u001b[43m,\u001b[49m\u001b[43m \u001b[49m\u001b[38;5;241;43m*\u001b[39;49m\u001b[43margs\u001b[49m\u001b[43m,\u001b[49m\u001b[43m \u001b[49m\u001b[38;5;241;43m*\u001b[39;49m\u001b[38;5;241;43m*\u001b[39;49m\u001b[43mkwargs\u001b[49m\u001b[43m)\u001b[49m\n",
      "\u001b[1;31mFileNotFoundError\u001b[0m: [Errno 2] No such file or directory: './drive/MyDrive/ReadME.md'"
     ]
    }
   ],
   "source": [
    "with open('./drive/MyDrive/ReadME.md','w') as f:\n",
    "      data=f.write('*반가워요.')\n",
    "      print(\"저장되었습니다.\")"
   ]
  },
  {
   "cell_type": "markdown",
   "id": "a80bec2f-ad54-4f2d-9abb-20b018967cca",
   "metadata": {},
   "source": [
    "# 넘파이(numpy)"
   ]
  },
  {
   "cell_type": "markdown",
   "id": "7e03aec0-77ff-40ea-a191-5162baa941fe",
   "metadata": {},
   "source": [
    "- ndim : 축의 개수\n",
    "- shape : 배열의 개수\n",
    "- size : 배열안에 있는 원소의 총 개수\n",
    "- dtype : 배열 원소의 자료형"
   ]
  },
  {
   "cell_type": "code",
   "execution_count": 25,
   "id": "bdfb9dd8-f032-4a51-9e40-ee394c8a47a3",
   "metadata": {},
   "outputs": [
    {
     "ename": "AttributeError",
     "evalue": "'numpy.ndarray' object has no attribute 'type'",
     "output_type": "error",
     "traceback": [
      "\u001b[1;31m---------------------------------------------------------------------------\u001b[0m",
      "\u001b[1;31mAttributeError\u001b[0m                            Traceback (most recent call last)",
      "Cell \u001b[1;32mIn[25], line 4\u001b[0m\n\u001b[0;32m      2\u001b[0m \u001b[38;5;28;01mimport\u001b[39;00m\u001b[38;5;250m \u001b[39m\u001b[38;5;21;01mnumpy\u001b[39;00m\u001b[38;5;250m \u001b[39m\u001b[38;5;28;01mas\u001b[39;00m\u001b[38;5;250m \u001b[39m\u001b[38;5;21;01mnp\u001b[39;00m\n\u001b[0;32m      3\u001b[0m narr \u001b[38;5;241m=\u001b[39m np\u001b[38;5;241m.\u001b[39marray(\u001b[38;5;28mrange\u001b[39m(\u001b[38;5;241m5\u001b[39m))\n\u001b[1;32m----> 4\u001b[0m \u001b[38;5;28mprint\u001b[39m(\u001b[43mnarry\u001b[49m\u001b[38;5;241;43m.\u001b[39;49m\u001b[43mtype\u001b[49m(narry))\n\u001b[0;32m      5\u001b[0m \u001b[38;5;28mprint\u001b[39m(narry\u001b[38;5;241m.\u001b[39mndim)\n\u001b[0;32m      6\u001b[0m \u001b[38;5;28mprint\u001b[39m(narray\u001b[38;5;241m.\u001b[39mshape)\n",
      "\u001b[1;31mAttributeError\u001b[0m: 'numpy.ndarray' object has no attribute 'type'"
     ]
    }
   ],
   "source": [
    "# pip install numpy\n",
    "import numpy as np\n",
    "narr = np.array(range(5))\n",
    "print(narry.type(narry))\n",
    "print(narry.ndim)\n",
    "print(narray.shape)\n",
    "print(narry.size)\n",
    "print(narry[3])\n",
    "print(narry[2:4])  #     <= x <"
   ]
  },
  {
   "cell_type": "code",
   "execution_count": 16,
   "id": "bddc499e-eb68-46f3-8925-199856b8ba9d",
   "metadata": {},
   "outputs": [
    {
     "ename": "NameError",
     "evalue": "name 'dtype' is not defined",
     "output_type": "error",
     "traceback": [
      "\u001b[1;31m---------------------------------------------------------------------------\u001b[0m",
      "\u001b[1;31mNameError\u001b[0m                                 Traceback (most recent call last)",
      "Cell \u001b[1;32mIn[16], line 4\u001b[0m\n\u001b[0;32m      2\u001b[0m narr2 \u001b[38;5;241m=\u001b[39m np\u001b[38;5;241m.\u001b[39marray([\u001b[38;5;241m1\u001b[39m,\u001b[38;5;241m2\u001b[39m,\u001b[38;5;124m'\u001b[39m\u001b[38;5;124ma\u001b[39m\u001b[38;5;124m'\u001b[39m,\u001b[38;5;124m'\u001b[39m\u001b[38;5;124mb\u001b[39m\u001b[38;5;124m'\u001b[39m])\n\u001b[0;32m      3\u001b[0m narr3 \u001b[38;5;241m=\u001b[39m np\u001b[38;5;241m.\u001b[39marray([\u001b[38;5;241m1\u001b[39m,\u001b[38;5;241m2\u001b[39m,\u001b[38;5;124m'\u001b[39m\u001b[38;5;124ma\u001b[39m\u001b[38;5;124m'\u001b[39m,\u001b[38;5;124m'\u001b[39m\u001b[38;5;124mb\u001b[39m\u001b[38;5;124m'\u001b[39m],dtype\u001b[38;5;241m=\u001b[39m\u001b[38;5;124m'\u001b[39m\u001b[38;5;124mstr\u001b[39m\u001b[38;5;124m'\u001b[39m)\n\u001b[1;32m----> 4\u001b[0m \u001b[38;5;28mprint\u001b[39m(narr1,\u001b[43mdtype\u001b[49m)\n\u001b[0;32m      5\u001b[0m \u001b[38;5;28mprint\u001b[39m(narr2,dtype)\n\u001b[0;32m      6\u001b[0m \u001b[38;5;28mprint\u001b[39m(narr3,dtype)\n",
      "\u001b[1;31mNameError\u001b[0m: name 'dtype' is not defined"
     ]
    }
   ],
   "source": [
    "narr1 = np.array([1,2,3,4])  #int64\n",
    "narr2 = np.array([1,2,'a','b'])\n",
    "narr3 = np.array([1,2,'a','b'],dtype='str')\n",
    "print(narr1,dtype)\n",
    "print(narr2,dtype)\n",
    "print(narr3,dtype)"
   ]
  },
  {
   "cell_type": "code",
   "execution_count": 35,
   "id": "6852f913-5f60-4ddc-bb03-7e44045b1a98",
   "metadata": {},
   "outputs": [
    {
     "ename": "SyntaxError",
     "evalue": "invalid syntax (2476457790.py, line 6)",
     "output_type": "error",
     "traceback": [
      "\u001b[1;36m  Cell \u001b[1;32mIn[35], line 6\u001b[1;36m\u001b[0m\n\u001b[1;33m    narr9 = np.|inspace(0,100,5)\u001b[0m\n\u001b[1;37m               ^\u001b[0m\n\u001b[1;31mSyntaxError\u001b[0m\u001b[1;31m:\u001b[0m invalid syntax\n"
     ]
    }
   ],
   "source": [
    "narr4 = np.zeros((2,2),dtype='int64')\n",
    "narr5 = np.ones((2,2))\n",
    "narr6 = np.full((3,3),3)\n",
    "narr7 = np.full((3,3),'number')\n",
    "narr8 = np.eye(3)\n",
    "narr9 = np.|inspace(0,100,5)\n",
    "print(narr4,narr4.ndim,narr4.dtype. narr4.shape,narr4.size,type(narr4))\n",
    "print(narr5,narr5.ndim,narr5.dtype. narr5.shape,narr5.size,type(narr5))\n",
    "print(narr6,narr6.ndim,narr6.dtype. narr6.shape,narr6.size,type(narr6))\n",
    "print(narr7,narr7.ndim,narr7.dtype. narr7.shape,narr7.size,type(narr7))\n",
    "print(narr8,narr8.ndim,narr8.dtype. narr8.shape,narr8.size,type(narr8))\n",
    "print(narr9,narr9.ndim,narr9.dtype. narr9.shape,narr9.size,type(narr9))\n",
    "print(narr10,narr10.ndim, narr10.dtype,narr10.shape,narr10.size,type(narr10))"
   ]
  },
  {
   "cell_type": "code",
   "execution_count": 18,
   "id": "9aba3a52-a56b-4c0c-bcaa-52ffaa6c7e56",
   "metadata": {},
   "outputs": [
    {
     "ename": "AttributeError",
     "evalue": "'int' object has no attribute 'type'",
     "output_type": "error",
     "traceback": [
      "\u001b[1;31m---------------------------------------------------------------------------\u001b[0m",
      "\u001b[1;31mAttributeError\u001b[0m                            Traceback (most recent call last)",
      "Cell \u001b[1;32mIn[18], line 2\u001b[0m\n\u001b[0;32m      1\u001b[0m arr1 \u001b[38;5;241m=\u001b[39m np\u001b[38;5;241m.\u001b[39marray([[\u001b[38;5;241m0\u001b[39m,\u001b[38;5;241m0\u001b[39m],[\u001b[38;5;241m0\u001b[39m,\u001b[38;5;241m0\u001b[39m]])\n\u001b[1;32m----> 2\u001b[0m \u001b[38;5;28mprint\u001b[39m(arr1,arr1\u001b[38;5;241m.\u001b[39mndim,arr1\u001b[38;5;241m.\u001b[39mdtype,arr1\u001b[38;5;241m.\u001b[39mshape,\u001b[43marr1\u001b[49m\u001b[38;5;241;43m.\u001b[39;49m\u001b[43msize\u001b[49m\u001b[38;5;241;43m.\u001b[39;49m\u001b[43mtype\u001b[49m(arr1))\n",
      "\u001b[1;31mAttributeError\u001b[0m: 'int' object has no attribute 'type'"
     ]
    }
   ],
   "source": [
    "arr1 = np.array([[0,0],[0,0]])\n",
    "print(arr1,arr1.ndim,arr1.dtype,arr1.shape,arr1.size.type(arr1))"
   ]
  },
  {
   "cell_type": "markdown",
   "id": "64b829ce-798f-49bf-a5d9-d3287827cb3d",
   "metadata": {},
   "source": [
    "# 2차원 배열"
   ]
  },
  {
   "cell_type": "code",
   "execution_count": 29,
   "id": "33d3cf55-4b5b-4c5a-a29e-19c47af0a912",
   "metadata": {},
   "outputs": [
    {
     "ename": "AttributeError",
     "evalue": "module 'numpy' has no attribute 'arrange'",
     "output_type": "error",
     "traceback": [
      "\u001b[1;31m---------------------------------------------------------------------------\u001b[0m",
      "\u001b[1;31mAttributeError\u001b[0m                            Traceback (most recent call last)",
      "Cell \u001b[1;32mIn[29], line 2\u001b[0m\n\u001b[0;32m      1\u001b[0m arr2 \u001b[38;5;241m=\u001b[39mnp\u001b[38;5;241m.\u001b[39marray([\u001b[38;5;241m1\u001b[39m,\u001b[38;5;241m2\u001b[39m,\u001b[38;5;241m3\u001b[39m,\u001b[38;5;241m4\u001b[39m,\u001b[38;5;241m5\u001b[39m,\u001b[38;5;241m6\u001b[39m,\u001b[38;5;241m7\u001b[39m,\u001b[38;5;241m8\u001b[39m,\u001b[38;5;241m9\u001b[39m])\u001b[38;5;241m.\u001b[39mreshape(\u001b[38;5;241m3\u001b[39m,\u001b[38;5;241m3\u001b[39m)\n\u001b[1;32m----> 2\u001b[0m arr3 \u001b[38;5;241m=\u001b[39m\u001b[43mnp\u001b[49m\u001b[38;5;241;43m.\u001b[39;49m\u001b[43marrange\u001b[49m(\u001b[38;5;241m1\u001b[39m,\u001b[38;5;241m10\u001b[39m)\u001b[38;5;241m.\u001b[39mreshape(\u001b[38;5;241m3\u001b[39m,\u001b[38;5;241m3\u001b[39m)\n\u001b[0;32m      3\u001b[0m arr4 \u001b[38;5;241m=\u001b[39mnp\u001b[38;5;241m.\u001b[39marrange(\u001b[38;5;241m1\u001b[39m,\u001b[38;5;241m11\u001b[39m)\u001b[38;5;241m.\u001b[39mreshape(\u001b[38;5;241m2\u001b[39m,\u001b[38;5;241m5\u001b[39m)\n\u001b[0;32m      4\u001b[0m arr5 \u001b[38;5;241m=\u001b[39mnp\u001b[38;5;241m.\u001b[39marrange(\u001b[38;5;241m1\u001b[39m,\u001b[38;5;241m11\u001b[39m)\u001b[38;5;241m.\u001b[39mreshape(\u001b[38;5;241m5\u001b[39m,\u001b[38;5;241m2\u001b[39m)\n",
      "File \u001b[1;32m~\\AppData\\Local\\Programs\\Python\\Python313\\Lib\\site-packages\\numpy\\__init__.py:427\u001b[0m, in \u001b[0;36m__getattr__\u001b[1;34m(attr)\u001b[0m\n\u001b[0;32m    424\u001b[0m     \u001b[38;5;28;01mimport\u001b[39;00m\u001b[38;5;250m \u001b[39m\u001b[38;5;21;01mnumpy\u001b[39;00m\u001b[38;5;21;01m.\u001b[39;00m\u001b[38;5;21;01mchar\u001b[39;00m\u001b[38;5;250m \u001b[39m\u001b[38;5;28;01mas\u001b[39;00m\u001b[38;5;250m \u001b[39m\u001b[38;5;21;01mchar\u001b[39;00m\n\u001b[0;32m    425\u001b[0m     \u001b[38;5;28;01mreturn\u001b[39;00m char\u001b[38;5;241m.\u001b[39mchararray\n\u001b[1;32m--> 427\u001b[0m \u001b[38;5;28;01mraise\u001b[39;00m \u001b[38;5;167;01mAttributeError\u001b[39;00m(\u001b[38;5;124m\"\u001b[39m\u001b[38;5;124mmodule \u001b[39m\u001b[38;5;132;01m{!r}\u001b[39;00m\u001b[38;5;124m has no attribute \u001b[39m\u001b[38;5;124m\"\u001b[39m\n\u001b[0;32m    428\u001b[0m                      \u001b[38;5;124m\"\u001b[39m\u001b[38;5;132;01m{!r}\u001b[39;00m\u001b[38;5;124m\"\u001b[39m\u001b[38;5;241m.\u001b[39mformat(\u001b[38;5;18m__name__\u001b[39m, attr))\n",
      "\u001b[1;31mAttributeError\u001b[0m: module 'numpy' has no attribute 'arrange'"
     ]
    }
   ],
   "source": [
    "arr2 =np.array([1,2,3,4,5,6,7,8,9]).reshape(3,3)\n",
    "arr3 =np.arrange(1,10).reshape(3,3)\n",
    "arr4 =np.arrange(1,11).reshape(2,5)\n",
    "arr5 =np.arrange(1,11).reshape(5,2)\n",
    "arr6 =np.arrange(1,28).reshape(3,3,3)\n",
    "print(arr2,'차원:', arr2.ndim,'/데이터타입:', arr2.dtype,'/형태:', arr2.shape,'/크기:', arr2.size, type(arr2),arr2)\n",
    "print(arr3,'차원:', arr3.ndim,'/데이터타입:', arr3.dtype,'/형태:', arr3.shape,'/크기:', arr3.size, type(arr3),arr3)\n",
    "print(arr4,'차원:', arr4.ndim,'/데이터타입:', arr4.dtype,'/형태:', arr4.shape,'/크기:', arr4.size, type(arr4),arr4)\n",
    "print(arr5,'차원:', arr5.ndim,'/데이터타입:', arr5.dtype,'/형태:', arr5.shape,'/크기:', arr5.size, type(arr5),arr5)\n",
    "print(arr6,'차원:', arr6.ndim,'/데이터타입:', arr6.dtype,'/형태:', arr6.shape,'/크기:', arr6.size, type(arr6),arr6)"
   ]
  },
  {
   "cell_type": "code",
   "execution_count": 33,
   "id": "de7590ef-3870-4bf6-9662-d5bf3cf074d3",
   "metadata": {},
   "outputs": [
    {
     "ename": "AttributeError",
     "evalue": "module 'numpy' has no attribute 'arrange'",
     "output_type": "error",
     "traceback": [
      "\u001b[1;31m---------------------------------------------------------------------------\u001b[0m",
      "\u001b[1;31mAttributeError\u001b[0m                            Traceback (most recent call last)",
      "Cell \u001b[1;32mIn[33], line 3\u001b[0m\n\u001b[0;32m      1\u001b[0m t1 \u001b[38;5;241m=\u001b[39m np\u001b[38;5;241m.\u001b[39m arange(\u001b[38;5;241m1\u001b[39m,\u001b[38;5;241m22\u001b[39m)\u001b[38;5;241m.\u001b[39mreshape(\u001b[38;5;241m3\u001b[39m,\u001b[38;5;241m7\u001b[39m)\n\u001b[0;32m      2\u001b[0m t2 \u001b[38;5;241m=\u001b[39m np\u001b[38;5;241m.\u001b[39m arange(\u001b[38;5;241m1\u001b[39m,\u001b[38;5;241m8\u001b[39m)\u001b[38;5;241m.\u001b[39mreshape(\u001b[38;5;241m7\u001b[39m,\u001b[38;5;241m1\u001b[39m)\n\u001b[1;32m----> 3\u001b[0m t3 \u001b[38;5;241m=\u001b[39m \u001b[43mnp\u001b[49m\u001b[38;5;241;43m.\u001b[39;49m\u001b[43m \u001b[49m\u001b[43marrange\u001b[49m(\u001b[38;5;241m1\u001b[39m,\u001b[38;5;241m11\u001b[39m)\u001b[38;5;241m.\u001b[39mreshape(\u001b[38;5;241m5\u001b[39m,\u001b[38;5;241m2\u001b[39m)\n\u001b[0;32m      4\u001b[0m t4 \u001b[38;5;241m=\u001b[39m np\u001b[38;5;241m.\u001b[39m arrange(\u001b[38;5;241m1\u001b[39m,\u001b[38;5;241m22\u001b[39m)\u001b[38;5;241m.\u001b[39mreshape(\u001b[38;5;241m3\u001b[39m,\u001b[38;5;241m7\u001b[39m)\n\u001b[0;32m      5\u001b[0m t5 \u001b[38;5;241m=\u001b[39m np\u001b[38;5;241m.\u001b[39m arrange(\u001b[38;5;241m1\u001b[39m,\u001b[38;5;241m13\u001b[39m)\u001b[38;5;241m.\u001b[39mreshape(\u001b[38;5;241m4\u001b[39m,\u001b[38;5;241m3\u001b[39m,\u001b[38;5;241m1\u001b[39m)\n",
      "File \u001b[1;32m~\\AppData\\Local\\Programs\\Python\\Python313\\Lib\\site-packages\\numpy\\__init__.py:427\u001b[0m, in \u001b[0;36m__getattr__\u001b[1;34m(attr)\u001b[0m\n\u001b[0;32m    424\u001b[0m     \u001b[38;5;28;01mimport\u001b[39;00m\u001b[38;5;250m \u001b[39m\u001b[38;5;21;01mnumpy\u001b[39;00m\u001b[38;5;21;01m.\u001b[39;00m\u001b[38;5;21;01mchar\u001b[39;00m\u001b[38;5;250m \u001b[39m\u001b[38;5;28;01mas\u001b[39;00m\u001b[38;5;250m \u001b[39m\u001b[38;5;21;01mchar\u001b[39;00m\n\u001b[0;32m    425\u001b[0m     \u001b[38;5;28;01mreturn\u001b[39;00m char\u001b[38;5;241m.\u001b[39mchararray\n\u001b[1;32m--> 427\u001b[0m \u001b[38;5;28;01mraise\u001b[39;00m \u001b[38;5;167;01mAttributeError\u001b[39;00m(\u001b[38;5;124m\"\u001b[39m\u001b[38;5;124mmodule \u001b[39m\u001b[38;5;132;01m{!r}\u001b[39;00m\u001b[38;5;124m has no attribute \u001b[39m\u001b[38;5;124m\"\u001b[39m\n\u001b[0;32m    428\u001b[0m                      \u001b[38;5;124m\"\u001b[39m\u001b[38;5;132;01m{!r}\u001b[39;00m\u001b[38;5;124m\"\u001b[39m\u001b[38;5;241m.\u001b[39mformat(\u001b[38;5;18m__name__\u001b[39m, attr))\n",
      "\u001b[1;31mAttributeError\u001b[0m: module 'numpy' has no attribute 'arrange'"
     ]
    }
   ],
   "source": [
    "t1 = np. arange(1,22).reshape(3,7)\n",
    "t2 = np. arange(1,8).reshape(7,1)\n",
    "t3 = np. arrange(1,11).reshape(5,2)\n",
    "t4 = np. arrange(1,22).reshape(3,7)\n",
    "t5 = np. arrange(1,13).reshape(4,3,1)\n",
    "print(t1)\n",
    "print(\"=\"*23)\n",
    "print(t2)\n",
    "print(\"=\"*23)\n",
    "print(t3)\n",
    "print(\"=\"*23)\n",
    "print(t4)\n",
    "print(\"=\"*23)\n",
    "print(t5)"
   ]
  },
  {
   "cell_type": "code",
   "execution_count": 39,
   "id": "3f3bd9a7-7f50-4caa-b8c5-ef2d4a2cb114",
   "metadata": {},
   "outputs": [
    {
     "ename": "NameError",
     "evalue": "name 'array' is not defined",
     "output_type": "error",
     "traceback": [
      "\u001b[1;31m---------------------------------------------------------------------------\u001b[0m",
      "\u001b[1;31mNameError\u001b[0m                                 Traceback (most recent call last)",
      "Cell \u001b[1;32mIn[39], line 1\u001b[0m\n\u001b[1;32m----> 1\u001b[0m \u001b[43marray\u001b[49m[\u001b[38;5;241m1\u001b[39m:\u001b[38;5;241m3\u001b[39m,\u001b[38;5;241m2\u001b[39m:\u001b[38;5;241m3\u001b[39m]\n",
      "\u001b[1;31mNameError\u001b[0m: name 'array' is not defined"
     ]
    }
   ],
   "source": [
    "array[1:3,2:3]"
   ]
  },
  {
   "cell_type": "code",
   "execution_count": 38,
   "id": "a18a29d0-f565-4513-a626-d05d1ab30298",
   "metadata": {},
   "outputs": [
    {
     "ename": "NameError",
     "evalue": "name 't4' is not defined",
     "output_type": "error",
     "traceback": [
      "\u001b[1;31m---------------------------------------------------------------------------\u001b[0m",
      "\u001b[1;31mNameError\u001b[0m                                 Traceback (most recent call last)",
      "Cell \u001b[1;32mIn[38], line 1\u001b[0m\n\u001b[1;32m----> 1\u001b[0m \u001b[43mt4\u001b[49m\n\u001b[0;32m      2\u001b[0m [[\u001b[38;5;241m4\u001b[39m,\u001b[38;5;241m5\u001b[39m,\u001b[38;5;241m6\u001b[39m,\u001b[38;5;241m7\u001b[39m],\n\u001b[0;32m      3\u001b[0m [\u001b[38;5;241m11\u001b[39m,\u001b[38;5;241m12\u001b[39m,\u001b[38;5;241m13\u001b[39m,\u001b[38;5;241m14\u001b[39m],\n\u001b[0;32m      4\u001b[0m [\u001b[38;5;241m18\u001b[39m,\u001b[38;5;241m19\u001b[39m,\u001b[38;5;241m20\u001b[39m,\u001b[38;5;241m21\u001b[39m]]\n",
      "\u001b[1;31mNameError\u001b[0m: name 't4' is not defined"
     ]
    }
   ],
   "source": [
    "t4\n",
    "[[4,5,6,7],\n",
    "[11,12,13,14],\n",
    "[18,19,20,21]]"
   ]
  },
  {
   "cell_type": "code",
   "execution_count": 41,
   "id": "2ef6cb92-a555-484a-b9f1-ab2d7cc3c15d",
   "metadata": {},
   "outputs": [
    {
     "name": "stderr",
     "output_type": "stream",
     "text": [
      "<>:1: SyntaxWarning: list indices must be integers or slices, not tuple; perhaps you missed a comma?\n",
      "<>:1: SyntaxWarning: list indices must be integers or slices, not tuple; perhaps you missed a comma?\n",
      "C:\\Users\\Admin\\AppData\\Local\\Temp\\ipykernel_15880\\3625168645.py:1: SyntaxWarning: list indices must be integers or slices, not tuple; perhaps you missed a comma?\n",
      "  [[12,13]\n"
     ]
    },
    {
     "ename": "TypeError",
     "evalue": "list indices must be integers or slices, not tuple",
     "output_type": "error",
     "traceback": [
      "\u001b[1;31m---------------------------------------------------------------------------\u001b[0m",
      "\u001b[1;31mTypeError\u001b[0m                                 Traceback (most recent call last)",
      "Cell \u001b[1;32mIn[41], line 1\u001b[0m\n\u001b[1;32m----> 1\u001b[0m [\u001b[43m[\u001b[49m\u001b[38;5;241;43m12\u001b[39;49m\u001b[43m,\u001b[49m\u001b[38;5;241;43m13\u001b[39;49m\u001b[43m]\u001b[49m\n\u001b[0;32m      2\u001b[0m \u001b[43m[\u001b[49m\u001b[38;5;241;43m19\u001b[39;49m\u001b[43m,\u001b[49m\u001b[38;5;241;43m20\u001b[39;49m\u001b[43m]\u001b[49m]\n",
      "\u001b[1;31mTypeError\u001b[0m: list indices must be integers or slices, not tuple"
     ]
    }
   ],
   "source": [
    "[[12,13]\n",
    "[19,20]]"
   ]
  },
  {
   "cell_type": "code",
   "execution_count": 49,
   "id": "f0e43e77-4085-44eb-a2a8-7d822b15e9c2",
   "metadata": {},
   "outputs": [
    {
     "name": "stdout",
     "output_type": "stream",
     "text": [
      "[10 11 12]\n"
     ]
    },
    {
     "ename": "NameError",
     "evalue": "name 't4' is not defined",
     "output_type": "error",
     "traceback": [
      "\u001b[1;31m---------------------------------------------------------------------------\u001b[0m",
      "\u001b[1;31mNameError\u001b[0m                                 Traceback (most recent call last)",
      "Cell \u001b[1;32mIn[49], line 3\u001b[0m\n\u001b[0;32m      1\u001b[0m \u001b[38;5;66;03m# test\u001b[39;00m\n\u001b[0;32m      2\u001b[0m \u001b[38;5;28mprint\u001b[39m(t1[\u001b[38;5;241m1\u001b[39m][\u001b[38;5;241m2\u001b[39m:\u001b[38;5;241m5\u001b[39m])\n\u001b[1;32m----> 3\u001b[0m \u001b[38;5;28mprint\u001b[39m(\u001b[43mt4\u001b[49m)\n\u001b[0;32m      4\u001b[0m \u001b[38;5;28mprint\u001b[39m(t4[\u001b[38;5;241m1\u001b[39m:\u001b[38;5;241m3\u001b[39m,\u001b[38;5;241m2\u001b[39m:\u001b[38;5;241m4\u001b[39m])\n\u001b[0;32m      5\u001b[0m \u001b[38;5;28mprint\u001b[39m(t4[\u001b[38;5;241m1\u001b[39m:\u001b[38;5;241m3\u001b[39m,\u001b[38;5;241m4\u001b[39m:\u001b[38;5;241m6\u001b[39m])\n",
      "\u001b[1;31mNameError\u001b[0m: name 't4' is not defined"
     ]
    }
   ],
   "source": [
    "# test\n",
    "print(t1[1][2:5])\n",
    "print(t4)\n",
    "print(t4[1:3,2:4])\n",
    "print(t4[1:3,4:6])\n",
    "print(t4 % 2 == 0)"
   ]
  },
  {
   "cell_type": "code",
   "execution_count": 3,
   "id": "fb30b25b-cf4e-4ed0-a007-36cfcebdce91",
   "metadata": {},
   "outputs": [
    {
     "ename": "NameError",
     "evalue": "name 'np' is not defined",
     "output_type": "error",
     "traceback": [
      "\u001b[1;31m---------------------------------------------------------------------------\u001b[0m",
      "\u001b[1;31mNameError\u001b[0m                                 Traceback (most recent call last)",
      "Cell \u001b[1;32mIn[3], line 2\u001b[0m\n\u001b[0;32m      1\u001b[0m \u001b[38;5;66;03m# np 배열 연산 // shape가 같은 경우 원소별 연산이 가능\u001b[39;00m\n\u001b[1;32m----> 2\u001b[0m np1 \u001b[38;5;241m=\u001b[39m \u001b[43mnp\u001b[49m\u001b[38;5;241m.\u001b[39m array([\u001b[38;5;241m6\u001b[39m,\u001b[38;5;241m7\u001b[39m,\u001b[38;5;241m8\u001b[39m,\u001b[38;5;241m9\u001b[39m,\u001b[38;5;241m10\u001b[39m])\n\u001b[0;32m      3\u001b[0m np2 \u001b[38;5;241m=\u001b[39m np\u001b[38;5;241m.\u001b[39marray([\u001b[38;5;241m1\u001b[39m,\u001b[38;5;241m2\u001b[39m,\u001b[38;5;241m3\u001b[39m,\u001b[38;5;241m4\u001b[39m,\u001b[38;5;241m5\u001b[39m])\n\u001b[0;32m      4\u001b[0m \u001b[38;5;28mprint\u001b[39m(\u001b[38;5;124m\"\u001b[39m\u001b[38;5;124m덧셈:\u001b[39m\u001b[38;5;124m\"\u001b[39m,np1\u001b[38;5;241m+\u001b[39mnp2)\n",
      "\u001b[1;31mNameError\u001b[0m: name 'np' is not defined"
     ]
    }
   ],
   "source": [
    "# np 배열 연산 // shape가 같은 경우 원소별 연산이 가능\n",
    "np1 = np. array([6,7,8,9,10])\n",
    "np2 = np.array([1,2,3,4,5])\n",
    "print(\"덧셈:\",np1+np2)\n",
    "print(\"뺄셈:\",np1-np2)\n",
    "print(\"곱셈:\",np1*np2)\n",
    "print(\"나눗셈:\",np1/np2)"
   ]
  },
  {
   "cell_type": "code",
   "execution_count": null,
   "id": "13fac95c-1eff-4e18-a021-0ce854918336",
   "metadata": {},
   "outputs": [],
   "source": [
    "# 브로드캐스팅\n",
    "np3 = \n",
    "print(np3)"
   ]
  },
  {
   "cell_type": "code",
   "execution_count": null,
   "id": "194469ff-6150-4f34-b362-7dede803c824",
   "metadata": {},
   "outputs": [],
   "source": [
    "br1 = np.arrange(1,10).reshape(3,3)\n",
    "print(br1)\n",
    "print(br1+3)\n",
    "print(br2*2)\n",
    "# 2D와 1D의 연산\n"
   ]
  },
  {
   "cell_type": "code",
   "execution_count": null,
   "id": "edb0c632-deaf-411a-92e9-fe708db60d74",
   "metadata": {},
   "outputs": [],
   "source": []
  }
 ],
 "metadata": {
  "kernelspec": {
   "display_name": "Python 3 (ipykernel)",
   "language": "python",
   "name": "python3"
  },
  "language_info": {
   "codemirror_mode": {
    "name": "ipython",
    "version": 3
   },
   "file_extension": ".py",
   "mimetype": "text/x-python",
   "name": "python",
   "nbconvert_exporter": "python",
   "pygments_lexer": "ipython3",
   "version": "3.13.1"
  }
 },
 "nbformat": 4,
 "nbformat_minor": 5
}
